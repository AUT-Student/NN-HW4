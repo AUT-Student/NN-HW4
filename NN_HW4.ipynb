{
  "cells": [
    {
      "cell_type": "markdown",
      "metadata": {
        "id": "view-in-github",
        "colab_type": "text"
      },
      "source": [
        "<a href=\"https://colab.research.google.com/github/AUT-Student/NN-HW4/blob/main/NN_HW4.ipynb\" target=\"_parent\"><img src=\"https://colab.research.google.com/assets/colab-badge.svg\" alt=\"Open In Colab\"/></a>"
      ]
    },
    {
      "cell_type": "markdown",
      "source": [
        "<center><b>In the name of God</b></center>\n",
        "\n",
        "<b>Course</b>: Neural Network\n",
        "<br>\n",
        "<b>Description:</b> HomeWork 4\n",
        "<br>\n",
        "<b>Developer</b>: Alireza Mazochi (400131075)"
      ],
      "metadata": {
        "id": "ycJyY-n4D_UQ"
      }
    },
    {
      "cell_type": "markdown",
      "metadata": {
        "id": "ntmFFP5_GuCa"
      },
      "source": [
        "# Libraries"
      ]
    },
    {
      "cell_type": "code",
      "execution_count": 1,
      "metadata": {
        "id": "JeslGkMkeFT2"
      },
      "outputs": [],
      "source": [
        "import numpy as np\n",
        "import matplotlib.pyplot as plt\n",
        "\n",
        "import tensorflow as tf\n",
        "import tensorflow.keras as keras\n",
        "import tensorflow_datasets as tfds\n",
        "\n",
        "from keras.models import Sequential\n",
        "from keras.layers import Input, Dense, Conv2D, Flatten, Dropout\n",
        "from keras.layers import MaxPooling2D, AveragePooling2D, GlobalMaxPooling2D\n",
        "from keras.callbacks import EarlyStopping\n",
        "from keras.regularizers import l1, l2\n",
        "from keras.applications.inception_v3 import InceptionV3\n",
        "from keras.models import clone_model"
      ]
    },
    {
      "cell_type": "markdown",
      "metadata": {
        "id": "jeWm1guJG39O"
      },
      "source": [
        "# Dataset"
      ]
    },
    {
      "cell_type": "code",
      "execution_count": 2,
      "metadata": {
        "id": "MaC1owEmG3LU"
      },
      "outputs": [],
      "source": [
        "ds = tfds.load('beans', split=[\"test\", \"train\", \"validation\"], shuffle_files=True)"
      ]
    },
    {
      "cell_type": "code",
      "execution_count": 3,
      "metadata": {
        "colab": {
          "base_uri": "https://localhost:8080/"
        },
        "id": "qNpD1LqdNAWy",
        "outputId": "ec334370-b978-4374-a6f8-5bd7153a96c2"
      },
      "outputs": [
        {
          "output_type": "stream",
          "name": "stdout",
          "text": [
            "tfds.core.DatasetInfo(\n",
            "    name='beans',\n",
            "    version=0.1.0,\n",
            "    description='Beans is a dataset of images of beans taken in the field using smartphone\n",
            "cameras. It consists of 3 classes: 2 disease classes and the healthy class.\n",
            "Diseases depicted include Angular Leaf Spot and Bean Rust. Data was annotated\n",
            "by experts from the National Crops Resources Research Institute (NaCRRI) in\n",
            "Uganda and collected by the Makerere AI research lab.',\n",
            "    homepage='https://github.com/AI-Lab-Makerere/ibean/',\n",
            "    features=FeaturesDict({\n",
            "        'image': Image(shape=(500, 500, 3), dtype=tf.uint8),\n",
            "        'label': ClassLabel(shape=(), dtype=tf.int64, num_classes=3),\n",
            "    }),\n",
            "    total_num_examples=1295,\n",
            "    splits={\n",
            "        'test': 128,\n",
            "        'train': 1034,\n",
            "        'validation': 133,\n",
            "    },\n",
            "    supervised_keys=('image', 'label'),\n",
            "    citation=\"\"\"@ONLINE {beansdata,\n",
            "        author=\"Makerere AI Lab\",\n",
            "        title=\"Bean disease dataset\",\n",
            "        month=\"January\",\n",
            "        year=\"2020\",\n",
            "        url=\"https://github.com/AI-Lab-Makerere/ibean/\"\n",
            "    }\"\"\",\n",
            "    redistribution_info=,\n",
            ")\n",
            "\n"
          ]
        }
      ],
      "source": [
        "ds, info = tfds.load('beans', with_info=True)\n",
        "\n",
        "print(info)"
      ]
    },
    {
      "cell_type": "code",
      "execution_count": 4,
      "metadata": {
        "colab": {
          "base_uri": "https://localhost:8080/"
        },
        "id": "qbo4rhjYceR_",
        "outputId": "0502b60c-dc64-4e1e-b844-6c24db0b3430"
      },
      "outputs": [
        {
          "output_type": "stream",
          "name": "stdout",
          "text": [
            "WARNING:tensorflow:From /usr/local/lib/python3.7/dist-packages/tensorflow_datasets/core/dataset_builder.py:598: get_single_element (from tensorflow.python.data.experimental.ops.get_single_element) is deprecated and will be removed in a future version.\n",
            "Instructions for updating:\n",
            "Use `tf.data.Dataset.get_single_element()`.\n"
          ]
        },
        {
          "output_type": "stream",
          "name": "stderr",
          "text": [
            "WARNING:tensorflow:From /usr/local/lib/python3.7/dist-packages/tensorflow_datasets/core/dataset_builder.py:598: get_single_element (from tensorflow.python.data.experimental.ops.get_single_element) is deprecated and will be removed in a future version.\n",
            "Instructions for updating:\n",
            "Use `tf.data.Dataset.get_single_element()`.\n"
          ]
        }
      ],
      "source": [
        "data_train = tfds.load(name=\"beans\", split=\"train\", batch_size=-1) \n",
        "data_valid = tfds.load(name=\"beans\", split=\"validation\", batch_size=-1)\n",
        "data_test = tfds.load(name=\"beans\", split=\"test\", batch_size=-1)\n",
        "\n",
        "data_train = tfds.as_numpy(data_train)\n",
        "data_valid = tfds.as_numpy(data_valid)\n",
        "data_test = tfds.as_numpy(data_test)\n",
        "\n",
        "x_train, y_train = data_train[\"image\"], data_train[\"label\"]\n",
        "x_valid, y_valid = data_valid[\"image\"], data_valid[\"label\"]\n",
        "x_test, y_test = data_test[\"image\"], data_test[\"label\"]"
      ]
    },
    {
      "cell_type": "code",
      "execution_count": 5,
      "metadata": {
        "colab": {
          "base_uri": "https://localhost:8080/"
        },
        "id": "chXyQ76FeNcf",
        "outputId": "e1ddf977-2377-4ba9-b4bf-91680edd0da3"
      },
      "outputs": [
        {
          "output_type": "execute_result",
          "data": {
            "text/plain": [
              "(1034, 500, 500, 3)"
            ]
          },
          "metadata": {},
          "execution_count": 5
        }
      ],
      "source": [
        "x_train.shape"
      ]
    },
    {
      "cell_type": "markdown",
      "metadata": {
        "id": "oMgHR0dUN6Jz"
      },
      "source": [
        "# LeNet"
      ]
    },
    {
      "cell_type": "markdown",
      "metadata": {
        "id": "Vw357HDMuxMT"
      },
      "source": [
        "## Model"
      ]
    },
    {
      "cell_type": "code",
      "execution_count": null,
      "metadata": {
        "id": "SEoZ7paXN7O1"
      },
      "outputs": [],
      "source": [
        "class LeNet(keras.Model):\n",
        "  def __init__(self, kernel_size=5, kernel_numbers = [6, 16, 120],\n",
        "               dropout_enable=False, l1_enable=False, l2_enable=False):\n",
        "    super().__init__()\n",
        "\n",
        "    self.model = Sequential()\n",
        "\n",
        "    self.model.add(Input((500, 500, 3,), name=\"Input\"))\n",
        "    \n",
        "    conv2D = Conv2D(kernel_numbers[0], kernel_size=kernel_size, strides=4,\n",
        "                    activation=\"tanh\", name=\"Conv1\", padding=\"same\")\n",
        "\n",
        "    if l1_enable:\n",
        "      conv2D.kernel_regularizer = l1()\n",
        "    elif l2_enable:\n",
        "      conv2D.kernel_regularizer = l2()\n",
        "    self.model.add(conv2D)\n",
        "\n",
        "    if dropout_enable:\n",
        "      self.model.add(Dropout(rate=0.5, name=\"Drop1\"))\n",
        "    \n",
        "    self.model.add(AveragePooling2D(pool_size=3, name=\"Pool1\"))\n",
        "    \n",
        "    conv2D = Conv2D(kernel_numbers[1], kernel_size=kernel_size, strides=4,\n",
        "                    activation=\"tanh\", name=\"Conv2\", padding=\"same\")\n",
        "\n",
        "    if l1_enable:\n",
        "      conv2D.kernel_regularizer = l1()\n",
        "    elif l2_enable:\n",
        "      conv2D.kernel_regularizer = l2()\n",
        "    self.model.add(conv2D)\n",
        "    \n",
        "    if dropout_enable:\n",
        "      self.model.add(Dropout(rate=0.5, name=\"Drop2\"))\n",
        "\n",
        "    self.model.add(AveragePooling2D(pool_size=3, name=\"Pool2\"))\n",
        "    conv2D = Conv2D(kernel_numbers[2], kernel_size=kernel_size, strides=3,\n",
        "                    activation=\"tanh\", name=\"Conv3\", padding=\"same\")\n",
        "\n",
        "    if l1_enable:\n",
        "      conv2D.kernel_regularizer = l1()\n",
        "    elif l2_enable:\n",
        "      conv2D.kernel_regularizer = l2()\n",
        "    self.model.add(conv2D)\n",
        "    \n",
        "    if dropout_enable:\n",
        "      self.model.add(Dropout(rate=0.5, name=\"Drop3\"))\n",
        "    \n",
        "    self.model.add(Flatten(name=\"Flat\"))\n",
        "    self.model.add(Dense(84, activation=\"tanh\", name=\"Dense\"))\n",
        "    self.model.add(Dense(3, activation=\"softmax\", name=\"Output\"))\n",
        "\n",
        "  def call(self, inputs):\n",
        "    return self.model.call(inputs)"
      ]
    },
    {
      "cell_type": "markdown",
      "metadata": {
        "id": "JBwnf_FrU_Mj"
      },
      "source": [
        "## Regularization Effect"
      ]
    },
    {
      "cell_type": "markdown",
      "metadata": {
        "id": "Z81OS4r8P6GP"
      },
      "source": [
        "### Without Regularization"
      ]
    },
    {
      "cell_type": "code",
      "execution_count": null,
      "metadata": {
        "id": "odplXd6VPd_n"
      },
      "outputs": [],
      "source": [
        "lenet = LeNet(kernel_size=5)\n",
        "es_callback = EarlyStopping(monitor=\"val_loss\", patience=4, restore_best_weights=True)\n",
        "lenet.compile(optimizer=\"adam\", loss=\"sparse_categorical_crossentropy\", metrics=[\"accuracy\"])"
      ]
    },
    {
      "cell_type": "code",
      "execution_count": null,
      "metadata": {
        "colab": {
          "base_uri": "https://localhost:8080/"
        },
        "id": "j-Va3EfAZ1V3",
        "outputId": "03f8df96-922e-4ffe-8663-0498880d56c5"
      },
      "outputs": [
        {
          "name": "stdout",
          "output_type": "stream",
          "text": [
            "Epoch 1/30\n",
            "33/33 [==============================] - 14s 404ms/step - loss: 1.0125 - accuracy: 0.4797 - val_loss: 0.8875 - val_accuracy: 0.6015\n",
            "Epoch 2/30\n",
            "33/33 [==============================] - 14s 439ms/step - loss: 0.9227 - accuracy: 0.5706 - val_loss: 0.8935 - val_accuracy: 0.5789\n",
            "Epoch 3/30\n",
            "33/33 [==============================] - 14s 425ms/step - loss: 0.8902 - accuracy: 0.5986 - val_loss: 0.8651 - val_accuracy: 0.6466\n",
            "Epoch 4/30\n",
            "33/33 [==============================] - 14s 420ms/step - loss: 0.8463 - accuracy: 0.6228 - val_loss: 0.8401 - val_accuracy: 0.5940\n",
            "Epoch 5/30\n",
            "33/33 [==============================] - 14s 416ms/step - loss: 0.8279 - accuracy: 0.6132 - val_loss: 0.9516 - val_accuracy: 0.5338\n",
            "Epoch 6/30\n",
            "33/33 [==============================] - 13s 381ms/step - loss: 0.8493 - accuracy: 0.6025 - val_loss: 0.8659 - val_accuracy: 0.5940\n",
            "Epoch 7/30\n",
            "33/33 [==============================] - 13s 388ms/step - loss: 0.8036 - accuracy: 0.6422 - val_loss: 0.8013 - val_accuracy: 0.6090\n",
            "Epoch 8/30\n",
            "33/33 [==============================] - 13s 383ms/step - loss: 0.7645 - accuracy: 0.6625 - val_loss: 0.7399 - val_accuracy: 0.6692\n",
            "Epoch 9/30\n",
            "33/33 [==============================] - 13s 381ms/step - loss: 0.7247 - accuracy: 0.6915 - val_loss: 0.7682 - val_accuracy: 0.6692\n",
            "Epoch 10/30\n",
            "33/33 [==============================] - 13s 381ms/step - loss: 0.7328 - accuracy: 0.6760 - val_loss: 0.7254 - val_accuracy: 0.7068\n",
            "Epoch 11/30\n",
            "33/33 [==============================] - 13s 386ms/step - loss: 0.7027 - accuracy: 0.6886 - val_loss: 0.7274 - val_accuracy: 0.6541\n",
            "Epoch 12/30\n",
            "33/33 [==============================] - 13s 382ms/step - loss: 0.6854 - accuracy: 0.7070 - val_loss: 0.7032 - val_accuracy: 0.7143\n",
            "Epoch 13/30\n",
            "33/33 [==============================] - 13s 381ms/step - loss: 0.6907 - accuracy: 0.6925 - val_loss: 0.7131 - val_accuracy: 0.6692\n",
            "Epoch 14/30\n",
            "33/33 [==============================] - 12s 379ms/step - loss: 0.6953 - accuracy: 0.6992 - val_loss: 0.7177 - val_accuracy: 0.6917\n",
            "Epoch 15/30\n",
            "33/33 [==============================] - 13s 403ms/step - loss: 0.6998 - accuracy: 0.6886 - val_loss: 0.7654 - val_accuracy: 0.6992\n",
            "Epoch 16/30\n",
            "33/33 [==============================] - 13s 379ms/step - loss: 0.6981 - accuracy: 0.6828 - val_loss: 0.7148 - val_accuracy: 0.6391\n"
          ]
        },
        {
          "data": {
            "text/plain": [
              "<keras.callbacks.History at 0x7f407bdfe990>"
            ]
          },
          "execution_count": 13,
          "metadata": {},
          "output_type": "execute_result"
        }
      ],
      "source": [
        "lenet.fit(x=x_train, y=y_train, validation_data=(x_valid, y_valid), epochs=30, callbacks=[es_callback])"
      ]
    },
    {
      "cell_type": "code",
      "execution_count": null,
      "metadata": {
        "colab": {
          "base_uri": "https://localhost:8080/"
        },
        "id": "EZhHoh6rhF7l",
        "outputId": "10b0144b-aee7-4cac-f988-e6245c578a3f"
      },
      "outputs": [
        {
          "name": "stdout",
          "output_type": "stream",
          "text": [
            "33/33 [==============================] - 7s 219ms/step - loss: 0.6673 - accuracy: 0.7244\n",
            "5/5 [==============================] - 1s 178ms/step - loss: 0.7032 - accuracy: 0.7143\n",
            "4/4 [==============================] - 1s 213ms/step - loss: 0.6803 - accuracy: 0.6875\n"
          ]
        },
        {
          "data": {
            "text/plain": [
              "[0.6803126931190491, 0.6875]"
            ]
          },
          "execution_count": 14,
          "metadata": {},
          "output_type": "execute_result"
        }
      ],
      "source": [
        "lenet.evaluate(x=x_train, y=y_train)\n",
        "lenet.evaluate(x=x_valid, y=y_valid)\n",
        "lenet.evaluate(x=x_test, y=y_test)"
      ]
    },
    {
      "cell_type": "markdown",
      "metadata": {
        "id": "mJYa7WcgQAUY"
      },
      "source": [
        "### Dropout Regularization"
      ]
    },
    {
      "cell_type": "code",
      "execution_count": null,
      "metadata": {
        "id": "dzGf0hbPP35t"
      },
      "outputs": [],
      "source": [
        "lenet = LeNet(dropout_enable=True)\n",
        "es_callback = EarlyStopping(monitor=\"val_loss\", patience=4, restore_best_weights=True)\n",
        "lenet.compile(optimizer=\"adam\", loss=\"sparse_categorical_crossentropy\", metrics=[\"accuracy\"])"
      ]
    },
    {
      "cell_type": "code",
      "execution_count": null,
      "metadata": {
        "colab": {
          "base_uri": "https://localhost:8080/"
        },
        "id": "SjIxbL_4QIyW",
        "outputId": "826b2674-7626-4eef-9023-e631efbc07c7"
      },
      "outputs": [
        {
          "name": "stdout",
          "output_type": "stream",
          "text": [
            "Epoch 1/30\n",
            "33/33 [==============================] - 15s 416ms/step - loss: 1.0481 - accuracy: 0.4429 - val_loss: 0.9382 - val_accuracy: 0.5414\n",
            "Epoch 2/30\n",
            "33/33 [==============================] - 14s 410ms/step - loss: 0.9198 - accuracy: 0.5629 - val_loss: 0.8080 - val_accuracy: 0.6617\n",
            "Epoch 3/30\n",
            "33/33 [==============================] - 14s 424ms/step - loss: 0.8493 - accuracy: 0.6141 - val_loss: 0.7799 - val_accuracy: 0.6617\n",
            "Epoch 4/30\n",
            "33/33 [==============================] - 15s 471ms/step - loss: 0.8576 - accuracy: 0.6151 - val_loss: 0.7649 - val_accuracy: 0.6541\n",
            "Epoch 5/30\n",
            "33/33 [==============================] - 15s 446ms/step - loss: 0.8101 - accuracy: 0.6422 - val_loss: 0.8076 - val_accuracy: 0.5940\n",
            "Epoch 6/30\n",
            "33/33 [==============================] - 16s 478ms/step - loss: 0.7936 - accuracy: 0.6509 - val_loss: 0.7112 - val_accuracy: 0.7218\n",
            "Epoch 7/30\n",
            "33/33 [==============================] - 15s 454ms/step - loss: 0.7518 - accuracy: 0.6683 - val_loss: 0.7306 - val_accuracy: 0.6391\n",
            "Epoch 8/30\n",
            "33/33 [==============================] - 17s 507ms/step - loss: 0.7756 - accuracy: 0.6480 - val_loss: 0.7585 - val_accuracy: 0.5940\n",
            "Epoch 9/30\n",
            "33/33 [==============================] - 14s 415ms/step - loss: 0.7624 - accuracy: 0.6692 - val_loss: 0.7086 - val_accuracy: 0.6767\n",
            "Epoch 10/30\n",
            "33/33 [==============================] - 14s 421ms/step - loss: 0.7517 - accuracy: 0.6760 - val_loss: 0.6774 - val_accuracy: 0.6917\n",
            "Epoch 11/30\n",
            "33/33 [==============================] - 14s 433ms/step - loss: 0.7248 - accuracy: 0.6692 - val_loss: 0.6617 - val_accuracy: 0.7218\n",
            "Epoch 12/30\n",
            "33/33 [==============================] - 16s 472ms/step - loss: 0.7463 - accuracy: 0.6731 - val_loss: 0.6541 - val_accuracy: 0.7444\n",
            "Epoch 13/30\n",
            "33/33 [==============================] - 15s 468ms/step - loss: 0.7590 - accuracy: 0.6422 - val_loss: 0.8213 - val_accuracy: 0.6391\n",
            "Epoch 14/30\n",
            "33/33 [==============================] - 15s 469ms/step - loss: 0.7369 - accuracy: 0.6702 - val_loss: 0.6625 - val_accuracy: 0.6692\n",
            "Epoch 15/30\n",
            "33/33 [==============================] - 15s 443ms/step - loss: 0.7227 - accuracy: 0.6779 - val_loss: 0.7247 - val_accuracy: 0.6015\n",
            "Epoch 16/30\n",
            "33/33 [==============================] - 14s 424ms/step - loss: 0.6969 - accuracy: 0.6905 - val_loss: 0.6294 - val_accuracy: 0.7143\n",
            "Epoch 17/30\n",
            "33/33 [==============================] - 15s 459ms/step - loss: 0.6686 - accuracy: 0.7108 - val_loss: 0.6247 - val_accuracy: 0.7594\n",
            "Epoch 18/30\n",
            "33/33 [==============================] - 15s 459ms/step - loss: 0.7021 - accuracy: 0.6973 - val_loss: 0.6256 - val_accuracy: 0.7218\n",
            "Epoch 19/30\n",
            "33/33 [==============================] - 14s 430ms/step - loss: 0.6788 - accuracy: 0.7041 - val_loss: 0.6222 - val_accuracy: 0.7368\n",
            "Epoch 20/30\n",
            "33/33 [==============================] - 14s 416ms/step - loss: 0.6871 - accuracy: 0.6983 - val_loss: 0.6388 - val_accuracy: 0.7519\n",
            "Epoch 21/30\n",
            "33/33 [==============================] - 14s 419ms/step - loss: 0.6616 - accuracy: 0.7166 - val_loss: 0.6348 - val_accuracy: 0.7218\n",
            "Epoch 22/30\n",
            "33/33 [==============================] - 14s 436ms/step - loss: 0.6598 - accuracy: 0.7137 - val_loss: 0.5797 - val_accuracy: 0.7594\n",
            "Epoch 23/30\n",
            "33/33 [==============================] - 14s 418ms/step - loss: 0.6748 - accuracy: 0.7002 - val_loss: 0.5813 - val_accuracy: 0.7444\n",
            "Epoch 24/30\n",
            "33/33 [==============================] - 14s 412ms/step - loss: 0.7067 - accuracy: 0.7031 - val_loss: 0.6456 - val_accuracy: 0.7218\n",
            "Epoch 25/30\n",
            "33/33 [==============================] - 14s 415ms/step - loss: 0.6346 - accuracy: 0.7321 - val_loss: 0.5866 - val_accuracy: 0.7444\n",
            "Epoch 26/30\n",
            "33/33 [==============================] - 14s 413ms/step - loss: 0.6536 - accuracy: 0.7060 - val_loss: 0.5864 - val_accuracy: 0.7293\n"
          ]
        },
        {
          "data": {
            "text/plain": [
              "<keras.callbacks.History at 0x7f407cc54d50>"
            ]
          },
          "execution_count": 16,
          "metadata": {},
          "output_type": "execute_result"
        }
      ],
      "source": [
        "lenet.fit(x=x_train, y=y_train, validation_data=(x_valid, y_valid), epochs=30, callbacks=[es_callback])"
      ]
    },
    {
      "cell_type": "code",
      "execution_count": null,
      "metadata": {
        "colab": {
          "base_uri": "https://localhost:8080/"
        },
        "id": "JEXBD-k3QLC4",
        "outputId": "3e328c53-2273-4730-e17f-cfd490f902fc"
      },
      "outputs": [
        {
          "name": "stdout",
          "output_type": "stream",
          "text": [
            "33/33 [==============================] - 7s 218ms/step - loss: 0.5860 - accuracy: 0.7524\n",
            "5/5 [==============================] - 1s 172ms/step - loss: 0.5797 - accuracy: 0.7594\n",
            "4/4 [==============================] - 1s 217ms/step - loss: 0.5852 - accuracy: 0.7109\n"
          ]
        },
        {
          "data": {
            "text/plain": [
              "[0.5852465033531189, 0.7109375]"
            ]
          },
          "execution_count": 17,
          "metadata": {},
          "output_type": "execute_result"
        }
      ],
      "source": [
        "lenet.evaluate(x=x_train, y=y_train)\n",
        "lenet.evaluate(x=x_valid, y=y_valid)\n",
        "lenet.evaluate(x=x_test, y=y_test)"
      ]
    },
    {
      "cell_type": "markdown",
      "metadata": {
        "id": "tiPHPtbCQnPD"
      },
      "source": [
        "### L1 Regularization"
      ]
    },
    {
      "cell_type": "code",
      "execution_count": null,
      "metadata": {
        "id": "ZFJcjirRQZQB"
      },
      "outputs": [],
      "source": [
        "lenet = LeNet(l1_enable=True)\n",
        "es_callback = EarlyStopping(monitor=\"val_loss\", patience=4, restore_best_weights=True)\n",
        "lenet.compile(optimizer=\"adam\", loss=\"sparse_categorical_crossentropy\", metrics=[\"accuracy\"])"
      ]
    },
    {
      "cell_type": "code",
      "execution_count": null,
      "metadata": {
        "colab": {
          "base_uri": "https://localhost:8080/"
        },
        "id": "J8uQDmnwQdVt",
        "outputId": "c4060bdd-3d73-4683-baf1-3df273114a06"
      },
      "outputs": [
        {
          "name": "stdout",
          "output_type": "stream",
          "text": [
            "Epoch 1/30\n",
            "33/33 [==============================] - 13s 387ms/step - loss: 7.2656 - accuracy: 0.4894 - val_loss: 3.2531 - val_accuracy: 0.5564\n",
            "Epoch 2/30\n",
            "33/33 [==============================] - 13s 383ms/step - loss: 2.4089 - accuracy: 0.5638 - val_loss: 1.8688 - val_accuracy: 0.5038\n",
            "Epoch 3/30\n",
            "33/33 [==============================] - 14s 417ms/step - loss: 1.6831 - accuracy: 0.5861 - val_loss: 1.4678 - val_accuracy: 0.5940\n",
            "Epoch 4/30\n",
            "33/33 [==============================] - 13s 383ms/step - loss: 1.3946 - accuracy: 0.6151 - val_loss: 1.2694 - val_accuracy: 0.6617\n",
            "Epoch 5/30\n",
            "33/33 [==============================] - 13s 384ms/step - loss: 1.2873 - accuracy: 0.6122 - val_loss: 1.2298 - val_accuracy: 0.6015\n",
            "Epoch 6/30\n",
            "33/33 [==============================] - 13s 381ms/step - loss: 1.2283 - accuracy: 0.6315 - val_loss: 1.1712 - val_accuracy: 0.6391\n",
            "Epoch 7/30\n",
            "33/33 [==============================] - 13s 382ms/step - loss: 1.2052 - accuracy: 0.6151 - val_loss: 1.1398 - val_accuracy: 0.6391\n",
            "Epoch 8/30\n",
            "33/33 [==============================] - 13s 383ms/step - loss: 1.1478 - accuracy: 0.6335 - val_loss: 1.1191 - val_accuracy: 0.6165\n",
            "Epoch 9/30\n",
            "33/33 [==============================] - 13s 383ms/step - loss: 1.1332 - accuracy: 0.6170 - val_loss: 1.1014 - val_accuracy: 0.6241\n",
            "Epoch 10/30\n",
            "33/33 [==============================] - 13s 383ms/step - loss: 1.1149 - accuracy: 0.6296 - val_loss: 1.0366 - val_accuracy: 0.6692\n",
            "Epoch 11/30\n",
            "33/33 [==============================] - 13s 383ms/step - loss: 1.0701 - accuracy: 0.6586 - val_loss: 1.0451 - val_accuracy: 0.6241\n",
            "Epoch 12/30\n",
            "33/33 [==============================] - 13s 384ms/step - loss: 1.0970 - accuracy: 0.6393 - val_loss: 1.0321 - val_accuracy: 0.6466\n",
            "Epoch 13/30\n",
            "33/33 [==============================] - 13s 382ms/step - loss: 1.1009 - accuracy: 0.6306 - val_loss: 1.0978 - val_accuracy: 0.6541\n",
            "Epoch 14/30\n",
            "33/33 [==============================] - 13s 382ms/step - loss: 1.0778 - accuracy: 0.6470 - val_loss: 1.0136 - val_accuracy: 0.6617\n",
            "Epoch 15/30\n",
            "33/33 [==============================] - 13s 381ms/step - loss: 1.0725 - accuracy: 0.6451 - val_loss: 1.0109 - val_accuracy: 0.6466\n",
            "Epoch 16/30\n",
            "33/33 [==============================] - 13s 382ms/step - loss: 1.0594 - accuracy: 0.6470 - val_loss: 0.9963 - val_accuracy: 0.6842\n",
            "Epoch 17/30\n",
            "33/33 [==============================] - 13s 382ms/step - loss: 1.0689 - accuracy: 0.6402 - val_loss: 1.0399 - val_accuracy: 0.6767\n",
            "Epoch 18/30\n",
            "33/33 [==============================] - 13s 383ms/step - loss: 1.0719 - accuracy: 0.6422 - val_loss: 1.0031 - val_accuracy: 0.6767\n",
            "Epoch 19/30\n",
            "33/33 [==============================] - 13s 380ms/step - loss: 1.0570 - accuracy: 0.6364 - val_loss: 0.9954 - val_accuracy: 0.6466\n",
            "Epoch 20/30\n",
            "33/33 [==============================] - 13s 383ms/step - loss: 1.0308 - accuracy: 0.6431 - val_loss: 0.9720 - val_accuracy: 0.6316\n",
            "Epoch 21/30\n",
            "33/33 [==============================] - 13s 382ms/step - loss: 1.0208 - accuracy: 0.6528 - val_loss: 1.0022 - val_accuracy: 0.6541\n",
            "Epoch 22/30\n",
            "33/33 [==============================] - 13s 384ms/step - loss: 1.0812 - accuracy: 0.6248 - val_loss: 1.0293 - val_accuracy: 0.6541\n",
            "Epoch 23/30\n",
            "33/33 [==============================] - 13s 382ms/step - loss: 1.0300 - accuracy: 0.6605 - val_loss: 0.9867 - val_accuracy: 0.6241\n",
            "Epoch 24/30\n",
            "33/33 [==============================] - 13s 382ms/step - loss: 1.0151 - accuracy: 0.6489 - val_loss: 0.9518 - val_accuracy: 0.6466\n",
            "Epoch 25/30\n",
            "33/33 [==============================] - 13s 381ms/step - loss: 1.0078 - accuracy: 0.6489 - val_loss: 0.9852 - val_accuracy: 0.6541\n",
            "Epoch 26/30\n",
            "33/33 [==============================] - 13s 383ms/step - loss: 0.9974 - accuracy: 0.6499 - val_loss: 0.9535 - val_accuracy: 0.6391\n",
            "Epoch 27/30\n",
            "33/33 [==============================] - 13s 384ms/step - loss: 0.9845 - accuracy: 0.6499 - val_loss: 0.9580 - val_accuracy: 0.6842\n",
            "Epoch 28/30\n",
            "33/33 [==============================] - 13s 381ms/step - loss: 0.9925 - accuracy: 0.6460 - val_loss: 0.9548 - val_accuracy: 0.6767\n"
          ]
        },
        {
          "data": {
            "text/plain": [
              "<keras.callbacks.History at 0x7f407c973390>"
            ]
          },
          "execution_count": 19,
          "metadata": {},
          "output_type": "execute_result"
        }
      ],
      "source": [
        "lenet.fit(x=x_train, y=y_train, validation_data=(x_valid, y_valid), epochs=30, callbacks=[es_callback])"
      ]
    },
    {
      "cell_type": "code",
      "execution_count": null,
      "metadata": {
        "colab": {
          "base_uri": "https://localhost:8080/"
        },
        "id": "vc7x0qLZQedh",
        "outputId": "4fee7a2e-32a0-4af1-f5ca-644c036134ee"
      },
      "outputs": [
        {
          "name": "stdout",
          "output_type": "stream",
          "text": [
            "33/33 [==============================] - 7s 219ms/step - loss: 0.9985 - accuracy: 0.6460\n",
            "5/5 [==============================] - 1s 174ms/step - loss: 0.9518 - accuracy: 0.6466\n",
            "4/4 [==============================] - 1s 222ms/step - loss: 0.9490 - accuracy: 0.6484\n"
          ]
        },
        {
          "data": {
            "text/plain": [
              "[0.9490329027175903, 0.6484375]"
            ]
          },
          "execution_count": 20,
          "metadata": {},
          "output_type": "execute_result"
        }
      ],
      "source": [
        "lenet.evaluate(x=x_train, y=y_train)\n",
        "lenet.evaluate(x=x_valid, y=y_valid)\n",
        "lenet.evaluate(x=x_test, y=y_test)"
      ]
    },
    {
      "cell_type": "markdown",
      "metadata": {
        "id": "KcPCPv8SQq-V"
      },
      "source": [
        "### L2 Regularization"
      ]
    },
    {
      "cell_type": "code",
      "execution_count": null,
      "metadata": {
        "id": "fAURBuO1QgSp"
      },
      "outputs": [],
      "source": [
        "lenet = LeNet(l2_enable=True)\n",
        "es_callback = EarlyStopping(monitor=\"val_loss\", patience=4, restore_best_weights=True)\n",
        "lenet.compile(optimizer=\"adam\", loss=\"sparse_categorical_crossentropy\", metrics=[\"accuracy\"])"
      ]
    },
    {
      "cell_type": "code",
      "execution_count": null,
      "metadata": {
        "colab": {
          "base_uri": "https://localhost:8080/"
        },
        "id": "Hah0qSDQQiSO",
        "outputId": "df2724e3-81ea-4945-a5e4-45935921cb09"
      },
      "outputs": [
        {
          "name": "stdout",
          "output_type": "stream",
          "text": [
            "Epoch 1/30\n",
            "33/33 [==============================] - 13s 389ms/step - loss: 1.2680 - accuracy: 0.5000 - val_loss: 1.0991 - val_accuracy: 0.5940\n",
            "Epoch 2/30\n",
            "33/33 [==============================] - 13s 383ms/step - loss: 1.0111 - accuracy: 0.6431 - val_loss: 0.9281 - val_accuracy: 0.6391\n",
            "Epoch 3/30\n",
            "33/33 [==============================] - 13s 382ms/step - loss: 0.9348 - accuracy: 0.6654 - val_loss: 0.8840 - val_accuracy: 0.6466\n",
            "Epoch 4/30\n",
            "33/33 [==============================] - 13s 382ms/step - loss: 0.9021 - accuracy: 0.6702 - val_loss: 0.8489 - val_accuracy: 0.6992\n",
            "Epoch 5/30\n",
            "33/33 [==============================] - 13s 383ms/step - loss: 0.8768 - accuracy: 0.6789 - val_loss: 0.8689 - val_accuracy: 0.7068\n",
            "Epoch 6/30\n",
            "33/33 [==============================] - 13s 383ms/step - loss: 0.8787 - accuracy: 0.6576 - val_loss: 0.8474 - val_accuracy: 0.6391\n",
            "Epoch 7/30\n",
            "33/33 [==============================] - 13s 384ms/step - loss: 0.8494 - accuracy: 0.6799 - val_loss: 0.8233 - val_accuracy: 0.6992\n",
            "Epoch 8/30\n",
            "33/33 [==============================] - 13s 384ms/step - loss: 0.8713 - accuracy: 0.6576 - val_loss: 0.8428 - val_accuracy: 0.6466\n",
            "Epoch 9/30\n",
            "33/33 [==============================] - 13s 384ms/step - loss: 0.8445 - accuracy: 0.6818 - val_loss: 0.8924 - val_accuracy: 0.6015\n",
            "Epoch 10/30\n",
            "33/33 [==============================] - 13s 385ms/step - loss: 0.8236 - accuracy: 0.6673 - val_loss: 0.8485 - val_accuracy: 0.6842\n",
            "Epoch 11/30\n",
            "33/33 [==============================] - 13s 383ms/step - loss: 0.8240 - accuracy: 0.6905 - val_loss: 0.8484 - val_accuracy: 0.6917\n"
          ]
        },
        {
          "data": {
            "text/plain": [
              "<keras.callbacks.History at 0x7f407c637510>"
            ]
          },
          "execution_count": 22,
          "metadata": {},
          "output_type": "execute_result"
        }
      ],
      "source": [
        "lenet.fit(x=x_train, y=y_train, validation_data=(x_valid, y_valid), epochs=30, callbacks=[es_callback])"
      ]
    },
    {
      "cell_type": "code",
      "execution_count": null,
      "metadata": {
        "colab": {
          "base_uri": "https://localhost:8080/"
        },
        "id": "eBQKRHdCQk5O",
        "outputId": "3c3dd8d2-5689-442f-dc0a-7c5d94ae35e0"
      },
      "outputs": [
        {
          "name": "stdout",
          "output_type": "stream",
          "text": [
            "33/33 [==============================] - 7s 216ms/step - loss: 0.8206 - accuracy: 0.6818\n",
            "5/5 [==============================] - 1s 172ms/step - loss: 0.8233 - accuracy: 0.6992\n",
            "4/4 [==============================] - 1s 219ms/step - loss: 0.7910 - accuracy: 0.6797\n"
          ]
        },
        {
          "data": {
            "text/plain": [
              "[0.7909947037696838, 0.6796875]"
            ]
          },
          "execution_count": 23,
          "metadata": {},
          "output_type": "execute_result"
        }
      ],
      "source": [
        "lenet.evaluate(x=x_train, y=y_train)\n",
        "lenet.evaluate(x=x_valid, y=y_valid)\n",
        "lenet.evaluate(x=x_test, y=y_test)"
      ]
    },
    {
      "cell_type": "markdown",
      "metadata": {
        "id": "XjaZf_08RENI"
      },
      "source": [
        "## Kernel Size Effect"
      ]
    },
    {
      "cell_type": "code",
      "execution_count": null,
      "metadata": {
        "colab": {
          "base_uri": "https://localhost:8080/"
        },
        "id": "DUMQQgTBRX6v",
        "outputId": "a12da2d7-56b8-4062-e1cd-1d39c49b1ccf"
      },
      "outputs": [
        {
          "name": "stdout",
          "output_type": "stream",
          "text": [
            "kernel size = 5\n",
            "Epoch 1/30\n",
            "33/33 [==============================] - 13s 385ms/step - loss: 0.9760 - accuracy: 0.4913 - val_loss: 0.7929 - val_accuracy: 0.6015\n",
            "Epoch 2/30\n",
            "33/33 [==============================] - 13s 380ms/step - loss: 0.8182 - accuracy: 0.5996 - val_loss: 0.7611 - val_accuracy: 0.6617\n",
            "Epoch 3/30\n",
            "33/33 [==============================] - 12s 379ms/step - loss: 0.7611 - accuracy: 0.6596 - val_loss: 0.7812 - val_accuracy: 0.6992\n",
            "Epoch 4/30\n",
            "33/33 [==============================] - 12s 378ms/step - loss: 0.7456 - accuracy: 0.6518 - val_loss: 0.6878 - val_accuracy: 0.7068\n",
            "Epoch 5/30\n",
            "33/33 [==============================] - 13s 380ms/step - loss: 0.7325 - accuracy: 0.6702 - val_loss: 0.6722 - val_accuracy: 0.6992\n",
            "Epoch 6/30\n",
            "33/33 [==============================] - 12s 378ms/step - loss: 0.7154 - accuracy: 0.6809 - val_loss: 0.6972 - val_accuracy: 0.6917\n",
            "Epoch 7/30\n",
            "33/33 [==============================] - 12s 379ms/step - loss: 0.6870 - accuracy: 0.7021 - val_loss: 0.6652 - val_accuracy: 0.7143\n",
            "Epoch 8/30\n",
            "33/33 [==============================] - 12s 379ms/step - loss: 0.6540 - accuracy: 0.7021 - val_loss: 0.6796 - val_accuracy: 0.6917\n",
            "Epoch 9/30\n",
            "33/33 [==============================] - 13s 380ms/step - loss: 0.6578 - accuracy: 0.7186 - val_loss: 0.6509 - val_accuracy: 0.6617\n",
            "Epoch 10/30\n",
            "33/33 [==============================] - 13s 381ms/step - loss: 0.6673 - accuracy: 0.7118 - val_loss: 0.8339 - val_accuracy: 0.6241\n",
            "Epoch 11/30\n",
            "33/33 [==============================] - 12s 379ms/step - loss: 0.7006 - accuracy: 0.6963 - val_loss: 0.6629 - val_accuracy: 0.6767\n",
            "Epoch 12/30\n",
            "33/33 [==============================] - 13s 381ms/step - loss: 0.6290 - accuracy: 0.7311 - val_loss: 0.6235 - val_accuracy: 0.7068\n",
            "Epoch 13/30\n",
            "33/33 [==============================] - 12s 379ms/step - loss: 0.6273 - accuracy: 0.7215 - val_loss: 0.6620 - val_accuracy: 0.6842\n",
            "Epoch 14/30\n",
            "33/33 [==============================] - 13s 380ms/step - loss: 0.6005 - accuracy: 0.7408 - val_loss: 0.6701 - val_accuracy: 0.7068\n",
            "Epoch 15/30\n",
            "33/33 [==============================] - 13s 382ms/step - loss: 0.6425 - accuracy: 0.7108 - val_loss: 0.6705 - val_accuracy: 0.6992\n",
            "Epoch 16/30\n",
            "33/33 [==============================] - 13s 381ms/step - loss: 0.6431 - accuracy: 0.7224 - val_loss: 0.6348 - val_accuracy: 0.6917\n",
            "33/33 [==============================] - 7s 215ms/step - loss: 0.5875 - accuracy: 0.7485\n",
            "5/5 [==============================] - 1s 174ms/step - loss: 0.6235 - accuracy: 0.7068\n",
            "4/4 [==============================] - 1s 215ms/step - loss: 0.6660 - accuracy: 0.7031\n",
            "kernel size = 7\n",
            "Epoch 1/30\n",
            "33/33 [==============================] - 19s 561ms/step - loss: 1.1329 - accuracy: 0.3559 - val_loss: 1.0048 - val_accuracy: 0.5639\n",
            "Epoch 2/30\n",
            "33/33 [==============================] - 18s 559ms/step - loss: 0.9649 - accuracy: 0.5126 - val_loss: 0.8723 - val_accuracy: 0.5865\n",
            "Epoch 3/30\n",
            "33/33 [==============================] - 18s 557ms/step - loss: 0.8346 - accuracy: 0.5967 - val_loss: 0.7942 - val_accuracy: 0.6015\n",
            "Epoch 4/30\n",
            "33/33 [==============================] - 18s 553ms/step - loss: 0.7665 - accuracy: 0.6480 - val_loss: 0.7413 - val_accuracy: 0.5865\n",
            "Epoch 5/30\n",
            "33/33 [==============================] - 18s 554ms/step - loss: 0.7445 - accuracy: 0.6586 - val_loss: 0.7252 - val_accuracy: 0.6767\n",
            "Epoch 6/30\n",
            "33/33 [==============================] - 18s 555ms/step - loss: 0.7510 - accuracy: 0.6702 - val_loss: 0.7288 - val_accuracy: 0.6617\n",
            "Epoch 7/30\n",
            "33/33 [==============================] - 18s 555ms/step - loss: 0.7425 - accuracy: 0.6644 - val_loss: 0.6914 - val_accuracy: 0.6617\n",
            "Epoch 8/30\n",
            "33/33 [==============================] - 18s 556ms/step - loss: 0.7135 - accuracy: 0.6741 - val_loss: 0.7509 - val_accuracy: 0.6692\n",
            "Epoch 9/30\n",
            "33/33 [==============================] - 18s 554ms/step - loss: 0.7447 - accuracy: 0.6567 - val_loss: 0.7025 - val_accuracy: 0.6466\n",
            "Epoch 10/30\n",
            "33/33 [==============================] - 18s 556ms/step - loss: 0.7292 - accuracy: 0.6644 - val_loss: 0.7473 - val_accuracy: 0.6316\n",
            "Epoch 11/30\n",
            "33/33 [==============================] - 18s 557ms/step - loss: 0.7018 - accuracy: 0.6760 - val_loss: 0.7144 - val_accuracy: 0.6617\n",
            "33/33 [==============================] - 9s 282ms/step - loss: 0.6994 - accuracy: 0.6847\n",
            "5/5 [==============================] - 1s 225ms/step - loss: 0.6914 - accuracy: 0.6617\n",
            "4/4 [==============================] - 1s 286ms/step - loss: 0.6855 - accuracy: 0.7031\n",
            "kernel size = 9\n",
            "Epoch 1/30\n",
            "33/33 [==============================] - 29s 880ms/step - loss: 0.9452 - accuracy: 0.5222 - val_loss: 0.7971 - val_accuracy: 0.6015\n",
            "Epoch 2/30\n",
            "33/33 [==============================] - 29s 878ms/step - loss: 0.8381 - accuracy: 0.5996 - val_loss: 0.7891 - val_accuracy: 0.6165\n",
            "Epoch 3/30\n",
            "33/33 [==============================] - 29s 880ms/step - loss: 0.7734 - accuracy: 0.6373 - val_loss: 1.1259 - val_accuracy: 0.5038\n",
            "Epoch 4/30\n",
            "33/33 [==============================] - 29s 876ms/step - loss: 0.7834 - accuracy: 0.6306 - val_loss: 0.6895 - val_accuracy: 0.6767\n",
            "Epoch 5/30\n",
            "33/33 [==============================] - 29s 878ms/step - loss: 0.7180 - accuracy: 0.6847 - val_loss: 0.7422 - val_accuracy: 0.6316\n",
            "Epoch 6/30\n",
            "33/33 [==============================] - 29s 875ms/step - loss: 0.7257 - accuracy: 0.6605 - val_loss: 0.7451 - val_accuracy: 0.6917\n",
            "Epoch 7/30\n",
            "33/33 [==============================] - 29s 877ms/step - loss: 0.7331 - accuracy: 0.6644 - val_loss: 0.7713 - val_accuracy: 0.6541\n",
            "Epoch 8/30\n",
            "33/33 [==============================] - 29s 880ms/step - loss: 0.7169 - accuracy: 0.6605 - val_loss: 0.7077 - val_accuracy: 0.6917\n",
            "33/33 [==============================] - 11s 337ms/step - loss: 0.6913 - accuracy: 0.6857\n",
            "5/5 [==============================] - 1s 269ms/step - loss: 0.6895 - accuracy: 0.6767\n",
            "4/4 [==============================] - 2s 344ms/step - loss: 0.6725 - accuracy: 0.6562\n"
          ]
        }
      ],
      "source": [
        "for kernel_size in [5, 7, 9]:\n",
        "  print(f\"kernel size = {kernel_size}\")\n",
        "  lenet = LeNet(kernel_size=kernel_size)\n",
        "  es_callback = EarlyStopping(monitor=\"val_loss\", patience=4, restore_best_weights=True)\n",
        "  lenet.compile(optimizer=\"adam\", loss=\"sparse_categorical_crossentropy\", metrics=[\"accuracy\"])\n",
        "\n",
        "  lenet.fit(x=x_train, y=y_train, validation_data=(x_valid, y_valid), epochs=30, callbacks=[es_callback])\n",
        "\n",
        "  lenet.evaluate(x=x_train, y=y_train)\n",
        "  lenet.evaluate(x=x_valid, y=y_valid)\n",
        "  lenet.evaluate(x=x_test, y=y_test)"
      ]
    },
    {
      "cell_type": "markdown",
      "metadata": {
        "id": "_GS7LTfZRvuO"
      },
      "source": [
        "## Kernel Number Effect"
      ]
    },
    {
      "cell_type": "code",
      "execution_count": null,
      "metadata": {
        "colab": {
          "base_uri": "https://localhost:8080/"
        },
        "id": "SjE5racrRvFD",
        "outputId": "2aab017a-2fb7-47d2-8a4b-9d0945b28c94"
      },
      "outputs": [
        {
          "name": "stdout",
          "output_type": "stream",
          "text": [
            "kernel numbers = [3, 10, 40]\n",
            "Epoch 1/30\n",
            "33/33 [==============================] - 14s 425ms/step - loss: 1.0414 - accuracy: 0.4594 - val_loss: 0.8754 - val_accuracy: 0.5865\n",
            "Epoch 2/30\n",
            "33/33 [==============================] - 12s 371ms/step - loss: 0.8532 - accuracy: 0.5948 - val_loss: 0.7496 - val_accuracy: 0.6617\n",
            "Epoch 3/30\n",
            "33/33 [==============================] - 12s 371ms/step - loss: 0.7816 - accuracy: 0.6518 - val_loss: 0.7181 - val_accuracy: 0.6692\n",
            "Epoch 4/30\n",
            "33/33 [==============================] - 12s 370ms/step - loss: 0.7376 - accuracy: 0.6673 - val_loss: 0.7553 - val_accuracy: 0.6391\n",
            "Epoch 5/30\n",
            "33/33 [==============================] - 12s 372ms/step - loss: 0.7968 - accuracy: 0.6364 - val_loss: 0.7713 - val_accuracy: 0.6241\n",
            "Epoch 6/30\n",
            "33/33 [==============================] - 12s 373ms/step - loss: 0.7783 - accuracy: 0.6518 - val_loss: 0.7504 - val_accuracy: 0.6090\n",
            "Epoch 7/30\n",
            "33/33 [==============================] - 12s 370ms/step - loss: 0.7623 - accuracy: 0.6528 - val_loss: 0.7288 - val_accuracy: 0.6316\n",
            "33/33 [==============================] - 7s 208ms/step - loss: 0.7363 - accuracy: 0.6750\n",
            "5/5 [==============================] - 1s 169ms/step - loss: 0.7181 - accuracy: 0.6692\n",
            "4/4 [==============================] - 1s 210ms/step - loss: 0.7145 - accuracy: 0.6953\n",
            "kernel numbers = [6, 16, 120]\n",
            "Epoch 1/30\n",
            "33/33 [==============================] - 14s 395ms/step - loss: 1.0472 - accuracy: 0.4439 - val_loss: 0.8960 - val_accuracy: 0.6165\n",
            "Epoch 2/30\n",
            "33/33 [==============================] - 13s 390ms/step - loss: 0.8565 - accuracy: 0.6025 - val_loss: 0.7515 - val_accuracy: 0.7218\n",
            "Epoch 3/30\n",
            "33/33 [==============================] - 13s 391ms/step - loss: 0.7784 - accuracy: 0.6480 - val_loss: 0.7349 - val_accuracy: 0.6842\n",
            "Epoch 4/30\n",
            "33/33 [==============================] - 13s 390ms/step - loss: 0.7648 - accuracy: 0.6809 - val_loss: 0.7724 - val_accuracy: 0.6842\n",
            "Epoch 5/30\n",
            "33/33 [==============================] - 13s 390ms/step - loss: 0.7979 - accuracy: 0.6460 - val_loss: 0.7552 - val_accuracy: 0.6391\n",
            "Epoch 6/30\n",
            "33/33 [==============================] - 13s 400ms/step - loss: 0.7335 - accuracy: 0.6857 - val_loss: 0.7149 - val_accuracy: 0.6992\n",
            "Epoch 7/30\n",
            "33/33 [==============================] - 13s 389ms/step - loss: 0.7294 - accuracy: 0.6731 - val_loss: 0.6902 - val_accuracy: 0.6466\n",
            "Epoch 8/30\n",
            "33/33 [==============================] - 13s 391ms/step - loss: 0.7213 - accuracy: 0.6847 - val_loss: 0.7107 - val_accuracy: 0.6917\n",
            "Epoch 9/30\n",
            "33/33 [==============================] - 13s 389ms/step - loss: 0.7385 - accuracy: 0.6847 - val_loss: 0.6926 - val_accuracy: 0.7068\n",
            "Epoch 10/30\n",
            "33/33 [==============================] - 13s 389ms/step - loss: 0.7197 - accuracy: 0.6934 - val_loss: 0.7328 - val_accuracy: 0.6692\n",
            "Epoch 11/30\n",
            "33/33 [==============================] - 13s 389ms/step - loss: 0.6969 - accuracy: 0.6905 - val_loss: 0.6586 - val_accuracy: 0.7218\n",
            "Epoch 12/30\n",
            "33/33 [==============================] - 13s 391ms/step - loss: 0.6818 - accuracy: 0.6925 - val_loss: 0.7217 - val_accuracy: 0.6391\n",
            "Epoch 13/30\n",
            "33/33 [==============================] - 13s 391ms/step - loss: 0.6686 - accuracy: 0.7089 - val_loss: 0.6549 - val_accuracy: 0.7444\n",
            "Epoch 14/30\n",
            "33/33 [==============================] - 13s 391ms/step - loss: 0.6851 - accuracy: 0.6973 - val_loss: 0.6555 - val_accuracy: 0.7519\n",
            "Epoch 15/30\n",
            "33/33 [==============================] - 13s 389ms/step - loss: 0.6536 - accuracy: 0.7215 - val_loss: 0.6260 - val_accuracy: 0.7218\n",
            "Epoch 16/30\n",
            "33/33 [==============================] - 13s 391ms/step - loss: 0.6671 - accuracy: 0.7118 - val_loss: 0.7540 - val_accuracy: 0.6241\n",
            "Epoch 17/30\n",
            "33/33 [==============================] - 13s 390ms/step - loss: 0.6864 - accuracy: 0.7002 - val_loss: 0.6896 - val_accuracy: 0.6917\n",
            "Epoch 18/30\n",
            "33/33 [==============================] - 13s 389ms/step - loss: 0.6350 - accuracy: 0.7263 - val_loss: 0.6548 - val_accuracy: 0.6917\n",
            "Epoch 19/30\n",
            "33/33 [==============================] - 13s 390ms/step - loss: 0.6260 - accuracy: 0.7273 - val_loss: 0.6320 - val_accuracy: 0.6992\n",
            "33/33 [==============================] - 7s 221ms/step - loss: 0.6273 - accuracy: 0.7234\n",
            "5/5 [==============================] - 1s 172ms/step - loss: 0.6260 - accuracy: 0.7218\n",
            "4/4 [==============================] - 1s 222ms/step - loss: 0.6434 - accuracy: 0.6797\n",
            "kernel numbers = [10, 40, 300]\n",
            "Epoch 1/30\n",
            "33/33 [==============================] - 12s 335ms/step - loss: 0.9117 - accuracy: 0.5832 - val_loss: 0.9614 - val_accuracy: 0.5263\n",
            "Epoch 2/30\n",
            "33/33 [==============================] - 11s 330ms/step - loss: 0.8558 - accuracy: 0.5967 - val_loss: 0.7750 - val_accuracy: 0.6165\n",
            "Epoch 3/30\n",
            "33/33 [==============================] - 11s 331ms/step - loss: 0.8103 - accuracy: 0.6344 - val_loss: 0.7728 - val_accuracy: 0.6842\n",
            "Epoch 4/30\n",
            "33/33 [==============================] - 11s 330ms/step - loss: 0.7891 - accuracy: 0.6412 - val_loss: 0.7537 - val_accuracy: 0.7293\n",
            "Epoch 5/30\n",
            "33/33 [==============================] - 11s 330ms/step - loss: 0.7253 - accuracy: 0.6818 - val_loss: 0.6759 - val_accuracy: 0.6842\n",
            "Epoch 6/30\n",
            "33/33 [==============================] - 11s 330ms/step - loss: 0.7598 - accuracy: 0.6721 - val_loss: 0.6933 - val_accuracy: 0.6917\n",
            "Epoch 7/30\n",
            "33/33 [==============================] - 11s 331ms/step - loss: 0.7261 - accuracy: 0.6615 - val_loss: 0.7076 - val_accuracy: 0.6541\n",
            "Epoch 8/30\n",
            "33/33 [==============================] - 11s 331ms/step - loss: 0.6817 - accuracy: 0.6963 - val_loss: 0.6075 - val_accuracy: 0.7218\n",
            "Epoch 9/30\n",
            "33/33 [==============================] - 11s 330ms/step - loss: 0.6826 - accuracy: 0.7060 - val_loss: 0.6073 - val_accuracy: 0.7444\n",
            "Epoch 10/30\n",
            "33/33 [==============================] - 11s 331ms/step - loss: 0.6418 - accuracy: 0.7176 - val_loss: 0.6439 - val_accuracy: 0.6617\n",
            "Epoch 11/30\n",
            "33/33 [==============================] - 11s 330ms/step - loss: 0.6280 - accuracy: 0.7215 - val_loss: 0.6406 - val_accuracy: 0.7368\n",
            "Epoch 12/30\n",
            "33/33 [==============================] - 11s 332ms/step - loss: 0.5868 - accuracy: 0.7340 - val_loss: 0.5721 - val_accuracy: 0.7669\n",
            "Epoch 13/30\n",
            "33/33 [==============================] - 11s 331ms/step - loss: 0.5474 - accuracy: 0.7631 - val_loss: 0.7272 - val_accuracy: 0.6842\n",
            "Epoch 14/30\n",
            "33/33 [==============================] - 11s 331ms/step - loss: 0.5898 - accuracy: 0.7331 - val_loss: 0.6265 - val_accuracy: 0.7669\n",
            "Epoch 15/30\n",
            "33/33 [==============================] - 11s 331ms/step - loss: 0.5566 - accuracy: 0.7602 - val_loss: 0.5609 - val_accuracy: 0.7970\n",
            "Epoch 16/30\n",
            "33/33 [==============================] - 11s 330ms/step - loss: 0.5234 - accuracy: 0.7689 - val_loss: 0.5827 - val_accuracy: 0.7293\n",
            "Epoch 17/30\n",
            "33/33 [==============================] - 11s 332ms/step - loss: 0.5034 - accuracy: 0.7901 - val_loss: 0.6350 - val_accuracy: 0.6842\n",
            "Epoch 18/30\n",
            "33/33 [==============================] - 11s 331ms/step - loss: 0.4989 - accuracy: 0.7824 - val_loss: 0.5722 - val_accuracy: 0.7444\n",
            "Epoch 19/30\n",
            "33/33 [==============================] - 11s 331ms/step - loss: 0.4596 - accuracy: 0.8133 - val_loss: 0.6073 - val_accuracy: 0.7143\n",
            "33/33 [==============================] - 5s 142ms/step - loss: 0.4716 - accuracy: 0.8037\n",
            "5/5 [==============================] - 1s 113ms/step - loss: 0.5609 - accuracy: 0.7970\n",
            "4/4 [==============================] - 1s 141ms/step - loss: 0.5447 - accuracy: 0.7500\n"
          ]
        }
      ],
      "source": [
        "for kernel_numbers in [\n",
        "                       [3, 10, 40],\n",
        "                       [6, 16, 120],\n",
        "                       [10, 40, 300]]:\n",
        "\n",
        "  print(f\"kernel numbers = {kernel_numbers}\")\n",
        "  lenet = LeNet(kernel_numbers=kernel_numbers)\n",
        "  es_callback = EarlyStopping(monitor=\"val_loss\", patience=4, restore_best_weights=True)\n",
        "  lenet.compile(optimizer=\"adam\", loss=\"sparse_categorical_crossentropy\", metrics=[\"accuracy\"])\n",
        "\n",
        "  lenet.fit(x=x_train, y=y_train, validation_data=(x_valid, y_valid), epochs=30, callbacks=[es_callback])\n",
        "\n",
        "  lenet.evaluate(x=x_train, y=y_train)\n",
        "  lenet.evaluate(x=x_valid, y=y_valid)\n",
        "  lenet.evaluate(x=x_test, y=y_test)"
      ]
    },
    {
      "cell_type": "markdown",
      "metadata": {
        "id": "k1Qyxzv9uqwk"
      },
      "source": [
        "## Best Setting"
      ]
    },
    {
      "cell_type": "code",
      "execution_count": null,
      "metadata": {
        "id": "Om38hL9-wXDL"
      },
      "outputs": [],
      "source": [
        ""
      ]
    },
    {
      "cell_type": "code",
      "execution_count": null,
      "metadata": {
        "colab": {
          "base_uri": "https://localhost:8080/"
        },
        "id": "AVHY4o09SXib",
        "outputId": "18d9676c-426d-41d5-9ad6-51264cf0672f"
      },
      "outputs": [
        {
          "name": "stdout",
          "output_type": "stream",
          "text": [
            "Epoch 1/30\n",
            "33/33 [==============================] - 14s 399ms/step - loss: 0.9390 - accuracy: 0.5532 - val_loss: 0.7473 - val_accuracy: 0.7068\n",
            "Epoch 2/30\n",
            "33/33 [==============================] - 13s 385ms/step - loss: 0.7935 - accuracy: 0.6499 - val_loss: 0.7326 - val_accuracy: 0.6617\n",
            "Epoch 3/30\n",
            "33/33 [==============================] - 13s 387ms/step - loss: 0.7805 - accuracy: 0.6489 - val_loss: 0.6819 - val_accuracy: 0.6767\n",
            "Epoch 4/30\n",
            "33/33 [==============================] - 13s 385ms/step - loss: 0.7824 - accuracy: 0.6480 - val_loss: 0.6740 - val_accuracy: 0.6992\n",
            "Epoch 5/30\n",
            "33/33 [==============================] - 13s 391ms/step - loss: 0.8019 - accuracy: 0.6267 - val_loss: 0.6795 - val_accuracy: 0.6992\n",
            "Epoch 6/30\n",
            "33/33 [==============================] - 13s 385ms/step - loss: 0.7306 - accuracy: 0.6712 - val_loss: 0.6887 - val_accuracy: 0.6842\n",
            "Epoch 7/30\n",
            "33/33 [==============================] - 13s 384ms/step - loss: 0.7360 - accuracy: 0.6750 - val_loss: 0.6622 - val_accuracy: 0.6917\n",
            "Epoch 8/30\n",
            "33/33 [==============================] - 13s 384ms/step - loss: 0.7608 - accuracy: 0.6557 - val_loss: 0.7284 - val_accuracy: 0.6842\n",
            "Epoch 9/30\n",
            "33/33 [==============================] - 13s 384ms/step - loss: 0.7151 - accuracy: 0.6905 - val_loss: 0.7238 - val_accuracy: 0.7068\n",
            "Epoch 10/30\n",
            "33/33 [==============================] - 13s 398ms/step - loss: 0.7394 - accuracy: 0.6596 - val_loss: 0.6100 - val_accuracy: 0.7218\n",
            "Epoch 11/30\n",
            "33/33 [==============================] - 13s 384ms/step - loss: 0.7164 - accuracy: 0.6789 - val_loss: 0.6423 - val_accuracy: 0.7293\n",
            "Epoch 12/30\n",
            "33/33 [==============================] - 13s 383ms/step - loss: 0.6776 - accuracy: 0.6973 - val_loss: 0.6481 - val_accuracy: 0.6692\n",
            "Epoch 13/30\n",
            "33/33 [==============================] - 13s 381ms/step - loss: 0.6843 - accuracy: 0.7079 - val_loss: 0.6802 - val_accuracy: 0.7068\n",
            "Epoch 14/30\n",
            "33/33 [==============================] - 13s 384ms/step - loss: 0.6770 - accuracy: 0.6876 - val_loss: 0.6030 - val_accuracy: 0.7444\n",
            "Epoch 15/30\n",
            "33/33 [==============================] - 13s 384ms/step - loss: 0.6693 - accuracy: 0.6963 - val_loss: 0.7455 - val_accuracy: 0.6992\n",
            "Epoch 16/30\n",
            "33/33 [==============================] - 13s 383ms/step - loss: 0.7013 - accuracy: 0.7050 - val_loss: 0.7035 - val_accuracy: 0.6541\n",
            "Epoch 17/30\n",
            "33/33 [==============================] - 13s 382ms/step - loss: 0.6812 - accuracy: 0.6925 - val_loss: 0.5873 - val_accuracy: 0.7218\n",
            "Epoch 18/30\n",
            "33/33 [==============================] - 13s 383ms/step - loss: 0.6605 - accuracy: 0.6954 - val_loss: 0.6641 - val_accuracy: 0.6992\n",
            "Epoch 19/30\n",
            "33/33 [==============================] - 13s 384ms/step - loss: 0.6698 - accuracy: 0.7041 - val_loss: 0.6176 - val_accuracy: 0.7068\n",
            "Epoch 20/30\n",
            "33/33 [==============================] - 13s 384ms/step - loss: 0.6101 - accuracy: 0.7369 - val_loss: 0.5840 - val_accuracy: 0.7293\n",
            "Epoch 21/30\n",
            "33/33 [==============================] - 13s 384ms/step - loss: 0.6056 - accuracy: 0.7205 - val_loss: 0.5919 - val_accuracy: 0.7368\n",
            "Epoch 22/30\n",
            "33/33 [==============================] - 13s 384ms/step - loss: 0.5697 - accuracy: 0.7640 - val_loss: 0.5427 - val_accuracy: 0.7519\n",
            "Epoch 23/30\n",
            "33/33 [==============================] - 13s 386ms/step - loss: 0.5922 - accuracy: 0.7544 - val_loss: 0.5534 - val_accuracy: 0.7669\n",
            "Epoch 24/30\n",
            "33/33 [==============================] - 13s 386ms/step - loss: 0.5850 - accuracy: 0.7466 - val_loss: 0.5263 - val_accuracy: 0.7669\n",
            "Epoch 25/30\n",
            "33/33 [==============================] - 13s 385ms/step - loss: 0.5948 - accuracy: 0.7505 - val_loss: 0.5857 - val_accuracy: 0.7218\n",
            "Epoch 26/30\n",
            "33/33 [==============================] - 13s 386ms/step - loss: 0.5744 - accuracy: 0.7553 - val_loss: 0.5960 - val_accuracy: 0.7368\n",
            "Epoch 27/30\n",
            "33/33 [==============================] - 13s 384ms/step - loss: 0.5584 - accuracy: 0.7640 - val_loss: 0.5095 - val_accuracy: 0.8045\n",
            "Epoch 28/30\n",
            "33/33 [==============================] - 13s 386ms/step - loss: 0.5346 - accuracy: 0.7669 - val_loss: 0.6302 - val_accuracy: 0.7293\n",
            "Epoch 29/30\n",
            "33/33 [==============================] - 13s 385ms/step - loss: 0.5367 - accuracy: 0.7708 - val_loss: 0.4941 - val_accuracy: 0.7669\n",
            "Epoch 30/30\n",
            "33/33 [==============================] - 13s 385ms/step - loss: 0.5181 - accuracy: 0.7805 - val_loss: 0.5585 - val_accuracy: 0.7218\n",
            "33/33 [==============================] - 5s 141ms/step - loss: 0.4847 - accuracy: 0.7921\n",
            "5/5 [==============================] - 1s 114ms/step - loss: 0.5585 - accuracy: 0.7218\n",
            "4/4 [==============================] - 1s 146ms/step - loss: 0.5686 - accuracy: 0.7578\n"
          ]
        },
        {
          "data": {
            "text/plain": [
              "[0.5686240792274475, 0.7578125]"
            ]
          },
          "execution_count": 27,
          "metadata": {},
          "output_type": "execute_result"
        }
      ],
      "source": [
        "lenet = LeNet(kernel_size=5, kernel_numbers=[10, 40, 300], dropout_enable=True)\n",
        "es_callback = EarlyStopping(monitor=\"val_loss\", patience=4, restore_best_weights=True)\n",
        "lenet.compile(optimizer=\"adam\", loss=\"sparse_categorical_crossentropy\", metrics=[\"accuracy\"])\n",
        "\n",
        "es_callback = EarlyStopping(monitor=\"val_loss\", patience=4, restore_best_weights=True)\n",
        "lenet.compile(optimizer=\"adam\", loss=\"sparse_categorical_crossentropy\", metrics=[\"accuracy\"])\n",
        "\n",
        "lenet.fit(x=x_train, y=y_train, validation_data=(x_valid, y_valid), epochs=30, callbacks=[es_callback])\n",
        "\n",
        "lenet.evaluate(x=x_train, y=y_train)\n",
        "lenet.evaluate(x=x_valid, y=y_valid)\n",
        "lenet.evaluate(x=x_test, y=y_test)"
      ]
    },
    {
      "cell_type": "markdown",
      "metadata": {
        "id": "j0RUuLHZVUg_"
      },
      "source": [
        "# Inception"
      ]
    },
    {
      "cell_type": "markdown",
      "source": [
        "## Model"
      ],
      "metadata": {
        "id": "cRWqpCvgYwOG"
      }
    },
    {
      "cell_type": "code",
      "source": [
        "class Inception(keras.Model):\n",
        "  def __init__(self):\n",
        "    super().__init__()\n",
        "    self.base_model = InceptionV3(\n",
        "        input_shape=(500, 500, 3), include_top=False, weights='imagenet')\n",
        "\n",
        "    inputs = Input((500, 500, 3,))\n",
        "    dropout_layer = Dropout(rate=0.2)\n",
        "    pooling_layer = GlobalMaxPooling2D(data_format=\"channels_last\")\n",
        "    output_layer = Dense(3, activation=\"softmax\")\n",
        "\n",
        "    x = self.base_model(inputs)\n",
        "    x = pooling_layer(x)\n",
        "    x = dropout_layer(x)\n",
        "    outputs = output_layer(x)\n",
        "\n",
        "    self.model = tf.keras.Model(inputs, outputs)\n",
        "\n",
        "    self.freeze_base_model()\n",
        "\n",
        "  def freeze_base_model(self):\n",
        "    self.base_model.trainable = False\n",
        "\n",
        "  def unfreeze_partial_base_model(self, number_freeze_layers):\n",
        "    self.base_model.trainable = True\n",
        "\n",
        "    for layer in self.base_model.layers[:number_freeze_layers]:\n",
        "      layer.trainable = False\n",
        "    \n",
        "  def call(self, inputs):\n",
        "    return self.model.call(inputs)"
      ],
      "metadata": {
        "id": "MtOMbhU9B1zN"
      },
      "execution_count": 12,
      "outputs": []
    },
    {
      "cell_type": "markdown",
      "source": [
        "## Results"
      ],
      "metadata": {
        "id": "jV7BpYFyY9Kn"
      }
    },
    {
      "cell_type": "code",
      "source": [
        "for number_freeze_layers in [0, 50, 100, 200, 311]:\n",
        "  print(f\"number freeze layers = {number_freeze_layers}\")\n",
        "  \n",
        "  inception = Inception()\n",
        "\n",
        "  inception.unfreeze_partial_base_model(number_freeze_layers=number_freeze_layers)\n",
        "\n",
        "  es_callback = EarlyStopping(monitor=\"val_loss\", patience=4, restore_best_weights=True)\n",
        "  inception.compile(optimizer=keras.optimizers.Adam(learning_rate=0.0001), loss=\"sparse_categorical_crossentropy\", metrics=[\"accuracy\"])\n",
        "\n",
        "  history = inception.fit(x=x_train, y=y_train, validation_data=(x_valid, y_valid), epochs=30, callbacks=[es_callback])\n",
        "\n",
        "  inception.evaluate(x=x_train, y=y_train)\n",
        "  inception.evaluate(x=x_valid, y=y_valid)\n",
        "  inception.evaluate(x=x_test, y=y_test)\n",
        "\n",
        "  print(\"\\n===========================\\n\")"
      ],
      "metadata": {
        "colab": {
          "base_uri": "https://localhost:8080/"
        },
        "id": "Px7Nl-PYCAmH",
        "outputId": "3ff98257-28d9-45fd-8bd7-b7bc2a911480"
      },
      "execution_count": 14,
      "outputs": [
        {
          "output_type": "stream",
          "name": "stdout",
          "text": [
            "number freeze layers = 0\n",
            "Epoch 1/30\n",
            "33/33 [==============================] - 52s 1s/step - loss: 1.6202 - accuracy: 0.6373 - val_loss: 1.8821 - val_accuracy: 0.5038\n",
            "Epoch 2/30\n",
            "33/33 [==============================] - 44s 1s/step - loss: 0.1959 - accuracy: 0.9371 - val_loss: 0.8769 - val_accuracy: 0.7368\n",
            "Epoch 3/30\n",
            "33/33 [==============================] - 44s 1s/step - loss: 0.0915 - accuracy: 0.9700 - val_loss: 0.2490 - val_accuracy: 0.9098\n",
            "Epoch 4/30\n",
            "33/33 [==============================] - 44s 1s/step - loss: 0.0466 - accuracy: 0.9816 - val_loss: 0.1791 - val_accuracy: 0.9474\n",
            "Epoch 5/30\n",
            "33/33 [==============================] - 44s 1s/step - loss: 0.0186 - accuracy: 0.9923 - val_loss: 0.2002 - val_accuracy: 0.9398\n",
            "Epoch 6/30\n",
            "33/33 [==============================] - 44s 1s/step - loss: 0.0050 - accuracy: 0.9981 - val_loss: 0.1884 - val_accuracy: 0.9549\n",
            "Epoch 7/30\n",
            "33/33 [==============================] - 45s 1s/step - loss: 0.0132 - accuracy: 0.9971 - val_loss: 0.1669 - val_accuracy: 0.9699\n",
            "Epoch 8/30\n",
            "33/33 [==============================] - 44s 1s/step - loss: 0.0303 - accuracy: 0.9903 - val_loss: 0.1196 - val_accuracy: 0.9398\n",
            "Epoch 9/30\n",
            "33/33 [==============================] - 46s 1s/step - loss: 0.0061 - accuracy: 0.9981 - val_loss: 0.1297 - val_accuracy: 0.9699\n",
            "Epoch 10/30\n",
            "33/33 [==============================] - 44s 1s/step - loss: 0.0054 - accuracy: 0.9981 - val_loss: 0.1203 - val_accuracy: 0.9624\n",
            "Epoch 11/30\n",
            "33/33 [==============================] - 44s 1s/step - loss: 0.0116 - accuracy: 0.9942 - val_loss: 0.1278 - val_accuracy: 0.9624\n",
            "Epoch 12/30\n",
            "33/33 [==============================] - 44s 1s/step - loss: 0.0073 - accuracy: 0.9981 - val_loss: 0.1465 - val_accuracy: 0.9474\n",
            "33/33 [==============================] - 12s 366ms/step - loss: 0.0066 - accuracy: 0.9952\n",
            "5/5 [==============================] - 2s 288ms/step - loss: 0.1196 - accuracy: 0.9398\n",
            "4/4 [==============================] - 3s 364ms/step - loss: 0.5068 - accuracy: 0.9297\n",
            "\n",
            "===========================\n",
            "\n",
            "number freeze layers = 50\n",
            "Epoch 1/30\n",
            "33/33 [==============================] - 41s 1s/step - loss: 2.1334 - accuracy: 0.4729 - val_loss: 2.2022 - val_accuracy: 0.3308\n",
            "Epoch 2/30\n",
            "33/33 [==============================] - 33s 999ms/step - loss: 0.7271 - accuracy: 0.7456 - val_loss: 2.8619 - val_accuracy: 0.3985\n",
            "Epoch 3/30\n",
            "33/33 [==============================] - 33s 987ms/step - loss: 0.3291 - accuracy: 0.8897 - val_loss: 2.6691 - val_accuracy: 0.4060\n",
            "Epoch 4/30\n",
            "33/33 [==============================] - 33s 1s/step - loss: 0.2050 - accuracy: 0.9246 - val_loss: 2.4029 - val_accuracy: 0.4586\n",
            "Epoch 5/30\n",
            "33/33 [==============================] - 33s 999ms/step - loss: 0.1183 - accuracy: 0.9526 - val_loss: 1.4139 - val_accuracy: 0.5865\n",
            "Epoch 6/30\n",
            "33/33 [==============================] - 33s 1s/step - loss: 0.0703 - accuracy: 0.9758 - val_loss: 1.0655 - val_accuracy: 0.6917\n",
            "Epoch 7/30\n",
            "33/33 [==============================] - 33s 1s/step - loss: 0.0718 - accuracy: 0.9710 - val_loss: 1.0303 - val_accuracy: 0.7519\n",
            "Epoch 8/30\n",
            "33/33 [==============================] - 33s 1s/step - loss: 0.0752 - accuracy: 0.9710 - val_loss: 0.9221 - val_accuracy: 0.6842\n",
            "Epoch 9/30\n",
            "33/33 [==============================] - 33s 996ms/step - loss: 0.0499 - accuracy: 0.9816 - val_loss: 0.9518 - val_accuracy: 0.7293\n",
            "Epoch 10/30\n",
            "33/33 [==============================] - 33s 994ms/step - loss: 0.0528 - accuracy: 0.9816 - val_loss: 1.0004 - val_accuracy: 0.7143\n",
            "Epoch 11/30\n",
            "33/33 [==============================] - 34s 1s/step - loss: 0.0412 - accuracy: 0.9826 - val_loss: 0.7426 - val_accuracy: 0.7594\n",
            "Epoch 12/30\n",
            "33/33 [==============================] - 33s 1s/step - loss: 0.0450 - accuracy: 0.9826 - val_loss: 1.3275 - val_accuracy: 0.6842\n",
            "Epoch 13/30\n",
            "33/33 [==============================] - 33s 1s/step - loss: 0.0428 - accuracy: 0.9855 - val_loss: 0.7664 - val_accuracy: 0.7368\n",
            "Epoch 14/30\n",
            "33/33 [==============================] - 33s 1s/step - loss: 0.0647 - accuracy: 0.9778 - val_loss: 0.9836 - val_accuracy: 0.7143\n",
            "Epoch 15/30\n",
            "33/33 [==============================] - 33s 1s/step - loss: 0.0669 - accuracy: 0.9816 - val_loss: 0.9948 - val_accuracy: 0.7820\n",
            "33/33 [==============================] - 12s 359ms/step - loss: 0.0077 - accuracy: 0.9990\n",
            "5/5 [==============================] - 2s 282ms/step - loss: 0.7426 - accuracy: 0.7594\n",
            "4/4 [==============================] - 3s 351ms/step - loss: 0.6393 - accuracy: 0.8281\n",
            "\n",
            "===========================\n",
            "\n",
            "number freeze layers = 100\n",
            "Epoch 1/30\n",
            "33/33 [==============================] - 35s 893ms/step - loss: 2.1286 - accuracy: 0.4545 - val_loss: 2.7601 - val_accuracy: 0.3233\n",
            "Epoch 2/30\n",
            "33/33 [==============================] - 28s 847ms/step - loss: 0.8191 - accuracy: 0.6799 - val_loss: 3.2727 - val_accuracy: 0.3383\n",
            "Epoch 3/30\n",
            "33/33 [==============================] - 27s 823ms/step - loss: 0.4432 - accuracy: 0.8356 - val_loss: 3.1655 - val_accuracy: 0.3609\n",
            "Epoch 4/30\n",
            "33/33 [==============================] - 28s 838ms/step - loss: 0.2440 - accuracy: 0.9052 - val_loss: 2.9254 - val_accuracy: 0.3910\n",
            "Epoch 5/30\n",
            "33/33 [==============================] - 28s 842ms/step - loss: 0.1675 - accuracy: 0.9439 - val_loss: 1.7595 - val_accuracy: 0.5113\n",
            "Epoch 6/30\n",
            "33/33 [==============================] - 27s 835ms/step - loss: 0.1116 - accuracy: 0.9555 - val_loss: 1.3468 - val_accuracy: 0.6541\n",
            "Epoch 7/30\n",
            "33/33 [==============================] - 28s 837ms/step - loss: 0.0896 - accuracy: 0.9700 - val_loss: 1.0733 - val_accuracy: 0.6842\n",
            "Epoch 8/30\n",
            "33/33 [==============================] - 27s 835ms/step - loss: 0.0980 - accuracy: 0.9700 - val_loss: 1.1590 - val_accuracy: 0.7444\n",
            "Epoch 9/30\n",
            "33/33 [==============================] - 28s 841ms/step - loss: 0.0651 - accuracy: 0.9739 - val_loss: 1.0495 - val_accuracy: 0.6917\n",
            "Epoch 10/30\n",
            "33/33 [==============================] - 28s 836ms/step - loss: 0.0614 - accuracy: 0.9826 - val_loss: 1.1184 - val_accuracy: 0.6692\n",
            "Epoch 11/30\n",
            "33/33 [==============================] - 28s 836ms/step - loss: 0.0829 - accuracy: 0.9739 - val_loss: 1.0788 - val_accuracy: 0.6992\n",
            "Epoch 12/30\n",
            "33/33 [==============================] - 27s 833ms/step - loss: 0.0810 - accuracy: 0.9720 - val_loss: 1.3442 - val_accuracy: 0.6917\n",
            "Epoch 13/30\n",
            "33/33 [==============================] - 29s 871ms/step - loss: 0.0454 - accuracy: 0.9807 - val_loss: 1.2418 - val_accuracy: 0.6992\n",
            "33/33 [==============================] - 12s 347ms/step - loss: 0.1107 - accuracy: 0.9594\n",
            "5/5 [==============================] - 2s 286ms/step - loss: 1.0495 - accuracy: 0.6917\n",
            "4/4 [==============================] - 3s 360ms/step - loss: 1.0883 - accuracy: 0.6953\n",
            "\n",
            "===========================\n",
            "\n",
            "number freeze layers = 200\n",
            "Epoch 1/30\n",
            "33/33 [==============================] - 27s 674ms/step - loss: 1.9393 - accuracy: 0.4691 - val_loss: 1.4733 - val_accuracy: 0.4135\n",
            "Epoch 2/30\n",
            "33/33 [==============================] - 21s 627ms/step - loss: 0.6811 - accuracy: 0.7263 - val_loss: 1.3188 - val_accuracy: 0.4586\n",
            "Epoch 3/30\n",
            "33/33 [==============================] - 20s 608ms/step - loss: 0.3691 - accuracy: 0.8549 - val_loss: 1.3047 - val_accuracy: 0.5113\n",
            "Epoch 4/30\n",
            "33/33 [==============================] - 20s 609ms/step - loss: 0.2281 - accuracy: 0.9130 - val_loss: 1.0111 - val_accuracy: 0.6316\n",
            "Epoch 5/30\n",
            "33/33 [==============================] - 20s 614ms/step - loss: 0.1612 - accuracy: 0.9429 - val_loss: 1.4938 - val_accuracy: 0.6090\n",
            "Epoch 6/30\n",
            "33/33 [==============================] - 20s 613ms/step - loss: 0.1488 - accuracy: 0.9526 - val_loss: 1.2139 - val_accuracy: 0.6165\n",
            "Epoch 7/30\n",
            "33/33 [==============================] - 20s 607ms/step - loss: 0.1023 - accuracy: 0.9613 - val_loss: 1.0339 - val_accuracy: 0.6617\n",
            "Epoch 8/30\n",
            "33/33 [==============================] - 20s 611ms/step - loss: 0.1299 - accuracy: 0.9584 - val_loss: 1.1193 - val_accuracy: 0.6692\n",
            "33/33 [==============================] - 12s 353ms/step - loss: 0.6281 - accuracy: 0.7224\n",
            "5/5 [==============================] - 2s 277ms/step - loss: 1.0111 - accuracy: 0.6316\n",
            "4/4 [==============================] - 3s 348ms/step - loss: 1.0027 - accuracy: 0.5625\n",
            "\n",
            "===========================\n",
            "\n",
            "number freeze layers = 311\n",
            "Epoch 1/30\n",
            "33/33 [==============================] - 18s 442ms/step - loss: 44.0572 - accuracy: 0.3366 - val_loss: 21.1254 - val_accuracy: 0.3233\n",
            "Epoch 2/30\n",
            "33/33 [==============================] - 14s 417ms/step - loss: 35.9135 - accuracy: 0.3714 - val_loss: 20.8323 - val_accuracy: 0.3534\n",
            "Epoch 3/30\n",
            "33/33 [==============================] - 15s 454ms/step - loss: 35.8510 - accuracy: 0.3414 - val_loss: 19.1768 - val_accuracy: 0.3233\n",
            "Epoch 4/30\n",
            "33/33 [==============================] - 13s 399ms/step - loss: 33.2201 - accuracy: 0.3849 - val_loss: 19.2442 - val_accuracy: 0.2932\n",
            "Epoch 5/30\n",
            "33/33 [==============================] - 14s 432ms/step - loss: 33.7795 - accuracy: 0.3810 - val_loss: 18.0729 - val_accuracy: 0.3233\n",
            "Epoch 6/30\n",
            "33/33 [==============================] - 13s 393ms/step - loss: 33.5038 - accuracy: 0.3636 - val_loss: 19.4520 - val_accuracy: 0.3534\n",
            "Epoch 7/30\n",
            "33/33 [==============================] - 13s 400ms/step - loss: 32.2821 - accuracy: 0.3646 - val_loss: 19.8543 - val_accuracy: 0.3609\n",
            "Epoch 8/30\n",
            "33/33 [==============================] - 13s 409ms/step - loss: 30.4881 - accuracy: 0.3839 - val_loss: 16.5992 - val_accuracy: 0.3008\n",
            "Epoch 9/30\n",
            "33/33 [==============================] - 14s 438ms/step - loss: 30.9157 - accuracy: 0.3975 - val_loss: 17.8652 - val_accuracy: 0.3534\n",
            "Epoch 10/30\n",
            "33/33 [==============================] - 13s 407ms/step - loss: 30.8468 - accuracy: 0.3965 - val_loss: 15.8974 - val_accuracy: 0.3083\n",
            "Epoch 11/30\n",
            "33/33 [==============================] - 13s 399ms/step - loss: 29.1174 - accuracy: 0.4081 - val_loss: 16.8141 - val_accuracy: 0.3459\n",
            "Epoch 12/30\n",
            "33/33 [==============================] - 13s 399ms/step - loss: 28.4447 - accuracy: 0.3830 - val_loss: 16.0195 - val_accuracy: 0.3684\n",
            "Epoch 13/30\n",
            "33/33 [==============================] - 14s 432ms/step - loss: 30.1820 - accuracy: 0.3917 - val_loss: 15.9533 - val_accuracy: 0.3534\n",
            "Epoch 14/30\n",
            "33/33 [==============================] - 13s 404ms/step - loss: 29.7286 - accuracy: 0.3994 - val_loss: 16.4949 - val_accuracy: 0.3534\n",
            "33/33 [==============================] - 11s 346ms/step - loss: 12.0110 - accuracy: 0.4429\n",
            "5/5 [==============================] - 2s 283ms/step - loss: 15.8974 - accuracy: 0.3083\n",
            "4/4 [==============================] - 3s 358ms/step - loss: 13.0469 - accuracy: 0.4141\n",
            "\n",
            "===========================\n",
            "\n"
          ]
        }
      ]
    },
    {
      "cell_type": "code",
      "source": [
        "len(inception.base_model.layers)"
      ],
      "metadata": {
        "colab": {
          "base_uri": "https://localhost:8080/"
        },
        "id": "aaC5i7o8ZbUA",
        "outputId": "f5e419d9-18fc-4310-e377-d170edeb09ef"
      },
      "execution_count": 11,
      "outputs": [
        {
          "output_type": "execute_result",
          "data": {
            "text/plain": [
              "311"
            ]
          },
          "metadata": {},
          "execution_count": 11
        }
      ]
    }
  ],
  "metadata": {
    "accelerator": "GPU",
    "colab": {
      "collapsed_sections": [
        "XjaZf_08RENI",
        "_GS7LTfZRvuO"
      ],
      "name": "NN_HW4.ipynb",
      "toc_visible": true,
      "provenance": [],
      "authorship_tag": "ABX9TyNcioPyu1XXZlmSrdE9Hdx3",
      "include_colab_link": true
    },
    "kernelspec": {
      "display_name": "Python 3",
      "name": "python3"
    },
    "language_info": {
      "name": "python"
    }
  },
  "nbformat": 4,
  "nbformat_minor": 0
}