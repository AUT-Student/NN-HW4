{
  "cells": [
    {
      "cell_type": "markdown",
      "metadata": {
        "id": "view-in-github",
        "colab_type": "text"
      },
      "source": [
        "<a href=\"https://colab.research.google.com/github/AUT-Student/NN-HW4/blob/main/NN_HW4.ipynb\" target=\"_parent\"><img src=\"https://colab.research.google.com/assets/colab-badge.svg\" alt=\"Open In Colab\"/></a>"
      ]
    },
    {
      "cell_type": "markdown",
      "metadata": {
        "id": "ntmFFP5_GuCa"
      },
      "source": [
        "# Libraries"
      ]
    },
    {
      "cell_type": "code",
      "execution_count": 1,
      "metadata": {
        "id": "JeslGkMkeFT2"
      },
      "outputs": [],
      "source": [
        "import numpy as np\n",
        "import matplotlib.pyplot as plt\n",
        "\n",
        "import tensorflow as tf\n",
        "import tensorflow.keras as keras\n",
        "import tensorflow_datasets as tfds\n",
        "\n",
        "from keras.models import Sequential\n",
        "from keras.layers import Input, Dense, Conv2D, Flatten, Dropout\n",
        "from keras.layers import MaxPooling2D, AveragePooling2D, GlobalMaxPooling2D\n",
        "from keras.callbacks import EarlyStopping\n",
        "from keras.regularizers import l1, l2\n",
        "from keras.applications.inception_v3 import InceptionV3\n",
        "from keras.models import clone_model"
      ]
    },
    {
      "cell_type": "markdown",
      "metadata": {
        "id": "jeWm1guJG39O"
      },
      "source": [
        "# Dataset"
      ]
    },
    {
      "cell_type": "code",
      "execution_count": 2,
      "metadata": {
        "colab": {
          "base_uri": "https://localhost:8080/",
          "height": 321,
          "referenced_widgets": [
            "e195e2dcaeaa4d8eb58714d9d7db8346",
            "1140dfb0a173420bbf7e289bb363d621",
            "6c9ce5380d9140b3b28834369ded6d25",
            "3c6a491f0df04e4a8741f4966de8190c",
            "003b8c0182af45f8920cf2d60a5bf758",
            "be3d78f4142740f29509e02362cd4bea",
            "dd7f54247db64dfc837081d15947b1c0",
            "c35640f812544766a4aeb7aca9e7bada",
            "beb1cd0de310417dbf0819b8b0cce491",
            "3ff4e92da03544b29388f2afe1248c18",
            "e67e4257f8184b9b94969d0e142176dc",
            "7c02f67acf5f46b184e4dadef5b11fd0",
            "a0cb0c1fa23d472d85bdcca9b78c91a9",
            "adc386596ad546d7b9b4f4a74bfd4cec",
            "0a6b9d4a156b4591addba2bda8ad4be0",
            "7585f801d849454ca67d85f0ec395eb7",
            "2559e9b6b2c34122911b8e14e4238db3",
            "679cb045ba0f4f76a97fb2122bd18341",
            "4f471f97e8e1420caa9b8683ae04aad5",
            "4fbc66bbaae749bc9ad70a5b58c5ea5a",
            "ffe5ecb9f8fb46ec9e93c846e66891aa",
            "01e8382d1bb84706b822575faa2d044c",
            "9776b44315444e5db61c8f5fe3df9bf6",
            "5f544e4ca09f4422ba42a254ca4a6fd4",
            "661651f5b9ff4caa923a29ee94fc1c3a",
            "43c9e128c0564bc1b4501123592adf2d",
            "9f527661ef19417d85988cae6c8b64a6",
            "c05800aaeeea4491b802761a85a7dd21",
            "f52677ed04ec4f82a351ccccefdc40da",
            "e2af108704ef4482a7b843650ad4ed64",
            "e99d98493c4047c3b38fdd229db00134",
            "9af5c655795f4752baf4edda1171bc32",
            "5c2f66c370cd4c9aa9509bdcde2ae76f",
            "1fd056fe46dd46e99704d51e7b5cf3d7",
            "580c45d8ddde4a3c84cecbb0c4d3c370",
            "f19b83ef5874471e8015ed5f55d38aad",
            "08a9bbd1db7c474a81e48c3b5c67db7d",
            "3e0309db96eb43fd82ae0240b3bfeb63",
            "50e2f531749f4e70be73cfdfc1d65678",
            "bcb28b8feeac40a4b61cecf25daf9d4c",
            "5baf1fb74abd4c68977bd2dd2ce466e9",
            "9204a80ea7444fdeb8218f673b282fba",
            "7f1c176344a442b794698302478c2085",
            "03abb0c6002e4b69bc0879e933426fda",
            "74c0777dee6d48d283fdca8717b69eac",
            "5104b21b92e1468d8bc4e99a87e9ee3e",
            "bcb31c046eb64e46acae1e0d0c90f71c",
            "c402992636214e2abdcfb084a1832003",
            "3f055d0ebcd444ae895f2f53e5501960",
            "35a93e0c60294aaba8b467ad5ba93566",
            "35dfb1e93ec14e6db1cae5f91a85889e",
            "c327dcf40406472a90ed67419382b1d7",
            "d52967d7f0174024ae5e6259f7dfd004",
            "2964e61c0cdb46c99985c2dc3bc38bd6",
            "1fffe48b37e04757ad123ec063b51415",
            "aef03ea1c36e494db4478e2c2c54f020",
            "5c12607f5c454313be15c06346b2246e",
            "de2a84ccbf3b43d593dd3ff6eca6016d",
            "122eb94e761d40398eb9f7221fd31198",
            "ebed64f1d19a400aaed96af36d69e773",
            "7835370b269a4f8b8ac2388240cc6aff",
            "45fb2c003ec54a10905179a7cf0f36f1",
            "1d48ba7177494714b12925ae19173f03",
            "387caa4752094796bfffb47ee243a620",
            "23bb81915aed4a82a262e9b0d544f4d0",
            "9a2534122b33416aad4a40b8aad2d489",
            "06d440e7419049f4833a33c4d0e6f4d5",
            "f7e534e54ab8420cb88809c3cb1da054",
            "25247fa0ca6d42418d61d11b0dfe55ec",
            "47afd19807c9477b977c7e2158b1429c",
            "14457338cc15467c83b39d121bec43fe",
            "aa159c4b57c34744a4e702a9bc63ed88",
            "3886f30a292248dba4a62e65e449eb98",
            "3b6269b6bd0447eda3a9d86742f1c323",
            "d15eaee5b70d4ce9bb6024c537c11ad6",
            "c932dc79a23b44b68000d70a06d5a536",
            "a5405a975ce54f1bbbf523743efd9679",
            "c57d72f6fa1f425b99095f4cdd46d045",
            "b39ea6b6cbcb42de9c60dcebf55a1aaf",
            "eb51376c07294ad8beba6a8d58fa14bd",
            "ffe2e645462f4c80be9345fe72b8a0c0",
            "94677a25cca1415fa8cc066cd72dfec7",
            "7bfce15d01c84f0ca55587a50ec8cb67",
            "1f003f6781c9491db11c0b3e4ea22939",
            "a77476b9540243248740d3ee09eba3e1",
            "818c0aba20444d5a972ff28b0c3916d3",
            "8b222be49e0741fdbebdcc2cd2e17112",
            "59ba6994a18b4a38b573e08c50df6380"
          ]
        },
        "id": "MaC1owEmG3LU",
        "outputId": "4e89f314-1175-47c8-e04a-6018dceb816c"
      },
      "outputs": [
        {
          "output_type": "stream",
          "name": "stdout",
          "text": [
            "\u001b[1mDownloading and preparing dataset beans/0.1.0 (download: Unknown size, generated: 171.63 MiB, total: 171.63 MiB) to /root/tensorflow_datasets/beans/0.1.0...\u001b[0m\n"
          ]
        },
        {
          "output_type": "display_data",
          "data": {
            "text/plain": [
              "Dl Completed...: 0 url [00:00, ? url/s]"
            ],
            "application/vnd.jupyter.widget-view+json": {
              "version_major": 2,
              "version_minor": 0,
              "model_id": "e195e2dcaeaa4d8eb58714d9d7db8346"
            }
          },
          "metadata": {}
        },
        {
          "output_type": "display_data",
          "data": {
            "text/plain": [
              "Dl Size...: 0 MiB [00:00, ? MiB/s]"
            ],
            "application/vnd.jupyter.widget-view+json": {
              "version_major": 2,
              "version_minor": 0,
              "model_id": "7c02f67acf5f46b184e4dadef5b11fd0"
            }
          },
          "metadata": {}
        },
        {
          "output_type": "stream",
          "name": "stdout",
          "text": [
            "\n",
            "\n"
          ]
        },
        {
          "output_type": "display_data",
          "data": {
            "text/plain": [
              "0 examples [00:00, ? examples/s]"
            ],
            "application/vnd.jupyter.widget-view+json": {
              "version_major": 2,
              "version_minor": 0,
              "model_id": "9776b44315444e5db61c8f5fe3df9bf6"
            }
          },
          "metadata": {}
        },
        {
          "output_type": "stream",
          "name": "stdout",
          "text": [
            "Shuffling and writing examples to /root/tensorflow_datasets/beans/0.1.0.incomplete6IVY6W/beans-train.tfrecord\n"
          ]
        },
        {
          "output_type": "display_data",
          "data": {
            "text/plain": [
              "  0%|          | 0/1034 [00:00<?, ? examples/s]"
            ],
            "application/vnd.jupyter.widget-view+json": {
              "version_major": 2,
              "version_minor": 0,
              "model_id": "1fd056fe46dd46e99704d51e7b5cf3d7"
            }
          },
          "metadata": {}
        },
        {
          "output_type": "display_data",
          "data": {
            "text/plain": [
              "0 examples [00:00, ? examples/s]"
            ],
            "application/vnd.jupyter.widget-view+json": {
              "version_major": 2,
              "version_minor": 0,
              "model_id": "74c0777dee6d48d283fdca8717b69eac"
            }
          },
          "metadata": {}
        },
        {
          "output_type": "stream",
          "name": "stdout",
          "text": [
            "Shuffling and writing examples to /root/tensorflow_datasets/beans/0.1.0.incomplete6IVY6W/beans-validation.tfrecord\n"
          ]
        },
        {
          "output_type": "display_data",
          "data": {
            "text/plain": [
              "  0%|          | 0/133 [00:00<?, ? examples/s]"
            ],
            "application/vnd.jupyter.widget-view+json": {
              "version_major": 2,
              "version_minor": 0,
              "model_id": "aef03ea1c36e494db4478e2c2c54f020"
            }
          },
          "metadata": {}
        },
        {
          "output_type": "display_data",
          "data": {
            "text/plain": [
              "0 examples [00:00, ? examples/s]"
            ],
            "application/vnd.jupyter.widget-view+json": {
              "version_major": 2,
              "version_minor": 0,
              "model_id": "06d440e7419049f4833a33c4d0e6f4d5"
            }
          },
          "metadata": {}
        },
        {
          "output_type": "stream",
          "name": "stdout",
          "text": [
            "Shuffling and writing examples to /root/tensorflow_datasets/beans/0.1.0.incomplete6IVY6W/beans-test.tfrecord\n"
          ]
        },
        {
          "output_type": "display_data",
          "data": {
            "text/plain": [
              "  0%|          | 0/128 [00:00<?, ? examples/s]"
            ],
            "application/vnd.jupyter.widget-view+json": {
              "version_major": 2,
              "version_minor": 0,
              "model_id": "c57d72f6fa1f425b99095f4cdd46d045"
            }
          },
          "metadata": {}
        },
        {
          "output_type": "stream",
          "name": "stdout",
          "text": [
            "\u001b[1mDataset beans downloaded and prepared to /root/tensorflow_datasets/beans/0.1.0. Subsequent calls will reuse this data.\u001b[0m\n"
          ]
        }
      ],
      "source": [
        "ds = tfds.load('beans', split=[\"test\", \"train\", \"validation\"], shuffle_files=True)"
      ]
    },
    {
      "cell_type": "code",
      "execution_count": 3,
      "metadata": {
        "colab": {
          "base_uri": "https://localhost:8080/"
        },
        "id": "qNpD1LqdNAWy",
        "outputId": "6cd295d1-e9a7-496c-b50b-b191b9dd1254"
      },
      "outputs": [
        {
          "output_type": "stream",
          "name": "stdout",
          "text": [
            "tfds.core.DatasetInfo(\n",
            "    name='beans',\n",
            "    version=0.1.0,\n",
            "    description='Beans is a dataset of images of beans taken in the field using smartphone\n",
            "cameras. It consists of 3 classes: 2 disease classes and the healthy class.\n",
            "Diseases depicted include Angular Leaf Spot and Bean Rust. Data was annotated\n",
            "by experts from the National Crops Resources Research Institute (NaCRRI) in\n",
            "Uganda and collected by the Makerere AI research lab.',\n",
            "    homepage='https://github.com/AI-Lab-Makerere/ibean/',\n",
            "    features=FeaturesDict({\n",
            "        'image': Image(shape=(500, 500, 3), dtype=tf.uint8),\n",
            "        'label': ClassLabel(shape=(), dtype=tf.int64, num_classes=3),\n",
            "    }),\n",
            "    total_num_examples=1295,\n",
            "    splits={\n",
            "        'test': 128,\n",
            "        'train': 1034,\n",
            "        'validation': 133,\n",
            "    },\n",
            "    supervised_keys=('image', 'label'),\n",
            "    citation=\"\"\"@ONLINE {beansdata,\n",
            "        author=\"Makerere AI Lab\",\n",
            "        title=\"Bean disease dataset\",\n",
            "        month=\"January\",\n",
            "        year=\"2020\",\n",
            "        url=\"https://github.com/AI-Lab-Makerere/ibean/\"\n",
            "    }\"\"\",\n",
            "    redistribution_info=,\n",
            ")\n",
            "\n"
          ]
        }
      ],
      "source": [
        "ds, info = tfds.load('beans', with_info=True)\n",
        "\n",
        "print(info)"
      ]
    },
    {
      "cell_type": "code",
      "execution_count": 4,
      "metadata": {
        "colab": {
          "base_uri": "https://localhost:8080/"
        },
        "id": "qbo4rhjYceR_",
        "outputId": "7b758406-9ef8-483b-f253-be6d49adc41a"
      },
      "outputs": [
        {
          "output_type": "stream",
          "name": "stdout",
          "text": [
            "WARNING:tensorflow:From /usr/local/lib/python3.7/dist-packages/tensorflow_datasets/core/dataset_builder.py:598: get_single_element (from tensorflow.python.data.experimental.ops.get_single_element) is deprecated and will be removed in a future version.\n",
            "Instructions for updating:\n",
            "Use `tf.data.Dataset.get_single_element()`.\n"
          ]
        },
        {
          "output_type": "stream",
          "name": "stderr",
          "text": [
            "WARNING:tensorflow:From /usr/local/lib/python3.7/dist-packages/tensorflow_datasets/core/dataset_builder.py:598: get_single_element (from tensorflow.python.data.experimental.ops.get_single_element) is deprecated and will be removed in a future version.\n",
            "Instructions for updating:\n",
            "Use `tf.data.Dataset.get_single_element()`.\n"
          ]
        }
      ],
      "source": [
        "data_train = tfds.load(name=\"beans\", split=\"train\", batch_size=-1) \n",
        "data_valid = tfds.load(name=\"beans\", split=\"validation\", batch_size=-1)\n",
        "data_test = tfds.load(name=\"beans\", split=\"test\", batch_size=-1)\n",
        "\n",
        "data_train = tfds.as_numpy(data_train)\n",
        "data_valid = tfds.as_numpy(data_valid)\n",
        "data_test = tfds.as_numpy(data_test)\n",
        "\n",
        "x_train, y_train = data_train[\"image\"], data_train[\"label\"]\n",
        "x_valid, y_valid = data_valid[\"image\"], data_valid[\"label\"]\n",
        "x_test, y_test = data_test[\"image\"], data_test[\"label\"]"
      ]
    },
    {
      "cell_type": "code",
      "execution_count": 5,
      "metadata": {
        "colab": {
          "base_uri": "https://localhost:8080/"
        },
        "id": "chXyQ76FeNcf",
        "outputId": "2b33d0d6-1d6c-4f96-d791-a461b1340c5a"
      },
      "outputs": [
        {
          "output_type": "execute_result",
          "data": {
            "text/plain": [
              "(1034, 500, 500, 3)"
            ]
          },
          "metadata": {},
          "execution_count": 5
        }
      ],
      "source": [
        "x_train.shape"
      ]
    },
    {
      "cell_type": "markdown",
      "metadata": {
        "id": "oMgHR0dUN6Jz"
      },
      "source": [
        "# LeNet"
      ]
    },
    {
      "cell_type": "markdown",
      "metadata": {
        "id": "Vw357HDMuxMT"
      },
      "source": [
        "## Model"
      ]
    },
    {
      "cell_type": "code",
      "execution_count": null,
      "metadata": {
        "id": "SEoZ7paXN7O1"
      },
      "outputs": [],
      "source": [
        "class LeNet(keras.Model):\n",
        "  def __init__(self, kernel_size=5, kernel_numbers = [6, 16, 120],\n",
        "               dropout_enable=False, l1_enable=False, l2_enable=False):\n",
        "    super().__init__()\n",
        "\n",
        "    self.model = Sequential()\n",
        "\n",
        "    self.model.add(Input((500, 500, 3,), name=\"Input\"))\n",
        "    \n",
        "    conv2D = Conv2D(kernel_numbers[0], kernel_size=kernel_size, strides=4,\n",
        "                    activation=\"tanh\", name=\"Conv1\", padding=\"same\")\n",
        "\n",
        "    if l1_enable:\n",
        "      conv2D.kernel_regularizer = l1()\n",
        "    elif l2_enable:\n",
        "      conv2D.kernel_regularizer = l2()\n",
        "    self.model.add(conv2D)\n",
        "\n",
        "    if dropout_enable:\n",
        "      self.model.add(Dropout(rate=0.5, name=\"Drop1\"))\n",
        "    \n",
        "    self.model.add(AveragePooling2D(pool_size=3, name=\"Pool1\"))\n",
        "    \n",
        "    conv2D = Conv2D(kernel_numbers[1], kernel_size=kernel_size, strides=4,\n",
        "                    activation=\"tanh\", name=\"Conv2\", padding=\"same\")\n",
        "\n",
        "    if l1_enable:\n",
        "      conv2D.kernel_regularizer = l1()\n",
        "    elif l2_enable:\n",
        "      conv2D.kernel_regularizer = l2()\n",
        "    self.model.add(conv2D)\n",
        "    \n",
        "    if dropout_enable:\n",
        "      self.model.add(Dropout(rate=0.5, name=\"Drop2\"))\n",
        "\n",
        "    self.model.add(AveragePooling2D(pool_size=3, name=\"Pool2\"))\n",
        "    conv2D = Conv2D(kernel_numbers[2], kernel_size=kernel_size, strides=3,\n",
        "                    activation=\"tanh\", name=\"Conv3\", padding=\"same\")\n",
        "\n",
        "    if l1_enable:\n",
        "      conv2D.kernel_regularizer = l1()\n",
        "    elif l2_enable:\n",
        "      conv2D.kernel_regularizer = l2()\n",
        "    self.model.add(conv2D)\n",
        "    \n",
        "    if dropout_enable:\n",
        "      self.model.add(Dropout(rate=0.5, name=\"Drop3\"))\n",
        "    \n",
        "    self.model.add(Flatten(name=\"Flat\"))\n",
        "    self.model.add(Dense(84, activation=\"tanh\", name=\"Dense\"))\n",
        "    self.model.add(Dense(3, activation=\"softmax\", name=\"Output\"))\n",
        "\n",
        "  def call(self, inputs):\n",
        "    return self.model.call(inputs)"
      ]
    },
    {
      "cell_type": "markdown",
      "metadata": {
        "id": "JBwnf_FrU_Mj"
      },
      "source": [
        "## Regularization Effect"
      ]
    },
    {
      "cell_type": "markdown",
      "metadata": {
        "id": "Z81OS4r8P6GP"
      },
      "source": [
        "### Without Regularization"
      ]
    },
    {
      "cell_type": "code",
      "execution_count": null,
      "metadata": {
        "id": "odplXd6VPd_n"
      },
      "outputs": [],
      "source": [
        "lenet = LeNet(kernel_size=5)\n",
        "es_callback = EarlyStopping(monitor=\"val_loss\", patience=4, restore_best_weights=True)\n",
        "lenet.compile(optimizer=\"adam\", loss=\"sparse_categorical_crossentropy\", metrics=[\"accuracy\"])"
      ]
    },
    {
      "cell_type": "code",
      "execution_count": null,
      "metadata": {
        "colab": {
          "base_uri": "https://localhost:8080/"
        },
        "id": "j-Va3EfAZ1V3",
        "outputId": "03f8df96-922e-4ffe-8663-0498880d56c5"
      },
      "outputs": [
        {
          "name": "stdout",
          "output_type": "stream",
          "text": [
            "Epoch 1/30\n",
            "33/33 [==============================] - 14s 404ms/step - loss: 1.0125 - accuracy: 0.4797 - val_loss: 0.8875 - val_accuracy: 0.6015\n",
            "Epoch 2/30\n",
            "33/33 [==============================] - 14s 439ms/step - loss: 0.9227 - accuracy: 0.5706 - val_loss: 0.8935 - val_accuracy: 0.5789\n",
            "Epoch 3/30\n",
            "33/33 [==============================] - 14s 425ms/step - loss: 0.8902 - accuracy: 0.5986 - val_loss: 0.8651 - val_accuracy: 0.6466\n",
            "Epoch 4/30\n",
            "33/33 [==============================] - 14s 420ms/step - loss: 0.8463 - accuracy: 0.6228 - val_loss: 0.8401 - val_accuracy: 0.5940\n",
            "Epoch 5/30\n",
            "33/33 [==============================] - 14s 416ms/step - loss: 0.8279 - accuracy: 0.6132 - val_loss: 0.9516 - val_accuracy: 0.5338\n",
            "Epoch 6/30\n",
            "33/33 [==============================] - 13s 381ms/step - loss: 0.8493 - accuracy: 0.6025 - val_loss: 0.8659 - val_accuracy: 0.5940\n",
            "Epoch 7/30\n",
            "33/33 [==============================] - 13s 388ms/step - loss: 0.8036 - accuracy: 0.6422 - val_loss: 0.8013 - val_accuracy: 0.6090\n",
            "Epoch 8/30\n",
            "33/33 [==============================] - 13s 383ms/step - loss: 0.7645 - accuracy: 0.6625 - val_loss: 0.7399 - val_accuracy: 0.6692\n",
            "Epoch 9/30\n",
            "33/33 [==============================] - 13s 381ms/step - loss: 0.7247 - accuracy: 0.6915 - val_loss: 0.7682 - val_accuracy: 0.6692\n",
            "Epoch 10/30\n",
            "33/33 [==============================] - 13s 381ms/step - loss: 0.7328 - accuracy: 0.6760 - val_loss: 0.7254 - val_accuracy: 0.7068\n",
            "Epoch 11/30\n",
            "33/33 [==============================] - 13s 386ms/step - loss: 0.7027 - accuracy: 0.6886 - val_loss: 0.7274 - val_accuracy: 0.6541\n",
            "Epoch 12/30\n",
            "33/33 [==============================] - 13s 382ms/step - loss: 0.6854 - accuracy: 0.7070 - val_loss: 0.7032 - val_accuracy: 0.7143\n",
            "Epoch 13/30\n",
            "33/33 [==============================] - 13s 381ms/step - loss: 0.6907 - accuracy: 0.6925 - val_loss: 0.7131 - val_accuracy: 0.6692\n",
            "Epoch 14/30\n",
            "33/33 [==============================] - 12s 379ms/step - loss: 0.6953 - accuracy: 0.6992 - val_loss: 0.7177 - val_accuracy: 0.6917\n",
            "Epoch 15/30\n",
            "33/33 [==============================] - 13s 403ms/step - loss: 0.6998 - accuracy: 0.6886 - val_loss: 0.7654 - val_accuracy: 0.6992\n",
            "Epoch 16/30\n",
            "33/33 [==============================] - 13s 379ms/step - loss: 0.6981 - accuracy: 0.6828 - val_loss: 0.7148 - val_accuracy: 0.6391\n"
          ]
        },
        {
          "data": {
            "text/plain": [
              "<keras.callbacks.History at 0x7f407bdfe990>"
            ]
          },
          "execution_count": 13,
          "metadata": {},
          "output_type": "execute_result"
        }
      ],
      "source": [
        "lenet.fit(x=x_train, y=y_train, validation_data=(x_valid, y_valid), epochs=30, callbacks=[es_callback])"
      ]
    },
    {
      "cell_type": "code",
      "execution_count": null,
      "metadata": {
        "colab": {
          "base_uri": "https://localhost:8080/"
        },
        "id": "EZhHoh6rhF7l",
        "outputId": "10b0144b-aee7-4cac-f988-e6245c578a3f"
      },
      "outputs": [
        {
          "name": "stdout",
          "output_type": "stream",
          "text": [
            "33/33 [==============================] - 7s 219ms/step - loss: 0.6673 - accuracy: 0.7244\n",
            "5/5 [==============================] - 1s 178ms/step - loss: 0.7032 - accuracy: 0.7143\n",
            "4/4 [==============================] - 1s 213ms/step - loss: 0.6803 - accuracy: 0.6875\n"
          ]
        },
        {
          "data": {
            "text/plain": [
              "[0.6803126931190491, 0.6875]"
            ]
          },
          "execution_count": 14,
          "metadata": {},
          "output_type": "execute_result"
        }
      ],
      "source": [
        "lenet.evaluate(x=x_train, y=y_train)\n",
        "lenet.evaluate(x=x_valid, y=y_valid)\n",
        "lenet.evaluate(x=x_test, y=y_test)"
      ]
    },
    {
      "cell_type": "markdown",
      "metadata": {
        "id": "mJYa7WcgQAUY"
      },
      "source": [
        "### Dropout Regularization"
      ]
    },
    {
      "cell_type": "code",
      "execution_count": null,
      "metadata": {
        "id": "dzGf0hbPP35t"
      },
      "outputs": [],
      "source": [
        "lenet = LeNet(dropout_enable=True)\n",
        "es_callback = EarlyStopping(monitor=\"val_loss\", patience=4, restore_best_weights=True)\n",
        "lenet.compile(optimizer=\"adam\", loss=\"sparse_categorical_crossentropy\", metrics=[\"accuracy\"])"
      ]
    },
    {
      "cell_type": "code",
      "execution_count": null,
      "metadata": {
        "colab": {
          "base_uri": "https://localhost:8080/"
        },
        "id": "SjIxbL_4QIyW",
        "outputId": "826b2674-7626-4eef-9023-e631efbc07c7"
      },
      "outputs": [
        {
          "name": "stdout",
          "output_type": "stream",
          "text": [
            "Epoch 1/30\n",
            "33/33 [==============================] - 15s 416ms/step - loss: 1.0481 - accuracy: 0.4429 - val_loss: 0.9382 - val_accuracy: 0.5414\n",
            "Epoch 2/30\n",
            "33/33 [==============================] - 14s 410ms/step - loss: 0.9198 - accuracy: 0.5629 - val_loss: 0.8080 - val_accuracy: 0.6617\n",
            "Epoch 3/30\n",
            "33/33 [==============================] - 14s 424ms/step - loss: 0.8493 - accuracy: 0.6141 - val_loss: 0.7799 - val_accuracy: 0.6617\n",
            "Epoch 4/30\n",
            "33/33 [==============================] - 15s 471ms/step - loss: 0.8576 - accuracy: 0.6151 - val_loss: 0.7649 - val_accuracy: 0.6541\n",
            "Epoch 5/30\n",
            "33/33 [==============================] - 15s 446ms/step - loss: 0.8101 - accuracy: 0.6422 - val_loss: 0.8076 - val_accuracy: 0.5940\n",
            "Epoch 6/30\n",
            "33/33 [==============================] - 16s 478ms/step - loss: 0.7936 - accuracy: 0.6509 - val_loss: 0.7112 - val_accuracy: 0.7218\n",
            "Epoch 7/30\n",
            "33/33 [==============================] - 15s 454ms/step - loss: 0.7518 - accuracy: 0.6683 - val_loss: 0.7306 - val_accuracy: 0.6391\n",
            "Epoch 8/30\n",
            "33/33 [==============================] - 17s 507ms/step - loss: 0.7756 - accuracy: 0.6480 - val_loss: 0.7585 - val_accuracy: 0.5940\n",
            "Epoch 9/30\n",
            "33/33 [==============================] - 14s 415ms/step - loss: 0.7624 - accuracy: 0.6692 - val_loss: 0.7086 - val_accuracy: 0.6767\n",
            "Epoch 10/30\n",
            "33/33 [==============================] - 14s 421ms/step - loss: 0.7517 - accuracy: 0.6760 - val_loss: 0.6774 - val_accuracy: 0.6917\n",
            "Epoch 11/30\n",
            "33/33 [==============================] - 14s 433ms/step - loss: 0.7248 - accuracy: 0.6692 - val_loss: 0.6617 - val_accuracy: 0.7218\n",
            "Epoch 12/30\n",
            "33/33 [==============================] - 16s 472ms/step - loss: 0.7463 - accuracy: 0.6731 - val_loss: 0.6541 - val_accuracy: 0.7444\n",
            "Epoch 13/30\n",
            "33/33 [==============================] - 15s 468ms/step - loss: 0.7590 - accuracy: 0.6422 - val_loss: 0.8213 - val_accuracy: 0.6391\n",
            "Epoch 14/30\n",
            "33/33 [==============================] - 15s 469ms/step - loss: 0.7369 - accuracy: 0.6702 - val_loss: 0.6625 - val_accuracy: 0.6692\n",
            "Epoch 15/30\n",
            "33/33 [==============================] - 15s 443ms/step - loss: 0.7227 - accuracy: 0.6779 - val_loss: 0.7247 - val_accuracy: 0.6015\n",
            "Epoch 16/30\n",
            "33/33 [==============================] - 14s 424ms/step - loss: 0.6969 - accuracy: 0.6905 - val_loss: 0.6294 - val_accuracy: 0.7143\n",
            "Epoch 17/30\n",
            "33/33 [==============================] - 15s 459ms/step - loss: 0.6686 - accuracy: 0.7108 - val_loss: 0.6247 - val_accuracy: 0.7594\n",
            "Epoch 18/30\n",
            "33/33 [==============================] - 15s 459ms/step - loss: 0.7021 - accuracy: 0.6973 - val_loss: 0.6256 - val_accuracy: 0.7218\n",
            "Epoch 19/30\n",
            "33/33 [==============================] - 14s 430ms/step - loss: 0.6788 - accuracy: 0.7041 - val_loss: 0.6222 - val_accuracy: 0.7368\n",
            "Epoch 20/30\n",
            "33/33 [==============================] - 14s 416ms/step - loss: 0.6871 - accuracy: 0.6983 - val_loss: 0.6388 - val_accuracy: 0.7519\n",
            "Epoch 21/30\n",
            "33/33 [==============================] - 14s 419ms/step - loss: 0.6616 - accuracy: 0.7166 - val_loss: 0.6348 - val_accuracy: 0.7218\n",
            "Epoch 22/30\n",
            "33/33 [==============================] - 14s 436ms/step - loss: 0.6598 - accuracy: 0.7137 - val_loss: 0.5797 - val_accuracy: 0.7594\n",
            "Epoch 23/30\n",
            "33/33 [==============================] - 14s 418ms/step - loss: 0.6748 - accuracy: 0.7002 - val_loss: 0.5813 - val_accuracy: 0.7444\n",
            "Epoch 24/30\n",
            "33/33 [==============================] - 14s 412ms/step - loss: 0.7067 - accuracy: 0.7031 - val_loss: 0.6456 - val_accuracy: 0.7218\n",
            "Epoch 25/30\n",
            "33/33 [==============================] - 14s 415ms/step - loss: 0.6346 - accuracy: 0.7321 - val_loss: 0.5866 - val_accuracy: 0.7444\n",
            "Epoch 26/30\n",
            "33/33 [==============================] - 14s 413ms/step - loss: 0.6536 - accuracy: 0.7060 - val_loss: 0.5864 - val_accuracy: 0.7293\n"
          ]
        },
        {
          "data": {
            "text/plain": [
              "<keras.callbacks.History at 0x7f407cc54d50>"
            ]
          },
          "execution_count": 16,
          "metadata": {},
          "output_type": "execute_result"
        }
      ],
      "source": [
        "lenet.fit(x=x_train, y=y_train, validation_data=(x_valid, y_valid), epochs=30, callbacks=[es_callback])"
      ]
    },
    {
      "cell_type": "code",
      "execution_count": null,
      "metadata": {
        "colab": {
          "base_uri": "https://localhost:8080/"
        },
        "id": "JEXBD-k3QLC4",
        "outputId": "3e328c53-2273-4730-e17f-cfd490f902fc"
      },
      "outputs": [
        {
          "name": "stdout",
          "output_type": "stream",
          "text": [
            "33/33 [==============================] - 7s 218ms/step - loss: 0.5860 - accuracy: 0.7524\n",
            "5/5 [==============================] - 1s 172ms/step - loss: 0.5797 - accuracy: 0.7594\n",
            "4/4 [==============================] - 1s 217ms/step - loss: 0.5852 - accuracy: 0.7109\n"
          ]
        },
        {
          "data": {
            "text/plain": [
              "[0.5852465033531189, 0.7109375]"
            ]
          },
          "execution_count": 17,
          "metadata": {},
          "output_type": "execute_result"
        }
      ],
      "source": [
        "lenet.evaluate(x=x_train, y=y_train)\n",
        "lenet.evaluate(x=x_valid, y=y_valid)\n",
        "lenet.evaluate(x=x_test, y=y_test)"
      ]
    },
    {
      "cell_type": "markdown",
      "metadata": {
        "id": "tiPHPtbCQnPD"
      },
      "source": [
        "### L1 Regularization"
      ]
    },
    {
      "cell_type": "code",
      "execution_count": null,
      "metadata": {
        "id": "ZFJcjirRQZQB"
      },
      "outputs": [],
      "source": [
        "lenet = LeNet(l1_enable=True)\n",
        "es_callback = EarlyStopping(monitor=\"val_loss\", patience=4, restore_best_weights=True)\n",
        "lenet.compile(optimizer=\"adam\", loss=\"sparse_categorical_crossentropy\", metrics=[\"accuracy\"])"
      ]
    },
    {
      "cell_type": "code",
      "execution_count": null,
      "metadata": {
        "colab": {
          "base_uri": "https://localhost:8080/"
        },
        "id": "J8uQDmnwQdVt",
        "outputId": "c4060bdd-3d73-4683-baf1-3df273114a06"
      },
      "outputs": [
        {
          "name": "stdout",
          "output_type": "stream",
          "text": [
            "Epoch 1/30\n",
            "33/33 [==============================] - 13s 387ms/step - loss: 7.2656 - accuracy: 0.4894 - val_loss: 3.2531 - val_accuracy: 0.5564\n",
            "Epoch 2/30\n",
            "33/33 [==============================] - 13s 383ms/step - loss: 2.4089 - accuracy: 0.5638 - val_loss: 1.8688 - val_accuracy: 0.5038\n",
            "Epoch 3/30\n",
            "33/33 [==============================] - 14s 417ms/step - loss: 1.6831 - accuracy: 0.5861 - val_loss: 1.4678 - val_accuracy: 0.5940\n",
            "Epoch 4/30\n",
            "33/33 [==============================] - 13s 383ms/step - loss: 1.3946 - accuracy: 0.6151 - val_loss: 1.2694 - val_accuracy: 0.6617\n",
            "Epoch 5/30\n",
            "33/33 [==============================] - 13s 384ms/step - loss: 1.2873 - accuracy: 0.6122 - val_loss: 1.2298 - val_accuracy: 0.6015\n",
            "Epoch 6/30\n",
            "33/33 [==============================] - 13s 381ms/step - loss: 1.2283 - accuracy: 0.6315 - val_loss: 1.1712 - val_accuracy: 0.6391\n",
            "Epoch 7/30\n",
            "33/33 [==============================] - 13s 382ms/step - loss: 1.2052 - accuracy: 0.6151 - val_loss: 1.1398 - val_accuracy: 0.6391\n",
            "Epoch 8/30\n",
            "33/33 [==============================] - 13s 383ms/step - loss: 1.1478 - accuracy: 0.6335 - val_loss: 1.1191 - val_accuracy: 0.6165\n",
            "Epoch 9/30\n",
            "33/33 [==============================] - 13s 383ms/step - loss: 1.1332 - accuracy: 0.6170 - val_loss: 1.1014 - val_accuracy: 0.6241\n",
            "Epoch 10/30\n",
            "33/33 [==============================] - 13s 383ms/step - loss: 1.1149 - accuracy: 0.6296 - val_loss: 1.0366 - val_accuracy: 0.6692\n",
            "Epoch 11/30\n",
            "33/33 [==============================] - 13s 383ms/step - loss: 1.0701 - accuracy: 0.6586 - val_loss: 1.0451 - val_accuracy: 0.6241\n",
            "Epoch 12/30\n",
            "33/33 [==============================] - 13s 384ms/step - loss: 1.0970 - accuracy: 0.6393 - val_loss: 1.0321 - val_accuracy: 0.6466\n",
            "Epoch 13/30\n",
            "33/33 [==============================] - 13s 382ms/step - loss: 1.1009 - accuracy: 0.6306 - val_loss: 1.0978 - val_accuracy: 0.6541\n",
            "Epoch 14/30\n",
            "33/33 [==============================] - 13s 382ms/step - loss: 1.0778 - accuracy: 0.6470 - val_loss: 1.0136 - val_accuracy: 0.6617\n",
            "Epoch 15/30\n",
            "33/33 [==============================] - 13s 381ms/step - loss: 1.0725 - accuracy: 0.6451 - val_loss: 1.0109 - val_accuracy: 0.6466\n",
            "Epoch 16/30\n",
            "33/33 [==============================] - 13s 382ms/step - loss: 1.0594 - accuracy: 0.6470 - val_loss: 0.9963 - val_accuracy: 0.6842\n",
            "Epoch 17/30\n",
            "33/33 [==============================] - 13s 382ms/step - loss: 1.0689 - accuracy: 0.6402 - val_loss: 1.0399 - val_accuracy: 0.6767\n",
            "Epoch 18/30\n",
            "33/33 [==============================] - 13s 383ms/step - loss: 1.0719 - accuracy: 0.6422 - val_loss: 1.0031 - val_accuracy: 0.6767\n",
            "Epoch 19/30\n",
            "33/33 [==============================] - 13s 380ms/step - loss: 1.0570 - accuracy: 0.6364 - val_loss: 0.9954 - val_accuracy: 0.6466\n",
            "Epoch 20/30\n",
            "33/33 [==============================] - 13s 383ms/step - loss: 1.0308 - accuracy: 0.6431 - val_loss: 0.9720 - val_accuracy: 0.6316\n",
            "Epoch 21/30\n",
            "33/33 [==============================] - 13s 382ms/step - loss: 1.0208 - accuracy: 0.6528 - val_loss: 1.0022 - val_accuracy: 0.6541\n",
            "Epoch 22/30\n",
            "33/33 [==============================] - 13s 384ms/step - loss: 1.0812 - accuracy: 0.6248 - val_loss: 1.0293 - val_accuracy: 0.6541\n",
            "Epoch 23/30\n",
            "33/33 [==============================] - 13s 382ms/step - loss: 1.0300 - accuracy: 0.6605 - val_loss: 0.9867 - val_accuracy: 0.6241\n",
            "Epoch 24/30\n",
            "33/33 [==============================] - 13s 382ms/step - loss: 1.0151 - accuracy: 0.6489 - val_loss: 0.9518 - val_accuracy: 0.6466\n",
            "Epoch 25/30\n",
            "33/33 [==============================] - 13s 381ms/step - loss: 1.0078 - accuracy: 0.6489 - val_loss: 0.9852 - val_accuracy: 0.6541\n",
            "Epoch 26/30\n",
            "33/33 [==============================] - 13s 383ms/step - loss: 0.9974 - accuracy: 0.6499 - val_loss: 0.9535 - val_accuracy: 0.6391\n",
            "Epoch 27/30\n",
            "33/33 [==============================] - 13s 384ms/step - loss: 0.9845 - accuracy: 0.6499 - val_loss: 0.9580 - val_accuracy: 0.6842\n",
            "Epoch 28/30\n",
            "33/33 [==============================] - 13s 381ms/step - loss: 0.9925 - accuracy: 0.6460 - val_loss: 0.9548 - val_accuracy: 0.6767\n"
          ]
        },
        {
          "data": {
            "text/plain": [
              "<keras.callbacks.History at 0x7f407c973390>"
            ]
          },
          "execution_count": 19,
          "metadata": {},
          "output_type": "execute_result"
        }
      ],
      "source": [
        "lenet.fit(x=x_train, y=y_train, validation_data=(x_valid, y_valid), epochs=30, callbacks=[es_callback])"
      ]
    },
    {
      "cell_type": "code",
      "execution_count": null,
      "metadata": {
        "colab": {
          "base_uri": "https://localhost:8080/"
        },
        "id": "vc7x0qLZQedh",
        "outputId": "4fee7a2e-32a0-4af1-f5ca-644c036134ee"
      },
      "outputs": [
        {
          "name": "stdout",
          "output_type": "stream",
          "text": [
            "33/33 [==============================] - 7s 219ms/step - loss: 0.9985 - accuracy: 0.6460\n",
            "5/5 [==============================] - 1s 174ms/step - loss: 0.9518 - accuracy: 0.6466\n",
            "4/4 [==============================] - 1s 222ms/step - loss: 0.9490 - accuracy: 0.6484\n"
          ]
        },
        {
          "data": {
            "text/plain": [
              "[0.9490329027175903, 0.6484375]"
            ]
          },
          "execution_count": 20,
          "metadata": {},
          "output_type": "execute_result"
        }
      ],
      "source": [
        "lenet.evaluate(x=x_train, y=y_train)\n",
        "lenet.evaluate(x=x_valid, y=y_valid)\n",
        "lenet.evaluate(x=x_test, y=y_test)"
      ]
    },
    {
      "cell_type": "markdown",
      "metadata": {
        "id": "KcPCPv8SQq-V"
      },
      "source": [
        "### L2 Regularization"
      ]
    },
    {
      "cell_type": "code",
      "execution_count": null,
      "metadata": {
        "id": "fAURBuO1QgSp"
      },
      "outputs": [],
      "source": [
        "lenet = LeNet(l2_enable=True)\n",
        "es_callback = EarlyStopping(monitor=\"val_loss\", patience=4, restore_best_weights=True)\n",
        "lenet.compile(optimizer=\"adam\", loss=\"sparse_categorical_crossentropy\", metrics=[\"accuracy\"])"
      ]
    },
    {
      "cell_type": "code",
      "execution_count": null,
      "metadata": {
        "colab": {
          "base_uri": "https://localhost:8080/"
        },
        "id": "Hah0qSDQQiSO",
        "outputId": "df2724e3-81ea-4945-a5e4-45935921cb09"
      },
      "outputs": [
        {
          "name": "stdout",
          "output_type": "stream",
          "text": [
            "Epoch 1/30\n",
            "33/33 [==============================] - 13s 389ms/step - loss: 1.2680 - accuracy: 0.5000 - val_loss: 1.0991 - val_accuracy: 0.5940\n",
            "Epoch 2/30\n",
            "33/33 [==============================] - 13s 383ms/step - loss: 1.0111 - accuracy: 0.6431 - val_loss: 0.9281 - val_accuracy: 0.6391\n",
            "Epoch 3/30\n",
            "33/33 [==============================] - 13s 382ms/step - loss: 0.9348 - accuracy: 0.6654 - val_loss: 0.8840 - val_accuracy: 0.6466\n",
            "Epoch 4/30\n",
            "33/33 [==============================] - 13s 382ms/step - loss: 0.9021 - accuracy: 0.6702 - val_loss: 0.8489 - val_accuracy: 0.6992\n",
            "Epoch 5/30\n",
            "33/33 [==============================] - 13s 383ms/step - loss: 0.8768 - accuracy: 0.6789 - val_loss: 0.8689 - val_accuracy: 0.7068\n",
            "Epoch 6/30\n",
            "33/33 [==============================] - 13s 383ms/step - loss: 0.8787 - accuracy: 0.6576 - val_loss: 0.8474 - val_accuracy: 0.6391\n",
            "Epoch 7/30\n",
            "33/33 [==============================] - 13s 384ms/step - loss: 0.8494 - accuracy: 0.6799 - val_loss: 0.8233 - val_accuracy: 0.6992\n",
            "Epoch 8/30\n",
            "33/33 [==============================] - 13s 384ms/step - loss: 0.8713 - accuracy: 0.6576 - val_loss: 0.8428 - val_accuracy: 0.6466\n",
            "Epoch 9/30\n",
            "33/33 [==============================] - 13s 384ms/step - loss: 0.8445 - accuracy: 0.6818 - val_loss: 0.8924 - val_accuracy: 0.6015\n",
            "Epoch 10/30\n",
            "33/33 [==============================] - 13s 385ms/step - loss: 0.8236 - accuracy: 0.6673 - val_loss: 0.8485 - val_accuracy: 0.6842\n",
            "Epoch 11/30\n",
            "33/33 [==============================] - 13s 383ms/step - loss: 0.8240 - accuracy: 0.6905 - val_loss: 0.8484 - val_accuracy: 0.6917\n"
          ]
        },
        {
          "data": {
            "text/plain": [
              "<keras.callbacks.History at 0x7f407c637510>"
            ]
          },
          "execution_count": 22,
          "metadata": {},
          "output_type": "execute_result"
        }
      ],
      "source": [
        "lenet.fit(x=x_train, y=y_train, validation_data=(x_valid, y_valid), epochs=30, callbacks=[es_callback])"
      ]
    },
    {
      "cell_type": "code",
      "execution_count": null,
      "metadata": {
        "colab": {
          "base_uri": "https://localhost:8080/"
        },
        "id": "eBQKRHdCQk5O",
        "outputId": "3c3dd8d2-5689-442f-dc0a-7c5d94ae35e0"
      },
      "outputs": [
        {
          "name": "stdout",
          "output_type": "stream",
          "text": [
            "33/33 [==============================] - 7s 216ms/step - loss: 0.8206 - accuracy: 0.6818\n",
            "5/5 [==============================] - 1s 172ms/step - loss: 0.8233 - accuracy: 0.6992\n",
            "4/4 [==============================] - 1s 219ms/step - loss: 0.7910 - accuracy: 0.6797\n"
          ]
        },
        {
          "data": {
            "text/plain": [
              "[0.7909947037696838, 0.6796875]"
            ]
          },
          "execution_count": 23,
          "metadata": {},
          "output_type": "execute_result"
        }
      ],
      "source": [
        "lenet.evaluate(x=x_train, y=y_train)\n",
        "lenet.evaluate(x=x_valid, y=y_valid)\n",
        "lenet.evaluate(x=x_test, y=y_test)"
      ]
    },
    {
      "cell_type": "markdown",
      "metadata": {
        "id": "XjaZf_08RENI"
      },
      "source": [
        "## Kernel Size Effect"
      ]
    },
    {
      "cell_type": "code",
      "execution_count": null,
      "metadata": {
        "colab": {
          "base_uri": "https://localhost:8080/"
        },
        "id": "DUMQQgTBRX6v",
        "outputId": "a12da2d7-56b8-4062-e1cd-1d39c49b1ccf"
      },
      "outputs": [
        {
          "name": "stdout",
          "output_type": "stream",
          "text": [
            "kernel size = 5\n",
            "Epoch 1/30\n",
            "33/33 [==============================] - 13s 385ms/step - loss: 0.9760 - accuracy: 0.4913 - val_loss: 0.7929 - val_accuracy: 0.6015\n",
            "Epoch 2/30\n",
            "33/33 [==============================] - 13s 380ms/step - loss: 0.8182 - accuracy: 0.5996 - val_loss: 0.7611 - val_accuracy: 0.6617\n",
            "Epoch 3/30\n",
            "33/33 [==============================] - 12s 379ms/step - loss: 0.7611 - accuracy: 0.6596 - val_loss: 0.7812 - val_accuracy: 0.6992\n",
            "Epoch 4/30\n",
            "33/33 [==============================] - 12s 378ms/step - loss: 0.7456 - accuracy: 0.6518 - val_loss: 0.6878 - val_accuracy: 0.7068\n",
            "Epoch 5/30\n",
            "33/33 [==============================] - 13s 380ms/step - loss: 0.7325 - accuracy: 0.6702 - val_loss: 0.6722 - val_accuracy: 0.6992\n",
            "Epoch 6/30\n",
            "33/33 [==============================] - 12s 378ms/step - loss: 0.7154 - accuracy: 0.6809 - val_loss: 0.6972 - val_accuracy: 0.6917\n",
            "Epoch 7/30\n",
            "33/33 [==============================] - 12s 379ms/step - loss: 0.6870 - accuracy: 0.7021 - val_loss: 0.6652 - val_accuracy: 0.7143\n",
            "Epoch 8/30\n",
            "33/33 [==============================] - 12s 379ms/step - loss: 0.6540 - accuracy: 0.7021 - val_loss: 0.6796 - val_accuracy: 0.6917\n",
            "Epoch 9/30\n",
            "33/33 [==============================] - 13s 380ms/step - loss: 0.6578 - accuracy: 0.7186 - val_loss: 0.6509 - val_accuracy: 0.6617\n",
            "Epoch 10/30\n",
            "33/33 [==============================] - 13s 381ms/step - loss: 0.6673 - accuracy: 0.7118 - val_loss: 0.8339 - val_accuracy: 0.6241\n",
            "Epoch 11/30\n",
            "33/33 [==============================] - 12s 379ms/step - loss: 0.7006 - accuracy: 0.6963 - val_loss: 0.6629 - val_accuracy: 0.6767\n",
            "Epoch 12/30\n",
            "33/33 [==============================] - 13s 381ms/step - loss: 0.6290 - accuracy: 0.7311 - val_loss: 0.6235 - val_accuracy: 0.7068\n",
            "Epoch 13/30\n",
            "33/33 [==============================] - 12s 379ms/step - loss: 0.6273 - accuracy: 0.7215 - val_loss: 0.6620 - val_accuracy: 0.6842\n",
            "Epoch 14/30\n",
            "33/33 [==============================] - 13s 380ms/step - loss: 0.6005 - accuracy: 0.7408 - val_loss: 0.6701 - val_accuracy: 0.7068\n",
            "Epoch 15/30\n",
            "33/33 [==============================] - 13s 382ms/step - loss: 0.6425 - accuracy: 0.7108 - val_loss: 0.6705 - val_accuracy: 0.6992\n",
            "Epoch 16/30\n",
            "33/33 [==============================] - 13s 381ms/step - loss: 0.6431 - accuracy: 0.7224 - val_loss: 0.6348 - val_accuracy: 0.6917\n",
            "33/33 [==============================] - 7s 215ms/step - loss: 0.5875 - accuracy: 0.7485\n",
            "5/5 [==============================] - 1s 174ms/step - loss: 0.6235 - accuracy: 0.7068\n",
            "4/4 [==============================] - 1s 215ms/step - loss: 0.6660 - accuracy: 0.7031\n",
            "kernel size = 7\n",
            "Epoch 1/30\n",
            "33/33 [==============================] - 19s 561ms/step - loss: 1.1329 - accuracy: 0.3559 - val_loss: 1.0048 - val_accuracy: 0.5639\n",
            "Epoch 2/30\n",
            "33/33 [==============================] - 18s 559ms/step - loss: 0.9649 - accuracy: 0.5126 - val_loss: 0.8723 - val_accuracy: 0.5865\n",
            "Epoch 3/30\n",
            "33/33 [==============================] - 18s 557ms/step - loss: 0.8346 - accuracy: 0.5967 - val_loss: 0.7942 - val_accuracy: 0.6015\n",
            "Epoch 4/30\n",
            "33/33 [==============================] - 18s 553ms/step - loss: 0.7665 - accuracy: 0.6480 - val_loss: 0.7413 - val_accuracy: 0.5865\n",
            "Epoch 5/30\n",
            "33/33 [==============================] - 18s 554ms/step - loss: 0.7445 - accuracy: 0.6586 - val_loss: 0.7252 - val_accuracy: 0.6767\n",
            "Epoch 6/30\n",
            "33/33 [==============================] - 18s 555ms/step - loss: 0.7510 - accuracy: 0.6702 - val_loss: 0.7288 - val_accuracy: 0.6617\n",
            "Epoch 7/30\n",
            "33/33 [==============================] - 18s 555ms/step - loss: 0.7425 - accuracy: 0.6644 - val_loss: 0.6914 - val_accuracy: 0.6617\n",
            "Epoch 8/30\n",
            "33/33 [==============================] - 18s 556ms/step - loss: 0.7135 - accuracy: 0.6741 - val_loss: 0.7509 - val_accuracy: 0.6692\n",
            "Epoch 9/30\n",
            "33/33 [==============================] - 18s 554ms/step - loss: 0.7447 - accuracy: 0.6567 - val_loss: 0.7025 - val_accuracy: 0.6466\n",
            "Epoch 10/30\n",
            "33/33 [==============================] - 18s 556ms/step - loss: 0.7292 - accuracy: 0.6644 - val_loss: 0.7473 - val_accuracy: 0.6316\n",
            "Epoch 11/30\n",
            "33/33 [==============================] - 18s 557ms/step - loss: 0.7018 - accuracy: 0.6760 - val_loss: 0.7144 - val_accuracy: 0.6617\n",
            "33/33 [==============================] - 9s 282ms/step - loss: 0.6994 - accuracy: 0.6847\n",
            "5/5 [==============================] - 1s 225ms/step - loss: 0.6914 - accuracy: 0.6617\n",
            "4/4 [==============================] - 1s 286ms/step - loss: 0.6855 - accuracy: 0.7031\n",
            "kernel size = 9\n",
            "Epoch 1/30\n",
            "33/33 [==============================] - 29s 880ms/step - loss: 0.9452 - accuracy: 0.5222 - val_loss: 0.7971 - val_accuracy: 0.6015\n",
            "Epoch 2/30\n",
            "33/33 [==============================] - 29s 878ms/step - loss: 0.8381 - accuracy: 0.5996 - val_loss: 0.7891 - val_accuracy: 0.6165\n",
            "Epoch 3/30\n",
            "33/33 [==============================] - 29s 880ms/step - loss: 0.7734 - accuracy: 0.6373 - val_loss: 1.1259 - val_accuracy: 0.5038\n",
            "Epoch 4/30\n",
            "33/33 [==============================] - 29s 876ms/step - loss: 0.7834 - accuracy: 0.6306 - val_loss: 0.6895 - val_accuracy: 0.6767\n",
            "Epoch 5/30\n",
            "33/33 [==============================] - 29s 878ms/step - loss: 0.7180 - accuracy: 0.6847 - val_loss: 0.7422 - val_accuracy: 0.6316\n",
            "Epoch 6/30\n",
            "33/33 [==============================] - 29s 875ms/step - loss: 0.7257 - accuracy: 0.6605 - val_loss: 0.7451 - val_accuracy: 0.6917\n",
            "Epoch 7/30\n",
            "33/33 [==============================] - 29s 877ms/step - loss: 0.7331 - accuracy: 0.6644 - val_loss: 0.7713 - val_accuracy: 0.6541\n",
            "Epoch 8/30\n",
            "33/33 [==============================] - 29s 880ms/step - loss: 0.7169 - accuracy: 0.6605 - val_loss: 0.7077 - val_accuracy: 0.6917\n",
            "33/33 [==============================] - 11s 337ms/step - loss: 0.6913 - accuracy: 0.6857\n",
            "5/5 [==============================] - 1s 269ms/step - loss: 0.6895 - accuracy: 0.6767\n",
            "4/4 [==============================] - 2s 344ms/step - loss: 0.6725 - accuracy: 0.6562\n"
          ]
        }
      ],
      "source": [
        "for kernel_size in [5, 7, 9]:\n",
        "  print(f\"kernel size = {kernel_size}\")\n",
        "  lenet = LeNet(kernel_size=kernel_size)\n",
        "  es_callback = EarlyStopping(monitor=\"val_loss\", patience=4, restore_best_weights=True)\n",
        "  lenet.compile(optimizer=\"adam\", loss=\"sparse_categorical_crossentropy\", metrics=[\"accuracy\"])\n",
        "\n",
        "  lenet.fit(x=x_train, y=y_train, validation_data=(x_valid, y_valid), epochs=30, callbacks=[es_callback])\n",
        "\n",
        "  lenet.evaluate(x=x_train, y=y_train)\n",
        "  lenet.evaluate(x=x_valid, y=y_valid)\n",
        "  lenet.evaluate(x=x_test, y=y_test)"
      ]
    },
    {
      "cell_type": "markdown",
      "metadata": {
        "id": "_GS7LTfZRvuO"
      },
      "source": [
        "## Kernel Number Effect"
      ]
    },
    {
      "cell_type": "code",
      "execution_count": null,
      "metadata": {
        "colab": {
          "base_uri": "https://localhost:8080/"
        },
        "id": "SjE5racrRvFD",
        "outputId": "2aab017a-2fb7-47d2-8a4b-9d0945b28c94"
      },
      "outputs": [
        {
          "name": "stdout",
          "output_type": "stream",
          "text": [
            "kernel numbers = [3, 10, 40]\n",
            "Epoch 1/30\n",
            "33/33 [==============================] - 14s 425ms/step - loss: 1.0414 - accuracy: 0.4594 - val_loss: 0.8754 - val_accuracy: 0.5865\n",
            "Epoch 2/30\n",
            "33/33 [==============================] - 12s 371ms/step - loss: 0.8532 - accuracy: 0.5948 - val_loss: 0.7496 - val_accuracy: 0.6617\n",
            "Epoch 3/30\n",
            "33/33 [==============================] - 12s 371ms/step - loss: 0.7816 - accuracy: 0.6518 - val_loss: 0.7181 - val_accuracy: 0.6692\n",
            "Epoch 4/30\n",
            "33/33 [==============================] - 12s 370ms/step - loss: 0.7376 - accuracy: 0.6673 - val_loss: 0.7553 - val_accuracy: 0.6391\n",
            "Epoch 5/30\n",
            "33/33 [==============================] - 12s 372ms/step - loss: 0.7968 - accuracy: 0.6364 - val_loss: 0.7713 - val_accuracy: 0.6241\n",
            "Epoch 6/30\n",
            "33/33 [==============================] - 12s 373ms/step - loss: 0.7783 - accuracy: 0.6518 - val_loss: 0.7504 - val_accuracy: 0.6090\n",
            "Epoch 7/30\n",
            "33/33 [==============================] - 12s 370ms/step - loss: 0.7623 - accuracy: 0.6528 - val_loss: 0.7288 - val_accuracy: 0.6316\n",
            "33/33 [==============================] - 7s 208ms/step - loss: 0.7363 - accuracy: 0.6750\n",
            "5/5 [==============================] - 1s 169ms/step - loss: 0.7181 - accuracy: 0.6692\n",
            "4/4 [==============================] - 1s 210ms/step - loss: 0.7145 - accuracy: 0.6953\n",
            "kernel numbers = [6, 16, 120]\n",
            "Epoch 1/30\n",
            "33/33 [==============================] - 14s 395ms/step - loss: 1.0472 - accuracy: 0.4439 - val_loss: 0.8960 - val_accuracy: 0.6165\n",
            "Epoch 2/30\n",
            "33/33 [==============================] - 13s 390ms/step - loss: 0.8565 - accuracy: 0.6025 - val_loss: 0.7515 - val_accuracy: 0.7218\n",
            "Epoch 3/30\n",
            "33/33 [==============================] - 13s 391ms/step - loss: 0.7784 - accuracy: 0.6480 - val_loss: 0.7349 - val_accuracy: 0.6842\n",
            "Epoch 4/30\n",
            "33/33 [==============================] - 13s 390ms/step - loss: 0.7648 - accuracy: 0.6809 - val_loss: 0.7724 - val_accuracy: 0.6842\n",
            "Epoch 5/30\n",
            "33/33 [==============================] - 13s 390ms/step - loss: 0.7979 - accuracy: 0.6460 - val_loss: 0.7552 - val_accuracy: 0.6391\n",
            "Epoch 6/30\n",
            "33/33 [==============================] - 13s 400ms/step - loss: 0.7335 - accuracy: 0.6857 - val_loss: 0.7149 - val_accuracy: 0.6992\n",
            "Epoch 7/30\n",
            "33/33 [==============================] - 13s 389ms/step - loss: 0.7294 - accuracy: 0.6731 - val_loss: 0.6902 - val_accuracy: 0.6466\n",
            "Epoch 8/30\n",
            "33/33 [==============================] - 13s 391ms/step - loss: 0.7213 - accuracy: 0.6847 - val_loss: 0.7107 - val_accuracy: 0.6917\n",
            "Epoch 9/30\n",
            "33/33 [==============================] - 13s 389ms/step - loss: 0.7385 - accuracy: 0.6847 - val_loss: 0.6926 - val_accuracy: 0.7068\n",
            "Epoch 10/30\n",
            "33/33 [==============================] - 13s 389ms/step - loss: 0.7197 - accuracy: 0.6934 - val_loss: 0.7328 - val_accuracy: 0.6692\n",
            "Epoch 11/30\n",
            "33/33 [==============================] - 13s 389ms/step - loss: 0.6969 - accuracy: 0.6905 - val_loss: 0.6586 - val_accuracy: 0.7218\n",
            "Epoch 12/30\n",
            "33/33 [==============================] - 13s 391ms/step - loss: 0.6818 - accuracy: 0.6925 - val_loss: 0.7217 - val_accuracy: 0.6391\n",
            "Epoch 13/30\n",
            "33/33 [==============================] - 13s 391ms/step - loss: 0.6686 - accuracy: 0.7089 - val_loss: 0.6549 - val_accuracy: 0.7444\n",
            "Epoch 14/30\n",
            "33/33 [==============================] - 13s 391ms/step - loss: 0.6851 - accuracy: 0.6973 - val_loss: 0.6555 - val_accuracy: 0.7519\n",
            "Epoch 15/30\n",
            "33/33 [==============================] - 13s 389ms/step - loss: 0.6536 - accuracy: 0.7215 - val_loss: 0.6260 - val_accuracy: 0.7218\n",
            "Epoch 16/30\n",
            "33/33 [==============================] - 13s 391ms/step - loss: 0.6671 - accuracy: 0.7118 - val_loss: 0.7540 - val_accuracy: 0.6241\n",
            "Epoch 17/30\n",
            "33/33 [==============================] - 13s 390ms/step - loss: 0.6864 - accuracy: 0.7002 - val_loss: 0.6896 - val_accuracy: 0.6917\n",
            "Epoch 18/30\n",
            "33/33 [==============================] - 13s 389ms/step - loss: 0.6350 - accuracy: 0.7263 - val_loss: 0.6548 - val_accuracy: 0.6917\n",
            "Epoch 19/30\n",
            "33/33 [==============================] - 13s 390ms/step - loss: 0.6260 - accuracy: 0.7273 - val_loss: 0.6320 - val_accuracy: 0.6992\n",
            "33/33 [==============================] - 7s 221ms/step - loss: 0.6273 - accuracy: 0.7234\n",
            "5/5 [==============================] - 1s 172ms/step - loss: 0.6260 - accuracy: 0.7218\n",
            "4/4 [==============================] - 1s 222ms/step - loss: 0.6434 - accuracy: 0.6797\n",
            "kernel numbers = [10, 40, 300]\n",
            "Epoch 1/30\n",
            "33/33 [==============================] - 12s 335ms/step - loss: 0.9117 - accuracy: 0.5832 - val_loss: 0.9614 - val_accuracy: 0.5263\n",
            "Epoch 2/30\n",
            "33/33 [==============================] - 11s 330ms/step - loss: 0.8558 - accuracy: 0.5967 - val_loss: 0.7750 - val_accuracy: 0.6165\n",
            "Epoch 3/30\n",
            "33/33 [==============================] - 11s 331ms/step - loss: 0.8103 - accuracy: 0.6344 - val_loss: 0.7728 - val_accuracy: 0.6842\n",
            "Epoch 4/30\n",
            "33/33 [==============================] - 11s 330ms/step - loss: 0.7891 - accuracy: 0.6412 - val_loss: 0.7537 - val_accuracy: 0.7293\n",
            "Epoch 5/30\n",
            "33/33 [==============================] - 11s 330ms/step - loss: 0.7253 - accuracy: 0.6818 - val_loss: 0.6759 - val_accuracy: 0.6842\n",
            "Epoch 6/30\n",
            "33/33 [==============================] - 11s 330ms/step - loss: 0.7598 - accuracy: 0.6721 - val_loss: 0.6933 - val_accuracy: 0.6917\n",
            "Epoch 7/30\n",
            "33/33 [==============================] - 11s 331ms/step - loss: 0.7261 - accuracy: 0.6615 - val_loss: 0.7076 - val_accuracy: 0.6541\n",
            "Epoch 8/30\n",
            "33/33 [==============================] - 11s 331ms/step - loss: 0.6817 - accuracy: 0.6963 - val_loss: 0.6075 - val_accuracy: 0.7218\n",
            "Epoch 9/30\n",
            "33/33 [==============================] - 11s 330ms/step - loss: 0.6826 - accuracy: 0.7060 - val_loss: 0.6073 - val_accuracy: 0.7444\n",
            "Epoch 10/30\n",
            "33/33 [==============================] - 11s 331ms/step - loss: 0.6418 - accuracy: 0.7176 - val_loss: 0.6439 - val_accuracy: 0.6617\n",
            "Epoch 11/30\n",
            "33/33 [==============================] - 11s 330ms/step - loss: 0.6280 - accuracy: 0.7215 - val_loss: 0.6406 - val_accuracy: 0.7368\n",
            "Epoch 12/30\n",
            "33/33 [==============================] - 11s 332ms/step - loss: 0.5868 - accuracy: 0.7340 - val_loss: 0.5721 - val_accuracy: 0.7669\n",
            "Epoch 13/30\n",
            "33/33 [==============================] - 11s 331ms/step - loss: 0.5474 - accuracy: 0.7631 - val_loss: 0.7272 - val_accuracy: 0.6842\n",
            "Epoch 14/30\n",
            "33/33 [==============================] - 11s 331ms/step - loss: 0.5898 - accuracy: 0.7331 - val_loss: 0.6265 - val_accuracy: 0.7669\n",
            "Epoch 15/30\n",
            "33/33 [==============================] - 11s 331ms/step - loss: 0.5566 - accuracy: 0.7602 - val_loss: 0.5609 - val_accuracy: 0.7970\n",
            "Epoch 16/30\n",
            "33/33 [==============================] - 11s 330ms/step - loss: 0.5234 - accuracy: 0.7689 - val_loss: 0.5827 - val_accuracy: 0.7293\n",
            "Epoch 17/30\n",
            "33/33 [==============================] - 11s 332ms/step - loss: 0.5034 - accuracy: 0.7901 - val_loss: 0.6350 - val_accuracy: 0.6842\n",
            "Epoch 18/30\n",
            "33/33 [==============================] - 11s 331ms/step - loss: 0.4989 - accuracy: 0.7824 - val_loss: 0.5722 - val_accuracy: 0.7444\n",
            "Epoch 19/30\n",
            "33/33 [==============================] - 11s 331ms/step - loss: 0.4596 - accuracy: 0.8133 - val_loss: 0.6073 - val_accuracy: 0.7143\n",
            "33/33 [==============================] - 5s 142ms/step - loss: 0.4716 - accuracy: 0.8037\n",
            "5/5 [==============================] - 1s 113ms/step - loss: 0.5609 - accuracy: 0.7970\n",
            "4/4 [==============================] - 1s 141ms/step - loss: 0.5447 - accuracy: 0.7500\n"
          ]
        }
      ],
      "source": [
        "for kernel_numbers in [\n",
        "                       [3, 10, 40],\n",
        "                       [6, 16, 120],\n",
        "                       [10, 40, 300]]:\n",
        "\n",
        "  print(f\"kernel numbers = {kernel_numbers}\")\n",
        "  lenet = LeNet(kernel_numbers=kernel_numbers)\n",
        "  es_callback = EarlyStopping(monitor=\"val_loss\", patience=4, restore_best_weights=True)\n",
        "  lenet.compile(optimizer=\"adam\", loss=\"sparse_categorical_crossentropy\", metrics=[\"accuracy\"])\n",
        "\n",
        "  lenet.fit(x=x_train, y=y_train, validation_data=(x_valid, y_valid), epochs=30, callbacks=[es_callback])\n",
        "\n",
        "  lenet.evaluate(x=x_train, y=y_train)\n",
        "  lenet.evaluate(x=x_valid, y=y_valid)\n",
        "  lenet.evaluate(x=x_test, y=y_test)"
      ]
    },
    {
      "cell_type": "markdown",
      "metadata": {
        "id": "k1Qyxzv9uqwk"
      },
      "source": [
        "## Best Setting"
      ]
    },
    {
      "cell_type": "code",
      "execution_count": null,
      "metadata": {
        "id": "Om38hL9-wXDL"
      },
      "outputs": [],
      "source": [
        ""
      ]
    },
    {
      "cell_type": "code",
      "execution_count": null,
      "metadata": {
        "colab": {
          "base_uri": "https://localhost:8080/"
        },
        "id": "AVHY4o09SXib",
        "outputId": "18d9676c-426d-41d5-9ad6-51264cf0672f"
      },
      "outputs": [
        {
          "name": "stdout",
          "output_type": "stream",
          "text": [
            "Epoch 1/30\n",
            "33/33 [==============================] - 14s 399ms/step - loss: 0.9390 - accuracy: 0.5532 - val_loss: 0.7473 - val_accuracy: 0.7068\n",
            "Epoch 2/30\n",
            "33/33 [==============================] - 13s 385ms/step - loss: 0.7935 - accuracy: 0.6499 - val_loss: 0.7326 - val_accuracy: 0.6617\n",
            "Epoch 3/30\n",
            "33/33 [==============================] - 13s 387ms/step - loss: 0.7805 - accuracy: 0.6489 - val_loss: 0.6819 - val_accuracy: 0.6767\n",
            "Epoch 4/30\n",
            "33/33 [==============================] - 13s 385ms/step - loss: 0.7824 - accuracy: 0.6480 - val_loss: 0.6740 - val_accuracy: 0.6992\n",
            "Epoch 5/30\n",
            "33/33 [==============================] - 13s 391ms/step - loss: 0.8019 - accuracy: 0.6267 - val_loss: 0.6795 - val_accuracy: 0.6992\n",
            "Epoch 6/30\n",
            "33/33 [==============================] - 13s 385ms/step - loss: 0.7306 - accuracy: 0.6712 - val_loss: 0.6887 - val_accuracy: 0.6842\n",
            "Epoch 7/30\n",
            "33/33 [==============================] - 13s 384ms/step - loss: 0.7360 - accuracy: 0.6750 - val_loss: 0.6622 - val_accuracy: 0.6917\n",
            "Epoch 8/30\n",
            "33/33 [==============================] - 13s 384ms/step - loss: 0.7608 - accuracy: 0.6557 - val_loss: 0.7284 - val_accuracy: 0.6842\n",
            "Epoch 9/30\n",
            "33/33 [==============================] - 13s 384ms/step - loss: 0.7151 - accuracy: 0.6905 - val_loss: 0.7238 - val_accuracy: 0.7068\n",
            "Epoch 10/30\n",
            "33/33 [==============================] - 13s 398ms/step - loss: 0.7394 - accuracy: 0.6596 - val_loss: 0.6100 - val_accuracy: 0.7218\n",
            "Epoch 11/30\n",
            "33/33 [==============================] - 13s 384ms/step - loss: 0.7164 - accuracy: 0.6789 - val_loss: 0.6423 - val_accuracy: 0.7293\n",
            "Epoch 12/30\n",
            "33/33 [==============================] - 13s 383ms/step - loss: 0.6776 - accuracy: 0.6973 - val_loss: 0.6481 - val_accuracy: 0.6692\n",
            "Epoch 13/30\n",
            "33/33 [==============================] - 13s 381ms/step - loss: 0.6843 - accuracy: 0.7079 - val_loss: 0.6802 - val_accuracy: 0.7068\n",
            "Epoch 14/30\n",
            "33/33 [==============================] - 13s 384ms/step - loss: 0.6770 - accuracy: 0.6876 - val_loss: 0.6030 - val_accuracy: 0.7444\n",
            "Epoch 15/30\n",
            "33/33 [==============================] - 13s 384ms/step - loss: 0.6693 - accuracy: 0.6963 - val_loss: 0.7455 - val_accuracy: 0.6992\n",
            "Epoch 16/30\n",
            "33/33 [==============================] - 13s 383ms/step - loss: 0.7013 - accuracy: 0.7050 - val_loss: 0.7035 - val_accuracy: 0.6541\n",
            "Epoch 17/30\n",
            "33/33 [==============================] - 13s 382ms/step - loss: 0.6812 - accuracy: 0.6925 - val_loss: 0.5873 - val_accuracy: 0.7218\n",
            "Epoch 18/30\n",
            "33/33 [==============================] - 13s 383ms/step - loss: 0.6605 - accuracy: 0.6954 - val_loss: 0.6641 - val_accuracy: 0.6992\n",
            "Epoch 19/30\n",
            "33/33 [==============================] - 13s 384ms/step - loss: 0.6698 - accuracy: 0.7041 - val_loss: 0.6176 - val_accuracy: 0.7068\n",
            "Epoch 20/30\n",
            "33/33 [==============================] - 13s 384ms/step - loss: 0.6101 - accuracy: 0.7369 - val_loss: 0.5840 - val_accuracy: 0.7293\n",
            "Epoch 21/30\n",
            "33/33 [==============================] - 13s 384ms/step - loss: 0.6056 - accuracy: 0.7205 - val_loss: 0.5919 - val_accuracy: 0.7368\n",
            "Epoch 22/30\n",
            "33/33 [==============================] - 13s 384ms/step - loss: 0.5697 - accuracy: 0.7640 - val_loss: 0.5427 - val_accuracy: 0.7519\n",
            "Epoch 23/30\n",
            "33/33 [==============================] - 13s 386ms/step - loss: 0.5922 - accuracy: 0.7544 - val_loss: 0.5534 - val_accuracy: 0.7669\n",
            "Epoch 24/30\n",
            "33/33 [==============================] - 13s 386ms/step - loss: 0.5850 - accuracy: 0.7466 - val_loss: 0.5263 - val_accuracy: 0.7669\n",
            "Epoch 25/30\n",
            "33/33 [==============================] - 13s 385ms/step - loss: 0.5948 - accuracy: 0.7505 - val_loss: 0.5857 - val_accuracy: 0.7218\n",
            "Epoch 26/30\n",
            "33/33 [==============================] - 13s 386ms/step - loss: 0.5744 - accuracy: 0.7553 - val_loss: 0.5960 - val_accuracy: 0.7368\n",
            "Epoch 27/30\n",
            "33/33 [==============================] - 13s 384ms/step - loss: 0.5584 - accuracy: 0.7640 - val_loss: 0.5095 - val_accuracy: 0.8045\n",
            "Epoch 28/30\n",
            "33/33 [==============================] - 13s 386ms/step - loss: 0.5346 - accuracy: 0.7669 - val_loss: 0.6302 - val_accuracy: 0.7293\n",
            "Epoch 29/30\n",
            "33/33 [==============================] - 13s 385ms/step - loss: 0.5367 - accuracy: 0.7708 - val_loss: 0.4941 - val_accuracy: 0.7669\n",
            "Epoch 30/30\n",
            "33/33 [==============================] - 13s 385ms/step - loss: 0.5181 - accuracy: 0.7805 - val_loss: 0.5585 - val_accuracy: 0.7218\n",
            "33/33 [==============================] - 5s 141ms/step - loss: 0.4847 - accuracy: 0.7921\n",
            "5/5 [==============================] - 1s 114ms/step - loss: 0.5585 - accuracy: 0.7218\n",
            "4/4 [==============================] - 1s 146ms/step - loss: 0.5686 - accuracy: 0.7578\n"
          ]
        },
        {
          "data": {
            "text/plain": [
              "[0.5686240792274475, 0.7578125]"
            ]
          },
          "execution_count": 27,
          "metadata": {},
          "output_type": "execute_result"
        }
      ],
      "source": [
        "lenet = LeNet(kernel_size=5, kernel_numbers=[10, 40, 300], dropout_enable=True)\n",
        "es_callback = EarlyStopping(monitor=\"val_loss\", patience=4, restore_best_weights=True)\n",
        "lenet.compile(optimizer=\"adam\", loss=\"sparse_categorical_crossentropy\", metrics=[\"accuracy\"])\n",
        "\n",
        "es_callback = EarlyStopping(monitor=\"val_loss\", patience=4, restore_best_weights=True)\n",
        "lenet.compile(optimizer=\"adam\", loss=\"sparse_categorical_crossentropy\", metrics=[\"accuracy\"])\n",
        "\n",
        "lenet.fit(x=x_train, y=y_train, validation_data=(x_valid, y_valid), epochs=30, callbacks=[es_callback])\n",
        "\n",
        "lenet.evaluate(x=x_train, y=y_train)\n",
        "lenet.evaluate(x=x_valid, y=y_valid)\n",
        "lenet.evaluate(x=x_test, y=y_test)"
      ]
    },
    {
      "cell_type": "markdown",
      "metadata": {
        "id": "j0RUuLHZVUg_"
      },
      "source": [
        "# Inception"
      ]
    },
    {
      "cell_type": "markdown",
      "metadata": {
        "id": "sr6Sm2wX4hGZ"
      },
      "source": [
        "## Model"
      ]
    },
    {
      "cell_type": "code",
      "execution_count": 6,
      "metadata": {
        "id": "jHk7n2MRZyFx"
      },
      "outputs": [],
      "source": [
        "class Inception(keras.Model):\n",
        "  def __init__(self):\n",
        "    super().__init__()\n",
        "    self.base_model = InceptionV3(\n",
        "        input_shape=(500, 500, 3), include_top=False, weights='imagenet')\n",
        "\n",
        "    inputs = Input((500, 500, 3,))\n",
        "    dropout_layer = Dropout(rate=0.5)\n",
        "    pooling_layer = GlobalMaxPooling2D(data_format=\"channels_last\")\n",
        "    output_layer = Dense(3, activation=\"softmax\")\n",
        "\n",
        "    x = self.base_model(inputs)\n",
        "    x = pooling_layer(x)\n",
        "    x = dropout_layer(x)\n",
        "    outputs = output_layer(x)\n",
        "\n",
        "    self.model = tf.keras.Model(inputs, outputs)\n",
        "\n",
        "    self.freeze_base_model()\n",
        "\n",
        "  def freeze_base_model(self):\n",
        "    self.base_model.trainable = False\n",
        "\n",
        "  def unfreeze_partial_base_model(self, number_freeze_layers):\n",
        "    self.base_model.trainable = True\n",
        "\n",
        "    for layer in self.base_model.layers[:number_freeze_layers]:\n",
        "      layer.trainable = False\n",
        "    \n",
        "  def call(self, inputs):\n",
        "    return self.model.call(inputs)"
      ]
    },
    {
      "cell_type": "code",
      "execution_count": 7,
      "metadata": {
        "colab": {
          "base_uri": "https://localhost:8080/"
        },
        "id": "VPSn42nMUmLo",
        "outputId": "128c3e5d-ab72-41f4-e01e-45ae7ab692d1"
      },
      "outputs": [
        {
          "output_type": "stream",
          "name": "stdout",
          "text": [
            "Downloading data from https://storage.googleapis.com/tensorflow/keras-applications/inception_v3/inception_v3_weights_tf_dim_ordering_tf_kernels_notop.h5\n",
            "87916544/87910968 [==============================] - 1s 0us/step\n",
            "87924736/87910968 [==============================] - 1s 0us/step\n"
          ]
        }
      ],
      "source": [
        "\n",
        "inception = Inception()\n",
        "\n",
        "es_callback = EarlyStopping(monitor=\"val_loss\", patience=4, restore_best_weights=True)\n",
        "inception.compile(optimizer=\"adam\", loss=\"sparse_categorical_crossentropy\", metrics=[\"accuracy\"])"
      ]
    },
    {
      "cell_type": "code",
      "execution_count": 8,
      "metadata": {
        "colab": {
          "base_uri": "https://localhost:8080/"
        },
        "id": "LNlkP7LAeqwm",
        "outputId": "566f0522-5804-4fb7-b0ca-593b69e8f557"
      },
      "outputs": [
        {
          "metadata": {
            "tags": null
          },
          "name": "stdout",
          "output_type": "stream",
          "text": [
            "Epoch 1/30\n",
            "33/33 [==============================] - 58s 1s/step - loss: 81.0163 - accuracy: 0.3288 - val_loss: 34.8920 - val_accuracy: 0.4211\n",
            "Epoch 2/30\n",
            "33/33 [==============================] - 29s 872ms/step - loss: 61.9882 - accuracy: 0.3985 - val_loss: 19.3992 - val_accuracy: 0.4962\n",
            "Epoch 3/30\n",
            "33/33 [==============================] - 29s 875ms/step - loss: 49.3195 - accuracy: 0.4255 - val_loss: 13.7283 - val_accuracy: 0.5489\n",
            "Epoch 4/30\n",
            "33/33 [==============================] - 29s 868ms/step - loss: 47.5480 - accuracy: 0.3994 - val_loss: 17.4307 - val_accuracy: 0.4511\n",
            "Epoch 5/30\n",
            "33/33 [==============================] - 29s 868ms/step - loss: 42.1211 - accuracy: 0.4391 - val_loss: 14.1603 - val_accuracy: 0.5414\n",
            "Epoch 6/30\n",
            "33/33 [==============================] - 29s 867ms/step - loss: 38.6089 - accuracy: 0.4526 - val_loss: 25.4965 - val_accuracy: 0.3609\n",
            "Epoch 7/30\n",
            "33/33 [==============================] - 29s 873ms/step - loss: 37.4521 - accuracy: 0.4400 - val_loss: 10.9263 - val_accuracy: 0.5789\n",
            "Epoch 8/30\n",
            "33/33 [==============================] - 29s 868ms/step - loss: 27.4227 - accuracy: 0.4952 - val_loss: 16.9115 - val_accuracy: 0.4586\n",
            "Epoch 9/30\n",
            "33/33 [==============================] - 29s 868ms/step - loss: 26.7351 - accuracy: 0.4990 - val_loss: 12.5006 - val_accuracy: 0.5414\n",
            "Epoch 10/30\n",
            "33/33 [==============================] - 29s 868ms/step - loss: 23.6145 - accuracy: 0.4990 - val_loss: 13.6082 - val_accuracy: 0.5038\n",
            "Epoch 11/30\n",
            "33/33 [==============================] - 29s 874ms/step - loss: 26.6677 - accuracy: 0.4932 - val_loss: 14.8295 - val_accuracy: 0.5188\n"
          ]
        }
      ],
      "source": [
        "history = inception.fit(x=x_train, y=y_train, validation_data=(x_valid, y_valid), epochs=30, callbacks=[es_callback])"
      ]
    },
    {
      "cell_type": "code",
      "execution_count": 9,
      "metadata": {
        "colab": {
          "base_uri": "https://localhost:8080/"
        },
        "id": "uyr6ff1Jz0cA",
        "outputId": "27abab58-c241-4508-afc5-def11ca82dcf"
      },
      "outputs": [
        {
          "output_type": "stream",
          "name": "stdout",
          "text": [
            "33/33 [==============================] - 25s 768ms/step - loss: 8.4328 - accuracy: 0.6325\n",
            "5/5 [==============================] - 3s 634ms/step - loss: 10.9263 - accuracy: 0.5789\n",
            "4/4 [==============================] - 5s 774ms/step - loss: 9.5767 - accuracy: 0.6016\n"
          ]
        },
        {
          "output_type": "execute_result",
          "data": {
            "text/plain": [
              "[9.576719284057617, 0.6015625]"
            ]
          },
          "metadata": {},
          "execution_count": 9
        }
      ],
      "source": [
        "inception.evaluate(x=x_train, y=y_train)\n",
        "inception.evaluate(x=x_valid, y=y_valid)\n",
        "inception.evaluate(x=x_test, y=y_test)"
      ]
    },
    {
      "cell_type": "code",
      "execution_count": null,
      "metadata": {
        "id": "k0O6vK59vVE-"
      },
      "outputs": [],
      "source": [
        "inception.unfreeze_partial_base_model(number_freeze_layers=200)"
      ]
    },
    {
      "cell_type": "code",
      "execution_count": 14,
      "metadata": {
        "colab": {
          "base_uri": "https://localhost:8080/"
        },
        "id": "WLdboBohvc2j",
        "outputId": "5f5c3dc1-8c23-4498-824f-4f65cabee2de"
      },
      "outputs": [
        {
          "output_type": "stream",
          "name": "stdout",
          "text": [
            "Epoch 12/30\n",
            "33/33 [==============================] - 29s 890ms/step - loss: 16.0437 - accuracy: 0.5426 - val_loss: 15.2716 - val_accuracy: 0.5188\n",
            "Epoch 13/30\n",
            "33/33 [==============================] - 29s 891ms/step - loss: 18.5474 - accuracy: 0.5261 - val_loss: 10.0116 - val_accuracy: 0.5714\n",
            "Epoch 14/30\n",
            "33/33 [==============================] - 29s 870ms/step - loss: 17.0799 - accuracy: 0.5193 - val_loss: 11.6013 - val_accuracy: 0.5188\n",
            "Epoch 15/30\n",
            "33/33 [==============================] - 29s 867ms/step - loss: 13.9580 - accuracy: 0.5832 - val_loss: 14.7216 - val_accuracy: 0.4737\n",
            "Epoch 16/30\n",
            "33/33 [==============================] - 29s 868ms/step - loss: 13.4011 - accuracy: 0.5464 - val_loss: 10.9054 - val_accuracy: 0.5414\n",
            "Epoch 17/30\n",
            "33/33 [==============================] - 29s 872ms/step - loss: 13.5667 - accuracy: 0.5338 - val_loss: 8.9978 - val_accuracy: 0.5564\n",
            "Epoch 18/30\n",
            "33/33 [==============================] - 28s 864ms/step - loss: 14.9550 - accuracy: 0.5290 - val_loss: 13.2288 - val_accuracy: 0.4962\n",
            "Epoch 19/30\n",
            "33/33 [==============================] - 28s 861ms/step - loss: 14.3845 - accuracy: 0.5368 - val_loss: 9.9172 - val_accuracy: 0.5188\n",
            "Epoch 20/30\n",
            "33/33 [==============================] - 28s 862ms/step - loss: 16.2723 - accuracy: 0.5377 - val_loss: 12.0241 - val_accuracy: 0.4662\n",
            "Epoch 21/30\n",
            "33/33 [==============================] - 29s 869ms/step - loss: 14.6267 - accuracy: 0.5551 - val_loss: 12.0732 - val_accuracy: 0.4737\n"
          ]
        }
      ],
      "source": [
        "fine_tuning_history = inception.fit(x=x_train, y=y_train, validation_data=(x_valid, y_valid),\n",
        "                                    epochs=30, initial_epoch=history.epoch[-1]+1, callbacks=[es_callback])"
      ]
    },
    {
      "cell_type": "code",
      "execution_count": 16,
      "metadata": {
        "colab": {
          "base_uri": "https://localhost:8080/"
        },
        "id": "ty6uI75w4XS6",
        "outputId": "e330eae7-9645-4cc6-ac44-8669e8286149"
      },
      "outputs": [
        {
          "output_type": "stream",
          "name": "stdout",
          "text": [
            "33/33 [==============================] - 25s 759ms/step - loss: 4.9874 - accuracy: 0.6818\n",
            "5/5 [==============================] - 3s 630ms/step - loss: 8.9978 - accuracy: 0.5564\n",
            "4/4 [==============================] - 3s 766ms/step - loss: 8.2586 - accuracy: 0.5781\n"
          ]
        },
        {
          "output_type": "execute_result",
          "data": {
            "text/plain": [
              "[8.25857162475586, 0.578125]"
            ]
          },
          "metadata": {},
          "execution_count": 16
        }
      ],
      "source": [
        "inception.evaluate(x=x_train, y=y_train)\n",
        "inception.evaluate(x=x_valid, y=y_valid)\n",
        "inception.evaluate(x=x_test, y=y_test)"
      ]
    },
    {
      "cell_type": "code",
      "source": [
        "len(inception.base_model.layers)"
      ],
      "metadata": {
        "colab": {
          "base_uri": "https://localhost:8080/"
        },
        "id": "-qkGcuCdAGXE",
        "outputId": "79ad76d3-3226-4702-ede7-fed103165b52"
      },
      "execution_count": 15,
      "outputs": [
        {
          "output_type": "execute_result",
          "data": {
            "text/plain": [
              "311"
            ]
          },
          "metadata": {},
          "execution_count": 15
        }
      ]
    },
    {
      "cell_type": "code",
      "source": [
        "for number_freeze_layers in [0, 50, 100, 200, 311]:\n",
        "  print(f\"number freeze layers = {number_freeze_layers}\")\n",
        "  \n",
        "  inception = Inception()\n",
        "\n",
        "  es_callback = EarlyStopping(monitor=\"val_loss\", patience=4, restore_best_weights=True)\n",
        "  inception.compile(optimizer=\"adam\", loss=\"sparse_categorical_crossentropy\", metrics=[\"accuracy\"])\n",
        "\n",
        "  history = inception.fit(x=x_train, y=y_train, validation_data=(x_valid, y_valid), epochs=30, callbacks=[es_callback])\n",
        "\n",
        "  inception.evaluate(x=x_train, y=y_train)\n",
        "  inception.evaluate(x=x_valid, y=y_valid)\n",
        "  inception.evaluate(x=x_test, y=y_test)\n",
        "\n",
        "  if number_freeze_layers < 311:\n",
        "    inception.unfreeze_partial_base_model(number_freeze_layers=number_freeze_layers)\n",
        "\n",
        "    fine_tuning_history = inception.fit(x=x_train, y=y_train, validation_data=(x_valid, y_valid),\n",
        "                                    epochs=30, initial_epoch=history.epoch[-1]+1, callbacks=[es_callback])\n",
        "    \n",
        "    inception.evaluate(x=x_train, y=y_train)\n",
        "    inception.evaluate(x=x_valid, y=y_valid)\n",
        "    inception.evaluate(x=x_test, y=y_test)\n",
        "\n",
        "  print(\"============================\\n\")"
      ],
      "metadata": {
        "colab": {
          "base_uri": "https://localhost:8080/"
        },
        "id": "97YY5B8GBliP",
        "outputId": "e66d4b36-56ed-47b8-b3ff-dead3803569a"
      },
      "execution_count": null,
      "outputs": [
        {
          "output_type": "stream",
          "name": "stdout",
          "text": [
            "number freeze layers = 0\n",
            "Epoch 1/30\n",
            "33/33 [==============================] - 36s 925ms/step - loss: 74.2033 - accuracy: 0.3288 - val_loss: 30.9558 - val_accuracy: 0.3910\n",
            "Epoch 2/30\n",
            "33/33 [==============================] - 29s 870ms/step - loss: 55.9643 - accuracy: 0.3549 - val_loss: 21.7825 - val_accuracy: 0.4135\n",
            "Epoch 3/30\n",
            "33/33 [==============================] - 28s 862ms/step - loss: 53.8955 - accuracy: 0.3888 - val_loss: 32.3487 - val_accuracy: 0.5038\n",
            "Epoch 4/30\n",
            "33/33 [==============================] - 29s 869ms/step - loss: 42.9981 - accuracy: 0.4178 - val_loss: 20.8096 - val_accuracy: 0.5038\n",
            "Epoch 5/30\n",
            "21/33 [==================>...........] - ETA: 9s - loss: 38.0014 - accuracy: 0.4539 "
          ]
        }
      ]
    },
    {
      "cell_type": "code",
      "source": [
        ""
      ],
      "metadata": {
        "id": "yuliHZR_CmpH"
      },
      "execution_count": null,
      "outputs": []
    }
  ],
  "metadata": {
    "accelerator": "GPU",
    "colab": {
      "collapsed_sections": [
        "XjaZf_08RENI",
        "_GS7LTfZRvuO"
      ],
      "name": "NN_HW4.ipynb",
      "toc_visible": true,
      "provenance": [],
      "authorship_tag": "ABX9TyMB1gHq8q1qalftbeNGKwXa",
      "include_colab_link": true
    },
    "kernelspec": {
      "display_name": "Python 3",
      "name": "python3"
    },
    "language_info": {
      "name": "python"
    },
    "widgets": {
      "application/vnd.jupyter.widget-state+json": {
        "e195e2dcaeaa4d8eb58714d9d7db8346": {
          "model_module": "@jupyter-widgets/controls",
          "model_name": "HBoxModel",
          "model_module_version": "1.5.0",
          "state": {
            "_dom_classes": [],
            "_model_module": "@jupyter-widgets/controls",
            "_model_module_version": "1.5.0",
            "_model_name": "HBoxModel",
            "_view_count": null,
            "_view_module": "@jupyter-widgets/controls",
            "_view_module_version": "1.5.0",
            "_view_name": "HBoxView",
            "box_style": "",
            "children": [
              "IPY_MODEL_1140dfb0a173420bbf7e289bb363d621",
              "IPY_MODEL_6c9ce5380d9140b3b28834369ded6d25",
              "IPY_MODEL_3c6a491f0df04e4a8741f4966de8190c"
            ],
            "layout": "IPY_MODEL_003b8c0182af45f8920cf2d60a5bf758"
          }
        },
        "1140dfb0a173420bbf7e289bb363d621": {
          "model_module": "@jupyter-widgets/controls",
          "model_name": "HTMLModel",
          "model_module_version": "1.5.0",
          "state": {
            "_dom_classes": [],
            "_model_module": "@jupyter-widgets/controls",
            "_model_module_version": "1.5.0",
            "_model_name": "HTMLModel",
            "_view_count": null,
            "_view_module": "@jupyter-widgets/controls",
            "_view_module_version": "1.5.0",
            "_view_name": "HTMLView",
            "description": "",
            "description_tooltip": null,
            "layout": "IPY_MODEL_be3d78f4142740f29509e02362cd4bea",
            "placeholder": "​",
            "style": "IPY_MODEL_dd7f54247db64dfc837081d15947b1c0",
            "value": "Dl Completed...: 100%"
          }
        },
        "6c9ce5380d9140b3b28834369ded6d25": {
          "model_module": "@jupyter-widgets/controls",
          "model_name": "FloatProgressModel",
          "model_module_version": "1.5.0",
          "state": {
            "_dom_classes": [],
            "_model_module": "@jupyter-widgets/controls",
            "_model_module_version": "1.5.0",
            "_model_name": "FloatProgressModel",
            "_view_count": null,
            "_view_module": "@jupyter-widgets/controls",
            "_view_module_version": "1.5.0",
            "_view_name": "ProgressView",
            "bar_style": "success",
            "description": "",
            "description_tooltip": null,
            "layout": "IPY_MODEL_c35640f812544766a4aeb7aca9e7bada",
            "max": 1,
            "min": 0,
            "orientation": "horizontal",
            "style": "IPY_MODEL_beb1cd0de310417dbf0819b8b0cce491",
            "value": 1
          }
        },
        "3c6a491f0df04e4a8741f4966de8190c": {
          "model_module": "@jupyter-widgets/controls",
          "model_name": "HTMLModel",
          "model_module_version": "1.5.0",
          "state": {
            "_dom_classes": [],
            "_model_module": "@jupyter-widgets/controls",
            "_model_module_version": "1.5.0",
            "_model_name": "HTMLModel",
            "_view_count": null,
            "_view_module": "@jupyter-widgets/controls",
            "_view_module_version": "1.5.0",
            "_view_name": "HTMLView",
            "description": "",
            "description_tooltip": null,
            "layout": "IPY_MODEL_3ff4e92da03544b29388f2afe1248c18",
            "placeholder": "​",
            "style": "IPY_MODEL_e67e4257f8184b9b94969d0e142176dc",
            "value": " 3/3 [00:04&lt;00:00,  1.49s/ url]"
          }
        },
        "003b8c0182af45f8920cf2d60a5bf758": {
          "model_module": "@jupyter-widgets/base",
          "model_name": "LayoutModel",
          "model_module_version": "1.2.0",
          "state": {
            "_model_module": "@jupyter-widgets/base",
            "_model_module_version": "1.2.0",
            "_model_name": "LayoutModel",
            "_view_count": null,
            "_view_module": "@jupyter-widgets/base",
            "_view_module_version": "1.2.0",
            "_view_name": "LayoutView",
            "align_content": null,
            "align_items": null,
            "align_self": null,
            "border": null,
            "bottom": null,
            "display": null,
            "flex": null,
            "flex_flow": null,
            "grid_area": null,
            "grid_auto_columns": null,
            "grid_auto_flow": null,
            "grid_auto_rows": null,
            "grid_column": null,
            "grid_gap": null,
            "grid_row": null,
            "grid_template_areas": null,
            "grid_template_columns": null,
            "grid_template_rows": null,
            "height": null,
            "justify_content": null,
            "justify_items": null,
            "left": null,
            "margin": null,
            "max_height": null,
            "max_width": null,
            "min_height": null,
            "min_width": null,
            "object_fit": null,
            "object_position": null,
            "order": null,
            "overflow": null,
            "overflow_x": null,
            "overflow_y": null,
            "padding": null,
            "right": null,
            "top": null,
            "visibility": null,
            "width": null
          }
        },
        "be3d78f4142740f29509e02362cd4bea": {
          "model_module": "@jupyter-widgets/base",
          "model_name": "LayoutModel",
          "model_module_version": "1.2.0",
          "state": {
            "_model_module": "@jupyter-widgets/base",
            "_model_module_version": "1.2.0",
            "_model_name": "LayoutModel",
            "_view_count": null,
            "_view_module": "@jupyter-widgets/base",
            "_view_module_version": "1.2.0",
            "_view_name": "LayoutView",
            "align_content": null,
            "align_items": null,
            "align_self": null,
            "border": null,
            "bottom": null,
            "display": null,
            "flex": null,
            "flex_flow": null,
            "grid_area": null,
            "grid_auto_columns": null,
            "grid_auto_flow": null,
            "grid_auto_rows": null,
            "grid_column": null,
            "grid_gap": null,
            "grid_row": null,
            "grid_template_areas": null,
            "grid_template_columns": null,
            "grid_template_rows": null,
            "height": null,
            "justify_content": null,
            "justify_items": null,
            "left": null,
            "margin": null,
            "max_height": null,
            "max_width": null,
            "min_height": null,
            "min_width": null,
            "object_fit": null,
            "object_position": null,
            "order": null,
            "overflow": null,
            "overflow_x": null,
            "overflow_y": null,
            "padding": null,
            "right": null,
            "top": null,
            "visibility": null,
            "width": null
          }
        },
        "dd7f54247db64dfc837081d15947b1c0": {
          "model_module": "@jupyter-widgets/controls",
          "model_name": "DescriptionStyleModel",
          "model_module_version": "1.5.0",
          "state": {
            "_model_module": "@jupyter-widgets/controls",
            "_model_module_version": "1.5.0",
            "_model_name": "DescriptionStyleModel",
            "_view_count": null,
            "_view_module": "@jupyter-widgets/base",
            "_view_module_version": "1.2.0",
            "_view_name": "StyleView",
            "description_width": ""
          }
        },
        "c35640f812544766a4aeb7aca9e7bada": {
          "model_module": "@jupyter-widgets/base",
          "model_name": "LayoutModel",
          "model_module_version": "1.2.0",
          "state": {
            "_model_module": "@jupyter-widgets/base",
            "_model_module_version": "1.2.0",
            "_model_name": "LayoutModel",
            "_view_count": null,
            "_view_module": "@jupyter-widgets/base",
            "_view_module_version": "1.2.0",
            "_view_name": "LayoutView",
            "align_content": null,
            "align_items": null,
            "align_self": null,
            "border": null,
            "bottom": null,
            "display": null,
            "flex": null,
            "flex_flow": null,
            "grid_area": null,
            "grid_auto_columns": null,
            "grid_auto_flow": null,
            "grid_auto_rows": null,
            "grid_column": null,
            "grid_gap": null,
            "grid_row": null,
            "grid_template_areas": null,
            "grid_template_columns": null,
            "grid_template_rows": null,
            "height": null,
            "justify_content": null,
            "justify_items": null,
            "left": null,
            "margin": null,
            "max_height": null,
            "max_width": null,
            "min_height": null,
            "min_width": null,
            "object_fit": null,
            "object_position": null,
            "order": null,
            "overflow": null,
            "overflow_x": null,
            "overflow_y": null,
            "padding": null,
            "right": null,
            "top": null,
            "visibility": null,
            "width": "20px"
          }
        },
        "beb1cd0de310417dbf0819b8b0cce491": {
          "model_module": "@jupyter-widgets/controls",
          "model_name": "ProgressStyleModel",
          "model_module_version": "1.5.0",
          "state": {
            "_model_module": "@jupyter-widgets/controls",
            "_model_module_version": "1.5.0",
            "_model_name": "ProgressStyleModel",
            "_view_count": null,
            "_view_module": "@jupyter-widgets/base",
            "_view_module_version": "1.2.0",
            "_view_name": "StyleView",
            "bar_color": null,
            "description_width": ""
          }
        },
        "3ff4e92da03544b29388f2afe1248c18": {
          "model_module": "@jupyter-widgets/base",
          "model_name": "LayoutModel",
          "model_module_version": "1.2.0",
          "state": {
            "_model_module": "@jupyter-widgets/base",
            "_model_module_version": "1.2.0",
            "_model_name": "LayoutModel",
            "_view_count": null,
            "_view_module": "@jupyter-widgets/base",
            "_view_module_version": "1.2.0",
            "_view_name": "LayoutView",
            "align_content": null,
            "align_items": null,
            "align_self": null,
            "border": null,
            "bottom": null,
            "display": null,
            "flex": null,
            "flex_flow": null,
            "grid_area": null,
            "grid_auto_columns": null,
            "grid_auto_flow": null,
            "grid_auto_rows": null,
            "grid_column": null,
            "grid_gap": null,
            "grid_row": null,
            "grid_template_areas": null,
            "grid_template_columns": null,
            "grid_template_rows": null,
            "height": null,
            "justify_content": null,
            "justify_items": null,
            "left": null,
            "margin": null,
            "max_height": null,
            "max_width": null,
            "min_height": null,
            "min_width": null,
            "object_fit": null,
            "object_position": null,
            "order": null,
            "overflow": null,
            "overflow_x": null,
            "overflow_y": null,
            "padding": null,
            "right": null,
            "top": null,
            "visibility": null,
            "width": null
          }
        },
        "e67e4257f8184b9b94969d0e142176dc": {
          "model_module": "@jupyter-widgets/controls",
          "model_name": "DescriptionStyleModel",
          "model_module_version": "1.5.0",
          "state": {
            "_model_module": "@jupyter-widgets/controls",
            "_model_module_version": "1.5.0",
            "_model_name": "DescriptionStyleModel",
            "_view_count": null,
            "_view_module": "@jupyter-widgets/base",
            "_view_module_version": "1.2.0",
            "_view_name": "StyleView",
            "description_width": ""
          }
        },
        "7c02f67acf5f46b184e4dadef5b11fd0": {
          "model_module": "@jupyter-widgets/controls",
          "model_name": "HBoxModel",
          "model_module_version": "1.5.0",
          "state": {
            "_dom_classes": [],
            "_model_module": "@jupyter-widgets/controls",
            "_model_module_version": "1.5.0",
            "_model_name": "HBoxModel",
            "_view_count": null,
            "_view_module": "@jupyter-widgets/controls",
            "_view_module_version": "1.5.0",
            "_view_name": "HBoxView",
            "box_style": "",
            "children": [
              "IPY_MODEL_a0cb0c1fa23d472d85bdcca9b78c91a9",
              "IPY_MODEL_adc386596ad546d7b9b4f4a74bfd4cec",
              "IPY_MODEL_0a6b9d4a156b4591addba2bda8ad4be0"
            ],
            "layout": "IPY_MODEL_7585f801d849454ca67d85f0ec395eb7"
          }
        },
        "a0cb0c1fa23d472d85bdcca9b78c91a9": {
          "model_module": "@jupyter-widgets/controls",
          "model_name": "HTMLModel",
          "model_module_version": "1.5.0",
          "state": {
            "_dom_classes": [],
            "_model_module": "@jupyter-widgets/controls",
            "_model_module_version": "1.5.0",
            "_model_name": "HTMLModel",
            "_view_count": null,
            "_view_module": "@jupyter-widgets/controls",
            "_view_module_version": "1.5.0",
            "_view_name": "HTMLView",
            "description": "",
            "description_tooltip": null,
            "layout": "IPY_MODEL_2559e9b6b2c34122911b8e14e4238db3",
            "placeholder": "​",
            "style": "IPY_MODEL_679cb045ba0f4f76a97fb2122bd18341",
            "value": "Dl Size...: 100%"
          }
        },
        "adc386596ad546d7b9b4f4a74bfd4cec": {
          "model_module": "@jupyter-widgets/controls",
          "model_name": "FloatProgressModel",
          "model_module_version": "1.5.0",
          "state": {
            "_dom_classes": [],
            "_model_module": "@jupyter-widgets/controls",
            "_model_module_version": "1.5.0",
            "_model_name": "FloatProgressModel",
            "_view_count": null,
            "_view_module": "@jupyter-widgets/controls",
            "_view_module_version": "1.5.0",
            "_view_name": "ProgressView",
            "bar_style": "success",
            "description": "",
            "description_tooltip": null,
            "layout": "IPY_MODEL_4f471f97e8e1420caa9b8683ae04aad5",
            "max": 1,
            "min": 0,
            "orientation": "horizontal",
            "style": "IPY_MODEL_4fbc66bbaae749bc9ad70a5b58c5ea5a",
            "value": 1
          }
        },
        "0a6b9d4a156b4591addba2bda8ad4be0": {
          "model_module": "@jupyter-widgets/controls",
          "model_name": "HTMLModel",
          "model_module_version": "1.5.0",
          "state": {
            "_dom_classes": [],
            "_model_module": "@jupyter-widgets/controls",
            "_model_module_version": "1.5.0",
            "_model_name": "HTMLModel",
            "_view_count": null,
            "_view_module": "@jupyter-widgets/controls",
            "_view_module_version": "1.5.0",
            "_view_name": "HTMLView",
            "description": "",
            "description_tooltip": null,
            "layout": "IPY_MODEL_ffe5ecb9f8fb46ec9e93c846e66891aa",
            "placeholder": "​",
            "style": "IPY_MODEL_01e8382d1bb84706b822575faa2d044c",
            "value": " 170/170 [00:04&lt;00:00, 44.62 MiB/s]"
          }
        },
        "7585f801d849454ca67d85f0ec395eb7": {
          "model_module": "@jupyter-widgets/base",
          "model_name": "LayoutModel",
          "model_module_version": "1.2.0",
          "state": {
            "_model_module": "@jupyter-widgets/base",
            "_model_module_version": "1.2.0",
            "_model_name": "LayoutModel",
            "_view_count": null,
            "_view_module": "@jupyter-widgets/base",
            "_view_module_version": "1.2.0",
            "_view_name": "LayoutView",
            "align_content": null,
            "align_items": null,
            "align_self": null,
            "border": null,
            "bottom": null,
            "display": null,
            "flex": null,
            "flex_flow": null,
            "grid_area": null,
            "grid_auto_columns": null,
            "grid_auto_flow": null,
            "grid_auto_rows": null,
            "grid_column": null,
            "grid_gap": null,
            "grid_row": null,
            "grid_template_areas": null,
            "grid_template_columns": null,
            "grid_template_rows": null,
            "height": null,
            "justify_content": null,
            "justify_items": null,
            "left": null,
            "margin": null,
            "max_height": null,
            "max_width": null,
            "min_height": null,
            "min_width": null,
            "object_fit": null,
            "object_position": null,
            "order": null,
            "overflow": null,
            "overflow_x": null,
            "overflow_y": null,
            "padding": null,
            "right": null,
            "top": null,
            "visibility": null,
            "width": null
          }
        },
        "2559e9b6b2c34122911b8e14e4238db3": {
          "model_module": "@jupyter-widgets/base",
          "model_name": "LayoutModel",
          "model_module_version": "1.2.0",
          "state": {
            "_model_module": "@jupyter-widgets/base",
            "_model_module_version": "1.2.0",
            "_model_name": "LayoutModel",
            "_view_count": null,
            "_view_module": "@jupyter-widgets/base",
            "_view_module_version": "1.2.0",
            "_view_name": "LayoutView",
            "align_content": null,
            "align_items": null,
            "align_self": null,
            "border": null,
            "bottom": null,
            "display": null,
            "flex": null,
            "flex_flow": null,
            "grid_area": null,
            "grid_auto_columns": null,
            "grid_auto_flow": null,
            "grid_auto_rows": null,
            "grid_column": null,
            "grid_gap": null,
            "grid_row": null,
            "grid_template_areas": null,
            "grid_template_columns": null,
            "grid_template_rows": null,
            "height": null,
            "justify_content": null,
            "justify_items": null,
            "left": null,
            "margin": null,
            "max_height": null,
            "max_width": null,
            "min_height": null,
            "min_width": null,
            "object_fit": null,
            "object_position": null,
            "order": null,
            "overflow": null,
            "overflow_x": null,
            "overflow_y": null,
            "padding": null,
            "right": null,
            "top": null,
            "visibility": null,
            "width": null
          }
        },
        "679cb045ba0f4f76a97fb2122bd18341": {
          "model_module": "@jupyter-widgets/controls",
          "model_name": "DescriptionStyleModel",
          "model_module_version": "1.5.0",
          "state": {
            "_model_module": "@jupyter-widgets/controls",
            "_model_module_version": "1.5.0",
            "_model_name": "DescriptionStyleModel",
            "_view_count": null,
            "_view_module": "@jupyter-widgets/base",
            "_view_module_version": "1.2.0",
            "_view_name": "StyleView",
            "description_width": ""
          }
        },
        "4f471f97e8e1420caa9b8683ae04aad5": {
          "model_module": "@jupyter-widgets/base",
          "model_name": "LayoutModel",
          "model_module_version": "1.2.0",
          "state": {
            "_model_module": "@jupyter-widgets/base",
            "_model_module_version": "1.2.0",
            "_model_name": "LayoutModel",
            "_view_count": null,
            "_view_module": "@jupyter-widgets/base",
            "_view_module_version": "1.2.0",
            "_view_name": "LayoutView",
            "align_content": null,
            "align_items": null,
            "align_self": null,
            "border": null,
            "bottom": null,
            "display": null,
            "flex": null,
            "flex_flow": null,
            "grid_area": null,
            "grid_auto_columns": null,
            "grid_auto_flow": null,
            "grid_auto_rows": null,
            "grid_column": null,
            "grid_gap": null,
            "grid_row": null,
            "grid_template_areas": null,
            "grid_template_columns": null,
            "grid_template_rows": null,
            "height": null,
            "justify_content": null,
            "justify_items": null,
            "left": null,
            "margin": null,
            "max_height": null,
            "max_width": null,
            "min_height": null,
            "min_width": null,
            "object_fit": null,
            "object_position": null,
            "order": null,
            "overflow": null,
            "overflow_x": null,
            "overflow_y": null,
            "padding": null,
            "right": null,
            "top": null,
            "visibility": null,
            "width": "20px"
          }
        },
        "4fbc66bbaae749bc9ad70a5b58c5ea5a": {
          "model_module": "@jupyter-widgets/controls",
          "model_name": "ProgressStyleModel",
          "model_module_version": "1.5.0",
          "state": {
            "_model_module": "@jupyter-widgets/controls",
            "_model_module_version": "1.5.0",
            "_model_name": "ProgressStyleModel",
            "_view_count": null,
            "_view_module": "@jupyter-widgets/base",
            "_view_module_version": "1.2.0",
            "_view_name": "StyleView",
            "bar_color": null,
            "description_width": ""
          }
        },
        "ffe5ecb9f8fb46ec9e93c846e66891aa": {
          "model_module": "@jupyter-widgets/base",
          "model_name": "LayoutModel",
          "model_module_version": "1.2.0",
          "state": {
            "_model_module": "@jupyter-widgets/base",
            "_model_module_version": "1.2.0",
            "_model_name": "LayoutModel",
            "_view_count": null,
            "_view_module": "@jupyter-widgets/base",
            "_view_module_version": "1.2.0",
            "_view_name": "LayoutView",
            "align_content": null,
            "align_items": null,
            "align_self": null,
            "border": null,
            "bottom": null,
            "display": null,
            "flex": null,
            "flex_flow": null,
            "grid_area": null,
            "grid_auto_columns": null,
            "grid_auto_flow": null,
            "grid_auto_rows": null,
            "grid_column": null,
            "grid_gap": null,
            "grid_row": null,
            "grid_template_areas": null,
            "grid_template_columns": null,
            "grid_template_rows": null,
            "height": null,
            "justify_content": null,
            "justify_items": null,
            "left": null,
            "margin": null,
            "max_height": null,
            "max_width": null,
            "min_height": null,
            "min_width": null,
            "object_fit": null,
            "object_position": null,
            "order": null,
            "overflow": null,
            "overflow_x": null,
            "overflow_y": null,
            "padding": null,
            "right": null,
            "top": null,
            "visibility": null,
            "width": null
          }
        },
        "01e8382d1bb84706b822575faa2d044c": {
          "model_module": "@jupyter-widgets/controls",
          "model_name": "DescriptionStyleModel",
          "model_module_version": "1.5.0",
          "state": {
            "_model_module": "@jupyter-widgets/controls",
            "_model_module_version": "1.5.0",
            "_model_name": "DescriptionStyleModel",
            "_view_count": null,
            "_view_module": "@jupyter-widgets/base",
            "_view_module_version": "1.2.0",
            "_view_name": "StyleView",
            "description_width": ""
          }
        },
        "9776b44315444e5db61c8f5fe3df9bf6": {
          "model_module": "@jupyter-widgets/controls",
          "model_name": "HBoxModel",
          "model_module_version": "1.5.0",
          "state": {
            "_dom_classes": [],
            "_model_module": "@jupyter-widgets/controls",
            "_model_module_version": "1.5.0",
            "_model_name": "HBoxModel",
            "_view_count": null,
            "_view_module": "@jupyter-widgets/controls",
            "_view_module_version": "1.5.0",
            "_view_name": "HBoxView",
            "box_style": "",
            "children": [
              "IPY_MODEL_5f544e4ca09f4422ba42a254ca4a6fd4",
              "IPY_MODEL_661651f5b9ff4caa923a29ee94fc1c3a",
              "IPY_MODEL_43c9e128c0564bc1b4501123592adf2d"
            ],
            "layout": "IPY_MODEL_9f527661ef19417d85988cae6c8b64a6"
          }
        },
        "5f544e4ca09f4422ba42a254ca4a6fd4": {
          "model_module": "@jupyter-widgets/controls",
          "model_name": "HTMLModel",
          "model_module_version": "1.5.0",
          "state": {
            "_dom_classes": [],
            "_model_module": "@jupyter-widgets/controls",
            "_model_module_version": "1.5.0",
            "_model_name": "HTMLModel",
            "_view_count": null,
            "_view_module": "@jupyter-widgets/controls",
            "_view_module_version": "1.5.0",
            "_view_name": "HTMLView",
            "description": "",
            "description_tooltip": null,
            "layout": "IPY_MODEL_c05800aaeeea4491b802761a85a7dd21",
            "placeholder": "​",
            "style": "IPY_MODEL_f52677ed04ec4f82a351ccccefdc40da",
            "value": ""
          }
        },
        "661651f5b9ff4caa923a29ee94fc1c3a": {
          "model_module": "@jupyter-widgets/controls",
          "model_name": "FloatProgressModel",
          "model_module_version": "1.5.0",
          "state": {
            "_dom_classes": [],
            "_model_module": "@jupyter-widgets/controls",
            "_model_module_version": "1.5.0",
            "_model_name": "FloatProgressModel",
            "_view_count": null,
            "_view_module": "@jupyter-widgets/controls",
            "_view_module_version": "1.5.0",
            "_view_name": "ProgressView",
            "bar_style": "info",
            "description": "",
            "description_tooltip": null,
            "layout": "IPY_MODEL_e2af108704ef4482a7b843650ad4ed64",
            "max": 1,
            "min": 0,
            "orientation": "horizontal",
            "style": "IPY_MODEL_e99d98493c4047c3b38fdd229db00134",
            "value": 1
          }
        },
        "43c9e128c0564bc1b4501123592adf2d": {
          "model_module": "@jupyter-widgets/controls",
          "model_name": "HTMLModel",
          "model_module_version": "1.5.0",
          "state": {
            "_dom_classes": [],
            "_model_module": "@jupyter-widgets/controls",
            "_model_module_version": "1.5.0",
            "_model_name": "HTMLModel",
            "_view_count": null,
            "_view_module": "@jupyter-widgets/controls",
            "_view_module_version": "1.5.0",
            "_view_name": "HTMLView",
            "description": "",
            "description_tooltip": null,
            "layout": "IPY_MODEL_9af5c655795f4752baf4edda1171bc32",
            "placeholder": "​",
            "style": "IPY_MODEL_5c2f66c370cd4c9aa9509bdcde2ae76f",
            "value": " 1016/0 [00:01&lt;00:00, 770.11 examples/s]"
          }
        },
        "9f527661ef19417d85988cae6c8b64a6": {
          "model_module": "@jupyter-widgets/base",
          "model_name": "LayoutModel",
          "model_module_version": "1.2.0",
          "state": {
            "_model_module": "@jupyter-widgets/base",
            "_model_module_version": "1.2.0",
            "_model_name": "LayoutModel",
            "_view_count": null,
            "_view_module": "@jupyter-widgets/base",
            "_view_module_version": "1.2.0",
            "_view_name": "LayoutView",
            "align_content": null,
            "align_items": null,
            "align_self": null,
            "border": null,
            "bottom": null,
            "display": null,
            "flex": null,
            "flex_flow": null,
            "grid_area": null,
            "grid_auto_columns": null,
            "grid_auto_flow": null,
            "grid_auto_rows": null,
            "grid_column": null,
            "grid_gap": null,
            "grid_row": null,
            "grid_template_areas": null,
            "grid_template_columns": null,
            "grid_template_rows": null,
            "height": null,
            "justify_content": null,
            "justify_items": null,
            "left": null,
            "margin": null,
            "max_height": null,
            "max_width": null,
            "min_height": null,
            "min_width": null,
            "object_fit": null,
            "object_position": null,
            "order": null,
            "overflow": null,
            "overflow_x": null,
            "overflow_y": null,
            "padding": null,
            "right": null,
            "top": null,
            "visibility": null,
            "width": null
          }
        },
        "c05800aaeeea4491b802761a85a7dd21": {
          "model_module": "@jupyter-widgets/base",
          "model_name": "LayoutModel",
          "model_module_version": "1.2.0",
          "state": {
            "_model_module": "@jupyter-widgets/base",
            "_model_module_version": "1.2.0",
            "_model_name": "LayoutModel",
            "_view_count": null,
            "_view_module": "@jupyter-widgets/base",
            "_view_module_version": "1.2.0",
            "_view_name": "LayoutView",
            "align_content": null,
            "align_items": null,
            "align_self": null,
            "border": null,
            "bottom": null,
            "display": null,
            "flex": null,
            "flex_flow": null,
            "grid_area": null,
            "grid_auto_columns": null,
            "grid_auto_flow": null,
            "grid_auto_rows": null,
            "grid_column": null,
            "grid_gap": null,
            "grid_row": null,
            "grid_template_areas": null,
            "grid_template_columns": null,
            "grid_template_rows": null,
            "height": null,
            "justify_content": null,
            "justify_items": null,
            "left": null,
            "margin": null,
            "max_height": null,
            "max_width": null,
            "min_height": null,
            "min_width": null,
            "object_fit": null,
            "object_position": null,
            "order": null,
            "overflow": null,
            "overflow_x": null,
            "overflow_y": null,
            "padding": null,
            "right": null,
            "top": null,
            "visibility": null,
            "width": null
          }
        },
        "f52677ed04ec4f82a351ccccefdc40da": {
          "model_module": "@jupyter-widgets/controls",
          "model_name": "DescriptionStyleModel",
          "model_module_version": "1.5.0",
          "state": {
            "_model_module": "@jupyter-widgets/controls",
            "_model_module_version": "1.5.0",
            "_model_name": "DescriptionStyleModel",
            "_view_count": null,
            "_view_module": "@jupyter-widgets/base",
            "_view_module_version": "1.2.0",
            "_view_name": "StyleView",
            "description_width": ""
          }
        },
        "e2af108704ef4482a7b843650ad4ed64": {
          "model_module": "@jupyter-widgets/base",
          "model_name": "LayoutModel",
          "model_module_version": "1.2.0",
          "state": {
            "_model_module": "@jupyter-widgets/base",
            "_model_module_version": "1.2.0",
            "_model_name": "LayoutModel",
            "_view_count": null,
            "_view_module": "@jupyter-widgets/base",
            "_view_module_version": "1.2.0",
            "_view_name": "LayoutView",
            "align_content": null,
            "align_items": null,
            "align_self": null,
            "border": null,
            "bottom": null,
            "display": null,
            "flex": null,
            "flex_flow": null,
            "grid_area": null,
            "grid_auto_columns": null,
            "grid_auto_flow": null,
            "grid_auto_rows": null,
            "grid_column": null,
            "grid_gap": null,
            "grid_row": null,
            "grid_template_areas": null,
            "grid_template_columns": null,
            "grid_template_rows": null,
            "height": null,
            "justify_content": null,
            "justify_items": null,
            "left": null,
            "margin": null,
            "max_height": null,
            "max_width": null,
            "min_height": null,
            "min_width": null,
            "object_fit": null,
            "object_position": null,
            "order": null,
            "overflow": null,
            "overflow_x": null,
            "overflow_y": null,
            "padding": null,
            "right": null,
            "top": null,
            "visibility": null,
            "width": "20px"
          }
        },
        "e99d98493c4047c3b38fdd229db00134": {
          "model_module": "@jupyter-widgets/controls",
          "model_name": "ProgressStyleModel",
          "model_module_version": "1.5.0",
          "state": {
            "_model_module": "@jupyter-widgets/controls",
            "_model_module_version": "1.5.0",
            "_model_name": "ProgressStyleModel",
            "_view_count": null,
            "_view_module": "@jupyter-widgets/base",
            "_view_module_version": "1.2.0",
            "_view_name": "StyleView",
            "bar_color": null,
            "description_width": ""
          }
        },
        "9af5c655795f4752baf4edda1171bc32": {
          "model_module": "@jupyter-widgets/base",
          "model_name": "LayoutModel",
          "model_module_version": "1.2.0",
          "state": {
            "_model_module": "@jupyter-widgets/base",
            "_model_module_version": "1.2.0",
            "_model_name": "LayoutModel",
            "_view_count": null,
            "_view_module": "@jupyter-widgets/base",
            "_view_module_version": "1.2.0",
            "_view_name": "LayoutView",
            "align_content": null,
            "align_items": null,
            "align_self": null,
            "border": null,
            "bottom": null,
            "display": null,
            "flex": null,
            "flex_flow": null,
            "grid_area": null,
            "grid_auto_columns": null,
            "grid_auto_flow": null,
            "grid_auto_rows": null,
            "grid_column": null,
            "grid_gap": null,
            "grid_row": null,
            "grid_template_areas": null,
            "grid_template_columns": null,
            "grid_template_rows": null,
            "height": null,
            "justify_content": null,
            "justify_items": null,
            "left": null,
            "margin": null,
            "max_height": null,
            "max_width": null,
            "min_height": null,
            "min_width": null,
            "object_fit": null,
            "object_position": null,
            "order": null,
            "overflow": null,
            "overflow_x": null,
            "overflow_y": null,
            "padding": null,
            "right": null,
            "top": null,
            "visibility": null,
            "width": null
          }
        },
        "5c2f66c370cd4c9aa9509bdcde2ae76f": {
          "model_module": "@jupyter-widgets/controls",
          "model_name": "DescriptionStyleModel",
          "model_module_version": "1.5.0",
          "state": {
            "_model_module": "@jupyter-widgets/controls",
            "_model_module_version": "1.5.0",
            "_model_name": "DescriptionStyleModel",
            "_view_count": null,
            "_view_module": "@jupyter-widgets/base",
            "_view_module_version": "1.2.0",
            "_view_name": "StyleView",
            "description_width": ""
          }
        },
        "1fd056fe46dd46e99704d51e7b5cf3d7": {
          "model_module": "@jupyter-widgets/controls",
          "model_name": "HBoxModel",
          "model_module_version": "1.5.0",
          "state": {
            "_dom_classes": [],
            "_model_module": "@jupyter-widgets/controls",
            "_model_module_version": "1.5.0",
            "_model_name": "HBoxModel",
            "_view_count": null,
            "_view_module": "@jupyter-widgets/controls",
            "_view_module_version": "1.5.0",
            "_view_name": "HBoxView",
            "box_style": "",
            "children": [
              "IPY_MODEL_580c45d8ddde4a3c84cecbb0c4d3c370",
              "IPY_MODEL_f19b83ef5874471e8015ed5f55d38aad",
              "IPY_MODEL_08a9bbd1db7c474a81e48c3b5c67db7d"
            ],
            "layout": "IPY_MODEL_3e0309db96eb43fd82ae0240b3bfeb63"
          }
        },
        "580c45d8ddde4a3c84cecbb0c4d3c370": {
          "model_module": "@jupyter-widgets/controls",
          "model_name": "HTMLModel",
          "model_module_version": "1.5.0",
          "state": {
            "_dom_classes": [],
            "_model_module": "@jupyter-widgets/controls",
            "_model_module_version": "1.5.0",
            "_model_name": "HTMLModel",
            "_view_count": null,
            "_view_module": "@jupyter-widgets/controls",
            "_view_module_version": "1.5.0",
            "_view_name": "HTMLView",
            "description": "",
            "description_tooltip": null,
            "layout": "IPY_MODEL_50e2f531749f4e70be73cfdfc1d65678",
            "placeholder": "​",
            "style": "IPY_MODEL_bcb28b8feeac40a4b61cecf25daf9d4c",
            "value": "100%"
          }
        },
        "f19b83ef5874471e8015ed5f55d38aad": {
          "model_module": "@jupyter-widgets/controls",
          "model_name": "FloatProgressModel",
          "model_module_version": "1.5.0",
          "state": {
            "_dom_classes": [],
            "_model_module": "@jupyter-widgets/controls",
            "_model_module_version": "1.5.0",
            "_model_name": "FloatProgressModel",
            "_view_count": null,
            "_view_module": "@jupyter-widgets/controls",
            "_view_module_version": "1.5.0",
            "_view_name": "ProgressView",
            "bar_style": "danger",
            "description": "",
            "description_tooltip": null,
            "layout": "IPY_MODEL_5baf1fb74abd4c68977bd2dd2ce466e9",
            "max": 1034,
            "min": 0,
            "orientation": "horizontal",
            "style": "IPY_MODEL_9204a80ea7444fdeb8218f673b282fba",
            "value": 1033
          }
        },
        "08a9bbd1db7c474a81e48c3b5c67db7d": {
          "model_module": "@jupyter-widgets/controls",
          "model_name": "HTMLModel",
          "model_module_version": "1.5.0",
          "state": {
            "_dom_classes": [],
            "_model_module": "@jupyter-widgets/controls",
            "_model_module_version": "1.5.0",
            "_model_name": "HTMLModel",
            "_view_count": null,
            "_view_module": "@jupyter-widgets/controls",
            "_view_module_version": "1.5.0",
            "_view_name": "HTMLView",
            "description": "",
            "description_tooltip": null,
            "layout": "IPY_MODEL_7f1c176344a442b794698302478c2085",
            "placeholder": "​",
            "style": "IPY_MODEL_03abb0c6002e4b69bc0879e933426fda",
            "value": " 1033/1034 [00:00&lt;00:00, 2942.31 examples/s]"
          }
        },
        "3e0309db96eb43fd82ae0240b3bfeb63": {
          "model_module": "@jupyter-widgets/base",
          "model_name": "LayoutModel",
          "model_module_version": "1.2.0",
          "state": {
            "_model_module": "@jupyter-widgets/base",
            "_model_module_version": "1.2.0",
            "_model_name": "LayoutModel",
            "_view_count": null,
            "_view_module": "@jupyter-widgets/base",
            "_view_module_version": "1.2.0",
            "_view_name": "LayoutView",
            "align_content": null,
            "align_items": null,
            "align_self": null,
            "border": null,
            "bottom": null,
            "display": null,
            "flex": null,
            "flex_flow": null,
            "grid_area": null,
            "grid_auto_columns": null,
            "grid_auto_flow": null,
            "grid_auto_rows": null,
            "grid_column": null,
            "grid_gap": null,
            "grid_row": null,
            "grid_template_areas": null,
            "grid_template_columns": null,
            "grid_template_rows": null,
            "height": null,
            "justify_content": null,
            "justify_items": null,
            "left": null,
            "margin": null,
            "max_height": null,
            "max_width": null,
            "min_height": null,
            "min_width": null,
            "object_fit": null,
            "object_position": null,
            "order": null,
            "overflow": null,
            "overflow_x": null,
            "overflow_y": null,
            "padding": null,
            "right": null,
            "top": null,
            "visibility": null,
            "width": null
          }
        },
        "50e2f531749f4e70be73cfdfc1d65678": {
          "model_module": "@jupyter-widgets/base",
          "model_name": "LayoutModel",
          "model_module_version": "1.2.0",
          "state": {
            "_model_module": "@jupyter-widgets/base",
            "_model_module_version": "1.2.0",
            "_model_name": "LayoutModel",
            "_view_count": null,
            "_view_module": "@jupyter-widgets/base",
            "_view_module_version": "1.2.0",
            "_view_name": "LayoutView",
            "align_content": null,
            "align_items": null,
            "align_self": null,
            "border": null,
            "bottom": null,
            "display": null,
            "flex": null,
            "flex_flow": null,
            "grid_area": null,
            "grid_auto_columns": null,
            "grid_auto_flow": null,
            "grid_auto_rows": null,
            "grid_column": null,
            "grid_gap": null,
            "grid_row": null,
            "grid_template_areas": null,
            "grid_template_columns": null,
            "grid_template_rows": null,
            "height": null,
            "justify_content": null,
            "justify_items": null,
            "left": null,
            "margin": null,
            "max_height": null,
            "max_width": null,
            "min_height": null,
            "min_width": null,
            "object_fit": null,
            "object_position": null,
            "order": null,
            "overflow": null,
            "overflow_x": null,
            "overflow_y": null,
            "padding": null,
            "right": null,
            "top": null,
            "visibility": null,
            "width": null
          }
        },
        "bcb28b8feeac40a4b61cecf25daf9d4c": {
          "model_module": "@jupyter-widgets/controls",
          "model_name": "DescriptionStyleModel",
          "model_module_version": "1.5.0",
          "state": {
            "_model_module": "@jupyter-widgets/controls",
            "_model_module_version": "1.5.0",
            "_model_name": "DescriptionStyleModel",
            "_view_count": null,
            "_view_module": "@jupyter-widgets/base",
            "_view_module_version": "1.2.0",
            "_view_name": "StyleView",
            "description_width": ""
          }
        },
        "5baf1fb74abd4c68977bd2dd2ce466e9": {
          "model_module": "@jupyter-widgets/base",
          "model_name": "LayoutModel",
          "model_module_version": "1.2.0",
          "state": {
            "_model_module": "@jupyter-widgets/base",
            "_model_module_version": "1.2.0",
            "_model_name": "LayoutModel",
            "_view_count": null,
            "_view_module": "@jupyter-widgets/base",
            "_view_module_version": "1.2.0",
            "_view_name": "LayoutView",
            "align_content": null,
            "align_items": null,
            "align_self": null,
            "border": null,
            "bottom": null,
            "display": null,
            "flex": null,
            "flex_flow": null,
            "grid_area": null,
            "grid_auto_columns": null,
            "grid_auto_flow": null,
            "grid_auto_rows": null,
            "grid_column": null,
            "grid_gap": null,
            "grid_row": null,
            "grid_template_areas": null,
            "grid_template_columns": null,
            "grid_template_rows": null,
            "height": null,
            "justify_content": null,
            "justify_items": null,
            "left": null,
            "margin": null,
            "max_height": null,
            "max_width": null,
            "min_height": null,
            "min_width": null,
            "object_fit": null,
            "object_position": null,
            "order": null,
            "overflow": null,
            "overflow_x": null,
            "overflow_y": null,
            "padding": null,
            "right": null,
            "top": null,
            "visibility": null,
            "width": null
          }
        },
        "9204a80ea7444fdeb8218f673b282fba": {
          "model_module": "@jupyter-widgets/controls",
          "model_name": "ProgressStyleModel",
          "model_module_version": "1.5.0",
          "state": {
            "_model_module": "@jupyter-widgets/controls",
            "_model_module_version": "1.5.0",
            "_model_name": "ProgressStyleModel",
            "_view_count": null,
            "_view_module": "@jupyter-widgets/base",
            "_view_module_version": "1.2.0",
            "_view_name": "StyleView",
            "bar_color": null,
            "description_width": ""
          }
        },
        "7f1c176344a442b794698302478c2085": {
          "model_module": "@jupyter-widgets/base",
          "model_name": "LayoutModel",
          "model_module_version": "1.2.0",
          "state": {
            "_model_module": "@jupyter-widgets/base",
            "_model_module_version": "1.2.0",
            "_model_name": "LayoutModel",
            "_view_count": null,
            "_view_module": "@jupyter-widgets/base",
            "_view_module_version": "1.2.0",
            "_view_name": "LayoutView",
            "align_content": null,
            "align_items": null,
            "align_self": null,
            "border": null,
            "bottom": null,
            "display": null,
            "flex": null,
            "flex_flow": null,
            "grid_area": null,
            "grid_auto_columns": null,
            "grid_auto_flow": null,
            "grid_auto_rows": null,
            "grid_column": null,
            "grid_gap": null,
            "grid_row": null,
            "grid_template_areas": null,
            "grid_template_columns": null,
            "grid_template_rows": null,
            "height": null,
            "justify_content": null,
            "justify_items": null,
            "left": null,
            "margin": null,
            "max_height": null,
            "max_width": null,
            "min_height": null,
            "min_width": null,
            "object_fit": null,
            "object_position": null,
            "order": null,
            "overflow": null,
            "overflow_x": null,
            "overflow_y": null,
            "padding": null,
            "right": null,
            "top": null,
            "visibility": null,
            "width": null
          }
        },
        "03abb0c6002e4b69bc0879e933426fda": {
          "model_module": "@jupyter-widgets/controls",
          "model_name": "DescriptionStyleModel",
          "model_module_version": "1.5.0",
          "state": {
            "_model_module": "@jupyter-widgets/controls",
            "_model_module_version": "1.5.0",
            "_model_name": "DescriptionStyleModel",
            "_view_count": null,
            "_view_module": "@jupyter-widgets/base",
            "_view_module_version": "1.2.0",
            "_view_name": "StyleView",
            "description_width": ""
          }
        },
        "74c0777dee6d48d283fdca8717b69eac": {
          "model_module": "@jupyter-widgets/controls",
          "model_name": "HBoxModel",
          "model_module_version": "1.5.0",
          "state": {
            "_dom_classes": [],
            "_model_module": "@jupyter-widgets/controls",
            "_model_module_version": "1.5.0",
            "_model_name": "HBoxModel",
            "_view_count": null,
            "_view_module": "@jupyter-widgets/controls",
            "_view_module_version": "1.5.0",
            "_view_name": "HBoxView",
            "box_style": "",
            "children": [
              "IPY_MODEL_5104b21b92e1468d8bc4e99a87e9ee3e",
              "IPY_MODEL_bcb31c046eb64e46acae1e0d0c90f71c",
              "IPY_MODEL_c402992636214e2abdcfb084a1832003"
            ],
            "layout": "IPY_MODEL_3f055d0ebcd444ae895f2f53e5501960"
          }
        },
        "5104b21b92e1468d8bc4e99a87e9ee3e": {
          "model_module": "@jupyter-widgets/controls",
          "model_name": "HTMLModel",
          "model_module_version": "1.5.0",
          "state": {
            "_dom_classes": [],
            "_model_module": "@jupyter-widgets/controls",
            "_model_module_version": "1.5.0",
            "_model_name": "HTMLModel",
            "_view_count": null,
            "_view_module": "@jupyter-widgets/controls",
            "_view_module_version": "1.5.0",
            "_view_name": "HTMLView",
            "description": "",
            "description_tooltip": null,
            "layout": "IPY_MODEL_35a93e0c60294aaba8b467ad5ba93566",
            "placeholder": "​",
            "style": "IPY_MODEL_35dfb1e93ec14e6db1cae5f91a85889e",
            "value": ""
          }
        },
        "bcb31c046eb64e46acae1e0d0c90f71c": {
          "model_module": "@jupyter-widgets/controls",
          "model_name": "FloatProgressModel",
          "model_module_version": "1.5.0",
          "state": {
            "_dom_classes": [],
            "_model_module": "@jupyter-widgets/controls",
            "_model_module_version": "1.5.0",
            "_model_name": "FloatProgressModel",
            "_view_count": null,
            "_view_module": "@jupyter-widgets/controls",
            "_view_module_version": "1.5.0",
            "_view_name": "ProgressView",
            "bar_style": "info",
            "description": "",
            "description_tooltip": null,
            "layout": "IPY_MODEL_c327dcf40406472a90ed67419382b1d7",
            "max": 1,
            "min": 0,
            "orientation": "horizontal",
            "style": "IPY_MODEL_d52967d7f0174024ae5e6259f7dfd004",
            "value": 1
          }
        },
        "c402992636214e2abdcfb084a1832003": {
          "model_module": "@jupyter-widgets/controls",
          "model_name": "HTMLModel",
          "model_module_version": "1.5.0",
          "state": {
            "_dom_classes": [],
            "_model_module": "@jupyter-widgets/controls",
            "_model_module_version": "1.5.0",
            "_model_name": "HTMLModel",
            "_view_count": null,
            "_view_module": "@jupyter-widgets/controls",
            "_view_module_version": "1.5.0",
            "_view_name": "HTMLView",
            "description": "",
            "description_tooltip": null,
            "layout": "IPY_MODEL_2964e61c0cdb46c99985c2dc3bc38bd6",
            "placeholder": "​",
            "style": "IPY_MODEL_1fffe48b37e04757ad123ec063b51415",
            "value": " 65/0 [00:00&lt;00:00, 367.56 examples/s]"
          }
        },
        "3f055d0ebcd444ae895f2f53e5501960": {
          "model_module": "@jupyter-widgets/base",
          "model_name": "LayoutModel",
          "model_module_version": "1.2.0",
          "state": {
            "_model_module": "@jupyter-widgets/base",
            "_model_module_version": "1.2.0",
            "_model_name": "LayoutModel",
            "_view_count": null,
            "_view_module": "@jupyter-widgets/base",
            "_view_module_version": "1.2.0",
            "_view_name": "LayoutView",
            "align_content": null,
            "align_items": null,
            "align_self": null,
            "border": null,
            "bottom": null,
            "display": null,
            "flex": null,
            "flex_flow": null,
            "grid_area": null,
            "grid_auto_columns": null,
            "grid_auto_flow": null,
            "grid_auto_rows": null,
            "grid_column": null,
            "grid_gap": null,
            "grid_row": null,
            "grid_template_areas": null,
            "grid_template_columns": null,
            "grid_template_rows": null,
            "height": null,
            "justify_content": null,
            "justify_items": null,
            "left": null,
            "margin": null,
            "max_height": null,
            "max_width": null,
            "min_height": null,
            "min_width": null,
            "object_fit": null,
            "object_position": null,
            "order": null,
            "overflow": null,
            "overflow_x": null,
            "overflow_y": null,
            "padding": null,
            "right": null,
            "top": null,
            "visibility": null,
            "width": null
          }
        },
        "35a93e0c60294aaba8b467ad5ba93566": {
          "model_module": "@jupyter-widgets/base",
          "model_name": "LayoutModel",
          "model_module_version": "1.2.0",
          "state": {
            "_model_module": "@jupyter-widgets/base",
            "_model_module_version": "1.2.0",
            "_model_name": "LayoutModel",
            "_view_count": null,
            "_view_module": "@jupyter-widgets/base",
            "_view_module_version": "1.2.0",
            "_view_name": "LayoutView",
            "align_content": null,
            "align_items": null,
            "align_self": null,
            "border": null,
            "bottom": null,
            "display": null,
            "flex": null,
            "flex_flow": null,
            "grid_area": null,
            "grid_auto_columns": null,
            "grid_auto_flow": null,
            "grid_auto_rows": null,
            "grid_column": null,
            "grid_gap": null,
            "grid_row": null,
            "grid_template_areas": null,
            "grid_template_columns": null,
            "grid_template_rows": null,
            "height": null,
            "justify_content": null,
            "justify_items": null,
            "left": null,
            "margin": null,
            "max_height": null,
            "max_width": null,
            "min_height": null,
            "min_width": null,
            "object_fit": null,
            "object_position": null,
            "order": null,
            "overflow": null,
            "overflow_x": null,
            "overflow_y": null,
            "padding": null,
            "right": null,
            "top": null,
            "visibility": null,
            "width": null
          }
        },
        "35dfb1e93ec14e6db1cae5f91a85889e": {
          "model_module": "@jupyter-widgets/controls",
          "model_name": "DescriptionStyleModel",
          "model_module_version": "1.5.0",
          "state": {
            "_model_module": "@jupyter-widgets/controls",
            "_model_module_version": "1.5.0",
            "_model_name": "DescriptionStyleModel",
            "_view_count": null,
            "_view_module": "@jupyter-widgets/base",
            "_view_module_version": "1.2.0",
            "_view_name": "StyleView",
            "description_width": ""
          }
        },
        "c327dcf40406472a90ed67419382b1d7": {
          "model_module": "@jupyter-widgets/base",
          "model_name": "LayoutModel",
          "model_module_version": "1.2.0",
          "state": {
            "_model_module": "@jupyter-widgets/base",
            "_model_module_version": "1.2.0",
            "_model_name": "LayoutModel",
            "_view_count": null,
            "_view_module": "@jupyter-widgets/base",
            "_view_module_version": "1.2.0",
            "_view_name": "LayoutView",
            "align_content": null,
            "align_items": null,
            "align_self": null,
            "border": null,
            "bottom": null,
            "display": null,
            "flex": null,
            "flex_flow": null,
            "grid_area": null,
            "grid_auto_columns": null,
            "grid_auto_flow": null,
            "grid_auto_rows": null,
            "grid_column": null,
            "grid_gap": null,
            "grid_row": null,
            "grid_template_areas": null,
            "grid_template_columns": null,
            "grid_template_rows": null,
            "height": null,
            "justify_content": null,
            "justify_items": null,
            "left": null,
            "margin": null,
            "max_height": null,
            "max_width": null,
            "min_height": null,
            "min_width": null,
            "object_fit": null,
            "object_position": null,
            "order": null,
            "overflow": null,
            "overflow_x": null,
            "overflow_y": null,
            "padding": null,
            "right": null,
            "top": null,
            "visibility": null,
            "width": "20px"
          }
        },
        "d52967d7f0174024ae5e6259f7dfd004": {
          "model_module": "@jupyter-widgets/controls",
          "model_name": "ProgressStyleModel",
          "model_module_version": "1.5.0",
          "state": {
            "_model_module": "@jupyter-widgets/controls",
            "_model_module_version": "1.5.0",
            "_model_name": "ProgressStyleModel",
            "_view_count": null,
            "_view_module": "@jupyter-widgets/base",
            "_view_module_version": "1.2.0",
            "_view_name": "StyleView",
            "bar_color": null,
            "description_width": ""
          }
        },
        "2964e61c0cdb46c99985c2dc3bc38bd6": {
          "model_module": "@jupyter-widgets/base",
          "model_name": "LayoutModel",
          "model_module_version": "1.2.0",
          "state": {
            "_model_module": "@jupyter-widgets/base",
            "_model_module_version": "1.2.0",
            "_model_name": "LayoutModel",
            "_view_count": null,
            "_view_module": "@jupyter-widgets/base",
            "_view_module_version": "1.2.0",
            "_view_name": "LayoutView",
            "align_content": null,
            "align_items": null,
            "align_self": null,
            "border": null,
            "bottom": null,
            "display": null,
            "flex": null,
            "flex_flow": null,
            "grid_area": null,
            "grid_auto_columns": null,
            "grid_auto_flow": null,
            "grid_auto_rows": null,
            "grid_column": null,
            "grid_gap": null,
            "grid_row": null,
            "grid_template_areas": null,
            "grid_template_columns": null,
            "grid_template_rows": null,
            "height": null,
            "justify_content": null,
            "justify_items": null,
            "left": null,
            "margin": null,
            "max_height": null,
            "max_width": null,
            "min_height": null,
            "min_width": null,
            "object_fit": null,
            "object_position": null,
            "order": null,
            "overflow": null,
            "overflow_x": null,
            "overflow_y": null,
            "padding": null,
            "right": null,
            "top": null,
            "visibility": null,
            "width": null
          }
        },
        "1fffe48b37e04757ad123ec063b51415": {
          "model_module": "@jupyter-widgets/controls",
          "model_name": "DescriptionStyleModel",
          "model_module_version": "1.5.0",
          "state": {
            "_model_module": "@jupyter-widgets/controls",
            "_model_module_version": "1.5.0",
            "_model_name": "DescriptionStyleModel",
            "_view_count": null,
            "_view_module": "@jupyter-widgets/base",
            "_view_module_version": "1.2.0",
            "_view_name": "StyleView",
            "description_width": ""
          }
        },
        "aef03ea1c36e494db4478e2c2c54f020": {
          "model_module": "@jupyter-widgets/controls",
          "model_name": "HBoxModel",
          "model_module_version": "1.5.0",
          "state": {
            "_dom_classes": [],
            "_model_module": "@jupyter-widgets/controls",
            "_model_module_version": "1.5.0",
            "_model_name": "HBoxModel",
            "_view_count": null,
            "_view_module": "@jupyter-widgets/controls",
            "_view_module_version": "1.5.0",
            "_view_name": "HBoxView",
            "box_style": "",
            "children": [
              "IPY_MODEL_5c12607f5c454313be15c06346b2246e",
              "IPY_MODEL_de2a84ccbf3b43d593dd3ff6eca6016d",
              "IPY_MODEL_122eb94e761d40398eb9f7221fd31198"
            ],
            "layout": "IPY_MODEL_ebed64f1d19a400aaed96af36d69e773"
          }
        },
        "5c12607f5c454313be15c06346b2246e": {
          "model_module": "@jupyter-widgets/controls",
          "model_name": "HTMLModel",
          "model_module_version": "1.5.0",
          "state": {
            "_dom_classes": [],
            "_model_module": "@jupyter-widgets/controls",
            "_model_module_version": "1.5.0",
            "_model_name": "HTMLModel",
            "_view_count": null,
            "_view_module": "@jupyter-widgets/controls",
            "_view_module_version": "1.5.0",
            "_view_name": "HTMLView",
            "description": "",
            "description_tooltip": null,
            "layout": "IPY_MODEL_7835370b269a4f8b8ac2388240cc6aff",
            "placeholder": "​",
            "style": "IPY_MODEL_45fb2c003ec54a10905179a7cf0f36f1",
            "value": " 99%"
          }
        },
        "de2a84ccbf3b43d593dd3ff6eca6016d": {
          "model_module": "@jupyter-widgets/controls",
          "model_name": "FloatProgressModel",
          "model_module_version": "1.5.0",
          "state": {
            "_dom_classes": [],
            "_model_module": "@jupyter-widgets/controls",
            "_model_module_version": "1.5.0",
            "_model_name": "FloatProgressModel",
            "_view_count": null,
            "_view_module": "@jupyter-widgets/controls",
            "_view_module_version": "1.5.0",
            "_view_name": "ProgressView",
            "bar_style": "danger",
            "description": "",
            "description_tooltip": null,
            "layout": "IPY_MODEL_1d48ba7177494714b12925ae19173f03",
            "max": 133,
            "min": 0,
            "orientation": "horizontal",
            "style": "IPY_MODEL_387caa4752094796bfffb47ee243a620",
            "value": 132
          }
        },
        "122eb94e761d40398eb9f7221fd31198": {
          "model_module": "@jupyter-widgets/controls",
          "model_name": "HTMLModel",
          "model_module_version": "1.5.0",
          "state": {
            "_dom_classes": [],
            "_model_module": "@jupyter-widgets/controls",
            "_model_module_version": "1.5.0",
            "_model_name": "HTMLModel",
            "_view_count": null,
            "_view_module": "@jupyter-widgets/controls",
            "_view_module_version": "1.5.0",
            "_view_name": "HTMLView",
            "description": "",
            "description_tooltip": null,
            "layout": "IPY_MODEL_23bb81915aed4a82a262e9b0d544f4d0",
            "placeholder": "​",
            "style": "IPY_MODEL_9a2534122b33416aad4a40b8aad2d489",
            "value": " 132/133 [00:00&lt;00:00, 619.63 examples/s]"
          }
        },
        "ebed64f1d19a400aaed96af36d69e773": {
          "model_module": "@jupyter-widgets/base",
          "model_name": "LayoutModel",
          "model_module_version": "1.2.0",
          "state": {
            "_model_module": "@jupyter-widgets/base",
            "_model_module_version": "1.2.0",
            "_model_name": "LayoutModel",
            "_view_count": null,
            "_view_module": "@jupyter-widgets/base",
            "_view_module_version": "1.2.0",
            "_view_name": "LayoutView",
            "align_content": null,
            "align_items": null,
            "align_self": null,
            "border": null,
            "bottom": null,
            "display": null,
            "flex": null,
            "flex_flow": null,
            "grid_area": null,
            "grid_auto_columns": null,
            "grid_auto_flow": null,
            "grid_auto_rows": null,
            "grid_column": null,
            "grid_gap": null,
            "grid_row": null,
            "grid_template_areas": null,
            "grid_template_columns": null,
            "grid_template_rows": null,
            "height": null,
            "justify_content": null,
            "justify_items": null,
            "left": null,
            "margin": null,
            "max_height": null,
            "max_width": null,
            "min_height": null,
            "min_width": null,
            "object_fit": null,
            "object_position": null,
            "order": null,
            "overflow": null,
            "overflow_x": null,
            "overflow_y": null,
            "padding": null,
            "right": null,
            "top": null,
            "visibility": null,
            "width": null
          }
        },
        "7835370b269a4f8b8ac2388240cc6aff": {
          "model_module": "@jupyter-widgets/base",
          "model_name": "LayoutModel",
          "model_module_version": "1.2.0",
          "state": {
            "_model_module": "@jupyter-widgets/base",
            "_model_module_version": "1.2.0",
            "_model_name": "LayoutModel",
            "_view_count": null,
            "_view_module": "@jupyter-widgets/base",
            "_view_module_version": "1.2.0",
            "_view_name": "LayoutView",
            "align_content": null,
            "align_items": null,
            "align_self": null,
            "border": null,
            "bottom": null,
            "display": null,
            "flex": null,
            "flex_flow": null,
            "grid_area": null,
            "grid_auto_columns": null,
            "grid_auto_flow": null,
            "grid_auto_rows": null,
            "grid_column": null,
            "grid_gap": null,
            "grid_row": null,
            "grid_template_areas": null,
            "grid_template_columns": null,
            "grid_template_rows": null,
            "height": null,
            "justify_content": null,
            "justify_items": null,
            "left": null,
            "margin": null,
            "max_height": null,
            "max_width": null,
            "min_height": null,
            "min_width": null,
            "object_fit": null,
            "object_position": null,
            "order": null,
            "overflow": null,
            "overflow_x": null,
            "overflow_y": null,
            "padding": null,
            "right": null,
            "top": null,
            "visibility": null,
            "width": null
          }
        },
        "45fb2c003ec54a10905179a7cf0f36f1": {
          "model_module": "@jupyter-widgets/controls",
          "model_name": "DescriptionStyleModel",
          "model_module_version": "1.5.0",
          "state": {
            "_model_module": "@jupyter-widgets/controls",
            "_model_module_version": "1.5.0",
            "_model_name": "DescriptionStyleModel",
            "_view_count": null,
            "_view_module": "@jupyter-widgets/base",
            "_view_module_version": "1.2.0",
            "_view_name": "StyleView",
            "description_width": ""
          }
        },
        "1d48ba7177494714b12925ae19173f03": {
          "model_module": "@jupyter-widgets/base",
          "model_name": "LayoutModel",
          "model_module_version": "1.2.0",
          "state": {
            "_model_module": "@jupyter-widgets/base",
            "_model_module_version": "1.2.0",
            "_model_name": "LayoutModel",
            "_view_count": null,
            "_view_module": "@jupyter-widgets/base",
            "_view_module_version": "1.2.0",
            "_view_name": "LayoutView",
            "align_content": null,
            "align_items": null,
            "align_self": null,
            "border": null,
            "bottom": null,
            "display": null,
            "flex": null,
            "flex_flow": null,
            "grid_area": null,
            "grid_auto_columns": null,
            "grid_auto_flow": null,
            "grid_auto_rows": null,
            "grid_column": null,
            "grid_gap": null,
            "grid_row": null,
            "grid_template_areas": null,
            "grid_template_columns": null,
            "grid_template_rows": null,
            "height": null,
            "justify_content": null,
            "justify_items": null,
            "left": null,
            "margin": null,
            "max_height": null,
            "max_width": null,
            "min_height": null,
            "min_width": null,
            "object_fit": null,
            "object_position": null,
            "order": null,
            "overflow": null,
            "overflow_x": null,
            "overflow_y": null,
            "padding": null,
            "right": null,
            "top": null,
            "visibility": null,
            "width": null
          }
        },
        "387caa4752094796bfffb47ee243a620": {
          "model_module": "@jupyter-widgets/controls",
          "model_name": "ProgressStyleModel",
          "model_module_version": "1.5.0",
          "state": {
            "_model_module": "@jupyter-widgets/controls",
            "_model_module_version": "1.5.0",
            "_model_name": "ProgressStyleModel",
            "_view_count": null,
            "_view_module": "@jupyter-widgets/base",
            "_view_module_version": "1.2.0",
            "_view_name": "StyleView",
            "bar_color": null,
            "description_width": ""
          }
        },
        "23bb81915aed4a82a262e9b0d544f4d0": {
          "model_module": "@jupyter-widgets/base",
          "model_name": "LayoutModel",
          "model_module_version": "1.2.0",
          "state": {
            "_model_module": "@jupyter-widgets/base",
            "_model_module_version": "1.2.0",
            "_model_name": "LayoutModel",
            "_view_count": null,
            "_view_module": "@jupyter-widgets/base",
            "_view_module_version": "1.2.0",
            "_view_name": "LayoutView",
            "align_content": null,
            "align_items": null,
            "align_self": null,
            "border": null,
            "bottom": null,
            "display": null,
            "flex": null,
            "flex_flow": null,
            "grid_area": null,
            "grid_auto_columns": null,
            "grid_auto_flow": null,
            "grid_auto_rows": null,
            "grid_column": null,
            "grid_gap": null,
            "grid_row": null,
            "grid_template_areas": null,
            "grid_template_columns": null,
            "grid_template_rows": null,
            "height": null,
            "justify_content": null,
            "justify_items": null,
            "left": null,
            "margin": null,
            "max_height": null,
            "max_width": null,
            "min_height": null,
            "min_width": null,
            "object_fit": null,
            "object_position": null,
            "order": null,
            "overflow": null,
            "overflow_x": null,
            "overflow_y": null,
            "padding": null,
            "right": null,
            "top": null,
            "visibility": null,
            "width": null
          }
        },
        "9a2534122b33416aad4a40b8aad2d489": {
          "model_module": "@jupyter-widgets/controls",
          "model_name": "DescriptionStyleModel",
          "model_module_version": "1.5.0",
          "state": {
            "_model_module": "@jupyter-widgets/controls",
            "_model_module_version": "1.5.0",
            "_model_name": "DescriptionStyleModel",
            "_view_count": null,
            "_view_module": "@jupyter-widgets/base",
            "_view_module_version": "1.2.0",
            "_view_name": "StyleView",
            "description_width": ""
          }
        },
        "06d440e7419049f4833a33c4d0e6f4d5": {
          "model_module": "@jupyter-widgets/controls",
          "model_name": "HBoxModel",
          "model_module_version": "1.5.0",
          "state": {
            "_dom_classes": [],
            "_model_module": "@jupyter-widgets/controls",
            "_model_module_version": "1.5.0",
            "_model_name": "HBoxModel",
            "_view_count": null,
            "_view_module": "@jupyter-widgets/controls",
            "_view_module_version": "1.5.0",
            "_view_name": "HBoxView",
            "box_style": "",
            "children": [
              "IPY_MODEL_f7e534e54ab8420cb88809c3cb1da054",
              "IPY_MODEL_25247fa0ca6d42418d61d11b0dfe55ec",
              "IPY_MODEL_47afd19807c9477b977c7e2158b1429c"
            ],
            "layout": "IPY_MODEL_14457338cc15467c83b39d121bec43fe"
          }
        },
        "f7e534e54ab8420cb88809c3cb1da054": {
          "model_module": "@jupyter-widgets/controls",
          "model_name": "HTMLModel",
          "model_module_version": "1.5.0",
          "state": {
            "_dom_classes": [],
            "_model_module": "@jupyter-widgets/controls",
            "_model_module_version": "1.5.0",
            "_model_name": "HTMLModel",
            "_view_count": null,
            "_view_module": "@jupyter-widgets/controls",
            "_view_module_version": "1.5.0",
            "_view_name": "HTMLView",
            "description": "",
            "description_tooltip": null,
            "layout": "IPY_MODEL_aa159c4b57c34744a4e702a9bc63ed88",
            "placeholder": "​",
            "style": "IPY_MODEL_3886f30a292248dba4a62e65e449eb98",
            "value": ""
          }
        },
        "25247fa0ca6d42418d61d11b0dfe55ec": {
          "model_module": "@jupyter-widgets/controls",
          "model_name": "FloatProgressModel",
          "model_module_version": "1.5.0",
          "state": {
            "_dom_classes": [],
            "_model_module": "@jupyter-widgets/controls",
            "_model_module_version": "1.5.0",
            "_model_name": "FloatProgressModel",
            "_view_count": null,
            "_view_module": "@jupyter-widgets/controls",
            "_view_module_version": "1.5.0",
            "_view_name": "ProgressView",
            "bar_style": "info",
            "description": "",
            "description_tooltip": null,
            "layout": "IPY_MODEL_3b6269b6bd0447eda3a9d86742f1c323",
            "max": 1,
            "min": 0,
            "orientation": "horizontal",
            "style": "IPY_MODEL_d15eaee5b70d4ce9bb6024c537c11ad6",
            "value": 1
          }
        },
        "47afd19807c9477b977c7e2158b1429c": {
          "model_module": "@jupyter-widgets/controls",
          "model_name": "HTMLModel",
          "model_module_version": "1.5.0",
          "state": {
            "_dom_classes": [],
            "_model_module": "@jupyter-widgets/controls",
            "_model_module_version": "1.5.0",
            "_model_name": "HTMLModel",
            "_view_count": null,
            "_view_module": "@jupyter-widgets/controls",
            "_view_module_version": "1.5.0",
            "_view_name": "HTMLView",
            "description": "",
            "description_tooltip": null,
            "layout": "IPY_MODEL_c932dc79a23b44b68000d70a06d5a536",
            "placeholder": "​",
            "style": "IPY_MODEL_a5405a975ce54f1bbbf523743efd9679",
            "value": " 122/0 [00:00&lt;00:00, 444.05 examples/s]"
          }
        },
        "14457338cc15467c83b39d121bec43fe": {
          "model_module": "@jupyter-widgets/base",
          "model_name": "LayoutModel",
          "model_module_version": "1.2.0",
          "state": {
            "_model_module": "@jupyter-widgets/base",
            "_model_module_version": "1.2.0",
            "_model_name": "LayoutModel",
            "_view_count": null,
            "_view_module": "@jupyter-widgets/base",
            "_view_module_version": "1.2.0",
            "_view_name": "LayoutView",
            "align_content": null,
            "align_items": null,
            "align_self": null,
            "border": null,
            "bottom": null,
            "display": null,
            "flex": null,
            "flex_flow": null,
            "grid_area": null,
            "grid_auto_columns": null,
            "grid_auto_flow": null,
            "grid_auto_rows": null,
            "grid_column": null,
            "grid_gap": null,
            "grid_row": null,
            "grid_template_areas": null,
            "grid_template_columns": null,
            "grid_template_rows": null,
            "height": null,
            "justify_content": null,
            "justify_items": null,
            "left": null,
            "margin": null,
            "max_height": null,
            "max_width": null,
            "min_height": null,
            "min_width": null,
            "object_fit": null,
            "object_position": null,
            "order": null,
            "overflow": null,
            "overflow_x": null,
            "overflow_y": null,
            "padding": null,
            "right": null,
            "top": null,
            "visibility": null,
            "width": null
          }
        },
        "aa159c4b57c34744a4e702a9bc63ed88": {
          "model_module": "@jupyter-widgets/base",
          "model_name": "LayoutModel",
          "model_module_version": "1.2.0",
          "state": {
            "_model_module": "@jupyter-widgets/base",
            "_model_module_version": "1.2.0",
            "_model_name": "LayoutModel",
            "_view_count": null,
            "_view_module": "@jupyter-widgets/base",
            "_view_module_version": "1.2.0",
            "_view_name": "LayoutView",
            "align_content": null,
            "align_items": null,
            "align_self": null,
            "border": null,
            "bottom": null,
            "display": null,
            "flex": null,
            "flex_flow": null,
            "grid_area": null,
            "grid_auto_columns": null,
            "grid_auto_flow": null,
            "grid_auto_rows": null,
            "grid_column": null,
            "grid_gap": null,
            "grid_row": null,
            "grid_template_areas": null,
            "grid_template_columns": null,
            "grid_template_rows": null,
            "height": null,
            "justify_content": null,
            "justify_items": null,
            "left": null,
            "margin": null,
            "max_height": null,
            "max_width": null,
            "min_height": null,
            "min_width": null,
            "object_fit": null,
            "object_position": null,
            "order": null,
            "overflow": null,
            "overflow_x": null,
            "overflow_y": null,
            "padding": null,
            "right": null,
            "top": null,
            "visibility": null,
            "width": null
          }
        },
        "3886f30a292248dba4a62e65e449eb98": {
          "model_module": "@jupyter-widgets/controls",
          "model_name": "DescriptionStyleModel",
          "model_module_version": "1.5.0",
          "state": {
            "_model_module": "@jupyter-widgets/controls",
            "_model_module_version": "1.5.0",
            "_model_name": "DescriptionStyleModel",
            "_view_count": null,
            "_view_module": "@jupyter-widgets/base",
            "_view_module_version": "1.2.0",
            "_view_name": "StyleView",
            "description_width": ""
          }
        },
        "3b6269b6bd0447eda3a9d86742f1c323": {
          "model_module": "@jupyter-widgets/base",
          "model_name": "LayoutModel",
          "model_module_version": "1.2.0",
          "state": {
            "_model_module": "@jupyter-widgets/base",
            "_model_module_version": "1.2.0",
            "_model_name": "LayoutModel",
            "_view_count": null,
            "_view_module": "@jupyter-widgets/base",
            "_view_module_version": "1.2.0",
            "_view_name": "LayoutView",
            "align_content": null,
            "align_items": null,
            "align_self": null,
            "border": null,
            "bottom": null,
            "display": null,
            "flex": null,
            "flex_flow": null,
            "grid_area": null,
            "grid_auto_columns": null,
            "grid_auto_flow": null,
            "grid_auto_rows": null,
            "grid_column": null,
            "grid_gap": null,
            "grid_row": null,
            "grid_template_areas": null,
            "grid_template_columns": null,
            "grid_template_rows": null,
            "height": null,
            "justify_content": null,
            "justify_items": null,
            "left": null,
            "margin": null,
            "max_height": null,
            "max_width": null,
            "min_height": null,
            "min_width": null,
            "object_fit": null,
            "object_position": null,
            "order": null,
            "overflow": null,
            "overflow_x": null,
            "overflow_y": null,
            "padding": null,
            "right": null,
            "top": null,
            "visibility": null,
            "width": "20px"
          }
        },
        "d15eaee5b70d4ce9bb6024c537c11ad6": {
          "model_module": "@jupyter-widgets/controls",
          "model_name": "ProgressStyleModel",
          "model_module_version": "1.5.0",
          "state": {
            "_model_module": "@jupyter-widgets/controls",
            "_model_module_version": "1.5.0",
            "_model_name": "ProgressStyleModel",
            "_view_count": null,
            "_view_module": "@jupyter-widgets/base",
            "_view_module_version": "1.2.0",
            "_view_name": "StyleView",
            "bar_color": null,
            "description_width": ""
          }
        },
        "c932dc79a23b44b68000d70a06d5a536": {
          "model_module": "@jupyter-widgets/base",
          "model_name": "LayoutModel",
          "model_module_version": "1.2.0",
          "state": {
            "_model_module": "@jupyter-widgets/base",
            "_model_module_version": "1.2.0",
            "_model_name": "LayoutModel",
            "_view_count": null,
            "_view_module": "@jupyter-widgets/base",
            "_view_module_version": "1.2.0",
            "_view_name": "LayoutView",
            "align_content": null,
            "align_items": null,
            "align_self": null,
            "border": null,
            "bottom": null,
            "display": null,
            "flex": null,
            "flex_flow": null,
            "grid_area": null,
            "grid_auto_columns": null,
            "grid_auto_flow": null,
            "grid_auto_rows": null,
            "grid_column": null,
            "grid_gap": null,
            "grid_row": null,
            "grid_template_areas": null,
            "grid_template_columns": null,
            "grid_template_rows": null,
            "height": null,
            "justify_content": null,
            "justify_items": null,
            "left": null,
            "margin": null,
            "max_height": null,
            "max_width": null,
            "min_height": null,
            "min_width": null,
            "object_fit": null,
            "object_position": null,
            "order": null,
            "overflow": null,
            "overflow_x": null,
            "overflow_y": null,
            "padding": null,
            "right": null,
            "top": null,
            "visibility": null,
            "width": null
          }
        },
        "a5405a975ce54f1bbbf523743efd9679": {
          "model_module": "@jupyter-widgets/controls",
          "model_name": "DescriptionStyleModel",
          "model_module_version": "1.5.0",
          "state": {
            "_model_module": "@jupyter-widgets/controls",
            "_model_module_version": "1.5.0",
            "_model_name": "DescriptionStyleModel",
            "_view_count": null,
            "_view_module": "@jupyter-widgets/base",
            "_view_module_version": "1.2.0",
            "_view_name": "StyleView",
            "description_width": ""
          }
        },
        "c57d72f6fa1f425b99095f4cdd46d045": {
          "model_module": "@jupyter-widgets/controls",
          "model_name": "HBoxModel",
          "model_module_version": "1.5.0",
          "state": {
            "_dom_classes": [],
            "_model_module": "@jupyter-widgets/controls",
            "_model_module_version": "1.5.0",
            "_model_name": "HBoxModel",
            "_view_count": null,
            "_view_module": "@jupyter-widgets/controls",
            "_view_module_version": "1.5.0",
            "_view_name": "HBoxView",
            "box_style": "",
            "children": [
              "IPY_MODEL_b39ea6b6cbcb42de9c60dcebf55a1aaf",
              "IPY_MODEL_eb51376c07294ad8beba6a8d58fa14bd",
              "IPY_MODEL_ffe2e645462f4c80be9345fe72b8a0c0"
            ],
            "layout": "IPY_MODEL_94677a25cca1415fa8cc066cd72dfec7"
          }
        },
        "b39ea6b6cbcb42de9c60dcebf55a1aaf": {
          "model_module": "@jupyter-widgets/controls",
          "model_name": "HTMLModel",
          "model_module_version": "1.5.0",
          "state": {
            "_dom_classes": [],
            "_model_module": "@jupyter-widgets/controls",
            "_model_module_version": "1.5.0",
            "_model_name": "HTMLModel",
            "_view_count": null,
            "_view_module": "@jupyter-widgets/controls",
            "_view_module_version": "1.5.0",
            "_view_name": "HTMLView",
            "description": "",
            "description_tooltip": null,
            "layout": "IPY_MODEL_7bfce15d01c84f0ca55587a50ec8cb67",
            "placeholder": "​",
            "style": "IPY_MODEL_1f003f6781c9491db11c0b3e4ea22939",
            "value": " 99%"
          }
        },
        "eb51376c07294ad8beba6a8d58fa14bd": {
          "model_module": "@jupyter-widgets/controls",
          "model_name": "FloatProgressModel",
          "model_module_version": "1.5.0",
          "state": {
            "_dom_classes": [],
            "_model_module": "@jupyter-widgets/controls",
            "_model_module_version": "1.5.0",
            "_model_name": "FloatProgressModel",
            "_view_count": null,
            "_view_module": "@jupyter-widgets/controls",
            "_view_module_version": "1.5.0",
            "_view_name": "ProgressView",
            "bar_style": "danger",
            "description": "",
            "description_tooltip": null,
            "layout": "IPY_MODEL_a77476b9540243248740d3ee09eba3e1",
            "max": 128,
            "min": 0,
            "orientation": "horizontal",
            "style": "IPY_MODEL_818c0aba20444d5a972ff28b0c3916d3",
            "value": 127
          }
        },
        "ffe2e645462f4c80be9345fe72b8a0c0": {
          "model_module": "@jupyter-widgets/controls",
          "model_name": "HTMLModel",
          "model_module_version": "1.5.0",
          "state": {
            "_dom_classes": [],
            "_model_module": "@jupyter-widgets/controls",
            "_model_module_version": "1.5.0",
            "_model_name": "HTMLModel",
            "_view_count": null,
            "_view_module": "@jupyter-widgets/controls",
            "_view_module_version": "1.5.0",
            "_view_name": "HTMLView",
            "description": "",
            "description_tooltip": null,
            "layout": "IPY_MODEL_8b222be49e0741fdbebdcc2cd2e17112",
            "placeholder": "​",
            "style": "IPY_MODEL_59ba6994a18b4a38b573e08c50df6380",
            "value": " 127/128 [00:00&lt;00:00, 765.28 examples/s]"
          }
        },
        "94677a25cca1415fa8cc066cd72dfec7": {
          "model_module": "@jupyter-widgets/base",
          "model_name": "LayoutModel",
          "model_module_version": "1.2.0",
          "state": {
            "_model_module": "@jupyter-widgets/base",
            "_model_module_version": "1.2.0",
            "_model_name": "LayoutModel",
            "_view_count": null,
            "_view_module": "@jupyter-widgets/base",
            "_view_module_version": "1.2.0",
            "_view_name": "LayoutView",
            "align_content": null,
            "align_items": null,
            "align_self": null,
            "border": null,
            "bottom": null,
            "display": null,
            "flex": null,
            "flex_flow": null,
            "grid_area": null,
            "grid_auto_columns": null,
            "grid_auto_flow": null,
            "grid_auto_rows": null,
            "grid_column": null,
            "grid_gap": null,
            "grid_row": null,
            "grid_template_areas": null,
            "grid_template_columns": null,
            "grid_template_rows": null,
            "height": null,
            "justify_content": null,
            "justify_items": null,
            "left": null,
            "margin": null,
            "max_height": null,
            "max_width": null,
            "min_height": null,
            "min_width": null,
            "object_fit": null,
            "object_position": null,
            "order": null,
            "overflow": null,
            "overflow_x": null,
            "overflow_y": null,
            "padding": null,
            "right": null,
            "top": null,
            "visibility": null,
            "width": null
          }
        },
        "7bfce15d01c84f0ca55587a50ec8cb67": {
          "model_module": "@jupyter-widgets/base",
          "model_name": "LayoutModel",
          "model_module_version": "1.2.0",
          "state": {
            "_model_module": "@jupyter-widgets/base",
            "_model_module_version": "1.2.0",
            "_model_name": "LayoutModel",
            "_view_count": null,
            "_view_module": "@jupyter-widgets/base",
            "_view_module_version": "1.2.0",
            "_view_name": "LayoutView",
            "align_content": null,
            "align_items": null,
            "align_self": null,
            "border": null,
            "bottom": null,
            "display": null,
            "flex": null,
            "flex_flow": null,
            "grid_area": null,
            "grid_auto_columns": null,
            "grid_auto_flow": null,
            "grid_auto_rows": null,
            "grid_column": null,
            "grid_gap": null,
            "grid_row": null,
            "grid_template_areas": null,
            "grid_template_columns": null,
            "grid_template_rows": null,
            "height": null,
            "justify_content": null,
            "justify_items": null,
            "left": null,
            "margin": null,
            "max_height": null,
            "max_width": null,
            "min_height": null,
            "min_width": null,
            "object_fit": null,
            "object_position": null,
            "order": null,
            "overflow": null,
            "overflow_x": null,
            "overflow_y": null,
            "padding": null,
            "right": null,
            "top": null,
            "visibility": null,
            "width": null
          }
        },
        "1f003f6781c9491db11c0b3e4ea22939": {
          "model_module": "@jupyter-widgets/controls",
          "model_name": "DescriptionStyleModel",
          "model_module_version": "1.5.0",
          "state": {
            "_model_module": "@jupyter-widgets/controls",
            "_model_module_version": "1.5.0",
            "_model_name": "DescriptionStyleModel",
            "_view_count": null,
            "_view_module": "@jupyter-widgets/base",
            "_view_module_version": "1.2.0",
            "_view_name": "StyleView",
            "description_width": ""
          }
        },
        "a77476b9540243248740d3ee09eba3e1": {
          "model_module": "@jupyter-widgets/base",
          "model_name": "LayoutModel",
          "model_module_version": "1.2.0",
          "state": {
            "_model_module": "@jupyter-widgets/base",
            "_model_module_version": "1.2.0",
            "_model_name": "LayoutModel",
            "_view_count": null,
            "_view_module": "@jupyter-widgets/base",
            "_view_module_version": "1.2.0",
            "_view_name": "LayoutView",
            "align_content": null,
            "align_items": null,
            "align_self": null,
            "border": null,
            "bottom": null,
            "display": null,
            "flex": null,
            "flex_flow": null,
            "grid_area": null,
            "grid_auto_columns": null,
            "grid_auto_flow": null,
            "grid_auto_rows": null,
            "grid_column": null,
            "grid_gap": null,
            "grid_row": null,
            "grid_template_areas": null,
            "grid_template_columns": null,
            "grid_template_rows": null,
            "height": null,
            "justify_content": null,
            "justify_items": null,
            "left": null,
            "margin": null,
            "max_height": null,
            "max_width": null,
            "min_height": null,
            "min_width": null,
            "object_fit": null,
            "object_position": null,
            "order": null,
            "overflow": null,
            "overflow_x": null,
            "overflow_y": null,
            "padding": null,
            "right": null,
            "top": null,
            "visibility": null,
            "width": null
          }
        },
        "818c0aba20444d5a972ff28b0c3916d3": {
          "model_module": "@jupyter-widgets/controls",
          "model_name": "ProgressStyleModel",
          "model_module_version": "1.5.0",
          "state": {
            "_model_module": "@jupyter-widgets/controls",
            "_model_module_version": "1.5.0",
            "_model_name": "ProgressStyleModel",
            "_view_count": null,
            "_view_module": "@jupyter-widgets/base",
            "_view_module_version": "1.2.0",
            "_view_name": "StyleView",
            "bar_color": null,
            "description_width": ""
          }
        },
        "8b222be49e0741fdbebdcc2cd2e17112": {
          "model_module": "@jupyter-widgets/base",
          "model_name": "LayoutModel",
          "model_module_version": "1.2.0",
          "state": {
            "_model_module": "@jupyter-widgets/base",
            "_model_module_version": "1.2.0",
            "_model_name": "LayoutModel",
            "_view_count": null,
            "_view_module": "@jupyter-widgets/base",
            "_view_module_version": "1.2.0",
            "_view_name": "LayoutView",
            "align_content": null,
            "align_items": null,
            "align_self": null,
            "border": null,
            "bottom": null,
            "display": null,
            "flex": null,
            "flex_flow": null,
            "grid_area": null,
            "grid_auto_columns": null,
            "grid_auto_flow": null,
            "grid_auto_rows": null,
            "grid_column": null,
            "grid_gap": null,
            "grid_row": null,
            "grid_template_areas": null,
            "grid_template_columns": null,
            "grid_template_rows": null,
            "height": null,
            "justify_content": null,
            "justify_items": null,
            "left": null,
            "margin": null,
            "max_height": null,
            "max_width": null,
            "min_height": null,
            "min_width": null,
            "object_fit": null,
            "object_position": null,
            "order": null,
            "overflow": null,
            "overflow_x": null,
            "overflow_y": null,
            "padding": null,
            "right": null,
            "top": null,
            "visibility": null,
            "width": null
          }
        },
        "59ba6994a18b4a38b573e08c50df6380": {
          "model_module": "@jupyter-widgets/controls",
          "model_name": "DescriptionStyleModel",
          "model_module_version": "1.5.0",
          "state": {
            "_model_module": "@jupyter-widgets/controls",
            "_model_module_version": "1.5.0",
            "_model_name": "DescriptionStyleModel",
            "_view_count": null,
            "_view_module": "@jupyter-widgets/base",
            "_view_module_version": "1.2.0",
            "_view_name": "StyleView",
            "description_width": ""
          }
        }
      }
    }
  },
  "nbformat": 4,
  "nbformat_minor": 0
}