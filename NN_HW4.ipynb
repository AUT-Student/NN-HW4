{
  "nbformat": 4,
  "nbformat_minor": 0,
  "metadata": {
    "colab": {
      "name": "NN_HW4.ipynb",
      "provenance": [],
      "collapsed_sections": [
        "JBwnf_FrU_Mj",
        "XjaZf_08RENI",
        "_GS7LTfZRvuO"
      ],
      "toc_visible": true,
      "authorship_tag": "ABX9TyOtzvgkCQEh8WznhpURrxKX",
      "include_colab_link": true
    },
    "kernelspec": {
      "name": "python3",
      "display_name": "Python 3"
    },
    "language_info": {
      "name": "python"
    },
    "widgets": {
      "application/vnd.jupyter.widget-state+json": {
        "05a35565d50b4f7997bc17bb3e8d49a7": {
          "model_module": "@jupyter-widgets/controls",
          "model_name": "HBoxModel",
          "model_module_version": "1.5.0",
          "state": {
            "_dom_classes": [],
            "_model_module": "@jupyter-widgets/controls",
            "_model_module_version": "1.5.0",
            "_model_name": "HBoxModel",
            "_view_count": null,
            "_view_module": "@jupyter-widgets/controls",
            "_view_module_version": "1.5.0",
            "_view_name": "HBoxView",
            "box_style": "",
            "children": [
              "IPY_MODEL_1f4cc3d9af42489186a936e7f0ba8472",
              "IPY_MODEL_34b8503640ae4ca78617085fbec09907",
              "IPY_MODEL_e695f67b23e84d9ea0f1374145787e19"
            ],
            "layout": "IPY_MODEL_f98f31a299054808b5292b72ac3aee1f"
          }
        },
        "1f4cc3d9af42489186a936e7f0ba8472": {
          "model_module": "@jupyter-widgets/controls",
          "model_name": "HTMLModel",
          "model_module_version": "1.5.0",
          "state": {
            "_dom_classes": [],
            "_model_module": "@jupyter-widgets/controls",
            "_model_module_version": "1.5.0",
            "_model_name": "HTMLModel",
            "_view_count": null,
            "_view_module": "@jupyter-widgets/controls",
            "_view_module_version": "1.5.0",
            "_view_name": "HTMLView",
            "description": "",
            "description_tooltip": null,
            "layout": "IPY_MODEL_1365800e2d41426990a76b81f0ec1f83",
            "placeholder": "​",
            "style": "IPY_MODEL_572d6a62f4fc4349996ce23127903eda",
            "value": "Dl Completed...: 100%"
          }
        },
        "34b8503640ae4ca78617085fbec09907": {
          "model_module": "@jupyter-widgets/controls",
          "model_name": "FloatProgressModel",
          "model_module_version": "1.5.0",
          "state": {
            "_dom_classes": [],
            "_model_module": "@jupyter-widgets/controls",
            "_model_module_version": "1.5.0",
            "_model_name": "FloatProgressModel",
            "_view_count": null,
            "_view_module": "@jupyter-widgets/controls",
            "_view_module_version": "1.5.0",
            "_view_name": "ProgressView",
            "bar_style": "success",
            "description": "",
            "description_tooltip": null,
            "layout": "IPY_MODEL_95c21cd6d56844b8969d020ce259f848",
            "max": 1,
            "min": 0,
            "orientation": "horizontal",
            "style": "IPY_MODEL_d6b6c91efa2941e48d75f85276709460",
            "value": 1
          }
        },
        "e695f67b23e84d9ea0f1374145787e19": {
          "model_module": "@jupyter-widgets/controls",
          "model_name": "HTMLModel",
          "model_module_version": "1.5.0",
          "state": {
            "_dom_classes": [],
            "_model_module": "@jupyter-widgets/controls",
            "_model_module_version": "1.5.0",
            "_model_name": "HTMLModel",
            "_view_count": null,
            "_view_module": "@jupyter-widgets/controls",
            "_view_module_version": "1.5.0",
            "_view_name": "HTMLView",
            "description": "",
            "description_tooltip": null,
            "layout": "IPY_MODEL_6ba59ef5455f4924b526a5c2988157ed",
            "placeholder": "​",
            "style": "IPY_MODEL_c058fd78dd4f4660b14ba8d2f6a47596",
            "value": " 3/3 [00:04&lt;00:00,  1.48s/ url]"
          }
        },
        "f98f31a299054808b5292b72ac3aee1f": {
          "model_module": "@jupyter-widgets/base",
          "model_name": "LayoutModel",
          "model_module_version": "1.2.0",
          "state": {
            "_model_module": "@jupyter-widgets/base",
            "_model_module_version": "1.2.0",
            "_model_name": "LayoutModel",
            "_view_count": null,
            "_view_module": "@jupyter-widgets/base",
            "_view_module_version": "1.2.0",
            "_view_name": "LayoutView",
            "align_content": null,
            "align_items": null,
            "align_self": null,
            "border": null,
            "bottom": null,
            "display": null,
            "flex": null,
            "flex_flow": null,
            "grid_area": null,
            "grid_auto_columns": null,
            "grid_auto_flow": null,
            "grid_auto_rows": null,
            "grid_column": null,
            "grid_gap": null,
            "grid_row": null,
            "grid_template_areas": null,
            "grid_template_columns": null,
            "grid_template_rows": null,
            "height": null,
            "justify_content": null,
            "justify_items": null,
            "left": null,
            "margin": null,
            "max_height": null,
            "max_width": null,
            "min_height": null,
            "min_width": null,
            "object_fit": null,
            "object_position": null,
            "order": null,
            "overflow": null,
            "overflow_x": null,
            "overflow_y": null,
            "padding": null,
            "right": null,
            "top": null,
            "visibility": null,
            "width": null
          }
        },
        "1365800e2d41426990a76b81f0ec1f83": {
          "model_module": "@jupyter-widgets/base",
          "model_name": "LayoutModel",
          "model_module_version": "1.2.0",
          "state": {
            "_model_module": "@jupyter-widgets/base",
            "_model_module_version": "1.2.0",
            "_model_name": "LayoutModel",
            "_view_count": null,
            "_view_module": "@jupyter-widgets/base",
            "_view_module_version": "1.2.0",
            "_view_name": "LayoutView",
            "align_content": null,
            "align_items": null,
            "align_self": null,
            "border": null,
            "bottom": null,
            "display": null,
            "flex": null,
            "flex_flow": null,
            "grid_area": null,
            "grid_auto_columns": null,
            "grid_auto_flow": null,
            "grid_auto_rows": null,
            "grid_column": null,
            "grid_gap": null,
            "grid_row": null,
            "grid_template_areas": null,
            "grid_template_columns": null,
            "grid_template_rows": null,
            "height": null,
            "justify_content": null,
            "justify_items": null,
            "left": null,
            "margin": null,
            "max_height": null,
            "max_width": null,
            "min_height": null,
            "min_width": null,
            "object_fit": null,
            "object_position": null,
            "order": null,
            "overflow": null,
            "overflow_x": null,
            "overflow_y": null,
            "padding": null,
            "right": null,
            "top": null,
            "visibility": null,
            "width": null
          }
        },
        "572d6a62f4fc4349996ce23127903eda": {
          "model_module": "@jupyter-widgets/controls",
          "model_name": "DescriptionStyleModel",
          "model_module_version": "1.5.0",
          "state": {
            "_model_module": "@jupyter-widgets/controls",
            "_model_module_version": "1.5.0",
            "_model_name": "DescriptionStyleModel",
            "_view_count": null,
            "_view_module": "@jupyter-widgets/base",
            "_view_module_version": "1.2.0",
            "_view_name": "StyleView",
            "description_width": ""
          }
        },
        "95c21cd6d56844b8969d020ce259f848": {
          "model_module": "@jupyter-widgets/base",
          "model_name": "LayoutModel",
          "model_module_version": "1.2.0",
          "state": {
            "_model_module": "@jupyter-widgets/base",
            "_model_module_version": "1.2.0",
            "_model_name": "LayoutModel",
            "_view_count": null,
            "_view_module": "@jupyter-widgets/base",
            "_view_module_version": "1.2.0",
            "_view_name": "LayoutView",
            "align_content": null,
            "align_items": null,
            "align_self": null,
            "border": null,
            "bottom": null,
            "display": null,
            "flex": null,
            "flex_flow": null,
            "grid_area": null,
            "grid_auto_columns": null,
            "grid_auto_flow": null,
            "grid_auto_rows": null,
            "grid_column": null,
            "grid_gap": null,
            "grid_row": null,
            "grid_template_areas": null,
            "grid_template_columns": null,
            "grid_template_rows": null,
            "height": null,
            "justify_content": null,
            "justify_items": null,
            "left": null,
            "margin": null,
            "max_height": null,
            "max_width": null,
            "min_height": null,
            "min_width": null,
            "object_fit": null,
            "object_position": null,
            "order": null,
            "overflow": null,
            "overflow_x": null,
            "overflow_y": null,
            "padding": null,
            "right": null,
            "top": null,
            "visibility": null,
            "width": "20px"
          }
        },
        "d6b6c91efa2941e48d75f85276709460": {
          "model_module": "@jupyter-widgets/controls",
          "model_name": "ProgressStyleModel",
          "model_module_version": "1.5.0",
          "state": {
            "_model_module": "@jupyter-widgets/controls",
            "_model_module_version": "1.5.0",
            "_model_name": "ProgressStyleModel",
            "_view_count": null,
            "_view_module": "@jupyter-widgets/base",
            "_view_module_version": "1.2.0",
            "_view_name": "StyleView",
            "bar_color": null,
            "description_width": ""
          }
        },
        "6ba59ef5455f4924b526a5c2988157ed": {
          "model_module": "@jupyter-widgets/base",
          "model_name": "LayoutModel",
          "model_module_version": "1.2.0",
          "state": {
            "_model_module": "@jupyter-widgets/base",
            "_model_module_version": "1.2.0",
            "_model_name": "LayoutModel",
            "_view_count": null,
            "_view_module": "@jupyter-widgets/base",
            "_view_module_version": "1.2.0",
            "_view_name": "LayoutView",
            "align_content": null,
            "align_items": null,
            "align_self": null,
            "border": null,
            "bottom": null,
            "display": null,
            "flex": null,
            "flex_flow": null,
            "grid_area": null,
            "grid_auto_columns": null,
            "grid_auto_flow": null,
            "grid_auto_rows": null,
            "grid_column": null,
            "grid_gap": null,
            "grid_row": null,
            "grid_template_areas": null,
            "grid_template_columns": null,
            "grid_template_rows": null,
            "height": null,
            "justify_content": null,
            "justify_items": null,
            "left": null,
            "margin": null,
            "max_height": null,
            "max_width": null,
            "min_height": null,
            "min_width": null,
            "object_fit": null,
            "object_position": null,
            "order": null,
            "overflow": null,
            "overflow_x": null,
            "overflow_y": null,
            "padding": null,
            "right": null,
            "top": null,
            "visibility": null,
            "width": null
          }
        },
        "c058fd78dd4f4660b14ba8d2f6a47596": {
          "model_module": "@jupyter-widgets/controls",
          "model_name": "DescriptionStyleModel",
          "model_module_version": "1.5.0",
          "state": {
            "_model_module": "@jupyter-widgets/controls",
            "_model_module_version": "1.5.0",
            "_model_name": "DescriptionStyleModel",
            "_view_count": null,
            "_view_module": "@jupyter-widgets/base",
            "_view_module_version": "1.2.0",
            "_view_name": "StyleView",
            "description_width": ""
          }
        },
        "82bf5ebdc1a04b5986d7aff31868e4da": {
          "model_module": "@jupyter-widgets/controls",
          "model_name": "HBoxModel",
          "model_module_version": "1.5.0",
          "state": {
            "_dom_classes": [],
            "_model_module": "@jupyter-widgets/controls",
            "_model_module_version": "1.5.0",
            "_model_name": "HBoxModel",
            "_view_count": null,
            "_view_module": "@jupyter-widgets/controls",
            "_view_module_version": "1.5.0",
            "_view_name": "HBoxView",
            "box_style": "",
            "children": [
              "IPY_MODEL_d635a5f9c9cd454c97918baafc96a8e4",
              "IPY_MODEL_0bd25a4c1f4c4c989c4f119718c7b450",
              "IPY_MODEL_38cf49f2279649e5ab317c0efb39980f"
            ],
            "layout": "IPY_MODEL_e3cead6bb0344654803474473e9d7d6c"
          }
        },
        "d635a5f9c9cd454c97918baafc96a8e4": {
          "model_module": "@jupyter-widgets/controls",
          "model_name": "HTMLModel",
          "model_module_version": "1.5.0",
          "state": {
            "_dom_classes": [],
            "_model_module": "@jupyter-widgets/controls",
            "_model_module_version": "1.5.0",
            "_model_name": "HTMLModel",
            "_view_count": null,
            "_view_module": "@jupyter-widgets/controls",
            "_view_module_version": "1.5.0",
            "_view_name": "HTMLView",
            "description": "",
            "description_tooltip": null,
            "layout": "IPY_MODEL_a2adb0731e4d4143a24254c89e9f6a76",
            "placeholder": "​",
            "style": "IPY_MODEL_d2dec385937b478193aaa60356f057c6",
            "value": "Dl Size...: 100%"
          }
        },
        "0bd25a4c1f4c4c989c4f119718c7b450": {
          "model_module": "@jupyter-widgets/controls",
          "model_name": "FloatProgressModel",
          "model_module_version": "1.5.0",
          "state": {
            "_dom_classes": [],
            "_model_module": "@jupyter-widgets/controls",
            "_model_module_version": "1.5.0",
            "_model_name": "FloatProgressModel",
            "_view_count": null,
            "_view_module": "@jupyter-widgets/controls",
            "_view_module_version": "1.5.0",
            "_view_name": "ProgressView",
            "bar_style": "success",
            "description": "",
            "description_tooltip": null,
            "layout": "IPY_MODEL_c93c587efe734635b1cd277e5390df5d",
            "max": 1,
            "min": 0,
            "orientation": "horizontal",
            "style": "IPY_MODEL_e30e3cfd149c4e15b6c541bcd169e3a8",
            "value": 1
          }
        },
        "38cf49f2279649e5ab317c0efb39980f": {
          "model_module": "@jupyter-widgets/controls",
          "model_name": "HTMLModel",
          "model_module_version": "1.5.0",
          "state": {
            "_dom_classes": [],
            "_model_module": "@jupyter-widgets/controls",
            "_model_module_version": "1.5.0",
            "_model_name": "HTMLModel",
            "_view_count": null,
            "_view_module": "@jupyter-widgets/controls",
            "_view_module_version": "1.5.0",
            "_view_name": "HTMLView",
            "description": "",
            "description_tooltip": null,
            "layout": "IPY_MODEL_84fd7145123643548a367d17f3ec4ca4",
            "placeholder": "​",
            "style": "IPY_MODEL_972483e1a10544b6ae7cc4ba02a78715",
            "value": " 170/170 [00:04&lt;00:00, 51.61 MiB/s]"
          }
        },
        "e3cead6bb0344654803474473e9d7d6c": {
          "model_module": "@jupyter-widgets/base",
          "model_name": "LayoutModel",
          "model_module_version": "1.2.0",
          "state": {
            "_model_module": "@jupyter-widgets/base",
            "_model_module_version": "1.2.0",
            "_model_name": "LayoutModel",
            "_view_count": null,
            "_view_module": "@jupyter-widgets/base",
            "_view_module_version": "1.2.0",
            "_view_name": "LayoutView",
            "align_content": null,
            "align_items": null,
            "align_self": null,
            "border": null,
            "bottom": null,
            "display": null,
            "flex": null,
            "flex_flow": null,
            "grid_area": null,
            "grid_auto_columns": null,
            "grid_auto_flow": null,
            "grid_auto_rows": null,
            "grid_column": null,
            "grid_gap": null,
            "grid_row": null,
            "grid_template_areas": null,
            "grid_template_columns": null,
            "grid_template_rows": null,
            "height": null,
            "justify_content": null,
            "justify_items": null,
            "left": null,
            "margin": null,
            "max_height": null,
            "max_width": null,
            "min_height": null,
            "min_width": null,
            "object_fit": null,
            "object_position": null,
            "order": null,
            "overflow": null,
            "overflow_x": null,
            "overflow_y": null,
            "padding": null,
            "right": null,
            "top": null,
            "visibility": null,
            "width": null
          }
        },
        "a2adb0731e4d4143a24254c89e9f6a76": {
          "model_module": "@jupyter-widgets/base",
          "model_name": "LayoutModel",
          "model_module_version": "1.2.0",
          "state": {
            "_model_module": "@jupyter-widgets/base",
            "_model_module_version": "1.2.0",
            "_model_name": "LayoutModel",
            "_view_count": null,
            "_view_module": "@jupyter-widgets/base",
            "_view_module_version": "1.2.0",
            "_view_name": "LayoutView",
            "align_content": null,
            "align_items": null,
            "align_self": null,
            "border": null,
            "bottom": null,
            "display": null,
            "flex": null,
            "flex_flow": null,
            "grid_area": null,
            "grid_auto_columns": null,
            "grid_auto_flow": null,
            "grid_auto_rows": null,
            "grid_column": null,
            "grid_gap": null,
            "grid_row": null,
            "grid_template_areas": null,
            "grid_template_columns": null,
            "grid_template_rows": null,
            "height": null,
            "justify_content": null,
            "justify_items": null,
            "left": null,
            "margin": null,
            "max_height": null,
            "max_width": null,
            "min_height": null,
            "min_width": null,
            "object_fit": null,
            "object_position": null,
            "order": null,
            "overflow": null,
            "overflow_x": null,
            "overflow_y": null,
            "padding": null,
            "right": null,
            "top": null,
            "visibility": null,
            "width": null
          }
        },
        "d2dec385937b478193aaa60356f057c6": {
          "model_module": "@jupyter-widgets/controls",
          "model_name": "DescriptionStyleModel",
          "model_module_version": "1.5.0",
          "state": {
            "_model_module": "@jupyter-widgets/controls",
            "_model_module_version": "1.5.0",
            "_model_name": "DescriptionStyleModel",
            "_view_count": null,
            "_view_module": "@jupyter-widgets/base",
            "_view_module_version": "1.2.0",
            "_view_name": "StyleView",
            "description_width": ""
          }
        },
        "c93c587efe734635b1cd277e5390df5d": {
          "model_module": "@jupyter-widgets/base",
          "model_name": "LayoutModel",
          "model_module_version": "1.2.0",
          "state": {
            "_model_module": "@jupyter-widgets/base",
            "_model_module_version": "1.2.0",
            "_model_name": "LayoutModel",
            "_view_count": null,
            "_view_module": "@jupyter-widgets/base",
            "_view_module_version": "1.2.0",
            "_view_name": "LayoutView",
            "align_content": null,
            "align_items": null,
            "align_self": null,
            "border": null,
            "bottom": null,
            "display": null,
            "flex": null,
            "flex_flow": null,
            "grid_area": null,
            "grid_auto_columns": null,
            "grid_auto_flow": null,
            "grid_auto_rows": null,
            "grid_column": null,
            "grid_gap": null,
            "grid_row": null,
            "grid_template_areas": null,
            "grid_template_columns": null,
            "grid_template_rows": null,
            "height": null,
            "justify_content": null,
            "justify_items": null,
            "left": null,
            "margin": null,
            "max_height": null,
            "max_width": null,
            "min_height": null,
            "min_width": null,
            "object_fit": null,
            "object_position": null,
            "order": null,
            "overflow": null,
            "overflow_x": null,
            "overflow_y": null,
            "padding": null,
            "right": null,
            "top": null,
            "visibility": null,
            "width": "20px"
          }
        },
        "e30e3cfd149c4e15b6c541bcd169e3a8": {
          "model_module": "@jupyter-widgets/controls",
          "model_name": "ProgressStyleModel",
          "model_module_version": "1.5.0",
          "state": {
            "_model_module": "@jupyter-widgets/controls",
            "_model_module_version": "1.5.0",
            "_model_name": "ProgressStyleModel",
            "_view_count": null,
            "_view_module": "@jupyter-widgets/base",
            "_view_module_version": "1.2.0",
            "_view_name": "StyleView",
            "bar_color": null,
            "description_width": ""
          }
        },
        "84fd7145123643548a367d17f3ec4ca4": {
          "model_module": "@jupyter-widgets/base",
          "model_name": "LayoutModel",
          "model_module_version": "1.2.0",
          "state": {
            "_model_module": "@jupyter-widgets/base",
            "_model_module_version": "1.2.0",
            "_model_name": "LayoutModel",
            "_view_count": null,
            "_view_module": "@jupyter-widgets/base",
            "_view_module_version": "1.2.0",
            "_view_name": "LayoutView",
            "align_content": null,
            "align_items": null,
            "align_self": null,
            "border": null,
            "bottom": null,
            "display": null,
            "flex": null,
            "flex_flow": null,
            "grid_area": null,
            "grid_auto_columns": null,
            "grid_auto_flow": null,
            "grid_auto_rows": null,
            "grid_column": null,
            "grid_gap": null,
            "grid_row": null,
            "grid_template_areas": null,
            "grid_template_columns": null,
            "grid_template_rows": null,
            "height": null,
            "justify_content": null,
            "justify_items": null,
            "left": null,
            "margin": null,
            "max_height": null,
            "max_width": null,
            "min_height": null,
            "min_width": null,
            "object_fit": null,
            "object_position": null,
            "order": null,
            "overflow": null,
            "overflow_x": null,
            "overflow_y": null,
            "padding": null,
            "right": null,
            "top": null,
            "visibility": null,
            "width": null
          }
        },
        "972483e1a10544b6ae7cc4ba02a78715": {
          "model_module": "@jupyter-widgets/controls",
          "model_name": "DescriptionStyleModel",
          "model_module_version": "1.5.0",
          "state": {
            "_model_module": "@jupyter-widgets/controls",
            "_model_module_version": "1.5.0",
            "_model_name": "DescriptionStyleModel",
            "_view_count": null,
            "_view_module": "@jupyter-widgets/base",
            "_view_module_version": "1.2.0",
            "_view_name": "StyleView",
            "description_width": ""
          }
        },
        "7701efbea5b048899a6cff23856dbf67": {
          "model_module": "@jupyter-widgets/controls",
          "model_name": "HBoxModel",
          "model_module_version": "1.5.0",
          "state": {
            "_dom_classes": [],
            "_model_module": "@jupyter-widgets/controls",
            "_model_module_version": "1.5.0",
            "_model_name": "HBoxModel",
            "_view_count": null,
            "_view_module": "@jupyter-widgets/controls",
            "_view_module_version": "1.5.0",
            "_view_name": "HBoxView",
            "box_style": "",
            "children": [
              "IPY_MODEL_db36c4713b1140d798d0d411095b33d5",
              "IPY_MODEL_aa656388b3a240899e351abab5f01a43",
              "IPY_MODEL_2a8506725aa2461bb7728f9e8957a965"
            ],
            "layout": "IPY_MODEL_f063340509d44cf49112390391d0db7d"
          }
        },
        "db36c4713b1140d798d0d411095b33d5": {
          "model_module": "@jupyter-widgets/controls",
          "model_name": "HTMLModel",
          "model_module_version": "1.5.0",
          "state": {
            "_dom_classes": [],
            "_model_module": "@jupyter-widgets/controls",
            "_model_module_version": "1.5.0",
            "_model_name": "HTMLModel",
            "_view_count": null,
            "_view_module": "@jupyter-widgets/controls",
            "_view_module_version": "1.5.0",
            "_view_name": "HTMLView",
            "description": "",
            "description_tooltip": null,
            "layout": "IPY_MODEL_6ec8c5f6115648edb51bd37060677587",
            "placeholder": "​",
            "style": "IPY_MODEL_405edbce5933470aab1920ef03360217",
            "value": ""
          }
        },
        "aa656388b3a240899e351abab5f01a43": {
          "model_module": "@jupyter-widgets/controls",
          "model_name": "FloatProgressModel",
          "model_module_version": "1.5.0",
          "state": {
            "_dom_classes": [],
            "_model_module": "@jupyter-widgets/controls",
            "_model_module_version": "1.5.0",
            "_model_name": "FloatProgressModel",
            "_view_count": null,
            "_view_module": "@jupyter-widgets/controls",
            "_view_module_version": "1.5.0",
            "_view_name": "ProgressView",
            "bar_style": "info",
            "description": "",
            "description_tooltip": null,
            "layout": "IPY_MODEL_e2111fcdb39d4a0e934ef81b2431057a",
            "max": 1,
            "min": 0,
            "orientation": "horizontal",
            "style": "IPY_MODEL_68b6056b2872456c8ddb0285eb059493",
            "value": 1
          }
        },
        "2a8506725aa2461bb7728f9e8957a965": {
          "model_module": "@jupyter-widgets/controls",
          "model_name": "HTMLModel",
          "model_module_version": "1.5.0",
          "state": {
            "_dom_classes": [],
            "_model_module": "@jupyter-widgets/controls",
            "_model_module_version": "1.5.0",
            "_model_name": "HTMLModel",
            "_view_count": null,
            "_view_module": "@jupyter-widgets/controls",
            "_view_module_version": "1.5.0",
            "_view_name": "HTMLView",
            "description": "",
            "description_tooltip": null,
            "layout": "IPY_MODEL_9d95ba663ded4770b2cae0ef7173cdea",
            "placeholder": "​",
            "style": "IPY_MODEL_4f44469ba8a2451eb1d450630bd26a4d",
            "value": " 1018/0 [00:01&lt;00:00, 1096.79 examples/s]"
          }
        },
        "f063340509d44cf49112390391d0db7d": {
          "model_module": "@jupyter-widgets/base",
          "model_name": "LayoutModel",
          "model_module_version": "1.2.0",
          "state": {
            "_model_module": "@jupyter-widgets/base",
            "_model_module_version": "1.2.0",
            "_model_name": "LayoutModel",
            "_view_count": null,
            "_view_module": "@jupyter-widgets/base",
            "_view_module_version": "1.2.0",
            "_view_name": "LayoutView",
            "align_content": null,
            "align_items": null,
            "align_self": null,
            "border": null,
            "bottom": null,
            "display": null,
            "flex": null,
            "flex_flow": null,
            "grid_area": null,
            "grid_auto_columns": null,
            "grid_auto_flow": null,
            "grid_auto_rows": null,
            "grid_column": null,
            "grid_gap": null,
            "grid_row": null,
            "grid_template_areas": null,
            "grid_template_columns": null,
            "grid_template_rows": null,
            "height": null,
            "justify_content": null,
            "justify_items": null,
            "left": null,
            "margin": null,
            "max_height": null,
            "max_width": null,
            "min_height": null,
            "min_width": null,
            "object_fit": null,
            "object_position": null,
            "order": null,
            "overflow": null,
            "overflow_x": null,
            "overflow_y": null,
            "padding": null,
            "right": null,
            "top": null,
            "visibility": null,
            "width": null
          }
        },
        "6ec8c5f6115648edb51bd37060677587": {
          "model_module": "@jupyter-widgets/base",
          "model_name": "LayoutModel",
          "model_module_version": "1.2.0",
          "state": {
            "_model_module": "@jupyter-widgets/base",
            "_model_module_version": "1.2.0",
            "_model_name": "LayoutModel",
            "_view_count": null,
            "_view_module": "@jupyter-widgets/base",
            "_view_module_version": "1.2.0",
            "_view_name": "LayoutView",
            "align_content": null,
            "align_items": null,
            "align_self": null,
            "border": null,
            "bottom": null,
            "display": null,
            "flex": null,
            "flex_flow": null,
            "grid_area": null,
            "grid_auto_columns": null,
            "grid_auto_flow": null,
            "grid_auto_rows": null,
            "grid_column": null,
            "grid_gap": null,
            "grid_row": null,
            "grid_template_areas": null,
            "grid_template_columns": null,
            "grid_template_rows": null,
            "height": null,
            "justify_content": null,
            "justify_items": null,
            "left": null,
            "margin": null,
            "max_height": null,
            "max_width": null,
            "min_height": null,
            "min_width": null,
            "object_fit": null,
            "object_position": null,
            "order": null,
            "overflow": null,
            "overflow_x": null,
            "overflow_y": null,
            "padding": null,
            "right": null,
            "top": null,
            "visibility": null,
            "width": null
          }
        },
        "405edbce5933470aab1920ef03360217": {
          "model_module": "@jupyter-widgets/controls",
          "model_name": "DescriptionStyleModel",
          "model_module_version": "1.5.0",
          "state": {
            "_model_module": "@jupyter-widgets/controls",
            "_model_module_version": "1.5.0",
            "_model_name": "DescriptionStyleModel",
            "_view_count": null,
            "_view_module": "@jupyter-widgets/base",
            "_view_module_version": "1.2.0",
            "_view_name": "StyleView",
            "description_width": ""
          }
        },
        "e2111fcdb39d4a0e934ef81b2431057a": {
          "model_module": "@jupyter-widgets/base",
          "model_name": "LayoutModel",
          "model_module_version": "1.2.0",
          "state": {
            "_model_module": "@jupyter-widgets/base",
            "_model_module_version": "1.2.0",
            "_model_name": "LayoutModel",
            "_view_count": null,
            "_view_module": "@jupyter-widgets/base",
            "_view_module_version": "1.2.0",
            "_view_name": "LayoutView",
            "align_content": null,
            "align_items": null,
            "align_self": null,
            "border": null,
            "bottom": null,
            "display": null,
            "flex": null,
            "flex_flow": null,
            "grid_area": null,
            "grid_auto_columns": null,
            "grid_auto_flow": null,
            "grid_auto_rows": null,
            "grid_column": null,
            "grid_gap": null,
            "grid_row": null,
            "grid_template_areas": null,
            "grid_template_columns": null,
            "grid_template_rows": null,
            "height": null,
            "justify_content": null,
            "justify_items": null,
            "left": null,
            "margin": null,
            "max_height": null,
            "max_width": null,
            "min_height": null,
            "min_width": null,
            "object_fit": null,
            "object_position": null,
            "order": null,
            "overflow": null,
            "overflow_x": null,
            "overflow_y": null,
            "padding": null,
            "right": null,
            "top": null,
            "visibility": null,
            "width": "20px"
          }
        },
        "68b6056b2872456c8ddb0285eb059493": {
          "model_module": "@jupyter-widgets/controls",
          "model_name": "ProgressStyleModel",
          "model_module_version": "1.5.0",
          "state": {
            "_model_module": "@jupyter-widgets/controls",
            "_model_module_version": "1.5.0",
            "_model_name": "ProgressStyleModel",
            "_view_count": null,
            "_view_module": "@jupyter-widgets/base",
            "_view_module_version": "1.2.0",
            "_view_name": "StyleView",
            "bar_color": null,
            "description_width": ""
          }
        },
        "9d95ba663ded4770b2cae0ef7173cdea": {
          "model_module": "@jupyter-widgets/base",
          "model_name": "LayoutModel",
          "model_module_version": "1.2.0",
          "state": {
            "_model_module": "@jupyter-widgets/base",
            "_model_module_version": "1.2.0",
            "_model_name": "LayoutModel",
            "_view_count": null,
            "_view_module": "@jupyter-widgets/base",
            "_view_module_version": "1.2.0",
            "_view_name": "LayoutView",
            "align_content": null,
            "align_items": null,
            "align_self": null,
            "border": null,
            "bottom": null,
            "display": null,
            "flex": null,
            "flex_flow": null,
            "grid_area": null,
            "grid_auto_columns": null,
            "grid_auto_flow": null,
            "grid_auto_rows": null,
            "grid_column": null,
            "grid_gap": null,
            "grid_row": null,
            "grid_template_areas": null,
            "grid_template_columns": null,
            "grid_template_rows": null,
            "height": null,
            "justify_content": null,
            "justify_items": null,
            "left": null,
            "margin": null,
            "max_height": null,
            "max_width": null,
            "min_height": null,
            "min_width": null,
            "object_fit": null,
            "object_position": null,
            "order": null,
            "overflow": null,
            "overflow_x": null,
            "overflow_y": null,
            "padding": null,
            "right": null,
            "top": null,
            "visibility": null,
            "width": null
          }
        },
        "4f44469ba8a2451eb1d450630bd26a4d": {
          "model_module": "@jupyter-widgets/controls",
          "model_name": "DescriptionStyleModel",
          "model_module_version": "1.5.0",
          "state": {
            "_model_module": "@jupyter-widgets/controls",
            "_model_module_version": "1.5.0",
            "_model_name": "DescriptionStyleModel",
            "_view_count": null,
            "_view_module": "@jupyter-widgets/base",
            "_view_module_version": "1.2.0",
            "_view_name": "StyleView",
            "description_width": ""
          }
        },
        "8ad03322a5b94ad48a8135d28709a8d9": {
          "model_module": "@jupyter-widgets/controls",
          "model_name": "HBoxModel",
          "model_module_version": "1.5.0",
          "state": {
            "_dom_classes": [],
            "_model_module": "@jupyter-widgets/controls",
            "_model_module_version": "1.5.0",
            "_model_name": "HBoxModel",
            "_view_count": null,
            "_view_module": "@jupyter-widgets/controls",
            "_view_module_version": "1.5.0",
            "_view_name": "HBoxView",
            "box_style": "",
            "children": [
              "IPY_MODEL_00e25a93dc66420db61f48a376af1503",
              "IPY_MODEL_8ccde30f38df4869a12bf0e369577a6b",
              "IPY_MODEL_ca620d2f01f140b0b89787714d5f8c82"
            ],
            "layout": "IPY_MODEL_dd0f6d9c101840e09366df1d4ee457d7"
          }
        },
        "00e25a93dc66420db61f48a376af1503": {
          "model_module": "@jupyter-widgets/controls",
          "model_name": "HTMLModel",
          "model_module_version": "1.5.0",
          "state": {
            "_dom_classes": [],
            "_model_module": "@jupyter-widgets/controls",
            "_model_module_version": "1.5.0",
            "_model_name": "HTMLModel",
            "_view_count": null,
            "_view_module": "@jupyter-widgets/controls",
            "_view_module_version": "1.5.0",
            "_view_name": "HTMLView",
            "description": "",
            "description_tooltip": null,
            "layout": "IPY_MODEL_f62c385e47ee4d4fb44441c831adb71c",
            "placeholder": "​",
            "style": "IPY_MODEL_2a2b981182b146ce919ddb1f1fbd2080",
            "value": "100%"
          }
        },
        "8ccde30f38df4869a12bf0e369577a6b": {
          "model_module": "@jupyter-widgets/controls",
          "model_name": "FloatProgressModel",
          "model_module_version": "1.5.0",
          "state": {
            "_dom_classes": [],
            "_model_module": "@jupyter-widgets/controls",
            "_model_module_version": "1.5.0",
            "_model_name": "FloatProgressModel",
            "_view_count": null,
            "_view_module": "@jupyter-widgets/controls",
            "_view_module_version": "1.5.0",
            "_view_name": "ProgressView",
            "bar_style": "danger",
            "description": "",
            "description_tooltip": null,
            "layout": "IPY_MODEL_76f91ccda9b44162865ae081275d9a43",
            "max": 1034,
            "min": 0,
            "orientation": "horizontal",
            "style": "IPY_MODEL_09c6e278877645dda556df890fc40fde",
            "value": 1033
          }
        },
        "ca620d2f01f140b0b89787714d5f8c82": {
          "model_module": "@jupyter-widgets/controls",
          "model_name": "HTMLModel",
          "model_module_version": "1.5.0",
          "state": {
            "_dom_classes": [],
            "_model_module": "@jupyter-widgets/controls",
            "_model_module_version": "1.5.0",
            "_model_name": "HTMLModel",
            "_view_count": null,
            "_view_module": "@jupyter-widgets/controls",
            "_view_module_version": "1.5.0",
            "_view_name": "HTMLView",
            "description": "",
            "description_tooltip": null,
            "layout": "IPY_MODEL_84583f1961a641e08ffc3ab6b3559d3f",
            "placeholder": "​",
            "style": "IPY_MODEL_0b136825e9914e51aefeaa5bf9e58c3f",
            "value": " 1033/1034 [00:00&lt;00:00, 3895.54 examples/s]"
          }
        },
        "dd0f6d9c101840e09366df1d4ee457d7": {
          "model_module": "@jupyter-widgets/base",
          "model_name": "LayoutModel",
          "model_module_version": "1.2.0",
          "state": {
            "_model_module": "@jupyter-widgets/base",
            "_model_module_version": "1.2.0",
            "_model_name": "LayoutModel",
            "_view_count": null,
            "_view_module": "@jupyter-widgets/base",
            "_view_module_version": "1.2.0",
            "_view_name": "LayoutView",
            "align_content": null,
            "align_items": null,
            "align_self": null,
            "border": null,
            "bottom": null,
            "display": null,
            "flex": null,
            "flex_flow": null,
            "grid_area": null,
            "grid_auto_columns": null,
            "grid_auto_flow": null,
            "grid_auto_rows": null,
            "grid_column": null,
            "grid_gap": null,
            "grid_row": null,
            "grid_template_areas": null,
            "grid_template_columns": null,
            "grid_template_rows": null,
            "height": null,
            "justify_content": null,
            "justify_items": null,
            "left": null,
            "margin": null,
            "max_height": null,
            "max_width": null,
            "min_height": null,
            "min_width": null,
            "object_fit": null,
            "object_position": null,
            "order": null,
            "overflow": null,
            "overflow_x": null,
            "overflow_y": null,
            "padding": null,
            "right": null,
            "top": null,
            "visibility": null,
            "width": null
          }
        },
        "f62c385e47ee4d4fb44441c831adb71c": {
          "model_module": "@jupyter-widgets/base",
          "model_name": "LayoutModel",
          "model_module_version": "1.2.0",
          "state": {
            "_model_module": "@jupyter-widgets/base",
            "_model_module_version": "1.2.0",
            "_model_name": "LayoutModel",
            "_view_count": null,
            "_view_module": "@jupyter-widgets/base",
            "_view_module_version": "1.2.0",
            "_view_name": "LayoutView",
            "align_content": null,
            "align_items": null,
            "align_self": null,
            "border": null,
            "bottom": null,
            "display": null,
            "flex": null,
            "flex_flow": null,
            "grid_area": null,
            "grid_auto_columns": null,
            "grid_auto_flow": null,
            "grid_auto_rows": null,
            "grid_column": null,
            "grid_gap": null,
            "grid_row": null,
            "grid_template_areas": null,
            "grid_template_columns": null,
            "grid_template_rows": null,
            "height": null,
            "justify_content": null,
            "justify_items": null,
            "left": null,
            "margin": null,
            "max_height": null,
            "max_width": null,
            "min_height": null,
            "min_width": null,
            "object_fit": null,
            "object_position": null,
            "order": null,
            "overflow": null,
            "overflow_x": null,
            "overflow_y": null,
            "padding": null,
            "right": null,
            "top": null,
            "visibility": null,
            "width": null
          }
        },
        "2a2b981182b146ce919ddb1f1fbd2080": {
          "model_module": "@jupyter-widgets/controls",
          "model_name": "DescriptionStyleModel",
          "model_module_version": "1.5.0",
          "state": {
            "_model_module": "@jupyter-widgets/controls",
            "_model_module_version": "1.5.0",
            "_model_name": "DescriptionStyleModel",
            "_view_count": null,
            "_view_module": "@jupyter-widgets/base",
            "_view_module_version": "1.2.0",
            "_view_name": "StyleView",
            "description_width": ""
          }
        },
        "76f91ccda9b44162865ae081275d9a43": {
          "model_module": "@jupyter-widgets/base",
          "model_name": "LayoutModel",
          "model_module_version": "1.2.0",
          "state": {
            "_model_module": "@jupyter-widgets/base",
            "_model_module_version": "1.2.0",
            "_model_name": "LayoutModel",
            "_view_count": null,
            "_view_module": "@jupyter-widgets/base",
            "_view_module_version": "1.2.0",
            "_view_name": "LayoutView",
            "align_content": null,
            "align_items": null,
            "align_self": null,
            "border": null,
            "bottom": null,
            "display": null,
            "flex": null,
            "flex_flow": null,
            "grid_area": null,
            "grid_auto_columns": null,
            "grid_auto_flow": null,
            "grid_auto_rows": null,
            "grid_column": null,
            "grid_gap": null,
            "grid_row": null,
            "grid_template_areas": null,
            "grid_template_columns": null,
            "grid_template_rows": null,
            "height": null,
            "justify_content": null,
            "justify_items": null,
            "left": null,
            "margin": null,
            "max_height": null,
            "max_width": null,
            "min_height": null,
            "min_width": null,
            "object_fit": null,
            "object_position": null,
            "order": null,
            "overflow": null,
            "overflow_x": null,
            "overflow_y": null,
            "padding": null,
            "right": null,
            "top": null,
            "visibility": null,
            "width": null
          }
        },
        "09c6e278877645dda556df890fc40fde": {
          "model_module": "@jupyter-widgets/controls",
          "model_name": "ProgressStyleModel",
          "model_module_version": "1.5.0",
          "state": {
            "_model_module": "@jupyter-widgets/controls",
            "_model_module_version": "1.5.0",
            "_model_name": "ProgressStyleModel",
            "_view_count": null,
            "_view_module": "@jupyter-widgets/base",
            "_view_module_version": "1.2.0",
            "_view_name": "StyleView",
            "bar_color": null,
            "description_width": ""
          }
        },
        "84583f1961a641e08ffc3ab6b3559d3f": {
          "model_module": "@jupyter-widgets/base",
          "model_name": "LayoutModel",
          "model_module_version": "1.2.0",
          "state": {
            "_model_module": "@jupyter-widgets/base",
            "_model_module_version": "1.2.0",
            "_model_name": "LayoutModel",
            "_view_count": null,
            "_view_module": "@jupyter-widgets/base",
            "_view_module_version": "1.2.0",
            "_view_name": "LayoutView",
            "align_content": null,
            "align_items": null,
            "align_self": null,
            "border": null,
            "bottom": null,
            "display": null,
            "flex": null,
            "flex_flow": null,
            "grid_area": null,
            "grid_auto_columns": null,
            "grid_auto_flow": null,
            "grid_auto_rows": null,
            "grid_column": null,
            "grid_gap": null,
            "grid_row": null,
            "grid_template_areas": null,
            "grid_template_columns": null,
            "grid_template_rows": null,
            "height": null,
            "justify_content": null,
            "justify_items": null,
            "left": null,
            "margin": null,
            "max_height": null,
            "max_width": null,
            "min_height": null,
            "min_width": null,
            "object_fit": null,
            "object_position": null,
            "order": null,
            "overflow": null,
            "overflow_x": null,
            "overflow_y": null,
            "padding": null,
            "right": null,
            "top": null,
            "visibility": null,
            "width": null
          }
        },
        "0b136825e9914e51aefeaa5bf9e58c3f": {
          "model_module": "@jupyter-widgets/controls",
          "model_name": "DescriptionStyleModel",
          "model_module_version": "1.5.0",
          "state": {
            "_model_module": "@jupyter-widgets/controls",
            "_model_module_version": "1.5.0",
            "_model_name": "DescriptionStyleModel",
            "_view_count": null,
            "_view_module": "@jupyter-widgets/base",
            "_view_module_version": "1.2.0",
            "_view_name": "StyleView",
            "description_width": ""
          }
        },
        "028d2439902248e1ac1e813c3f4a165b": {
          "model_module": "@jupyter-widgets/controls",
          "model_name": "HBoxModel",
          "model_module_version": "1.5.0",
          "state": {
            "_dom_classes": [],
            "_model_module": "@jupyter-widgets/controls",
            "_model_module_version": "1.5.0",
            "_model_name": "HBoxModel",
            "_view_count": null,
            "_view_module": "@jupyter-widgets/controls",
            "_view_module_version": "1.5.0",
            "_view_name": "HBoxView",
            "box_style": "",
            "children": [
              "IPY_MODEL_4310bf8ec5d645e3b96622435a38cf82",
              "IPY_MODEL_37892fafd73144669e260ad31f060dc4",
              "IPY_MODEL_e1ec917695dd44009cf6ceceb166bb4f"
            ],
            "layout": "IPY_MODEL_c193449ee5b049908244dd45642145a9"
          }
        },
        "4310bf8ec5d645e3b96622435a38cf82": {
          "model_module": "@jupyter-widgets/controls",
          "model_name": "HTMLModel",
          "model_module_version": "1.5.0",
          "state": {
            "_dom_classes": [],
            "_model_module": "@jupyter-widgets/controls",
            "_model_module_version": "1.5.0",
            "_model_name": "HTMLModel",
            "_view_count": null,
            "_view_module": "@jupyter-widgets/controls",
            "_view_module_version": "1.5.0",
            "_view_name": "HTMLView",
            "description": "",
            "description_tooltip": null,
            "layout": "IPY_MODEL_df96c3dcb28e42c8a817f723201daeab",
            "placeholder": "​",
            "style": "IPY_MODEL_248028300ff44a24bb46da0562f1d5d6",
            "value": ""
          }
        },
        "37892fafd73144669e260ad31f060dc4": {
          "model_module": "@jupyter-widgets/controls",
          "model_name": "FloatProgressModel",
          "model_module_version": "1.5.0",
          "state": {
            "_dom_classes": [],
            "_model_module": "@jupyter-widgets/controls",
            "_model_module_version": "1.5.0",
            "_model_name": "FloatProgressModel",
            "_view_count": null,
            "_view_module": "@jupyter-widgets/controls",
            "_view_module_version": "1.5.0",
            "_view_name": "ProgressView",
            "bar_style": "info",
            "description": "",
            "description_tooltip": null,
            "layout": "IPY_MODEL_fde7c02a9afe4984a86992c36a0691bb",
            "max": 1,
            "min": 0,
            "orientation": "horizontal",
            "style": "IPY_MODEL_a0d825d90f194f00bfef06eb38adea2f",
            "value": 1
          }
        },
        "e1ec917695dd44009cf6ceceb166bb4f": {
          "model_module": "@jupyter-widgets/controls",
          "model_name": "HTMLModel",
          "model_module_version": "1.5.0",
          "state": {
            "_dom_classes": [],
            "_model_module": "@jupyter-widgets/controls",
            "_model_module_version": "1.5.0",
            "_model_name": "HTMLModel",
            "_view_count": null,
            "_view_module": "@jupyter-widgets/controls",
            "_view_module_version": "1.5.0",
            "_view_name": "HTMLView",
            "description": "",
            "description_tooltip": null,
            "layout": "IPY_MODEL_a54acfe3fc1b4ab98963b89ba577edc3",
            "placeholder": "​",
            "style": "IPY_MODEL_40f3bfa36f76463d8fd4dd2cea09a40c",
            "value": " 37/0 [00:00&lt;00:00, 368.49 examples/s]"
          }
        },
        "c193449ee5b049908244dd45642145a9": {
          "model_module": "@jupyter-widgets/base",
          "model_name": "LayoutModel",
          "model_module_version": "1.2.0",
          "state": {
            "_model_module": "@jupyter-widgets/base",
            "_model_module_version": "1.2.0",
            "_model_name": "LayoutModel",
            "_view_count": null,
            "_view_module": "@jupyter-widgets/base",
            "_view_module_version": "1.2.0",
            "_view_name": "LayoutView",
            "align_content": null,
            "align_items": null,
            "align_self": null,
            "border": null,
            "bottom": null,
            "display": null,
            "flex": null,
            "flex_flow": null,
            "grid_area": null,
            "grid_auto_columns": null,
            "grid_auto_flow": null,
            "grid_auto_rows": null,
            "grid_column": null,
            "grid_gap": null,
            "grid_row": null,
            "grid_template_areas": null,
            "grid_template_columns": null,
            "grid_template_rows": null,
            "height": null,
            "justify_content": null,
            "justify_items": null,
            "left": null,
            "margin": null,
            "max_height": null,
            "max_width": null,
            "min_height": null,
            "min_width": null,
            "object_fit": null,
            "object_position": null,
            "order": null,
            "overflow": null,
            "overflow_x": null,
            "overflow_y": null,
            "padding": null,
            "right": null,
            "top": null,
            "visibility": null,
            "width": null
          }
        },
        "df96c3dcb28e42c8a817f723201daeab": {
          "model_module": "@jupyter-widgets/base",
          "model_name": "LayoutModel",
          "model_module_version": "1.2.0",
          "state": {
            "_model_module": "@jupyter-widgets/base",
            "_model_module_version": "1.2.0",
            "_model_name": "LayoutModel",
            "_view_count": null,
            "_view_module": "@jupyter-widgets/base",
            "_view_module_version": "1.2.0",
            "_view_name": "LayoutView",
            "align_content": null,
            "align_items": null,
            "align_self": null,
            "border": null,
            "bottom": null,
            "display": null,
            "flex": null,
            "flex_flow": null,
            "grid_area": null,
            "grid_auto_columns": null,
            "grid_auto_flow": null,
            "grid_auto_rows": null,
            "grid_column": null,
            "grid_gap": null,
            "grid_row": null,
            "grid_template_areas": null,
            "grid_template_columns": null,
            "grid_template_rows": null,
            "height": null,
            "justify_content": null,
            "justify_items": null,
            "left": null,
            "margin": null,
            "max_height": null,
            "max_width": null,
            "min_height": null,
            "min_width": null,
            "object_fit": null,
            "object_position": null,
            "order": null,
            "overflow": null,
            "overflow_x": null,
            "overflow_y": null,
            "padding": null,
            "right": null,
            "top": null,
            "visibility": null,
            "width": null
          }
        },
        "248028300ff44a24bb46da0562f1d5d6": {
          "model_module": "@jupyter-widgets/controls",
          "model_name": "DescriptionStyleModel",
          "model_module_version": "1.5.0",
          "state": {
            "_model_module": "@jupyter-widgets/controls",
            "_model_module_version": "1.5.0",
            "_model_name": "DescriptionStyleModel",
            "_view_count": null,
            "_view_module": "@jupyter-widgets/base",
            "_view_module_version": "1.2.0",
            "_view_name": "StyleView",
            "description_width": ""
          }
        },
        "fde7c02a9afe4984a86992c36a0691bb": {
          "model_module": "@jupyter-widgets/base",
          "model_name": "LayoutModel",
          "model_module_version": "1.2.0",
          "state": {
            "_model_module": "@jupyter-widgets/base",
            "_model_module_version": "1.2.0",
            "_model_name": "LayoutModel",
            "_view_count": null,
            "_view_module": "@jupyter-widgets/base",
            "_view_module_version": "1.2.0",
            "_view_name": "LayoutView",
            "align_content": null,
            "align_items": null,
            "align_self": null,
            "border": null,
            "bottom": null,
            "display": null,
            "flex": null,
            "flex_flow": null,
            "grid_area": null,
            "grid_auto_columns": null,
            "grid_auto_flow": null,
            "grid_auto_rows": null,
            "grid_column": null,
            "grid_gap": null,
            "grid_row": null,
            "grid_template_areas": null,
            "grid_template_columns": null,
            "grid_template_rows": null,
            "height": null,
            "justify_content": null,
            "justify_items": null,
            "left": null,
            "margin": null,
            "max_height": null,
            "max_width": null,
            "min_height": null,
            "min_width": null,
            "object_fit": null,
            "object_position": null,
            "order": null,
            "overflow": null,
            "overflow_x": null,
            "overflow_y": null,
            "padding": null,
            "right": null,
            "top": null,
            "visibility": null,
            "width": "20px"
          }
        },
        "a0d825d90f194f00bfef06eb38adea2f": {
          "model_module": "@jupyter-widgets/controls",
          "model_name": "ProgressStyleModel",
          "model_module_version": "1.5.0",
          "state": {
            "_model_module": "@jupyter-widgets/controls",
            "_model_module_version": "1.5.0",
            "_model_name": "ProgressStyleModel",
            "_view_count": null,
            "_view_module": "@jupyter-widgets/base",
            "_view_module_version": "1.2.0",
            "_view_name": "StyleView",
            "bar_color": null,
            "description_width": ""
          }
        },
        "a54acfe3fc1b4ab98963b89ba577edc3": {
          "model_module": "@jupyter-widgets/base",
          "model_name": "LayoutModel",
          "model_module_version": "1.2.0",
          "state": {
            "_model_module": "@jupyter-widgets/base",
            "_model_module_version": "1.2.0",
            "_model_name": "LayoutModel",
            "_view_count": null,
            "_view_module": "@jupyter-widgets/base",
            "_view_module_version": "1.2.0",
            "_view_name": "LayoutView",
            "align_content": null,
            "align_items": null,
            "align_self": null,
            "border": null,
            "bottom": null,
            "display": null,
            "flex": null,
            "flex_flow": null,
            "grid_area": null,
            "grid_auto_columns": null,
            "grid_auto_flow": null,
            "grid_auto_rows": null,
            "grid_column": null,
            "grid_gap": null,
            "grid_row": null,
            "grid_template_areas": null,
            "grid_template_columns": null,
            "grid_template_rows": null,
            "height": null,
            "justify_content": null,
            "justify_items": null,
            "left": null,
            "margin": null,
            "max_height": null,
            "max_width": null,
            "min_height": null,
            "min_width": null,
            "object_fit": null,
            "object_position": null,
            "order": null,
            "overflow": null,
            "overflow_x": null,
            "overflow_y": null,
            "padding": null,
            "right": null,
            "top": null,
            "visibility": null,
            "width": null
          }
        },
        "40f3bfa36f76463d8fd4dd2cea09a40c": {
          "model_module": "@jupyter-widgets/controls",
          "model_name": "DescriptionStyleModel",
          "model_module_version": "1.5.0",
          "state": {
            "_model_module": "@jupyter-widgets/controls",
            "_model_module_version": "1.5.0",
            "_model_name": "DescriptionStyleModel",
            "_view_count": null,
            "_view_module": "@jupyter-widgets/base",
            "_view_module_version": "1.2.0",
            "_view_name": "StyleView",
            "description_width": ""
          }
        },
        "8ce9c79e2af24c4ebdb534e32e79f9c2": {
          "model_module": "@jupyter-widgets/controls",
          "model_name": "HBoxModel",
          "model_module_version": "1.5.0",
          "state": {
            "_dom_classes": [],
            "_model_module": "@jupyter-widgets/controls",
            "_model_module_version": "1.5.0",
            "_model_name": "HBoxModel",
            "_view_count": null,
            "_view_module": "@jupyter-widgets/controls",
            "_view_module_version": "1.5.0",
            "_view_name": "HBoxView",
            "box_style": "",
            "children": [
              "IPY_MODEL_088699ef73534eb0bec67581d8f48d29",
              "IPY_MODEL_8ceafbcf54584d49bf72751acee4435e",
              "IPY_MODEL_e831b499379c46898796c70e8b783bdc"
            ],
            "layout": "IPY_MODEL_4383ccaa2c0f400ebd09efc7c1cdd3eb"
          }
        },
        "088699ef73534eb0bec67581d8f48d29": {
          "model_module": "@jupyter-widgets/controls",
          "model_name": "HTMLModel",
          "model_module_version": "1.5.0",
          "state": {
            "_dom_classes": [],
            "_model_module": "@jupyter-widgets/controls",
            "_model_module_version": "1.5.0",
            "_model_name": "HTMLModel",
            "_view_count": null,
            "_view_module": "@jupyter-widgets/controls",
            "_view_module_version": "1.5.0",
            "_view_name": "HTMLView",
            "description": "",
            "description_tooltip": null,
            "layout": "IPY_MODEL_5963be39a10646a9a92fd388ef935175",
            "placeholder": "​",
            "style": "IPY_MODEL_43161c674e7f4c019570efd112003184",
            "value": " 99%"
          }
        },
        "8ceafbcf54584d49bf72751acee4435e": {
          "model_module": "@jupyter-widgets/controls",
          "model_name": "FloatProgressModel",
          "model_module_version": "1.5.0",
          "state": {
            "_dom_classes": [],
            "_model_module": "@jupyter-widgets/controls",
            "_model_module_version": "1.5.0",
            "_model_name": "FloatProgressModel",
            "_view_count": null,
            "_view_module": "@jupyter-widgets/controls",
            "_view_module_version": "1.5.0",
            "_view_name": "ProgressView",
            "bar_style": "danger",
            "description": "",
            "description_tooltip": null,
            "layout": "IPY_MODEL_56f5602a75ab49c298095bee424bec43",
            "max": 133,
            "min": 0,
            "orientation": "horizontal",
            "style": "IPY_MODEL_8b7018b6c3704f93879a936fb5b06e22",
            "value": 132
          }
        },
        "e831b499379c46898796c70e8b783bdc": {
          "model_module": "@jupyter-widgets/controls",
          "model_name": "HTMLModel",
          "model_module_version": "1.5.0",
          "state": {
            "_dom_classes": [],
            "_model_module": "@jupyter-widgets/controls",
            "_model_module_version": "1.5.0",
            "_model_name": "HTMLModel",
            "_view_count": null,
            "_view_module": "@jupyter-widgets/controls",
            "_view_module_version": "1.5.0",
            "_view_name": "HTMLView",
            "description": "",
            "description_tooltip": null,
            "layout": "IPY_MODEL_1426fff838ae4c5383b16770b1bd133b",
            "placeholder": "​",
            "style": "IPY_MODEL_73d665d4994c418880d208b40bc2fb9c",
            "value": " 132/133 [00:00&lt;00:00, 1884.37 examples/s]"
          }
        },
        "4383ccaa2c0f400ebd09efc7c1cdd3eb": {
          "model_module": "@jupyter-widgets/base",
          "model_name": "LayoutModel",
          "model_module_version": "1.2.0",
          "state": {
            "_model_module": "@jupyter-widgets/base",
            "_model_module_version": "1.2.0",
            "_model_name": "LayoutModel",
            "_view_count": null,
            "_view_module": "@jupyter-widgets/base",
            "_view_module_version": "1.2.0",
            "_view_name": "LayoutView",
            "align_content": null,
            "align_items": null,
            "align_self": null,
            "border": null,
            "bottom": null,
            "display": null,
            "flex": null,
            "flex_flow": null,
            "grid_area": null,
            "grid_auto_columns": null,
            "grid_auto_flow": null,
            "grid_auto_rows": null,
            "grid_column": null,
            "grid_gap": null,
            "grid_row": null,
            "grid_template_areas": null,
            "grid_template_columns": null,
            "grid_template_rows": null,
            "height": null,
            "justify_content": null,
            "justify_items": null,
            "left": null,
            "margin": null,
            "max_height": null,
            "max_width": null,
            "min_height": null,
            "min_width": null,
            "object_fit": null,
            "object_position": null,
            "order": null,
            "overflow": null,
            "overflow_x": null,
            "overflow_y": null,
            "padding": null,
            "right": null,
            "top": null,
            "visibility": null,
            "width": null
          }
        },
        "5963be39a10646a9a92fd388ef935175": {
          "model_module": "@jupyter-widgets/base",
          "model_name": "LayoutModel",
          "model_module_version": "1.2.0",
          "state": {
            "_model_module": "@jupyter-widgets/base",
            "_model_module_version": "1.2.0",
            "_model_name": "LayoutModel",
            "_view_count": null,
            "_view_module": "@jupyter-widgets/base",
            "_view_module_version": "1.2.0",
            "_view_name": "LayoutView",
            "align_content": null,
            "align_items": null,
            "align_self": null,
            "border": null,
            "bottom": null,
            "display": null,
            "flex": null,
            "flex_flow": null,
            "grid_area": null,
            "grid_auto_columns": null,
            "grid_auto_flow": null,
            "grid_auto_rows": null,
            "grid_column": null,
            "grid_gap": null,
            "grid_row": null,
            "grid_template_areas": null,
            "grid_template_columns": null,
            "grid_template_rows": null,
            "height": null,
            "justify_content": null,
            "justify_items": null,
            "left": null,
            "margin": null,
            "max_height": null,
            "max_width": null,
            "min_height": null,
            "min_width": null,
            "object_fit": null,
            "object_position": null,
            "order": null,
            "overflow": null,
            "overflow_x": null,
            "overflow_y": null,
            "padding": null,
            "right": null,
            "top": null,
            "visibility": null,
            "width": null
          }
        },
        "43161c674e7f4c019570efd112003184": {
          "model_module": "@jupyter-widgets/controls",
          "model_name": "DescriptionStyleModel",
          "model_module_version": "1.5.0",
          "state": {
            "_model_module": "@jupyter-widgets/controls",
            "_model_module_version": "1.5.0",
            "_model_name": "DescriptionStyleModel",
            "_view_count": null,
            "_view_module": "@jupyter-widgets/base",
            "_view_module_version": "1.2.0",
            "_view_name": "StyleView",
            "description_width": ""
          }
        },
        "56f5602a75ab49c298095bee424bec43": {
          "model_module": "@jupyter-widgets/base",
          "model_name": "LayoutModel",
          "model_module_version": "1.2.0",
          "state": {
            "_model_module": "@jupyter-widgets/base",
            "_model_module_version": "1.2.0",
            "_model_name": "LayoutModel",
            "_view_count": null,
            "_view_module": "@jupyter-widgets/base",
            "_view_module_version": "1.2.0",
            "_view_name": "LayoutView",
            "align_content": null,
            "align_items": null,
            "align_self": null,
            "border": null,
            "bottom": null,
            "display": null,
            "flex": null,
            "flex_flow": null,
            "grid_area": null,
            "grid_auto_columns": null,
            "grid_auto_flow": null,
            "grid_auto_rows": null,
            "grid_column": null,
            "grid_gap": null,
            "grid_row": null,
            "grid_template_areas": null,
            "grid_template_columns": null,
            "grid_template_rows": null,
            "height": null,
            "justify_content": null,
            "justify_items": null,
            "left": null,
            "margin": null,
            "max_height": null,
            "max_width": null,
            "min_height": null,
            "min_width": null,
            "object_fit": null,
            "object_position": null,
            "order": null,
            "overflow": null,
            "overflow_x": null,
            "overflow_y": null,
            "padding": null,
            "right": null,
            "top": null,
            "visibility": null,
            "width": null
          }
        },
        "8b7018b6c3704f93879a936fb5b06e22": {
          "model_module": "@jupyter-widgets/controls",
          "model_name": "ProgressStyleModel",
          "model_module_version": "1.5.0",
          "state": {
            "_model_module": "@jupyter-widgets/controls",
            "_model_module_version": "1.5.0",
            "_model_name": "ProgressStyleModel",
            "_view_count": null,
            "_view_module": "@jupyter-widgets/base",
            "_view_module_version": "1.2.0",
            "_view_name": "StyleView",
            "bar_color": null,
            "description_width": ""
          }
        },
        "1426fff838ae4c5383b16770b1bd133b": {
          "model_module": "@jupyter-widgets/base",
          "model_name": "LayoutModel",
          "model_module_version": "1.2.0",
          "state": {
            "_model_module": "@jupyter-widgets/base",
            "_model_module_version": "1.2.0",
            "_model_name": "LayoutModel",
            "_view_count": null,
            "_view_module": "@jupyter-widgets/base",
            "_view_module_version": "1.2.0",
            "_view_name": "LayoutView",
            "align_content": null,
            "align_items": null,
            "align_self": null,
            "border": null,
            "bottom": null,
            "display": null,
            "flex": null,
            "flex_flow": null,
            "grid_area": null,
            "grid_auto_columns": null,
            "grid_auto_flow": null,
            "grid_auto_rows": null,
            "grid_column": null,
            "grid_gap": null,
            "grid_row": null,
            "grid_template_areas": null,
            "grid_template_columns": null,
            "grid_template_rows": null,
            "height": null,
            "justify_content": null,
            "justify_items": null,
            "left": null,
            "margin": null,
            "max_height": null,
            "max_width": null,
            "min_height": null,
            "min_width": null,
            "object_fit": null,
            "object_position": null,
            "order": null,
            "overflow": null,
            "overflow_x": null,
            "overflow_y": null,
            "padding": null,
            "right": null,
            "top": null,
            "visibility": null,
            "width": null
          }
        },
        "73d665d4994c418880d208b40bc2fb9c": {
          "model_module": "@jupyter-widgets/controls",
          "model_name": "DescriptionStyleModel",
          "model_module_version": "1.5.0",
          "state": {
            "_model_module": "@jupyter-widgets/controls",
            "_model_module_version": "1.5.0",
            "_model_name": "DescriptionStyleModel",
            "_view_count": null,
            "_view_module": "@jupyter-widgets/base",
            "_view_module_version": "1.2.0",
            "_view_name": "StyleView",
            "description_width": ""
          }
        },
        "506d106d654d4e09ae2d27e228fa2509": {
          "model_module": "@jupyter-widgets/controls",
          "model_name": "HBoxModel",
          "model_module_version": "1.5.0",
          "state": {
            "_dom_classes": [],
            "_model_module": "@jupyter-widgets/controls",
            "_model_module_version": "1.5.0",
            "_model_name": "HBoxModel",
            "_view_count": null,
            "_view_module": "@jupyter-widgets/controls",
            "_view_module_version": "1.5.0",
            "_view_name": "HBoxView",
            "box_style": "",
            "children": [
              "IPY_MODEL_594bf5be3b1145fb9a89352b9984d591",
              "IPY_MODEL_7e2f8d07066444369fb1392b2e779e63",
              "IPY_MODEL_704f74df849e41cb8058182bde3881f9"
            ],
            "layout": "IPY_MODEL_b9048dfbe99446169fabd33da4eec9e5"
          }
        },
        "594bf5be3b1145fb9a89352b9984d591": {
          "model_module": "@jupyter-widgets/controls",
          "model_name": "HTMLModel",
          "model_module_version": "1.5.0",
          "state": {
            "_dom_classes": [],
            "_model_module": "@jupyter-widgets/controls",
            "_model_module_version": "1.5.0",
            "_model_name": "HTMLModel",
            "_view_count": null,
            "_view_module": "@jupyter-widgets/controls",
            "_view_module_version": "1.5.0",
            "_view_name": "HTMLView",
            "description": "",
            "description_tooltip": null,
            "layout": "IPY_MODEL_fdeb23768dbb41f39614e58593f1a352",
            "placeholder": "​",
            "style": "IPY_MODEL_7f2c8cf4d89d4f729a5d1ad9b4515211",
            "value": ""
          }
        },
        "7e2f8d07066444369fb1392b2e779e63": {
          "model_module": "@jupyter-widgets/controls",
          "model_name": "FloatProgressModel",
          "model_module_version": "1.5.0",
          "state": {
            "_dom_classes": [],
            "_model_module": "@jupyter-widgets/controls",
            "_model_module_version": "1.5.0",
            "_model_name": "FloatProgressModel",
            "_view_count": null,
            "_view_module": "@jupyter-widgets/controls",
            "_view_module_version": "1.5.0",
            "_view_name": "ProgressView",
            "bar_style": "info",
            "description": "",
            "description_tooltip": null,
            "layout": "IPY_MODEL_211c2d7dba334f47972aa30619c0bae2",
            "max": 1,
            "min": 0,
            "orientation": "horizontal",
            "style": "IPY_MODEL_dfd0058e14cb4857819fd99b3667484f",
            "value": 1
          }
        },
        "704f74df849e41cb8058182bde3881f9": {
          "model_module": "@jupyter-widgets/controls",
          "model_name": "HTMLModel",
          "model_module_version": "1.5.0",
          "state": {
            "_dom_classes": [],
            "_model_module": "@jupyter-widgets/controls",
            "_model_module_version": "1.5.0",
            "_model_name": "HTMLModel",
            "_view_count": null,
            "_view_module": "@jupyter-widgets/controls",
            "_view_module_version": "1.5.0",
            "_view_name": "HTMLView",
            "description": "",
            "description_tooltip": null,
            "layout": "IPY_MODEL_3d856efb6ddd47afbb52781b14479752",
            "placeholder": "​",
            "style": "IPY_MODEL_3578238245f340f4bc7ec59ed1bcd0ce",
            "value": " 30/0 [00:00&lt;00:00, 297.01 examples/s]"
          }
        },
        "b9048dfbe99446169fabd33da4eec9e5": {
          "model_module": "@jupyter-widgets/base",
          "model_name": "LayoutModel",
          "model_module_version": "1.2.0",
          "state": {
            "_model_module": "@jupyter-widgets/base",
            "_model_module_version": "1.2.0",
            "_model_name": "LayoutModel",
            "_view_count": null,
            "_view_module": "@jupyter-widgets/base",
            "_view_module_version": "1.2.0",
            "_view_name": "LayoutView",
            "align_content": null,
            "align_items": null,
            "align_self": null,
            "border": null,
            "bottom": null,
            "display": null,
            "flex": null,
            "flex_flow": null,
            "grid_area": null,
            "grid_auto_columns": null,
            "grid_auto_flow": null,
            "grid_auto_rows": null,
            "grid_column": null,
            "grid_gap": null,
            "grid_row": null,
            "grid_template_areas": null,
            "grid_template_columns": null,
            "grid_template_rows": null,
            "height": null,
            "justify_content": null,
            "justify_items": null,
            "left": null,
            "margin": null,
            "max_height": null,
            "max_width": null,
            "min_height": null,
            "min_width": null,
            "object_fit": null,
            "object_position": null,
            "order": null,
            "overflow": null,
            "overflow_x": null,
            "overflow_y": null,
            "padding": null,
            "right": null,
            "top": null,
            "visibility": null,
            "width": null
          }
        },
        "fdeb23768dbb41f39614e58593f1a352": {
          "model_module": "@jupyter-widgets/base",
          "model_name": "LayoutModel",
          "model_module_version": "1.2.0",
          "state": {
            "_model_module": "@jupyter-widgets/base",
            "_model_module_version": "1.2.0",
            "_model_name": "LayoutModel",
            "_view_count": null,
            "_view_module": "@jupyter-widgets/base",
            "_view_module_version": "1.2.0",
            "_view_name": "LayoutView",
            "align_content": null,
            "align_items": null,
            "align_self": null,
            "border": null,
            "bottom": null,
            "display": null,
            "flex": null,
            "flex_flow": null,
            "grid_area": null,
            "grid_auto_columns": null,
            "grid_auto_flow": null,
            "grid_auto_rows": null,
            "grid_column": null,
            "grid_gap": null,
            "grid_row": null,
            "grid_template_areas": null,
            "grid_template_columns": null,
            "grid_template_rows": null,
            "height": null,
            "justify_content": null,
            "justify_items": null,
            "left": null,
            "margin": null,
            "max_height": null,
            "max_width": null,
            "min_height": null,
            "min_width": null,
            "object_fit": null,
            "object_position": null,
            "order": null,
            "overflow": null,
            "overflow_x": null,
            "overflow_y": null,
            "padding": null,
            "right": null,
            "top": null,
            "visibility": null,
            "width": null
          }
        },
        "7f2c8cf4d89d4f729a5d1ad9b4515211": {
          "model_module": "@jupyter-widgets/controls",
          "model_name": "DescriptionStyleModel",
          "model_module_version": "1.5.0",
          "state": {
            "_model_module": "@jupyter-widgets/controls",
            "_model_module_version": "1.5.0",
            "_model_name": "DescriptionStyleModel",
            "_view_count": null,
            "_view_module": "@jupyter-widgets/base",
            "_view_module_version": "1.2.0",
            "_view_name": "StyleView",
            "description_width": ""
          }
        },
        "211c2d7dba334f47972aa30619c0bae2": {
          "model_module": "@jupyter-widgets/base",
          "model_name": "LayoutModel",
          "model_module_version": "1.2.0",
          "state": {
            "_model_module": "@jupyter-widgets/base",
            "_model_module_version": "1.2.0",
            "_model_name": "LayoutModel",
            "_view_count": null,
            "_view_module": "@jupyter-widgets/base",
            "_view_module_version": "1.2.0",
            "_view_name": "LayoutView",
            "align_content": null,
            "align_items": null,
            "align_self": null,
            "border": null,
            "bottom": null,
            "display": null,
            "flex": null,
            "flex_flow": null,
            "grid_area": null,
            "grid_auto_columns": null,
            "grid_auto_flow": null,
            "grid_auto_rows": null,
            "grid_column": null,
            "grid_gap": null,
            "grid_row": null,
            "grid_template_areas": null,
            "grid_template_columns": null,
            "grid_template_rows": null,
            "height": null,
            "justify_content": null,
            "justify_items": null,
            "left": null,
            "margin": null,
            "max_height": null,
            "max_width": null,
            "min_height": null,
            "min_width": null,
            "object_fit": null,
            "object_position": null,
            "order": null,
            "overflow": null,
            "overflow_x": null,
            "overflow_y": null,
            "padding": null,
            "right": null,
            "top": null,
            "visibility": null,
            "width": "20px"
          }
        },
        "dfd0058e14cb4857819fd99b3667484f": {
          "model_module": "@jupyter-widgets/controls",
          "model_name": "ProgressStyleModel",
          "model_module_version": "1.5.0",
          "state": {
            "_model_module": "@jupyter-widgets/controls",
            "_model_module_version": "1.5.0",
            "_model_name": "ProgressStyleModel",
            "_view_count": null,
            "_view_module": "@jupyter-widgets/base",
            "_view_module_version": "1.2.0",
            "_view_name": "StyleView",
            "bar_color": null,
            "description_width": ""
          }
        },
        "3d856efb6ddd47afbb52781b14479752": {
          "model_module": "@jupyter-widgets/base",
          "model_name": "LayoutModel",
          "model_module_version": "1.2.0",
          "state": {
            "_model_module": "@jupyter-widgets/base",
            "_model_module_version": "1.2.0",
            "_model_name": "LayoutModel",
            "_view_count": null,
            "_view_module": "@jupyter-widgets/base",
            "_view_module_version": "1.2.0",
            "_view_name": "LayoutView",
            "align_content": null,
            "align_items": null,
            "align_self": null,
            "border": null,
            "bottom": null,
            "display": null,
            "flex": null,
            "flex_flow": null,
            "grid_area": null,
            "grid_auto_columns": null,
            "grid_auto_flow": null,
            "grid_auto_rows": null,
            "grid_column": null,
            "grid_gap": null,
            "grid_row": null,
            "grid_template_areas": null,
            "grid_template_columns": null,
            "grid_template_rows": null,
            "height": null,
            "justify_content": null,
            "justify_items": null,
            "left": null,
            "margin": null,
            "max_height": null,
            "max_width": null,
            "min_height": null,
            "min_width": null,
            "object_fit": null,
            "object_position": null,
            "order": null,
            "overflow": null,
            "overflow_x": null,
            "overflow_y": null,
            "padding": null,
            "right": null,
            "top": null,
            "visibility": null,
            "width": null
          }
        },
        "3578238245f340f4bc7ec59ed1bcd0ce": {
          "model_module": "@jupyter-widgets/controls",
          "model_name": "DescriptionStyleModel",
          "model_module_version": "1.5.0",
          "state": {
            "_model_module": "@jupyter-widgets/controls",
            "_model_module_version": "1.5.0",
            "_model_name": "DescriptionStyleModel",
            "_view_count": null,
            "_view_module": "@jupyter-widgets/base",
            "_view_module_version": "1.2.0",
            "_view_name": "StyleView",
            "description_width": ""
          }
        },
        "9332f9ad8f594aafb18975fc76a2b08b": {
          "model_module": "@jupyter-widgets/controls",
          "model_name": "HBoxModel",
          "model_module_version": "1.5.0",
          "state": {
            "_dom_classes": [],
            "_model_module": "@jupyter-widgets/controls",
            "_model_module_version": "1.5.0",
            "_model_name": "HBoxModel",
            "_view_count": null,
            "_view_module": "@jupyter-widgets/controls",
            "_view_module_version": "1.5.0",
            "_view_name": "HBoxView",
            "box_style": "",
            "children": [
              "IPY_MODEL_7a645a8e8eba40b1a77b991ec2240d1e",
              "IPY_MODEL_7fe9701203f74971800963192eeef919",
              "IPY_MODEL_48c9853d91414e2c9c7b2ac65ddad100"
            ],
            "layout": "IPY_MODEL_074d4f0643354427bdae868277e1f278"
          }
        },
        "7a645a8e8eba40b1a77b991ec2240d1e": {
          "model_module": "@jupyter-widgets/controls",
          "model_name": "HTMLModel",
          "model_module_version": "1.5.0",
          "state": {
            "_dom_classes": [],
            "_model_module": "@jupyter-widgets/controls",
            "_model_module_version": "1.5.0",
            "_model_name": "HTMLModel",
            "_view_count": null,
            "_view_module": "@jupyter-widgets/controls",
            "_view_module_version": "1.5.0",
            "_view_name": "HTMLView",
            "description": "",
            "description_tooltip": null,
            "layout": "IPY_MODEL_073887b2f0f24676badb3373ed514916",
            "placeholder": "​",
            "style": "IPY_MODEL_cf5107b2e2024f37bad2867d5030d7cb",
            "value": " 99%"
          }
        },
        "7fe9701203f74971800963192eeef919": {
          "model_module": "@jupyter-widgets/controls",
          "model_name": "FloatProgressModel",
          "model_module_version": "1.5.0",
          "state": {
            "_dom_classes": [],
            "_model_module": "@jupyter-widgets/controls",
            "_model_module_version": "1.5.0",
            "_model_name": "FloatProgressModel",
            "_view_count": null,
            "_view_module": "@jupyter-widgets/controls",
            "_view_module_version": "1.5.0",
            "_view_name": "ProgressView",
            "bar_style": "danger",
            "description": "",
            "description_tooltip": null,
            "layout": "IPY_MODEL_c09ddca633e84d16ac03ffcac0b2c244",
            "max": 128,
            "min": 0,
            "orientation": "horizontal",
            "style": "IPY_MODEL_8abdad7b209649159904c3dcedd4efe2",
            "value": 127
          }
        },
        "48c9853d91414e2c9c7b2ac65ddad100": {
          "model_module": "@jupyter-widgets/controls",
          "model_name": "HTMLModel",
          "model_module_version": "1.5.0",
          "state": {
            "_dom_classes": [],
            "_model_module": "@jupyter-widgets/controls",
            "_model_module_version": "1.5.0",
            "_model_name": "HTMLModel",
            "_view_count": null,
            "_view_module": "@jupyter-widgets/controls",
            "_view_module_version": "1.5.0",
            "_view_name": "HTMLView",
            "description": "",
            "description_tooltip": null,
            "layout": "IPY_MODEL_a487a3156a30495191b9b8c356109975",
            "placeholder": "​",
            "style": "IPY_MODEL_58c2b9db3a2147829bda8c380703a3e6",
            "value": " 127/128 [00:00&lt;00:00, 1854.78 examples/s]"
          }
        },
        "074d4f0643354427bdae868277e1f278": {
          "model_module": "@jupyter-widgets/base",
          "model_name": "LayoutModel",
          "model_module_version": "1.2.0",
          "state": {
            "_model_module": "@jupyter-widgets/base",
            "_model_module_version": "1.2.0",
            "_model_name": "LayoutModel",
            "_view_count": null,
            "_view_module": "@jupyter-widgets/base",
            "_view_module_version": "1.2.0",
            "_view_name": "LayoutView",
            "align_content": null,
            "align_items": null,
            "align_self": null,
            "border": null,
            "bottom": null,
            "display": null,
            "flex": null,
            "flex_flow": null,
            "grid_area": null,
            "grid_auto_columns": null,
            "grid_auto_flow": null,
            "grid_auto_rows": null,
            "grid_column": null,
            "grid_gap": null,
            "grid_row": null,
            "grid_template_areas": null,
            "grid_template_columns": null,
            "grid_template_rows": null,
            "height": null,
            "justify_content": null,
            "justify_items": null,
            "left": null,
            "margin": null,
            "max_height": null,
            "max_width": null,
            "min_height": null,
            "min_width": null,
            "object_fit": null,
            "object_position": null,
            "order": null,
            "overflow": null,
            "overflow_x": null,
            "overflow_y": null,
            "padding": null,
            "right": null,
            "top": null,
            "visibility": null,
            "width": null
          }
        },
        "073887b2f0f24676badb3373ed514916": {
          "model_module": "@jupyter-widgets/base",
          "model_name": "LayoutModel",
          "model_module_version": "1.2.0",
          "state": {
            "_model_module": "@jupyter-widgets/base",
            "_model_module_version": "1.2.0",
            "_model_name": "LayoutModel",
            "_view_count": null,
            "_view_module": "@jupyter-widgets/base",
            "_view_module_version": "1.2.0",
            "_view_name": "LayoutView",
            "align_content": null,
            "align_items": null,
            "align_self": null,
            "border": null,
            "bottom": null,
            "display": null,
            "flex": null,
            "flex_flow": null,
            "grid_area": null,
            "grid_auto_columns": null,
            "grid_auto_flow": null,
            "grid_auto_rows": null,
            "grid_column": null,
            "grid_gap": null,
            "grid_row": null,
            "grid_template_areas": null,
            "grid_template_columns": null,
            "grid_template_rows": null,
            "height": null,
            "justify_content": null,
            "justify_items": null,
            "left": null,
            "margin": null,
            "max_height": null,
            "max_width": null,
            "min_height": null,
            "min_width": null,
            "object_fit": null,
            "object_position": null,
            "order": null,
            "overflow": null,
            "overflow_x": null,
            "overflow_y": null,
            "padding": null,
            "right": null,
            "top": null,
            "visibility": null,
            "width": null
          }
        },
        "cf5107b2e2024f37bad2867d5030d7cb": {
          "model_module": "@jupyter-widgets/controls",
          "model_name": "DescriptionStyleModel",
          "model_module_version": "1.5.0",
          "state": {
            "_model_module": "@jupyter-widgets/controls",
            "_model_module_version": "1.5.0",
            "_model_name": "DescriptionStyleModel",
            "_view_count": null,
            "_view_module": "@jupyter-widgets/base",
            "_view_module_version": "1.2.0",
            "_view_name": "StyleView",
            "description_width": ""
          }
        },
        "c09ddca633e84d16ac03ffcac0b2c244": {
          "model_module": "@jupyter-widgets/base",
          "model_name": "LayoutModel",
          "model_module_version": "1.2.0",
          "state": {
            "_model_module": "@jupyter-widgets/base",
            "_model_module_version": "1.2.0",
            "_model_name": "LayoutModel",
            "_view_count": null,
            "_view_module": "@jupyter-widgets/base",
            "_view_module_version": "1.2.0",
            "_view_name": "LayoutView",
            "align_content": null,
            "align_items": null,
            "align_self": null,
            "border": null,
            "bottom": null,
            "display": null,
            "flex": null,
            "flex_flow": null,
            "grid_area": null,
            "grid_auto_columns": null,
            "grid_auto_flow": null,
            "grid_auto_rows": null,
            "grid_column": null,
            "grid_gap": null,
            "grid_row": null,
            "grid_template_areas": null,
            "grid_template_columns": null,
            "grid_template_rows": null,
            "height": null,
            "justify_content": null,
            "justify_items": null,
            "left": null,
            "margin": null,
            "max_height": null,
            "max_width": null,
            "min_height": null,
            "min_width": null,
            "object_fit": null,
            "object_position": null,
            "order": null,
            "overflow": null,
            "overflow_x": null,
            "overflow_y": null,
            "padding": null,
            "right": null,
            "top": null,
            "visibility": null,
            "width": null
          }
        },
        "8abdad7b209649159904c3dcedd4efe2": {
          "model_module": "@jupyter-widgets/controls",
          "model_name": "ProgressStyleModel",
          "model_module_version": "1.5.0",
          "state": {
            "_model_module": "@jupyter-widgets/controls",
            "_model_module_version": "1.5.0",
            "_model_name": "ProgressStyleModel",
            "_view_count": null,
            "_view_module": "@jupyter-widgets/base",
            "_view_module_version": "1.2.0",
            "_view_name": "StyleView",
            "bar_color": null,
            "description_width": ""
          }
        },
        "a487a3156a30495191b9b8c356109975": {
          "model_module": "@jupyter-widgets/base",
          "model_name": "LayoutModel",
          "model_module_version": "1.2.0",
          "state": {
            "_model_module": "@jupyter-widgets/base",
            "_model_module_version": "1.2.0",
            "_model_name": "LayoutModel",
            "_view_count": null,
            "_view_module": "@jupyter-widgets/base",
            "_view_module_version": "1.2.0",
            "_view_name": "LayoutView",
            "align_content": null,
            "align_items": null,
            "align_self": null,
            "border": null,
            "bottom": null,
            "display": null,
            "flex": null,
            "flex_flow": null,
            "grid_area": null,
            "grid_auto_columns": null,
            "grid_auto_flow": null,
            "grid_auto_rows": null,
            "grid_column": null,
            "grid_gap": null,
            "grid_row": null,
            "grid_template_areas": null,
            "grid_template_columns": null,
            "grid_template_rows": null,
            "height": null,
            "justify_content": null,
            "justify_items": null,
            "left": null,
            "margin": null,
            "max_height": null,
            "max_width": null,
            "min_height": null,
            "min_width": null,
            "object_fit": null,
            "object_position": null,
            "order": null,
            "overflow": null,
            "overflow_x": null,
            "overflow_y": null,
            "padding": null,
            "right": null,
            "top": null,
            "visibility": null,
            "width": null
          }
        },
        "58c2b9db3a2147829bda8c380703a3e6": {
          "model_module": "@jupyter-widgets/controls",
          "model_name": "DescriptionStyleModel",
          "model_module_version": "1.5.0",
          "state": {
            "_model_module": "@jupyter-widgets/controls",
            "_model_module_version": "1.5.0",
            "_model_name": "DescriptionStyleModel",
            "_view_count": null,
            "_view_module": "@jupyter-widgets/base",
            "_view_module_version": "1.2.0",
            "_view_name": "StyleView",
            "description_width": ""
          }
        }
      }
    },
    "accelerator": "GPU"
  },
  "cells": [
    {
      "cell_type": "markdown",
      "metadata": {
        "id": "view-in-github",
        "colab_type": "text"
      },
      "source": [
        "<a href=\"https://colab.research.google.com/github/AUT-Student/NN-HW4/blob/main/NN_HW4.ipynb\" target=\"_parent\"><img src=\"https://colab.research.google.com/assets/colab-badge.svg\" alt=\"Open In Colab\"/></a>"
      ]
    },
    {
      "cell_type": "markdown",
      "source": [
        "# Libraries"
      ],
      "metadata": {
        "id": "ntmFFP5_GuCa"
      }
    },
    {
      "cell_type": "code",
      "execution_count": 28,
      "metadata": {
        "id": "JeslGkMkeFT2"
      },
      "outputs": [],
      "source": [
        "import numpy as np\n",
        "import matplotlib.pyplot as plt\n",
        "\n",
        "import tensorflow as tf\n",
        "import tensorflow.keras as keras\n",
        "import tensorflow_datasets as tfds\n",
        "\n",
        "from keras.models import Sequential\n",
        "from keras.layers import Input, Dense, Conv2D, Flatten\n",
        "from keras.layers import Dropout, AveragePooling2D\n",
        "from keras.callbacks import EarlyStopping\n",
        "from keras.regularizers import l1, l2\n",
        "from keras.applications.inception_v3 import InceptionV3\n",
        "from keras.models import clone_model"
      ]
    },
    {
      "cell_type": "markdown",
      "source": [
        "# Dataset"
      ],
      "metadata": {
        "id": "jeWm1guJG39O"
      }
    },
    {
      "cell_type": "code",
      "source": [
        "ds = tfds.load('beans', split=[\"test\", \"train\", \"validation\"], shuffle_files=True)"
      ],
      "metadata": {
        "id": "MaC1owEmG3LU",
        "colab": {
          "base_uri": "https://localhost:8080/",
          "height": 321,
          "referenced_widgets": [
            "05a35565d50b4f7997bc17bb3e8d49a7",
            "1f4cc3d9af42489186a936e7f0ba8472",
            "34b8503640ae4ca78617085fbec09907",
            "e695f67b23e84d9ea0f1374145787e19",
            "f98f31a299054808b5292b72ac3aee1f",
            "1365800e2d41426990a76b81f0ec1f83",
            "572d6a62f4fc4349996ce23127903eda",
            "95c21cd6d56844b8969d020ce259f848",
            "d6b6c91efa2941e48d75f85276709460",
            "6ba59ef5455f4924b526a5c2988157ed",
            "c058fd78dd4f4660b14ba8d2f6a47596",
            "82bf5ebdc1a04b5986d7aff31868e4da",
            "d635a5f9c9cd454c97918baafc96a8e4",
            "0bd25a4c1f4c4c989c4f119718c7b450",
            "38cf49f2279649e5ab317c0efb39980f",
            "e3cead6bb0344654803474473e9d7d6c",
            "a2adb0731e4d4143a24254c89e9f6a76",
            "d2dec385937b478193aaa60356f057c6",
            "c93c587efe734635b1cd277e5390df5d",
            "e30e3cfd149c4e15b6c541bcd169e3a8",
            "84fd7145123643548a367d17f3ec4ca4",
            "972483e1a10544b6ae7cc4ba02a78715",
            "7701efbea5b048899a6cff23856dbf67",
            "db36c4713b1140d798d0d411095b33d5",
            "aa656388b3a240899e351abab5f01a43",
            "2a8506725aa2461bb7728f9e8957a965",
            "f063340509d44cf49112390391d0db7d",
            "6ec8c5f6115648edb51bd37060677587",
            "405edbce5933470aab1920ef03360217",
            "e2111fcdb39d4a0e934ef81b2431057a",
            "68b6056b2872456c8ddb0285eb059493",
            "9d95ba663ded4770b2cae0ef7173cdea",
            "4f44469ba8a2451eb1d450630bd26a4d",
            "8ad03322a5b94ad48a8135d28709a8d9",
            "00e25a93dc66420db61f48a376af1503",
            "8ccde30f38df4869a12bf0e369577a6b",
            "ca620d2f01f140b0b89787714d5f8c82",
            "dd0f6d9c101840e09366df1d4ee457d7",
            "f62c385e47ee4d4fb44441c831adb71c",
            "2a2b981182b146ce919ddb1f1fbd2080",
            "76f91ccda9b44162865ae081275d9a43",
            "09c6e278877645dda556df890fc40fde",
            "84583f1961a641e08ffc3ab6b3559d3f",
            "0b136825e9914e51aefeaa5bf9e58c3f",
            "028d2439902248e1ac1e813c3f4a165b",
            "4310bf8ec5d645e3b96622435a38cf82",
            "37892fafd73144669e260ad31f060dc4",
            "e1ec917695dd44009cf6ceceb166bb4f",
            "c193449ee5b049908244dd45642145a9",
            "df96c3dcb28e42c8a817f723201daeab",
            "248028300ff44a24bb46da0562f1d5d6",
            "fde7c02a9afe4984a86992c36a0691bb",
            "a0d825d90f194f00bfef06eb38adea2f",
            "a54acfe3fc1b4ab98963b89ba577edc3",
            "40f3bfa36f76463d8fd4dd2cea09a40c",
            "8ce9c79e2af24c4ebdb534e32e79f9c2",
            "088699ef73534eb0bec67581d8f48d29",
            "8ceafbcf54584d49bf72751acee4435e",
            "e831b499379c46898796c70e8b783bdc",
            "4383ccaa2c0f400ebd09efc7c1cdd3eb",
            "5963be39a10646a9a92fd388ef935175",
            "43161c674e7f4c019570efd112003184",
            "56f5602a75ab49c298095bee424bec43",
            "8b7018b6c3704f93879a936fb5b06e22",
            "1426fff838ae4c5383b16770b1bd133b",
            "73d665d4994c418880d208b40bc2fb9c",
            "506d106d654d4e09ae2d27e228fa2509",
            "594bf5be3b1145fb9a89352b9984d591",
            "7e2f8d07066444369fb1392b2e779e63",
            "704f74df849e41cb8058182bde3881f9",
            "b9048dfbe99446169fabd33da4eec9e5",
            "fdeb23768dbb41f39614e58593f1a352",
            "7f2c8cf4d89d4f729a5d1ad9b4515211",
            "211c2d7dba334f47972aa30619c0bae2",
            "dfd0058e14cb4857819fd99b3667484f",
            "3d856efb6ddd47afbb52781b14479752",
            "3578238245f340f4bc7ec59ed1bcd0ce",
            "9332f9ad8f594aafb18975fc76a2b08b",
            "7a645a8e8eba40b1a77b991ec2240d1e",
            "7fe9701203f74971800963192eeef919",
            "48c9853d91414e2c9c7b2ac65ddad100",
            "074d4f0643354427bdae868277e1f278",
            "073887b2f0f24676badb3373ed514916",
            "cf5107b2e2024f37bad2867d5030d7cb",
            "c09ddca633e84d16ac03ffcac0b2c244",
            "8abdad7b209649159904c3dcedd4efe2",
            "a487a3156a30495191b9b8c356109975",
            "58c2b9db3a2147829bda8c380703a3e6"
          ]
        },
        "outputId": "02a35432-a771-4695-975b-3d25c14820b9"
      },
      "execution_count": 2,
      "outputs": [
        {
          "output_type": "stream",
          "name": "stdout",
          "text": [
            "\u001b[1mDownloading and preparing dataset beans/0.1.0 (download: Unknown size, generated: 171.63 MiB, total: 171.63 MiB) to /root/tensorflow_datasets/beans/0.1.0...\u001b[0m\n"
          ]
        },
        {
          "output_type": "display_data",
          "data": {
            "text/plain": [
              "Dl Completed...: 0 url [00:00, ? url/s]"
            ],
            "application/vnd.jupyter.widget-view+json": {
              "version_major": 2,
              "version_minor": 0,
              "model_id": "05a35565d50b4f7997bc17bb3e8d49a7"
            }
          },
          "metadata": {}
        },
        {
          "output_type": "display_data",
          "data": {
            "text/plain": [
              "Dl Size...: 0 MiB [00:00, ? MiB/s]"
            ],
            "application/vnd.jupyter.widget-view+json": {
              "version_major": 2,
              "version_minor": 0,
              "model_id": "82bf5ebdc1a04b5986d7aff31868e4da"
            }
          },
          "metadata": {}
        },
        {
          "output_type": "stream",
          "name": "stdout",
          "text": [
            "\n",
            "\n"
          ]
        },
        {
          "output_type": "display_data",
          "data": {
            "text/plain": [
              "0 examples [00:00, ? examples/s]"
            ],
            "application/vnd.jupyter.widget-view+json": {
              "version_major": 2,
              "version_minor": 0,
              "model_id": "7701efbea5b048899a6cff23856dbf67"
            }
          },
          "metadata": {}
        },
        {
          "output_type": "stream",
          "name": "stdout",
          "text": [
            "Shuffling and writing examples to /root/tensorflow_datasets/beans/0.1.0.incompleteCQ5K9C/beans-train.tfrecord\n"
          ]
        },
        {
          "output_type": "display_data",
          "data": {
            "text/plain": [
              "  0%|          | 0/1034 [00:00<?, ? examples/s]"
            ],
            "application/vnd.jupyter.widget-view+json": {
              "version_major": 2,
              "version_minor": 0,
              "model_id": "8ad03322a5b94ad48a8135d28709a8d9"
            }
          },
          "metadata": {}
        },
        {
          "output_type": "display_data",
          "data": {
            "text/plain": [
              "0 examples [00:00, ? examples/s]"
            ],
            "application/vnd.jupyter.widget-view+json": {
              "version_major": 2,
              "version_minor": 0,
              "model_id": "028d2439902248e1ac1e813c3f4a165b"
            }
          },
          "metadata": {}
        },
        {
          "output_type": "stream",
          "name": "stdout",
          "text": [
            "Shuffling and writing examples to /root/tensorflow_datasets/beans/0.1.0.incompleteCQ5K9C/beans-validation.tfrecord\n"
          ]
        },
        {
          "output_type": "display_data",
          "data": {
            "text/plain": [
              "  0%|          | 0/133 [00:00<?, ? examples/s]"
            ],
            "application/vnd.jupyter.widget-view+json": {
              "version_major": 2,
              "version_minor": 0,
              "model_id": "8ce9c79e2af24c4ebdb534e32e79f9c2"
            }
          },
          "metadata": {}
        },
        {
          "output_type": "display_data",
          "data": {
            "text/plain": [
              "0 examples [00:00, ? examples/s]"
            ],
            "application/vnd.jupyter.widget-view+json": {
              "version_major": 2,
              "version_minor": 0,
              "model_id": "506d106d654d4e09ae2d27e228fa2509"
            }
          },
          "metadata": {}
        },
        {
          "output_type": "stream",
          "name": "stdout",
          "text": [
            "Shuffling and writing examples to /root/tensorflow_datasets/beans/0.1.0.incompleteCQ5K9C/beans-test.tfrecord\n"
          ]
        },
        {
          "output_type": "display_data",
          "data": {
            "text/plain": [
              "  0%|          | 0/128 [00:00<?, ? examples/s]"
            ],
            "application/vnd.jupyter.widget-view+json": {
              "version_major": 2,
              "version_minor": 0,
              "model_id": "9332f9ad8f594aafb18975fc76a2b08b"
            }
          },
          "metadata": {}
        },
        {
          "output_type": "stream",
          "name": "stdout",
          "text": [
            "\u001b[1mDataset beans downloaded and prepared to /root/tensorflow_datasets/beans/0.1.0. Subsequent calls will reuse this data.\u001b[0m\n"
          ]
        }
      ]
    },
    {
      "cell_type": "code",
      "source": [
        "ds, info = tfds.load('beans', with_info=True)\n",
        "\n",
        "print(info)"
      ],
      "metadata": {
        "colab": {
          "base_uri": "https://localhost:8080/"
        },
        "id": "qNpD1LqdNAWy",
        "outputId": "28fc21d9-6d9a-4513-dece-17adfdb4a77a"
      },
      "execution_count": 3,
      "outputs": [
        {
          "output_type": "stream",
          "name": "stdout",
          "text": [
            "tfds.core.DatasetInfo(\n",
            "    name='beans',\n",
            "    version=0.1.0,\n",
            "    description='Beans is a dataset of images of beans taken in the field using smartphone\n",
            "cameras. It consists of 3 classes: 2 disease classes and the healthy class.\n",
            "Diseases depicted include Angular Leaf Spot and Bean Rust. Data was annotated\n",
            "by experts from the National Crops Resources Research Institute (NaCRRI) in\n",
            "Uganda and collected by the Makerere AI research lab.',\n",
            "    homepage='https://github.com/AI-Lab-Makerere/ibean/',\n",
            "    features=FeaturesDict({\n",
            "        'image': Image(shape=(500, 500, 3), dtype=tf.uint8),\n",
            "        'label': ClassLabel(shape=(), dtype=tf.int64, num_classes=3),\n",
            "    }),\n",
            "    total_num_examples=1295,\n",
            "    splits={\n",
            "        'test': 128,\n",
            "        'train': 1034,\n",
            "        'validation': 133,\n",
            "    },\n",
            "    supervised_keys=('image', 'label'),\n",
            "    citation=\"\"\"@ONLINE {beansdata,\n",
            "        author=\"Makerere AI Lab\",\n",
            "        title=\"Bean disease dataset\",\n",
            "        month=\"January\",\n",
            "        year=\"2020\",\n",
            "        url=\"https://github.com/AI-Lab-Makerere/ibean/\"\n",
            "    }\"\"\",\n",
            "    redistribution_info=,\n",
            ")\n",
            "\n"
          ]
        }
      ]
    },
    {
      "cell_type": "code",
      "source": [
        "data_train = tfds.load(name=\"beans\", split=\"train\", batch_size=-1) \n",
        "data_valid = tfds.load(name=\"beans\", split=\"validation\", batch_size=-1)\n",
        "data_test = tfds.load(name=\"beans\", split=\"test\", batch_size=-1)\n",
        "\n",
        "data_train = tfds.as_numpy(data_train)\n",
        "data_valid = tfds.as_numpy(data_valid)\n",
        "data_test = tfds.as_numpy(data_test)\n",
        "\n",
        "x_train, y_train = data_train[\"image\"], data_train[\"label\"]\n",
        "x_valid, y_valid = data_valid[\"image\"], data_valid[\"label\"]\n",
        "x_test, y_test = data_test[\"image\"], data_test[\"label\"]"
      ],
      "metadata": {
        "colab": {
          "base_uri": "https://localhost:8080/"
        },
        "id": "qbo4rhjYceR_",
        "outputId": "40326e6a-e6a3-49bf-a1f2-399bf9994d97"
      },
      "execution_count": 4,
      "outputs": [
        {
          "output_type": "stream",
          "name": "stdout",
          "text": [
            "WARNING:tensorflow:From /usr/local/lib/python3.7/dist-packages/tensorflow_datasets/core/dataset_builder.py:598: get_single_element (from tensorflow.python.data.experimental.ops.get_single_element) is deprecated and will be removed in a future version.\n",
            "Instructions for updating:\n",
            "Use `tf.data.Dataset.get_single_element()`.\n"
          ]
        },
        {
          "output_type": "stream",
          "name": "stderr",
          "text": [
            "WARNING:tensorflow:From /usr/local/lib/python3.7/dist-packages/tensorflow_datasets/core/dataset_builder.py:598: get_single_element (from tensorflow.python.data.experimental.ops.get_single_element) is deprecated and will be removed in a future version.\n",
            "Instructions for updating:\n",
            "Use `tf.data.Dataset.get_single_element()`.\n"
          ]
        }
      ]
    },
    {
      "cell_type": "code",
      "source": [
        "x_train.shape"
      ],
      "metadata": {
        "colab": {
          "base_uri": "https://localhost:8080/"
        },
        "id": "chXyQ76FeNcf",
        "outputId": "86663098-f259-44a9-c01e-c94682fd9b16"
      },
      "execution_count": 5,
      "outputs": [
        {
          "output_type": "execute_result",
          "data": {
            "text/plain": [
              "(1034, 500, 500, 3)"
            ]
          },
          "metadata": {},
          "execution_count": 5
        }
      ]
    },
    {
      "cell_type": "markdown",
      "source": [
        "# LeNet"
      ],
      "metadata": {
        "id": "oMgHR0dUN6Jz"
      }
    },
    {
      "cell_type": "markdown",
      "source": [
        "## Model"
      ],
      "metadata": {
        "id": "Vw357HDMuxMT"
      }
    },
    {
      "cell_type": "code",
      "source": [
        "class LeNet(keras.Model):\n",
        "  def __init__(self, kernel_size=5, kernel_numbers = [6, 16, 120],\n",
        "               dropout_enable=False, l1_enable=False, l2_enable=False):\n",
        "    super().__init__()\n",
        "\n",
        "    self.model = Sequential()\n",
        "\n",
        "    self.model.add(Input((500, 500, 3,), name=\"Input\"))\n",
        "    \n",
        "    conv2D = Conv2D(kernel_numbers[0], kernel_size=kernel_size, strides=4,\n",
        "                    activation=\"tanh\", name=\"Conv1\", padding=\"same\")\n",
        "\n",
        "    if l1_enable:\n",
        "      conv2D.kernel_regularizer = l1()\n",
        "    elif l2_enable:\n",
        "      conv2D.kernel_regularizer = l2()\n",
        "    self.model.add(conv2D)\n",
        "\n",
        "    if dropout_enable:\n",
        "      self.model.add(Dropout(rate=0.5, name=\"Drop1\"))\n",
        "    \n",
        "    self.model.add(AveragePooling2D(pool_size=3, name=\"Pool1\"))\n",
        "    \n",
        "    conv2D = Conv2D(kernel_numbers[1], kernel_size=kernel_size, strides=4,\n",
        "                    activation=\"tanh\", name=\"Conv2\", padding=\"same\")\n",
        "\n",
        "    if l1_enable:\n",
        "      conv2D.kernel_regularizer = l1()\n",
        "    elif l2_enable:\n",
        "      conv2D.kernel_regularizer = l2()\n",
        "    self.model.add(conv2D)\n",
        "    \n",
        "    if dropout_enable:\n",
        "      self.model.add(Dropout(rate=0.5, name=\"Drop2\"))\n",
        "\n",
        "    self.model.add(AveragePooling2D(pool_size=3, name=\"Pool2\"))\n",
        "    conv2D = Conv2D(kernel_numbers[2], kernel_size=kernel_size, strides=3,\n",
        "                    activation=\"tanh\", name=\"Conv3\", padding=\"same\")\n",
        "\n",
        "    if l1_enable:\n",
        "      conv2D.kernel_regularizer = l1()\n",
        "    elif l2_enable:\n",
        "      conv2D.kernel_regularizer = l2()\n",
        "    self.model.add(conv2D)\n",
        "    \n",
        "    if dropout_enable:\n",
        "      self.model.add(Dropout(rate=0.5, name=\"Drop3\"))\n",
        "    \n",
        "    self.model.add(Flatten(name=\"Flat\"))\n",
        "    self.model.add(Dense(84, activation=\"tanh\", name=\"Dense\"))\n",
        "    self.model.add(Dense(3, activation=\"softmax\", name=\"Output\"))\n",
        "\n",
        "  def call(self, inputs):\n",
        "    return self.model.call(inputs)"
      ],
      "metadata": {
        "id": "SEoZ7paXN7O1"
      },
      "execution_count": null,
      "outputs": []
    },
    {
      "cell_type": "markdown",
      "source": [
        "## Regularization Effect"
      ],
      "metadata": {
        "id": "JBwnf_FrU_Mj"
      }
    },
    {
      "cell_type": "markdown",
      "source": [
        "### Without Regularization"
      ],
      "metadata": {
        "id": "Z81OS4r8P6GP"
      }
    },
    {
      "cell_type": "code",
      "source": [
        "lenet = LeNet(kernel_size=5)\n",
        "es_callback = EarlyStopping(monitor=\"val_loss\", patience=4, restore_best_weights=True)\n",
        "lenet.compile(optimizer=\"adam\", loss=\"sparse_categorical_crossentropy\", metrics=[\"accuracy\"])"
      ],
      "metadata": {
        "id": "odplXd6VPd_n"
      },
      "execution_count": null,
      "outputs": []
    },
    {
      "cell_type": "code",
      "source": [
        "lenet.fit(x=x_train, y=y_train, validation_data=(x_valid, y_valid), epochs=30, callbacks=[es_callback])"
      ],
      "metadata": {
        "colab": {
          "base_uri": "https://localhost:8080/"
        },
        "id": "j-Va3EfAZ1V3",
        "outputId": "03f8df96-922e-4ffe-8663-0498880d56c5"
      },
      "execution_count": null,
      "outputs": [
        {
          "output_type": "stream",
          "name": "stdout",
          "text": [
            "Epoch 1/30\n",
            "33/33 [==============================] - 14s 404ms/step - loss: 1.0125 - accuracy: 0.4797 - val_loss: 0.8875 - val_accuracy: 0.6015\n",
            "Epoch 2/30\n",
            "33/33 [==============================] - 14s 439ms/step - loss: 0.9227 - accuracy: 0.5706 - val_loss: 0.8935 - val_accuracy: 0.5789\n",
            "Epoch 3/30\n",
            "33/33 [==============================] - 14s 425ms/step - loss: 0.8902 - accuracy: 0.5986 - val_loss: 0.8651 - val_accuracy: 0.6466\n",
            "Epoch 4/30\n",
            "33/33 [==============================] - 14s 420ms/step - loss: 0.8463 - accuracy: 0.6228 - val_loss: 0.8401 - val_accuracy: 0.5940\n",
            "Epoch 5/30\n",
            "33/33 [==============================] - 14s 416ms/step - loss: 0.8279 - accuracy: 0.6132 - val_loss: 0.9516 - val_accuracy: 0.5338\n",
            "Epoch 6/30\n",
            "33/33 [==============================] - 13s 381ms/step - loss: 0.8493 - accuracy: 0.6025 - val_loss: 0.8659 - val_accuracy: 0.5940\n",
            "Epoch 7/30\n",
            "33/33 [==============================] - 13s 388ms/step - loss: 0.8036 - accuracy: 0.6422 - val_loss: 0.8013 - val_accuracy: 0.6090\n",
            "Epoch 8/30\n",
            "33/33 [==============================] - 13s 383ms/step - loss: 0.7645 - accuracy: 0.6625 - val_loss: 0.7399 - val_accuracy: 0.6692\n",
            "Epoch 9/30\n",
            "33/33 [==============================] - 13s 381ms/step - loss: 0.7247 - accuracy: 0.6915 - val_loss: 0.7682 - val_accuracy: 0.6692\n",
            "Epoch 10/30\n",
            "33/33 [==============================] - 13s 381ms/step - loss: 0.7328 - accuracy: 0.6760 - val_loss: 0.7254 - val_accuracy: 0.7068\n",
            "Epoch 11/30\n",
            "33/33 [==============================] - 13s 386ms/step - loss: 0.7027 - accuracy: 0.6886 - val_loss: 0.7274 - val_accuracy: 0.6541\n",
            "Epoch 12/30\n",
            "33/33 [==============================] - 13s 382ms/step - loss: 0.6854 - accuracy: 0.7070 - val_loss: 0.7032 - val_accuracy: 0.7143\n",
            "Epoch 13/30\n",
            "33/33 [==============================] - 13s 381ms/step - loss: 0.6907 - accuracy: 0.6925 - val_loss: 0.7131 - val_accuracy: 0.6692\n",
            "Epoch 14/30\n",
            "33/33 [==============================] - 12s 379ms/step - loss: 0.6953 - accuracy: 0.6992 - val_loss: 0.7177 - val_accuracy: 0.6917\n",
            "Epoch 15/30\n",
            "33/33 [==============================] - 13s 403ms/step - loss: 0.6998 - accuracy: 0.6886 - val_loss: 0.7654 - val_accuracy: 0.6992\n",
            "Epoch 16/30\n",
            "33/33 [==============================] - 13s 379ms/step - loss: 0.6981 - accuracy: 0.6828 - val_loss: 0.7148 - val_accuracy: 0.6391\n"
          ]
        },
        {
          "output_type": "execute_result",
          "data": {
            "text/plain": [
              "<keras.callbacks.History at 0x7f407bdfe990>"
            ]
          },
          "metadata": {},
          "execution_count": 13
        }
      ]
    },
    {
      "cell_type": "code",
      "source": [
        "lenet.evaluate(x=x_train, y=y_train)\n",
        "lenet.evaluate(x=x_valid, y=y_valid)\n",
        "lenet.evaluate(x=x_test, y=y_test)"
      ],
      "metadata": {
        "colab": {
          "base_uri": "https://localhost:8080/"
        },
        "id": "EZhHoh6rhF7l",
        "outputId": "10b0144b-aee7-4cac-f988-e6245c578a3f"
      },
      "execution_count": null,
      "outputs": [
        {
          "output_type": "stream",
          "name": "stdout",
          "text": [
            "33/33 [==============================] - 7s 219ms/step - loss: 0.6673 - accuracy: 0.7244\n",
            "5/5 [==============================] - 1s 178ms/step - loss: 0.7032 - accuracy: 0.7143\n",
            "4/4 [==============================] - 1s 213ms/step - loss: 0.6803 - accuracy: 0.6875\n"
          ]
        },
        {
          "output_type": "execute_result",
          "data": {
            "text/plain": [
              "[0.6803126931190491, 0.6875]"
            ]
          },
          "metadata": {},
          "execution_count": 14
        }
      ]
    },
    {
      "cell_type": "markdown",
      "source": [
        "### Dropout Regularization"
      ],
      "metadata": {
        "id": "mJYa7WcgQAUY"
      }
    },
    {
      "cell_type": "code",
      "source": [
        "lenet = LeNet(dropout_enable=True)\n",
        "es_callback = EarlyStopping(monitor=\"val_loss\", patience=4, restore_best_weights=True)\n",
        "lenet.compile(optimizer=\"adam\", loss=\"sparse_categorical_crossentropy\", metrics=[\"accuracy\"])"
      ],
      "metadata": {
        "id": "dzGf0hbPP35t"
      },
      "execution_count": null,
      "outputs": []
    },
    {
      "cell_type": "code",
      "source": [
        "lenet.fit(x=x_train, y=y_train, validation_data=(x_valid, y_valid), epochs=30, callbacks=[es_callback])"
      ],
      "metadata": {
        "colab": {
          "base_uri": "https://localhost:8080/"
        },
        "id": "SjIxbL_4QIyW",
        "outputId": "826b2674-7626-4eef-9023-e631efbc07c7"
      },
      "execution_count": null,
      "outputs": [
        {
          "output_type": "stream",
          "name": "stdout",
          "text": [
            "Epoch 1/30\n",
            "33/33 [==============================] - 15s 416ms/step - loss: 1.0481 - accuracy: 0.4429 - val_loss: 0.9382 - val_accuracy: 0.5414\n",
            "Epoch 2/30\n",
            "33/33 [==============================] - 14s 410ms/step - loss: 0.9198 - accuracy: 0.5629 - val_loss: 0.8080 - val_accuracy: 0.6617\n",
            "Epoch 3/30\n",
            "33/33 [==============================] - 14s 424ms/step - loss: 0.8493 - accuracy: 0.6141 - val_loss: 0.7799 - val_accuracy: 0.6617\n",
            "Epoch 4/30\n",
            "33/33 [==============================] - 15s 471ms/step - loss: 0.8576 - accuracy: 0.6151 - val_loss: 0.7649 - val_accuracy: 0.6541\n",
            "Epoch 5/30\n",
            "33/33 [==============================] - 15s 446ms/step - loss: 0.8101 - accuracy: 0.6422 - val_loss: 0.8076 - val_accuracy: 0.5940\n",
            "Epoch 6/30\n",
            "33/33 [==============================] - 16s 478ms/step - loss: 0.7936 - accuracy: 0.6509 - val_loss: 0.7112 - val_accuracy: 0.7218\n",
            "Epoch 7/30\n",
            "33/33 [==============================] - 15s 454ms/step - loss: 0.7518 - accuracy: 0.6683 - val_loss: 0.7306 - val_accuracy: 0.6391\n",
            "Epoch 8/30\n",
            "33/33 [==============================] - 17s 507ms/step - loss: 0.7756 - accuracy: 0.6480 - val_loss: 0.7585 - val_accuracy: 0.5940\n",
            "Epoch 9/30\n",
            "33/33 [==============================] - 14s 415ms/step - loss: 0.7624 - accuracy: 0.6692 - val_loss: 0.7086 - val_accuracy: 0.6767\n",
            "Epoch 10/30\n",
            "33/33 [==============================] - 14s 421ms/step - loss: 0.7517 - accuracy: 0.6760 - val_loss: 0.6774 - val_accuracy: 0.6917\n",
            "Epoch 11/30\n",
            "33/33 [==============================] - 14s 433ms/step - loss: 0.7248 - accuracy: 0.6692 - val_loss: 0.6617 - val_accuracy: 0.7218\n",
            "Epoch 12/30\n",
            "33/33 [==============================] - 16s 472ms/step - loss: 0.7463 - accuracy: 0.6731 - val_loss: 0.6541 - val_accuracy: 0.7444\n",
            "Epoch 13/30\n",
            "33/33 [==============================] - 15s 468ms/step - loss: 0.7590 - accuracy: 0.6422 - val_loss: 0.8213 - val_accuracy: 0.6391\n",
            "Epoch 14/30\n",
            "33/33 [==============================] - 15s 469ms/step - loss: 0.7369 - accuracy: 0.6702 - val_loss: 0.6625 - val_accuracy: 0.6692\n",
            "Epoch 15/30\n",
            "33/33 [==============================] - 15s 443ms/step - loss: 0.7227 - accuracy: 0.6779 - val_loss: 0.7247 - val_accuracy: 0.6015\n",
            "Epoch 16/30\n",
            "33/33 [==============================] - 14s 424ms/step - loss: 0.6969 - accuracy: 0.6905 - val_loss: 0.6294 - val_accuracy: 0.7143\n",
            "Epoch 17/30\n",
            "33/33 [==============================] - 15s 459ms/step - loss: 0.6686 - accuracy: 0.7108 - val_loss: 0.6247 - val_accuracy: 0.7594\n",
            "Epoch 18/30\n",
            "33/33 [==============================] - 15s 459ms/step - loss: 0.7021 - accuracy: 0.6973 - val_loss: 0.6256 - val_accuracy: 0.7218\n",
            "Epoch 19/30\n",
            "33/33 [==============================] - 14s 430ms/step - loss: 0.6788 - accuracy: 0.7041 - val_loss: 0.6222 - val_accuracy: 0.7368\n",
            "Epoch 20/30\n",
            "33/33 [==============================] - 14s 416ms/step - loss: 0.6871 - accuracy: 0.6983 - val_loss: 0.6388 - val_accuracy: 0.7519\n",
            "Epoch 21/30\n",
            "33/33 [==============================] - 14s 419ms/step - loss: 0.6616 - accuracy: 0.7166 - val_loss: 0.6348 - val_accuracy: 0.7218\n",
            "Epoch 22/30\n",
            "33/33 [==============================] - 14s 436ms/step - loss: 0.6598 - accuracy: 0.7137 - val_loss: 0.5797 - val_accuracy: 0.7594\n",
            "Epoch 23/30\n",
            "33/33 [==============================] - 14s 418ms/step - loss: 0.6748 - accuracy: 0.7002 - val_loss: 0.5813 - val_accuracy: 0.7444\n",
            "Epoch 24/30\n",
            "33/33 [==============================] - 14s 412ms/step - loss: 0.7067 - accuracy: 0.7031 - val_loss: 0.6456 - val_accuracy: 0.7218\n",
            "Epoch 25/30\n",
            "33/33 [==============================] - 14s 415ms/step - loss: 0.6346 - accuracy: 0.7321 - val_loss: 0.5866 - val_accuracy: 0.7444\n",
            "Epoch 26/30\n",
            "33/33 [==============================] - 14s 413ms/step - loss: 0.6536 - accuracy: 0.7060 - val_loss: 0.5864 - val_accuracy: 0.7293\n"
          ]
        },
        {
          "output_type": "execute_result",
          "data": {
            "text/plain": [
              "<keras.callbacks.History at 0x7f407cc54d50>"
            ]
          },
          "metadata": {},
          "execution_count": 16
        }
      ]
    },
    {
      "cell_type": "code",
      "source": [
        "lenet.evaluate(x=x_train, y=y_train)\n",
        "lenet.evaluate(x=x_valid, y=y_valid)\n",
        "lenet.evaluate(x=x_test, y=y_test)"
      ],
      "metadata": {
        "colab": {
          "base_uri": "https://localhost:8080/"
        },
        "id": "JEXBD-k3QLC4",
        "outputId": "3e328c53-2273-4730-e17f-cfd490f902fc"
      },
      "execution_count": null,
      "outputs": [
        {
          "output_type": "stream",
          "name": "stdout",
          "text": [
            "33/33 [==============================] - 7s 218ms/step - loss: 0.5860 - accuracy: 0.7524\n",
            "5/5 [==============================] - 1s 172ms/step - loss: 0.5797 - accuracy: 0.7594\n",
            "4/4 [==============================] - 1s 217ms/step - loss: 0.5852 - accuracy: 0.7109\n"
          ]
        },
        {
          "output_type": "execute_result",
          "data": {
            "text/plain": [
              "[0.5852465033531189, 0.7109375]"
            ]
          },
          "metadata": {},
          "execution_count": 17
        }
      ]
    },
    {
      "cell_type": "markdown",
      "source": [
        "### L1 Regularization"
      ],
      "metadata": {
        "id": "tiPHPtbCQnPD"
      }
    },
    {
      "cell_type": "code",
      "source": [
        "lenet = LeNet(l1_enable=True)\n",
        "es_callback = EarlyStopping(monitor=\"val_loss\", patience=4, restore_best_weights=True)\n",
        "lenet.compile(optimizer=\"adam\", loss=\"sparse_categorical_crossentropy\", metrics=[\"accuracy\"])"
      ],
      "metadata": {
        "id": "ZFJcjirRQZQB"
      },
      "execution_count": null,
      "outputs": []
    },
    {
      "cell_type": "code",
      "source": [
        "lenet.fit(x=x_train, y=y_train, validation_data=(x_valid, y_valid), epochs=30, callbacks=[es_callback])"
      ],
      "metadata": {
        "colab": {
          "base_uri": "https://localhost:8080/"
        },
        "id": "J8uQDmnwQdVt",
        "outputId": "c4060bdd-3d73-4683-baf1-3df273114a06"
      },
      "execution_count": null,
      "outputs": [
        {
          "output_type": "stream",
          "name": "stdout",
          "text": [
            "Epoch 1/30\n",
            "33/33 [==============================] - 13s 387ms/step - loss: 7.2656 - accuracy: 0.4894 - val_loss: 3.2531 - val_accuracy: 0.5564\n",
            "Epoch 2/30\n",
            "33/33 [==============================] - 13s 383ms/step - loss: 2.4089 - accuracy: 0.5638 - val_loss: 1.8688 - val_accuracy: 0.5038\n",
            "Epoch 3/30\n",
            "33/33 [==============================] - 14s 417ms/step - loss: 1.6831 - accuracy: 0.5861 - val_loss: 1.4678 - val_accuracy: 0.5940\n",
            "Epoch 4/30\n",
            "33/33 [==============================] - 13s 383ms/step - loss: 1.3946 - accuracy: 0.6151 - val_loss: 1.2694 - val_accuracy: 0.6617\n",
            "Epoch 5/30\n",
            "33/33 [==============================] - 13s 384ms/step - loss: 1.2873 - accuracy: 0.6122 - val_loss: 1.2298 - val_accuracy: 0.6015\n",
            "Epoch 6/30\n",
            "33/33 [==============================] - 13s 381ms/step - loss: 1.2283 - accuracy: 0.6315 - val_loss: 1.1712 - val_accuracy: 0.6391\n",
            "Epoch 7/30\n",
            "33/33 [==============================] - 13s 382ms/step - loss: 1.2052 - accuracy: 0.6151 - val_loss: 1.1398 - val_accuracy: 0.6391\n",
            "Epoch 8/30\n",
            "33/33 [==============================] - 13s 383ms/step - loss: 1.1478 - accuracy: 0.6335 - val_loss: 1.1191 - val_accuracy: 0.6165\n",
            "Epoch 9/30\n",
            "33/33 [==============================] - 13s 383ms/step - loss: 1.1332 - accuracy: 0.6170 - val_loss: 1.1014 - val_accuracy: 0.6241\n",
            "Epoch 10/30\n",
            "33/33 [==============================] - 13s 383ms/step - loss: 1.1149 - accuracy: 0.6296 - val_loss: 1.0366 - val_accuracy: 0.6692\n",
            "Epoch 11/30\n",
            "33/33 [==============================] - 13s 383ms/step - loss: 1.0701 - accuracy: 0.6586 - val_loss: 1.0451 - val_accuracy: 0.6241\n",
            "Epoch 12/30\n",
            "33/33 [==============================] - 13s 384ms/step - loss: 1.0970 - accuracy: 0.6393 - val_loss: 1.0321 - val_accuracy: 0.6466\n",
            "Epoch 13/30\n",
            "33/33 [==============================] - 13s 382ms/step - loss: 1.1009 - accuracy: 0.6306 - val_loss: 1.0978 - val_accuracy: 0.6541\n",
            "Epoch 14/30\n",
            "33/33 [==============================] - 13s 382ms/step - loss: 1.0778 - accuracy: 0.6470 - val_loss: 1.0136 - val_accuracy: 0.6617\n",
            "Epoch 15/30\n",
            "33/33 [==============================] - 13s 381ms/step - loss: 1.0725 - accuracy: 0.6451 - val_loss: 1.0109 - val_accuracy: 0.6466\n",
            "Epoch 16/30\n",
            "33/33 [==============================] - 13s 382ms/step - loss: 1.0594 - accuracy: 0.6470 - val_loss: 0.9963 - val_accuracy: 0.6842\n",
            "Epoch 17/30\n",
            "33/33 [==============================] - 13s 382ms/step - loss: 1.0689 - accuracy: 0.6402 - val_loss: 1.0399 - val_accuracy: 0.6767\n",
            "Epoch 18/30\n",
            "33/33 [==============================] - 13s 383ms/step - loss: 1.0719 - accuracy: 0.6422 - val_loss: 1.0031 - val_accuracy: 0.6767\n",
            "Epoch 19/30\n",
            "33/33 [==============================] - 13s 380ms/step - loss: 1.0570 - accuracy: 0.6364 - val_loss: 0.9954 - val_accuracy: 0.6466\n",
            "Epoch 20/30\n",
            "33/33 [==============================] - 13s 383ms/step - loss: 1.0308 - accuracy: 0.6431 - val_loss: 0.9720 - val_accuracy: 0.6316\n",
            "Epoch 21/30\n",
            "33/33 [==============================] - 13s 382ms/step - loss: 1.0208 - accuracy: 0.6528 - val_loss: 1.0022 - val_accuracy: 0.6541\n",
            "Epoch 22/30\n",
            "33/33 [==============================] - 13s 384ms/step - loss: 1.0812 - accuracy: 0.6248 - val_loss: 1.0293 - val_accuracy: 0.6541\n",
            "Epoch 23/30\n",
            "33/33 [==============================] - 13s 382ms/step - loss: 1.0300 - accuracy: 0.6605 - val_loss: 0.9867 - val_accuracy: 0.6241\n",
            "Epoch 24/30\n",
            "33/33 [==============================] - 13s 382ms/step - loss: 1.0151 - accuracy: 0.6489 - val_loss: 0.9518 - val_accuracy: 0.6466\n",
            "Epoch 25/30\n",
            "33/33 [==============================] - 13s 381ms/step - loss: 1.0078 - accuracy: 0.6489 - val_loss: 0.9852 - val_accuracy: 0.6541\n",
            "Epoch 26/30\n",
            "33/33 [==============================] - 13s 383ms/step - loss: 0.9974 - accuracy: 0.6499 - val_loss: 0.9535 - val_accuracy: 0.6391\n",
            "Epoch 27/30\n",
            "33/33 [==============================] - 13s 384ms/step - loss: 0.9845 - accuracy: 0.6499 - val_loss: 0.9580 - val_accuracy: 0.6842\n",
            "Epoch 28/30\n",
            "33/33 [==============================] - 13s 381ms/step - loss: 0.9925 - accuracy: 0.6460 - val_loss: 0.9548 - val_accuracy: 0.6767\n"
          ]
        },
        {
          "output_type": "execute_result",
          "data": {
            "text/plain": [
              "<keras.callbacks.History at 0x7f407c973390>"
            ]
          },
          "metadata": {},
          "execution_count": 19
        }
      ]
    },
    {
      "cell_type": "code",
      "source": [
        "lenet.evaluate(x=x_train, y=y_train)\n",
        "lenet.evaluate(x=x_valid, y=y_valid)\n",
        "lenet.evaluate(x=x_test, y=y_test)"
      ],
      "metadata": {
        "colab": {
          "base_uri": "https://localhost:8080/"
        },
        "id": "vc7x0qLZQedh",
        "outputId": "4fee7a2e-32a0-4af1-f5ca-644c036134ee"
      },
      "execution_count": null,
      "outputs": [
        {
          "output_type": "stream",
          "name": "stdout",
          "text": [
            "33/33 [==============================] - 7s 219ms/step - loss: 0.9985 - accuracy: 0.6460\n",
            "5/5 [==============================] - 1s 174ms/step - loss: 0.9518 - accuracy: 0.6466\n",
            "4/4 [==============================] - 1s 222ms/step - loss: 0.9490 - accuracy: 0.6484\n"
          ]
        },
        {
          "output_type": "execute_result",
          "data": {
            "text/plain": [
              "[0.9490329027175903, 0.6484375]"
            ]
          },
          "metadata": {},
          "execution_count": 20
        }
      ]
    },
    {
      "cell_type": "markdown",
      "source": [
        "### L2 Regularization"
      ],
      "metadata": {
        "id": "KcPCPv8SQq-V"
      }
    },
    {
      "cell_type": "code",
      "source": [
        "lenet = LeNet(l2_enable=True)\n",
        "es_callback = EarlyStopping(monitor=\"val_loss\", patience=4, restore_best_weights=True)\n",
        "lenet.compile(optimizer=\"adam\", loss=\"sparse_categorical_crossentropy\", metrics=[\"accuracy\"])"
      ],
      "metadata": {
        "id": "fAURBuO1QgSp"
      },
      "execution_count": null,
      "outputs": []
    },
    {
      "cell_type": "code",
      "source": [
        "lenet.fit(x=x_train, y=y_train, validation_data=(x_valid, y_valid), epochs=30, callbacks=[es_callback])"
      ],
      "metadata": {
        "colab": {
          "base_uri": "https://localhost:8080/"
        },
        "id": "Hah0qSDQQiSO",
        "outputId": "df2724e3-81ea-4945-a5e4-45935921cb09"
      },
      "execution_count": null,
      "outputs": [
        {
          "output_type": "stream",
          "name": "stdout",
          "text": [
            "Epoch 1/30\n",
            "33/33 [==============================] - 13s 389ms/step - loss: 1.2680 - accuracy: 0.5000 - val_loss: 1.0991 - val_accuracy: 0.5940\n",
            "Epoch 2/30\n",
            "33/33 [==============================] - 13s 383ms/step - loss: 1.0111 - accuracy: 0.6431 - val_loss: 0.9281 - val_accuracy: 0.6391\n",
            "Epoch 3/30\n",
            "33/33 [==============================] - 13s 382ms/step - loss: 0.9348 - accuracy: 0.6654 - val_loss: 0.8840 - val_accuracy: 0.6466\n",
            "Epoch 4/30\n",
            "33/33 [==============================] - 13s 382ms/step - loss: 0.9021 - accuracy: 0.6702 - val_loss: 0.8489 - val_accuracy: 0.6992\n",
            "Epoch 5/30\n",
            "33/33 [==============================] - 13s 383ms/step - loss: 0.8768 - accuracy: 0.6789 - val_loss: 0.8689 - val_accuracy: 0.7068\n",
            "Epoch 6/30\n",
            "33/33 [==============================] - 13s 383ms/step - loss: 0.8787 - accuracy: 0.6576 - val_loss: 0.8474 - val_accuracy: 0.6391\n",
            "Epoch 7/30\n",
            "33/33 [==============================] - 13s 384ms/step - loss: 0.8494 - accuracy: 0.6799 - val_loss: 0.8233 - val_accuracy: 0.6992\n",
            "Epoch 8/30\n",
            "33/33 [==============================] - 13s 384ms/step - loss: 0.8713 - accuracy: 0.6576 - val_loss: 0.8428 - val_accuracy: 0.6466\n",
            "Epoch 9/30\n",
            "33/33 [==============================] - 13s 384ms/step - loss: 0.8445 - accuracy: 0.6818 - val_loss: 0.8924 - val_accuracy: 0.6015\n",
            "Epoch 10/30\n",
            "33/33 [==============================] - 13s 385ms/step - loss: 0.8236 - accuracy: 0.6673 - val_loss: 0.8485 - val_accuracy: 0.6842\n",
            "Epoch 11/30\n",
            "33/33 [==============================] - 13s 383ms/step - loss: 0.8240 - accuracy: 0.6905 - val_loss: 0.8484 - val_accuracy: 0.6917\n"
          ]
        },
        {
          "output_type": "execute_result",
          "data": {
            "text/plain": [
              "<keras.callbacks.History at 0x7f407c637510>"
            ]
          },
          "metadata": {},
          "execution_count": 22
        }
      ]
    },
    {
      "cell_type": "code",
      "source": [
        "lenet.evaluate(x=x_train, y=y_train)\n",
        "lenet.evaluate(x=x_valid, y=y_valid)\n",
        "lenet.evaluate(x=x_test, y=y_test)"
      ],
      "metadata": {
        "colab": {
          "base_uri": "https://localhost:8080/"
        },
        "id": "eBQKRHdCQk5O",
        "outputId": "3c3dd8d2-5689-442f-dc0a-7c5d94ae35e0"
      },
      "execution_count": null,
      "outputs": [
        {
          "output_type": "stream",
          "name": "stdout",
          "text": [
            "33/33 [==============================] - 7s 216ms/step - loss: 0.8206 - accuracy: 0.6818\n",
            "5/5 [==============================] - 1s 172ms/step - loss: 0.8233 - accuracy: 0.6992\n",
            "4/4 [==============================] - 1s 219ms/step - loss: 0.7910 - accuracy: 0.6797\n"
          ]
        },
        {
          "output_type": "execute_result",
          "data": {
            "text/plain": [
              "[0.7909947037696838, 0.6796875]"
            ]
          },
          "metadata": {},
          "execution_count": 23
        }
      ]
    },
    {
      "cell_type": "markdown",
      "source": [
        "## Kernel Size Effect"
      ],
      "metadata": {
        "id": "XjaZf_08RENI"
      }
    },
    {
      "cell_type": "code",
      "source": [
        "for kernel_size in [5, 7, 9]:\n",
        "  print(f\"kernel size = {kernel_size}\")\n",
        "  lenet = LeNet(kernel_size=kernel_size)\n",
        "  es_callback = EarlyStopping(monitor=\"val_loss\", patience=4, restore_best_weights=True)\n",
        "  lenet.compile(optimizer=\"adam\", loss=\"sparse_categorical_crossentropy\", metrics=[\"accuracy\"])\n",
        "\n",
        "  lenet.fit(x=x_train, y=y_train, validation_data=(x_valid, y_valid), epochs=30, callbacks=[es_callback])\n",
        "\n",
        "  lenet.evaluate(x=x_train, y=y_train)\n",
        "  lenet.evaluate(x=x_valid, y=y_valid)\n",
        "  lenet.evaluate(x=x_test, y=y_test)"
      ],
      "metadata": {
        "colab": {
          "base_uri": "https://localhost:8080/"
        },
        "id": "DUMQQgTBRX6v",
        "outputId": "a12da2d7-56b8-4062-e1cd-1d39c49b1ccf"
      },
      "execution_count": null,
      "outputs": [
        {
          "metadata": {
            "tags": null
          },
          "name": "stdout",
          "output_type": "stream",
          "text": [
            "kernel size = 5\n",
            "Epoch 1/30\n",
            "33/33 [==============================] - 13s 385ms/step - loss: 0.9760 - accuracy: 0.4913 - val_loss: 0.7929 - val_accuracy: 0.6015\n",
            "Epoch 2/30\n",
            "33/33 [==============================] - 13s 380ms/step - loss: 0.8182 - accuracy: 0.5996 - val_loss: 0.7611 - val_accuracy: 0.6617\n",
            "Epoch 3/30\n",
            "33/33 [==============================] - 12s 379ms/step - loss: 0.7611 - accuracy: 0.6596 - val_loss: 0.7812 - val_accuracy: 0.6992\n",
            "Epoch 4/30\n",
            "33/33 [==============================] - 12s 378ms/step - loss: 0.7456 - accuracy: 0.6518 - val_loss: 0.6878 - val_accuracy: 0.7068\n",
            "Epoch 5/30\n",
            "33/33 [==============================] - 13s 380ms/step - loss: 0.7325 - accuracy: 0.6702 - val_loss: 0.6722 - val_accuracy: 0.6992\n",
            "Epoch 6/30\n",
            "33/33 [==============================] - 12s 378ms/step - loss: 0.7154 - accuracy: 0.6809 - val_loss: 0.6972 - val_accuracy: 0.6917\n",
            "Epoch 7/30\n",
            "33/33 [==============================] - 12s 379ms/step - loss: 0.6870 - accuracy: 0.7021 - val_loss: 0.6652 - val_accuracy: 0.7143\n",
            "Epoch 8/30\n",
            "33/33 [==============================] - 12s 379ms/step - loss: 0.6540 - accuracy: 0.7021 - val_loss: 0.6796 - val_accuracy: 0.6917\n",
            "Epoch 9/30\n",
            "33/33 [==============================] - 13s 380ms/step - loss: 0.6578 - accuracy: 0.7186 - val_loss: 0.6509 - val_accuracy: 0.6617\n",
            "Epoch 10/30\n",
            "33/33 [==============================] - 13s 381ms/step - loss: 0.6673 - accuracy: 0.7118 - val_loss: 0.8339 - val_accuracy: 0.6241\n",
            "Epoch 11/30\n",
            "33/33 [==============================] - 12s 379ms/step - loss: 0.7006 - accuracy: 0.6963 - val_loss: 0.6629 - val_accuracy: 0.6767\n",
            "Epoch 12/30\n",
            "33/33 [==============================] - 13s 381ms/step - loss: 0.6290 - accuracy: 0.7311 - val_loss: 0.6235 - val_accuracy: 0.7068\n",
            "Epoch 13/30\n",
            "33/33 [==============================] - 12s 379ms/step - loss: 0.6273 - accuracy: 0.7215 - val_loss: 0.6620 - val_accuracy: 0.6842\n",
            "Epoch 14/30\n",
            "33/33 [==============================] - 13s 380ms/step - loss: 0.6005 - accuracy: 0.7408 - val_loss: 0.6701 - val_accuracy: 0.7068\n",
            "Epoch 15/30\n",
            "33/33 [==============================] - 13s 382ms/step - loss: 0.6425 - accuracy: 0.7108 - val_loss: 0.6705 - val_accuracy: 0.6992\n",
            "Epoch 16/30\n",
            "33/33 [==============================] - 13s 381ms/step - loss: 0.6431 - accuracy: 0.7224 - val_loss: 0.6348 - val_accuracy: 0.6917\n",
            "33/33 [==============================] - 7s 215ms/step - loss: 0.5875 - accuracy: 0.7485\n",
            "5/5 [==============================] - 1s 174ms/step - loss: 0.6235 - accuracy: 0.7068\n",
            "4/4 [==============================] - 1s 215ms/step - loss: 0.6660 - accuracy: 0.7031\n",
            "kernel size = 7\n",
            "Epoch 1/30\n",
            "33/33 [==============================] - 19s 561ms/step - loss: 1.1329 - accuracy: 0.3559 - val_loss: 1.0048 - val_accuracy: 0.5639\n",
            "Epoch 2/30\n",
            "33/33 [==============================] - 18s 559ms/step - loss: 0.9649 - accuracy: 0.5126 - val_loss: 0.8723 - val_accuracy: 0.5865\n",
            "Epoch 3/30\n",
            "33/33 [==============================] - 18s 557ms/step - loss: 0.8346 - accuracy: 0.5967 - val_loss: 0.7942 - val_accuracy: 0.6015\n",
            "Epoch 4/30\n",
            "33/33 [==============================] - 18s 553ms/step - loss: 0.7665 - accuracy: 0.6480 - val_loss: 0.7413 - val_accuracy: 0.5865\n",
            "Epoch 5/30\n",
            "33/33 [==============================] - 18s 554ms/step - loss: 0.7445 - accuracy: 0.6586 - val_loss: 0.7252 - val_accuracy: 0.6767\n",
            "Epoch 6/30\n",
            "33/33 [==============================] - 18s 555ms/step - loss: 0.7510 - accuracy: 0.6702 - val_loss: 0.7288 - val_accuracy: 0.6617\n",
            "Epoch 7/30\n",
            "33/33 [==============================] - 18s 555ms/step - loss: 0.7425 - accuracy: 0.6644 - val_loss: 0.6914 - val_accuracy: 0.6617\n",
            "Epoch 8/30\n",
            "33/33 [==============================] - 18s 556ms/step - loss: 0.7135 - accuracy: 0.6741 - val_loss: 0.7509 - val_accuracy: 0.6692\n",
            "Epoch 9/30\n",
            "33/33 [==============================] - 18s 554ms/step - loss: 0.7447 - accuracy: 0.6567 - val_loss: 0.7025 - val_accuracy: 0.6466\n",
            "Epoch 10/30\n",
            "33/33 [==============================] - 18s 556ms/step - loss: 0.7292 - accuracy: 0.6644 - val_loss: 0.7473 - val_accuracy: 0.6316\n",
            "Epoch 11/30\n",
            "33/33 [==============================] - 18s 557ms/step - loss: 0.7018 - accuracy: 0.6760 - val_loss: 0.7144 - val_accuracy: 0.6617\n",
            "33/33 [==============================] - 9s 282ms/step - loss: 0.6994 - accuracy: 0.6847\n",
            "5/5 [==============================] - 1s 225ms/step - loss: 0.6914 - accuracy: 0.6617\n",
            "4/4 [==============================] - 1s 286ms/step - loss: 0.6855 - accuracy: 0.7031\n",
            "kernel size = 9\n",
            "Epoch 1/30\n",
            "33/33 [==============================] - 29s 880ms/step - loss: 0.9452 - accuracy: 0.5222 - val_loss: 0.7971 - val_accuracy: 0.6015\n",
            "Epoch 2/30\n",
            "33/33 [==============================] - 29s 878ms/step - loss: 0.8381 - accuracy: 0.5996 - val_loss: 0.7891 - val_accuracy: 0.6165\n",
            "Epoch 3/30\n",
            "33/33 [==============================] - 29s 880ms/step - loss: 0.7734 - accuracy: 0.6373 - val_loss: 1.1259 - val_accuracy: 0.5038\n",
            "Epoch 4/30\n",
            "33/33 [==============================] - 29s 876ms/step - loss: 0.7834 - accuracy: 0.6306 - val_loss: 0.6895 - val_accuracy: 0.6767\n",
            "Epoch 5/30\n",
            "33/33 [==============================] - 29s 878ms/step - loss: 0.7180 - accuracy: 0.6847 - val_loss: 0.7422 - val_accuracy: 0.6316\n",
            "Epoch 6/30\n",
            "33/33 [==============================] - 29s 875ms/step - loss: 0.7257 - accuracy: 0.6605 - val_loss: 0.7451 - val_accuracy: 0.6917\n",
            "Epoch 7/30\n",
            "33/33 [==============================] - 29s 877ms/step - loss: 0.7331 - accuracy: 0.6644 - val_loss: 0.7713 - val_accuracy: 0.6541\n",
            "Epoch 8/30\n",
            "33/33 [==============================] - 29s 880ms/step - loss: 0.7169 - accuracy: 0.6605 - val_loss: 0.7077 - val_accuracy: 0.6917\n",
            "33/33 [==============================] - 11s 337ms/step - loss: 0.6913 - accuracy: 0.6857\n",
            "5/5 [==============================] - 1s 269ms/step - loss: 0.6895 - accuracy: 0.6767\n",
            "4/4 [==============================] - 2s 344ms/step - loss: 0.6725 - accuracy: 0.6562\n"
          ]
        }
      ]
    },
    {
      "cell_type": "markdown",
      "source": [
        "## Kernel Number Effect"
      ],
      "metadata": {
        "id": "_GS7LTfZRvuO"
      }
    },
    {
      "cell_type": "code",
      "source": [
        "for kernel_numbers in [\n",
        "                       [3, 10, 40],\n",
        "                       [6, 16, 120],\n",
        "                       [10, 40, 300]]:\n",
        "\n",
        "  print(f\"kernel numbers = {kernel_numbers}\")\n",
        "  lenet = LeNet(kernel_numbers=kernel_numbers)\n",
        "  es_callback = EarlyStopping(monitor=\"val_loss\", patience=4, restore_best_weights=True)\n",
        "  lenet.compile(optimizer=\"adam\", loss=\"sparse_categorical_crossentropy\", metrics=[\"accuracy\"])\n",
        "\n",
        "  lenet.fit(x=x_train, y=y_train, validation_data=(x_valid, y_valid), epochs=30, callbacks=[es_callback])\n",
        "\n",
        "  lenet.evaluate(x=x_train, y=y_train)\n",
        "  lenet.evaluate(x=x_valid, y=y_valid)\n",
        "  lenet.evaluate(x=x_test, y=y_test)"
      ],
      "metadata": {
        "colab": {
          "base_uri": "https://localhost:8080/"
        },
        "id": "SjE5racrRvFD",
        "outputId": "2aab017a-2fb7-47d2-8a4b-9d0945b28c94"
      },
      "execution_count": null,
      "outputs": [
        {
          "output_type": "stream",
          "name": "stdout",
          "text": [
            "kernel numbers = [3, 10, 40]\n",
            "Epoch 1/30\n",
            "33/33 [==============================] - 14s 425ms/step - loss: 1.0414 - accuracy: 0.4594 - val_loss: 0.8754 - val_accuracy: 0.5865\n",
            "Epoch 2/30\n",
            "33/33 [==============================] - 12s 371ms/step - loss: 0.8532 - accuracy: 0.5948 - val_loss: 0.7496 - val_accuracy: 0.6617\n",
            "Epoch 3/30\n",
            "33/33 [==============================] - 12s 371ms/step - loss: 0.7816 - accuracy: 0.6518 - val_loss: 0.7181 - val_accuracy: 0.6692\n",
            "Epoch 4/30\n",
            "33/33 [==============================] - 12s 370ms/step - loss: 0.7376 - accuracy: 0.6673 - val_loss: 0.7553 - val_accuracy: 0.6391\n",
            "Epoch 5/30\n",
            "33/33 [==============================] - 12s 372ms/step - loss: 0.7968 - accuracy: 0.6364 - val_loss: 0.7713 - val_accuracy: 0.6241\n",
            "Epoch 6/30\n",
            "33/33 [==============================] - 12s 373ms/step - loss: 0.7783 - accuracy: 0.6518 - val_loss: 0.7504 - val_accuracy: 0.6090\n",
            "Epoch 7/30\n",
            "33/33 [==============================] - 12s 370ms/step - loss: 0.7623 - accuracy: 0.6528 - val_loss: 0.7288 - val_accuracy: 0.6316\n",
            "33/33 [==============================] - 7s 208ms/step - loss: 0.7363 - accuracy: 0.6750\n",
            "5/5 [==============================] - 1s 169ms/step - loss: 0.7181 - accuracy: 0.6692\n",
            "4/4 [==============================] - 1s 210ms/step - loss: 0.7145 - accuracy: 0.6953\n",
            "kernel numbers = [6, 16, 120]\n",
            "Epoch 1/30\n",
            "33/33 [==============================] - 14s 395ms/step - loss: 1.0472 - accuracy: 0.4439 - val_loss: 0.8960 - val_accuracy: 0.6165\n",
            "Epoch 2/30\n",
            "33/33 [==============================] - 13s 390ms/step - loss: 0.8565 - accuracy: 0.6025 - val_loss: 0.7515 - val_accuracy: 0.7218\n",
            "Epoch 3/30\n",
            "33/33 [==============================] - 13s 391ms/step - loss: 0.7784 - accuracy: 0.6480 - val_loss: 0.7349 - val_accuracy: 0.6842\n",
            "Epoch 4/30\n",
            "33/33 [==============================] - 13s 390ms/step - loss: 0.7648 - accuracy: 0.6809 - val_loss: 0.7724 - val_accuracy: 0.6842\n",
            "Epoch 5/30\n",
            "33/33 [==============================] - 13s 390ms/step - loss: 0.7979 - accuracy: 0.6460 - val_loss: 0.7552 - val_accuracy: 0.6391\n",
            "Epoch 6/30\n",
            "33/33 [==============================] - 13s 400ms/step - loss: 0.7335 - accuracy: 0.6857 - val_loss: 0.7149 - val_accuracy: 0.6992\n",
            "Epoch 7/30\n",
            "33/33 [==============================] - 13s 389ms/step - loss: 0.7294 - accuracy: 0.6731 - val_loss: 0.6902 - val_accuracy: 0.6466\n",
            "Epoch 8/30\n",
            "33/33 [==============================] - 13s 391ms/step - loss: 0.7213 - accuracy: 0.6847 - val_loss: 0.7107 - val_accuracy: 0.6917\n",
            "Epoch 9/30\n",
            "33/33 [==============================] - 13s 389ms/step - loss: 0.7385 - accuracy: 0.6847 - val_loss: 0.6926 - val_accuracy: 0.7068\n",
            "Epoch 10/30\n",
            "33/33 [==============================] - 13s 389ms/step - loss: 0.7197 - accuracy: 0.6934 - val_loss: 0.7328 - val_accuracy: 0.6692\n",
            "Epoch 11/30\n",
            "33/33 [==============================] - 13s 389ms/step - loss: 0.6969 - accuracy: 0.6905 - val_loss: 0.6586 - val_accuracy: 0.7218\n",
            "Epoch 12/30\n",
            "33/33 [==============================] - 13s 391ms/step - loss: 0.6818 - accuracy: 0.6925 - val_loss: 0.7217 - val_accuracy: 0.6391\n",
            "Epoch 13/30\n",
            "33/33 [==============================] - 13s 391ms/step - loss: 0.6686 - accuracy: 0.7089 - val_loss: 0.6549 - val_accuracy: 0.7444\n",
            "Epoch 14/30\n",
            "33/33 [==============================] - 13s 391ms/step - loss: 0.6851 - accuracy: 0.6973 - val_loss: 0.6555 - val_accuracy: 0.7519\n",
            "Epoch 15/30\n",
            "33/33 [==============================] - 13s 389ms/step - loss: 0.6536 - accuracy: 0.7215 - val_loss: 0.6260 - val_accuracy: 0.7218\n",
            "Epoch 16/30\n",
            "33/33 [==============================] - 13s 391ms/step - loss: 0.6671 - accuracy: 0.7118 - val_loss: 0.7540 - val_accuracy: 0.6241\n",
            "Epoch 17/30\n",
            "33/33 [==============================] - 13s 390ms/step - loss: 0.6864 - accuracy: 0.7002 - val_loss: 0.6896 - val_accuracy: 0.6917\n",
            "Epoch 18/30\n",
            "33/33 [==============================] - 13s 389ms/step - loss: 0.6350 - accuracy: 0.7263 - val_loss: 0.6548 - val_accuracy: 0.6917\n",
            "Epoch 19/30\n",
            "33/33 [==============================] - 13s 390ms/step - loss: 0.6260 - accuracy: 0.7273 - val_loss: 0.6320 - val_accuracy: 0.6992\n",
            "33/33 [==============================] - 7s 221ms/step - loss: 0.6273 - accuracy: 0.7234\n",
            "5/5 [==============================] - 1s 172ms/step - loss: 0.6260 - accuracy: 0.7218\n",
            "4/4 [==============================] - 1s 222ms/step - loss: 0.6434 - accuracy: 0.6797\n",
            "kernel numbers = [10, 40, 300]\n",
            "Epoch 1/30\n",
            "33/33 [==============================] - 12s 335ms/step - loss: 0.9117 - accuracy: 0.5832 - val_loss: 0.9614 - val_accuracy: 0.5263\n",
            "Epoch 2/30\n",
            "33/33 [==============================] - 11s 330ms/step - loss: 0.8558 - accuracy: 0.5967 - val_loss: 0.7750 - val_accuracy: 0.6165\n",
            "Epoch 3/30\n",
            "33/33 [==============================] - 11s 331ms/step - loss: 0.8103 - accuracy: 0.6344 - val_loss: 0.7728 - val_accuracy: 0.6842\n",
            "Epoch 4/30\n",
            "33/33 [==============================] - 11s 330ms/step - loss: 0.7891 - accuracy: 0.6412 - val_loss: 0.7537 - val_accuracy: 0.7293\n",
            "Epoch 5/30\n",
            "33/33 [==============================] - 11s 330ms/step - loss: 0.7253 - accuracy: 0.6818 - val_loss: 0.6759 - val_accuracy: 0.6842\n",
            "Epoch 6/30\n",
            "33/33 [==============================] - 11s 330ms/step - loss: 0.7598 - accuracy: 0.6721 - val_loss: 0.6933 - val_accuracy: 0.6917\n",
            "Epoch 7/30\n",
            "33/33 [==============================] - 11s 331ms/step - loss: 0.7261 - accuracy: 0.6615 - val_loss: 0.7076 - val_accuracy: 0.6541\n",
            "Epoch 8/30\n",
            "33/33 [==============================] - 11s 331ms/step - loss: 0.6817 - accuracy: 0.6963 - val_loss: 0.6075 - val_accuracy: 0.7218\n",
            "Epoch 9/30\n",
            "33/33 [==============================] - 11s 330ms/step - loss: 0.6826 - accuracy: 0.7060 - val_loss: 0.6073 - val_accuracy: 0.7444\n",
            "Epoch 10/30\n",
            "33/33 [==============================] - 11s 331ms/step - loss: 0.6418 - accuracy: 0.7176 - val_loss: 0.6439 - val_accuracy: 0.6617\n",
            "Epoch 11/30\n",
            "33/33 [==============================] - 11s 330ms/step - loss: 0.6280 - accuracy: 0.7215 - val_loss: 0.6406 - val_accuracy: 0.7368\n",
            "Epoch 12/30\n",
            "33/33 [==============================] - 11s 332ms/step - loss: 0.5868 - accuracy: 0.7340 - val_loss: 0.5721 - val_accuracy: 0.7669\n",
            "Epoch 13/30\n",
            "33/33 [==============================] - 11s 331ms/step - loss: 0.5474 - accuracy: 0.7631 - val_loss: 0.7272 - val_accuracy: 0.6842\n",
            "Epoch 14/30\n",
            "33/33 [==============================] - 11s 331ms/step - loss: 0.5898 - accuracy: 0.7331 - val_loss: 0.6265 - val_accuracy: 0.7669\n",
            "Epoch 15/30\n",
            "33/33 [==============================] - 11s 331ms/step - loss: 0.5566 - accuracy: 0.7602 - val_loss: 0.5609 - val_accuracy: 0.7970\n",
            "Epoch 16/30\n",
            "33/33 [==============================] - 11s 330ms/step - loss: 0.5234 - accuracy: 0.7689 - val_loss: 0.5827 - val_accuracy: 0.7293\n",
            "Epoch 17/30\n",
            "33/33 [==============================] - 11s 332ms/step - loss: 0.5034 - accuracy: 0.7901 - val_loss: 0.6350 - val_accuracy: 0.6842\n",
            "Epoch 18/30\n",
            "33/33 [==============================] - 11s 331ms/step - loss: 0.4989 - accuracy: 0.7824 - val_loss: 0.5722 - val_accuracy: 0.7444\n",
            "Epoch 19/30\n",
            "33/33 [==============================] - 11s 331ms/step - loss: 0.4596 - accuracy: 0.8133 - val_loss: 0.6073 - val_accuracy: 0.7143\n",
            "33/33 [==============================] - 5s 142ms/step - loss: 0.4716 - accuracy: 0.8037\n",
            "5/5 [==============================] - 1s 113ms/step - loss: 0.5609 - accuracy: 0.7970\n",
            "4/4 [==============================] - 1s 141ms/step - loss: 0.5447 - accuracy: 0.7500\n"
          ]
        }
      ]
    },
    {
      "cell_type": "markdown",
      "source": [
        "## Best Setting"
      ],
      "metadata": {
        "id": "k1Qyxzv9uqwk"
      }
    },
    {
      "cell_type": "code",
      "source": [
        ""
      ],
      "metadata": {
        "id": "Om38hL9-wXDL"
      },
      "execution_count": null,
      "outputs": []
    },
    {
      "cell_type": "code",
      "source": [
        "lenet = LeNet(kernel_size=5, kernel_numbers=[10, 40, 300], dropout_enable=True)\n",
        "es_callback = EarlyStopping(monitor=\"val_loss\", patience=4, restore_best_weights=True)\n",
        "lenet.compile(optimizer=\"adam\", loss=\"sparse_categorical_crossentropy\", metrics=[\"accuracy\"])\n",
        "\n",
        "es_callback = EarlyStopping(monitor=\"val_loss\", patience=4, restore_best_weights=True)\n",
        "lenet.compile(optimizer=\"adam\", loss=\"sparse_categorical_crossentropy\", metrics=[\"accuracy\"])\n",
        "\n",
        "lenet.fit(x=x_train, y=y_train, validation_data=(x_valid, y_valid), epochs=30, callbacks=[es_callback])\n",
        "\n",
        "lenet.evaluate(x=x_train, y=y_train)\n",
        "lenet.evaluate(x=x_valid, y=y_valid)\n",
        "lenet.evaluate(x=x_test, y=y_test)"
      ],
      "metadata": {
        "colab": {
          "base_uri": "https://localhost:8080/"
        },
        "id": "AVHY4o09SXib",
        "outputId": "18d9676c-426d-41d5-9ad6-51264cf0672f"
      },
      "execution_count": null,
      "outputs": [
        {
          "output_type": "stream",
          "name": "stdout",
          "text": [
            "Epoch 1/30\n",
            "33/33 [==============================] - 14s 399ms/step - loss: 0.9390 - accuracy: 0.5532 - val_loss: 0.7473 - val_accuracy: 0.7068\n",
            "Epoch 2/30\n",
            "33/33 [==============================] - 13s 385ms/step - loss: 0.7935 - accuracy: 0.6499 - val_loss: 0.7326 - val_accuracy: 0.6617\n",
            "Epoch 3/30\n",
            "33/33 [==============================] - 13s 387ms/step - loss: 0.7805 - accuracy: 0.6489 - val_loss: 0.6819 - val_accuracy: 0.6767\n",
            "Epoch 4/30\n",
            "33/33 [==============================] - 13s 385ms/step - loss: 0.7824 - accuracy: 0.6480 - val_loss: 0.6740 - val_accuracy: 0.6992\n",
            "Epoch 5/30\n",
            "33/33 [==============================] - 13s 391ms/step - loss: 0.8019 - accuracy: 0.6267 - val_loss: 0.6795 - val_accuracy: 0.6992\n",
            "Epoch 6/30\n",
            "33/33 [==============================] - 13s 385ms/step - loss: 0.7306 - accuracy: 0.6712 - val_loss: 0.6887 - val_accuracy: 0.6842\n",
            "Epoch 7/30\n",
            "33/33 [==============================] - 13s 384ms/step - loss: 0.7360 - accuracy: 0.6750 - val_loss: 0.6622 - val_accuracy: 0.6917\n",
            "Epoch 8/30\n",
            "33/33 [==============================] - 13s 384ms/step - loss: 0.7608 - accuracy: 0.6557 - val_loss: 0.7284 - val_accuracy: 0.6842\n",
            "Epoch 9/30\n",
            "33/33 [==============================] - 13s 384ms/step - loss: 0.7151 - accuracy: 0.6905 - val_loss: 0.7238 - val_accuracy: 0.7068\n",
            "Epoch 10/30\n",
            "33/33 [==============================] - 13s 398ms/step - loss: 0.7394 - accuracy: 0.6596 - val_loss: 0.6100 - val_accuracy: 0.7218\n",
            "Epoch 11/30\n",
            "33/33 [==============================] - 13s 384ms/step - loss: 0.7164 - accuracy: 0.6789 - val_loss: 0.6423 - val_accuracy: 0.7293\n",
            "Epoch 12/30\n",
            "33/33 [==============================] - 13s 383ms/step - loss: 0.6776 - accuracy: 0.6973 - val_loss: 0.6481 - val_accuracy: 0.6692\n",
            "Epoch 13/30\n",
            "33/33 [==============================] - 13s 381ms/step - loss: 0.6843 - accuracy: 0.7079 - val_loss: 0.6802 - val_accuracy: 0.7068\n",
            "Epoch 14/30\n",
            "33/33 [==============================] - 13s 384ms/step - loss: 0.6770 - accuracy: 0.6876 - val_loss: 0.6030 - val_accuracy: 0.7444\n",
            "Epoch 15/30\n",
            "33/33 [==============================] - 13s 384ms/step - loss: 0.6693 - accuracy: 0.6963 - val_loss: 0.7455 - val_accuracy: 0.6992\n",
            "Epoch 16/30\n",
            "33/33 [==============================] - 13s 383ms/step - loss: 0.7013 - accuracy: 0.7050 - val_loss: 0.7035 - val_accuracy: 0.6541\n",
            "Epoch 17/30\n",
            "33/33 [==============================] - 13s 382ms/step - loss: 0.6812 - accuracy: 0.6925 - val_loss: 0.5873 - val_accuracy: 0.7218\n",
            "Epoch 18/30\n",
            "33/33 [==============================] - 13s 383ms/step - loss: 0.6605 - accuracy: 0.6954 - val_loss: 0.6641 - val_accuracy: 0.6992\n",
            "Epoch 19/30\n",
            "33/33 [==============================] - 13s 384ms/step - loss: 0.6698 - accuracy: 0.7041 - val_loss: 0.6176 - val_accuracy: 0.7068\n",
            "Epoch 20/30\n",
            "33/33 [==============================] - 13s 384ms/step - loss: 0.6101 - accuracy: 0.7369 - val_loss: 0.5840 - val_accuracy: 0.7293\n",
            "Epoch 21/30\n",
            "33/33 [==============================] - 13s 384ms/step - loss: 0.6056 - accuracy: 0.7205 - val_loss: 0.5919 - val_accuracy: 0.7368\n",
            "Epoch 22/30\n",
            "33/33 [==============================] - 13s 384ms/step - loss: 0.5697 - accuracy: 0.7640 - val_loss: 0.5427 - val_accuracy: 0.7519\n",
            "Epoch 23/30\n",
            "33/33 [==============================] - 13s 386ms/step - loss: 0.5922 - accuracy: 0.7544 - val_loss: 0.5534 - val_accuracy: 0.7669\n",
            "Epoch 24/30\n",
            "33/33 [==============================] - 13s 386ms/step - loss: 0.5850 - accuracy: 0.7466 - val_loss: 0.5263 - val_accuracy: 0.7669\n",
            "Epoch 25/30\n",
            "33/33 [==============================] - 13s 385ms/step - loss: 0.5948 - accuracy: 0.7505 - val_loss: 0.5857 - val_accuracy: 0.7218\n",
            "Epoch 26/30\n",
            "33/33 [==============================] - 13s 386ms/step - loss: 0.5744 - accuracy: 0.7553 - val_loss: 0.5960 - val_accuracy: 0.7368\n",
            "Epoch 27/30\n",
            "33/33 [==============================] - 13s 384ms/step - loss: 0.5584 - accuracy: 0.7640 - val_loss: 0.5095 - val_accuracy: 0.8045\n",
            "Epoch 28/30\n",
            "33/33 [==============================] - 13s 386ms/step - loss: 0.5346 - accuracy: 0.7669 - val_loss: 0.6302 - val_accuracy: 0.7293\n",
            "Epoch 29/30\n",
            "33/33 [==============================] - 13s 385ms/step - loss: 0.5367 - accuracy: 0.7708 - val_loss: 0.4941 - val_accuracy: 0.7669\n",
            "Epoch 30/30\n",
            "33/33 [==============================] - 13s 385ms/step - loss: 0.5181 - accuracy: 0.7805 - val_loss: 0.5585 - val_accuracy: 0.7218\n",
            "33/33 [==============================] - 5s 141ms/step - loss: 0.4847 - accuracy: 0.7921\n",
            "5/5 [==============================] - 1s 114ms/step - loss: 0.5585 - accuracy: 0.7218\n",
            "4/4 [==============================] - 1s 146ms/step - loss: 0.5686 - accuracy: 0.7578\n"
          ]
        },
        {
          "output_type": "execute_result",
          "data": {
            "text/plain": [
              "[0.5686240792274475, 0.7578125]"
            ]
          },
          "metadata": {},
          "execution_count": 27
        }
      ]
    },
    {
      "cell_type": "markdown",
      "source": [
        "# Inception"
      ],
      "metadata": {
        "id": "j0RUuLHZVUg_"
      }
    },
    {
      "cell_type": "code",
      "source": [
        "class Inception(keras.Model):\n",
        "  def __init__(self):\n",
        "    super().__init__()\n",
        "    self.base_model = InceptionV3(\n",
        "        input_shape=(500, 500, 3), include_top=False, weights='imagenet')\n",
        "\n",
        "    inputs = Input((500, 500, 3,))\n",
        "    flatten_layer = Flatten()\n",
        "    output_layer = Dense(3, activation=\"softmax\")\n",
        "    dropout_layer = Dropout(rate=0.5)\n",
        "\n",
        "    x = self.base_model(inputs)\n",
        "    x = flatten_layer(x)\n",
        "    x = dropout_layer(x)\n",
        "    outputs = output_layer(x)\n",
        "\n",
        "    self.model = tf.keras.Model(inputs, outputs)\n",
        "\n",
        "    self.freeze_base_model()\n",
        "\n",
        "  def freeze_base_model(self):\n",
        "    self.base_model.trainable = False\n",
        "\n",
        "  def unfreeze_partial_base_model(self, number_top_layers):\n",
        "    self.base_model.trainable = True\n",
        "\n",
        "    for layer in self.base_model.layers[:-number_top_layers]:\n",
        "      layer.trainable = False\n",
        "    \n",
        "  def call(self, inputs):\n",
        "    return self.model.call(inputs)"
      ],
      "metadata": {
        "id": "jHk7n2MRZyFx"
      },
      "execution_count": 18,
      "outputs": []
    },
    {
      "cell_type": "code",
      "source": [
        "inception = Inception()\n",
        "\n",
        "es_callback = EarlyStopping(monitor=\"val_loss\", patience=4, restore_best_weights=True)\n",
        "inception.compile(optimizer=\"adam\", loss=\"sparse_categorical_crossentropy\", metrics=[\"accuracy\"])"
      ],
      "metadata": {
        "id": "VPSn42nMUmLo"
      },
      "execution_count": 19,
      "outputs": []
    },
    {
      "cell_type": "code",
      "source": [
        "history = inception.fit(x=x_train, y=y_train, validation_data=(x_valid, y_valid), epochs=30, callbacks=[es_callback])"
      ],
      "metadata": {
        "colab": {
          "base_uri": "https://localhost:8080/"
        },
        "id": "LNlkP7LAeqwm",
        "outputId": "b4f3446c-febd-49ab-d615-a1e2d3cb67a5"
      },
      "execution_count": 21,
      "outputs": [
        {
          "output_type": "stream",
          "name": "stdout",
          "text": [
            "Epoch 1/30\n",
            "33/33 [==============================] - 31s 942ms/step - loss: 456.6477 - accuracy: 0.4729 - val_loss: 158.5968 - val_accuracy: 0.5564\n",
            "Epoch 2/30\n",
            "33/33 [==============================] - 29s 889ms/step - loss: 74.7985 - accuracy: 0.7321 - val_loss: 123.2599 - val_accuracy: 0.6767\n",
            "Epoch 3/30\n",
            "33/33 [==============================] - 29s 888ms/step - loss: 29.8127 - accuracy: 0.8346 - val_loss: 119.3490 - val_accuracy: 0.5865\n",
            "Epoch 4/30\n",
            "33/33 [==============================] - 29s 881ms/step - loss: 16.9930 - accuracy: 0.9023 - val_loss: 143.0942 - val_accuracy: 0.6090\n",
            "Epoch 5/30\n",
            "33/33 [==============================] - 29s 887ms/step - loss: 22.8832 - accuracy: 0.8839 - val_loss: 111.8594 - val_accuracy: 0.6466\n",
            "Epoch 6/30\n",
            "33/33 [==============================] - 29s 881ms/step - loss: 18.9125 - accuracy: 0.9033 - val_loss: 190.0571 - val_accuracy: 0.6090\n",
            "Epoch 7/30\n",
            "33/33 [==============================] - 29s 882ms/step - loss: 40.3008 - accuracy: 0.8385 - val_loss: 196.7749 - val_accuracy: 0.6316\n",
            "Epoch 8/30\n",
            "33/33 [==============================] - 29s 881ms/step - loss: 33.4378 - accuracy: 0.8723 - val_loss: 137.9002 - val_accuracy: 0.6391\n",
            "Epoch 9/30\n",
            "33/33 [==============================] - 29s 887ms/step - loss: 24.7802 - accuracy: 0.9072 - val_loss: 152.1215 - val_accuracy: 0.6842\n"
          ]
        }
      ]
    },
    {
      "cell_type": "code",
      "source": [
        "inception.evaluate(x=x_train, y=y_train)\n",
        "inception.evaluate(x=x_valid, y=y_valid)\n",
        "inception.evaluate(x=x_test, y=y_test)"
      ],
      "metadata": {
        "colab": {
          "base_uri": "https://localhost:8080/"
        },
        "id": "uyr6ff1Jz0cA",
        "outputId": "ab6f28a7-48b8-4f6f-ce78-e71a5865921b"
      },
      "execution_count": 22,
      "outputs": [
        {
          "output_type": "stream",
          "name": "stdout",
          "text": [
            "33/33 [==============================] - 26s 779ms/step - loss: 4.4884 - accuracy: 0.9565\n",
            "5/5 [==============================] - 3s 648ms/step - loss: 111.8594 - accuracy: 0.6466\n",
            "4/4 [==============================] - 5s 788ms/step - loss: 86.2566 - accuracy: 0.6797\n"
          ]
        },
        {
          "output_type": "execute_result",
          "data": {
            "text/plain": [
              "[86.25660705566406, 0.6796875]"
            ]
          },
          "metadata": {},
          "execution_count": 22
        }
      ]
    },
    {
      "cell_type": "code",
      "source": [
        "inception_model_new = clone_model(inception.model)"
      ],
      "metadata": {
        "id": "aO_okm_61Upz"
      },
      "execution_count": 30,
      "outputs": []
    },
    {
      "cell_type": "code",
      "source": [
        "inception.unfreeze_partial_base_model(100)"
      ],
      "metadata": {
        "id": "k0O6vK59vVE-"
      },
      "execution_count": 31,
      "outputs": []
    },
    {
      "cell_type": "code",
      "source": [
        "fine_tuning_history = inception.fit(x=x_train, y=y_train, validation_data=(x_valid, y_valid),\n",
        "                                    epochs=30, initial_epoch=history.epoch[-1], callbacks=[es_callback])"
      ],
      "metadata": {
        "colab": {
          "base_uri": "https://localhost:8080/",
          "height": 1000
        },
        "id": "WLdboBohvc2j",
        "outputId": "2c8353ae-4dbc-48bb-8dd1-2d40994d49c5"
      },
      "execution_count": 32,
      "outputs": [
        {
          "output_type": "stream",
          "name": "stdout",
          "text": [
            "Epoch 9/30\n",
            " 1/33 [..............................] - ETA: 9:56 - loss: 66.6729 - accuracy: 0.3438"
          ]
        },
        {
          "output_type": "error",
          "ename": "ResourceExhaustedError",
          "evalue": "ignored",
          "traceback": [
            "\u001b[0;31m---------------------------------------------------------------------------\u001b[0m",
            "\u001b[0;31mResourceExhaustedError\u001b[0m                    Traceback (most recent call last)",
            "\u001b[0;32m<ipython-input-32-0263b512b169>\u001b[0m in \u001b[0;36m<module>\u001b[0;34m()\u001b[0m\n\u001b[1;32m      1\u001b[0m fine_tuning_history = inception.fit(x=x_train, y=y_train, validation_data=(x_valid, y_valid),\n\u001b[0;32m----> 2\u001b[0;31m                                     epochs=30, initial_epoch=history.epoch[-1], callbacks=[es_callback])\n\u001b[0m",
            "\u001b[0;32m/usr/local/lib/python3.7/dist-packages/keras/utils/traceback_utils.py\u001b[0m in \u001b[0;36merror_handler\u001b[0;34m(*args, **kwargs)\u001b[0m\n\u001b[1;32m     65\u001b[0m     \u001b[0;32mexcept\u001b[0m \u001b[0mException\u001b[0m \u001b[0;32mas\u001b[0m \u001b[0me\u001b[0m\u001b[0;34m:\u001b[0m  \u001b[0;31m# pylint: disable=broad-except\u001b[0m\u001b[0;34m\u001b[0m\u001b[0;34m\u001b[0m\u001b[0m\n\u001b[1;32m     66\u001b[0m       \u001b[0mfiltered_tb\u001b[0m \u001b[0;34m=\u001b[0m \u001b[0m_process_traceback_frames\u001b[0m\u001b[0;34m(\u001b[0m\u001b[0me\u001b[0m\u001b[0;34m.\u001b[0m\u001b[0m__traceback__\u001b[0m\u001b[0;34m)\u001b[0m\u001b[0;34m\u001b[0m\u001b[0;34m\u001b[0m\u001b[0m\n\u001b[0;32m---> 67\u001b[0;31m       \u001b[0;32mraise\u001b[0m \u001b[0me\u001b[0m\u001b[0;34m.\u001b[0m\u001b[0mwith_traceback\u001b[0m\u001b[0;34m(\u001b[0m\u001b[0mfiltered_tb\u001b[0m\u001b[0;34m)\u001b[0m \u001b[0;32mfrom\u001b[0m \u001b[0;32mNone\u001b[0m\u001b[0;34m\u001b[0m\u001b[0;34m\u001b[0m\u001b[0m\n\u001b[0m\u001b[1;32m     68\u001b[0m     \u001b[0;32mfinally\u001b[0m\u001b[0;34m:\u001b[0m\u001b[0;34m\u001b[0m\u001b[0;34m\u001b[0m\u001b[0m\n\u001b[1;32m     69\u001b[0m       \u001b[0;32mdel\u001b[0m \u001b[0mfiltered_tb\u001b[0m\u001b[0;34m\u001b[0m\u001b[0;34m\u001b[0m\u001b[0m\n",
            "\u001b[0;32m/usr/local/lib/python3.7/dist-packages/tensorflow/python/eager/execute.py\u001b[0m in \u001b[0;36mquick_execute\u001b[0;34m(op_name, num_outputs, inputs, attrs, ctx, name)\u001b[0m\n\u001b[1;32m     53\u001b[0m     \u001b[0mctx\u001b[0m\u001b[0;34m.\u001b[0m\u001b[0mensure_initialized\u001b[0m\u001b[0;34m(\u001b[0m\u001b[0;34m)\u001b[0m\u001b[0;34m\u001b[0m\u001b[0;34m\u001b[0m\u001b[0m\n\u001b[1;32m     54\u001b[0m     tensors = pywrap_tfe.TFE_Py_Execute(ctx._handle, device_name, op_name,\n\u001b[0;32m---> 55\u001b[0;31m                                         inputs, attrs, num_outputs)\n\u001b[0m\u001b[1;32m     56\u001b[0m   \u001b[0;32mexcept\u001b[0m \u001b[0mcore\u001b[0m\u001b[0;34m.\u001b[0m\u001b[0m_NotOkStatusException\u001b[0m \u001b[0;32mas\u001b[0m \u001b[0me\u001b[0m\u001b[0;34m:\u001b[0m\u001b[0;34m\u001b[0m\u001b[0;34m\u001b[0m\u001b[0m\n\u001b[1;32m     57\u001b[0m     \u001b[0;32mif\u001b[0m \u001b[0mname\u001b[0m \u001b[0;32mis\u001b[0m \u001b[0;32mnot\u001b[0m \u001b[0;32mNone\u001b[0m\u001b[0;34m:\u001b[0m\u001b[0;34m\u001b[0m\u001b[0;34m\u001b[0m\u001b[0m\n",
            "\u001b[0;31mResourceExhaustedError\u001b[0m: Graph execution error:\n\nDetected at node 'inception_1/inception_v3/conv2d_175/Conv2D' defined at (most recent call last):\n    File \"/usr/lib/python3.7/runpy.py\", line 193, in _run_module_as_main\n      \"__main__\", mod_spec)\n    File \"/usr/lib/python3.7/runpy.py\", line 85, in _run_code\n      exec(code, run_globals)\n    File \"/usr/local/lib/python3.7/dist-packages/ipykernel_launcher.py\", line 16, in <module>\n      app.launch_new_instance()\n    File \"/usr/local/lib/python3.7/dist-packages/traitlets/config/application.py\", line 846, in launch_instance\n      app.start()\n    File \"/usr/local/lib/python3.7/dist-packages/ipykernel/kernelapp.py\", line 499, in start\n      self.io_loop.start()\n    File \"/usr/local/lib/python3.7/dist-packages/tornado/platform/asyncio.py\", line 132, in start\n      self.asyncio_loop.run_forever()\n    File \"/usr/lib/python3.7/asyncio/base_events.py\", line 541, in run_forever\n      self._run_once()\n    File \"/usr/lib/python3.7/asyncio/base_events.py\", line 1786, in _run_once\n      handle._run()\n    File \"/usr/lib/python3.7/asyncio/events.py\", line 88, in _run\n      self._context.run(self._callback, *self._args)\n    File \"/usr/local/lib/python3.7/dist-packages/tornado/platform/asyncio.py\", line 122, in _handle_events\n      handler_func(fileobj, events)\n    File \"/usr/local/lib/python3.7/dist-packages/tornado/stack_context.py\", line 300, in null_wrapper\n      return fn(*args, **kwargs)\n    File \"/usr/local/lib/python3.7/dist-packages/zmq/eventloop/zmqstream.py\", line 452, in _handle_events\n      self._handle_recv()\n    File \"/usr/local/lib/python3.7/dist-packages/zmq/eventloop/zmqstream.py\", line 481, in _handle_recv\n      self._run_callback(callback, msg)\n    File \"/usr/local/lib/python3.7/dist-packages/zmq/eventloop/zmqstream.py\", line 431, in _run_callback\n      callback(*args, **kwargs)\n    File \"/usr/local/lib/python3.7/dist-packages/tornado/stack_context.py\", line 300, in null_wrapper\n      return fn(*args, **kwargs)\n    File \"/usr/local/lib/python3.7/dist-packages/ipykernel/kernelbase.py\", line 283, in dispatcher\n      return self.dispatch_shell(stream, msg)\n    File \"/usr/local/lib/python3.7/dist-packages/ipykernel/kernelbase.py\", line 233, in dispatch_shell\n      handler(stream, idents, msg)\n    File \"/usr/local/lib/python3.7/dist-packages/ipykernel/kernelbase.py\", line 399, in execute_request\n      user_expressions, allow_stdin)\n    File \"/usr/local/lib/python3.7/dist-packages/ipykernel/ipkernel.py\", line 208, in do_execute\n      res = shell.run_cell(code, store_history=store_history, silent=silent)\n    File \"/usr/local/lib/python3.7/dist-packages/ipykernel/zmqshell.py\", line 537, in run_cell\n      return super(ZMQInteractiveShell, self).run_cell(*args, **kwargs)\n    File \"/usr/local/lib/python3.7/dist-packages/IPython/core/interactiveshell.py\", line 2718, in run_cell\n      interactivity=interactivity, compiler=compiler, result=result)\n    File \"/usr/local/lib/python3.7/dist-packages/IPython/core/interactiveshell.py\", line 2822, in run_ast_nodes\n      if self.run_code(code, result):\n    File \"/usr/local/lib/python3.7/dist-packages/IPython/core/interactiveshell.py\", line 2882, in run_code\n      exec(code_obj, self.user_global_ns, self.user_ns)\n    File \"<ipython-input-32-0263b512b169>\", line 2, in <module>\n      epochs=30, initial_epoch=history.epoch[-1], callbacks=[es_callback])\n    File \"/usr/local/lib/python3.7/dist-packages/keras/utils/traceback_utils.py\", line 64, in error_handler\n      return fn(*args, **kwargs)\n    File \"/usr/local/lib/python3.7/dist-packages/keras/engine/training.py\", line 1384, in fit\n      tmp_logs = self.train_function(iterator)\n    File \"/usr/local/lib/python3.7/dist-packages/keras/engine/training.py\", line 1021, in train_function\n      return step_function(self, iterator)\n    File \"/usr/local/lib/python3.7/dist-packages/keras/engine/training.py\", line 1010, in step_function\n      outputs = model.distribute_strategy.run(run_step, args=(data,))\n    File \"/usr/local/lib/python3.7/dist-packages/keras/engine/training.py\", line 1000, in run_step\n      outputs = model.train_step(data)\n    File \"/usr/local/lib/python3.7/dist-packages/keras/engine/training.py\", line 859, in train_step\n      y_pred = self(x, training=True)\n    File \"/usr/local/lib/python3.7/dist-packages/keras/utils/traceback_utils.py\", line 64, in error_handler\n      return fn(*args, **kwargs)\n    File \"/usr/local/lib/python3.7/dist-packages/keras/engine/base_layer.py\", line 1096, in __call__\n      outputs = call_fn(inputs, *args, **kwargs)\n    File \"/usr/local/lib/python3.7/dist-packages/keras/utils/traceback_utils.py\", line 92, in error_handler\n      return fn(*args, **kwargs)\n    File \"<ipython-input-18-bdf34c30619d>\", line 31, in call\n      return self.model.call(inputs)\n    File \"/usr/local/lib/python3.7/dist-packages/keras/engine/functional.py\", line 452, in call\n      inputs, training=training, mask=mask)\n    File \"/usr/local/lib/python3.7/dist-packages/keras/engine/functional.py\", line 589, in _run_internal_graph\n      outputs = node.layer(*args, **kwargs)\n    File \"/usr/local/lib/python3.7/dist-packages/keras/utils/traceback_utils.py\", line 64, in error_handler\n      return fn(*args, **kwargs)\n    File \"/usr/local/lib/python3.7/dist-packages/keras/engine/base_layer.py\", line 1096, in __call__\n      outputs = call_fn(inputs, *args, **kwargs)\n    File \"/usr/local/lib/python3.7/dist-packages/keras/utils/traceback_utils.py\", line 92, in error_handler\n      return fn(*args, **kwargs)\n    File \"/usr/local/lib/python3.7/dist-packages/keras/engine/functional.py\", line 452, in call\n      inputs, training=training, mask=mask)\n    File \"/usr/local/lib/python3.7/dist-packages/keras/engine/functional.py\", line 589, in _run_internal_graph\n      outputs = node.layer(*args, **kwargs)\n    File \"/usr/local/lib/python3.7/dist-packages/keras/utils/traceback_utils.py\", line 64, in error_handler\n      return fn(*args, **kwargs)\n    File \"/usr/local/lib/python3.7/dist-packages/keras/engine/base_layer.py\", line 1096, in __call__\n      outputs = call_fn(inputs, *args, **kwargs)\n    File \"/usr/local/lib/python3.7/dist-packages/keras/utils/traceback_utils.py\", line 92, in error_handler\n      return fn(*args, **kwargs)\n    File \"/usr/local/lib/python3.7/dist-packages/keras/layers/convolutional.py\", line 248, in call\n      outputs = self.convolution_op(inputs, self.kernel)\n    File \"/usr/local/lib/python3.7/dist-packages/keras/layers/convolutional.py\", line 240, in convolution_op\n      name=self.__class__.__name__)\nNode: 'inception_1/inception_v3/conv2d_175/Conv2D'\nOOM when allocating tensor with shape[32,384,14,14] and type float on /job:localhost/replica:0/task:0/device:GPU:0 by allocator GPU_0_bfc\n\t [[{{node inception_1/inception_v3/conv2d_175/Conv2D}}]]\nHint: If you want to see a list of allocated tensors when OOM happens, add report_tensor_allocations_upon_oom to RunOptions for current allocation info. This isn't available when running in Eager mode.\n [Op:__inference_train_function_231823]"
          ]
        }
      ]
    }
  ]
}